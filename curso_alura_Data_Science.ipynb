{
  "nbformat": 4,
  "nbformat_minor": 0,
  "metadata": {
    "colab": {
      "provenance": [],
      "authorship_tag": "ABX9TyPO34FJck20K3H2TIFLE46u",
      "include_colab_link": true
    },
    "kernelspec": {
      "name": "python3",
      "display_name": "Python 3"
    },
    "language_info": {
      "name": "python"
    }
  },
  "cells": [
    {
      "cell_type": "markdown",
      "metadata": {
        "id": "view-in-github",
        "colab_type": "text"
      },
      "source": [
        "<a href=\"https://colab.research.google.com/github/carolinecarneiro/Cursos-de-Data-Science/blob/main/curso_alura_Data_Science.ipynb\" target=\"_parent\"><img src=\"https://colab.research.google.com/assets/colab-badge.svg\" alt=\"Open In Colab\"/></a>"
      ]
    },
    {
      "cell_type": "markdown",
      "source": [
        "Curso: Data Science: analise e visualização de dados\n",
        "\n",
        "Aluna: Caroline Carneiro da Silva"
      ],
      "metadata": {
        "id": "ctcDDpQ3e8VF"
      }
    },
    {
      "cell_type": "code",
      "execution_count": 1,
      "metadata": {
        "id": "r0qiQwwyLptZ"
      },
      "outputs": [],
      "source": [
        "import pandas as pd"
      ]
    },
    {
      "cell_type": "code",
      "source": [
        "notas = pd.read_csv('/content/ratings.csv')\n",
        "\n",
        "notas.head()"
      ],
      "metadata": {
        "id": "MAc85XOFL_ui",
        "colab": {
          "base_uri": "https://localhost:8080/",
          "height": 206
        },
        "outputId": "0b805afc-3de1-435b-c520-72da9e76aa09"
      },
      "execution_count": 2,
      "outputs": [
        {
          "output_type": "execute_result",
          "data": {
            "text/plain": [
              "   userId  movieId  rating  timestamp\n",
              "0       1        1     4.0  964982703\n",
              "1       1        3     4.0  964981247\n",
              "2       1        6     4.0  964982224\n",
              "3       1       47     5.0  964983815\n",
              "4       1       50     5.0  964982931"
            ],
            "text/html": [
              "\n",
              "  <div id=\"df-c5852822-2907-4ac4-8dd9-38aa87068dc4\" class=\"colab-df-container\">\n",
              "    <div>\n",
              "<style scoped>\n",
              "    .dataframe tbody tr th:only-of-type {\n",
              "        vertical-align: middle;\n",
              "    }\n",
              "\n",
              "    .dataframe tbody tr th {\n",
              "        vertical-align: top;\n",
              "    }\n",
              "\n",
              "    .dataframe thead th {\n",
              "        text-align: right;\n",
              "    }\n",
              "</style>\n",
              "<table border=\"1\" class=\"dataframe\">\n",
              "  <thead>\n",
              "    <tr style=\"text-align: right;\">\n",
              "      <th></th>\n",
              "      <th>userId</th>\n",
              "      <th>movieId</th>\n",
              "      <th>rating</th>\n",
              "      <th>timestamp</th>\n",
              "    </tr>\n",
              "  </thead>\n",
              "  <tbody>\n",
              "    <tr>\n",
              "      <th>0</th>\n",
              "      <td>1</td>\n",
              "      <td>1</td>\n",
              "      <td>4.0</td>\n",
              "      <td>964982703</td>\n",
              "    </tr>\n",
              "    <tr>\n",
              "      <th>1</th>\n",
              "      <td>1</td>\n",
              "      <td>3</td>\n",
              "      <td>4.0</td>\n",
              "      <td>964981247</td>\n",
              "    </tr>\n",
              "    <tr>\n",
              "      <th>2</th>\n",
              "      <td>1</td>\n",
              "      <td>6</td>\n",
              "      <td>4.0</td>\n",
              "      <td>964982224</td>\n",
              "    </tr>\n",
              "    <tr>\n",
              "      <th>3</th>\n",
              "      <td>1</td>\n",
              "      <td>47</td>\n",
              "      <td>5.0</td>\n",
              "      <td>964983815</td>\n",
              "    </tr>\n",
              "    <tr>\n",
              "      <th>4</th>\n",
              "      <td>1</td>\n",
              "      <td>50</td>\n",
              "      <td>5.0</td>\n",
              "      <td>964982931</td>\n",
              "    </tr>\n",
              "  </tbody>\n",
              "</table>\n",
              "</div>\n",
              "    <div class=\"colab-df-buttons\">\n",
              "\n",
              "  <div class=\"colab-df-container\">\n",
              "    <button class=\"colab-df-convert\" onclick=\"convertToInteractive('df-c5852822-2907-4ac4-8dd9-38aa87068dc4')\"\n",
              "            title=\"Convert this dataframe to an interactive table.\"\n",
              "            style=\"display:none;\">\n",
              "\n",
              "  <svg xmlns=\"http://www.w3.org/2000/svg\" height=\"24px\" viewBox=\"0 -960 960 960\">\n",
              "    <path d=\"M120-120v-720h720v720H120Zm60-500h600v-160H180v160Zm220 220h160v-160H400v160Zm0 220h160v-160H400v160ZM180-400h160v-160H180v160Zm440 0h160v-160H620v160ZM180-180h160v-160H180v160Zm440 0h160v-160H620v160Z\"/>\n",
              "  </svg>\n",
              "    </button>\n",
              "\n",
              "  <style>\n",
              "    .colab-df-container {\n",
              "      display:flex;\n",
              "      gap: 12px;\n",
              "    }\n",
              "\n",
              "    .colab-df-convert {\n",
              "      background-color: #E8F0FE;\n",
              "      border: none;\n",
              "      border-radius: 50%;\n",
              "      cursor: pointer;\n",
              "      display: none;\n",
              "      fill: #1967D2;\n",
              "      height: 32px;\n",
              "      padding: 0 0 0 0;\n",
              "      width: 32px;\n",
              "    }\n",
              "\n",
              "    .colab-df-convert:hover {\n",
              "      background-color: #E2EBFA;\n",
              "      box-shadow: 0px 1px 2px rgba(60, 64, 67, 0.3), 0px 1px 3px 1px rgba(60, 64, 67, 0.15);\n",
              "      fill: #174EA6;\n",
              "    }\n",
              "\n",
              "    .colab-df-buttons div {\n",
              "      margin-bottom: 4px;\n",
              "    }\n",
              "\n",
              "    [theme=dark] .colab-df-convert {\n",
              "      background-color: #3B4455;\n",
              "      fill: #D2E3FC;\n",
              "    }\n",
              "\n",
              "    [theme=dark] .colab-df-convert:hover {\n",
              "      background-color: #434B5C;\n",
              "      box-shadow: 0px 1px 3px 1px rgba(0, 0, 0, 0.15);\n",
              "      filter: drop-shadow(0px 1px 2px rgba(0, 0, 0, 0.3));\n",
              "      fill: #FFFFFF;\n",
              "    }\n",
              "  </style>\n",
              "\n",
              "    <script>\n",
              "      const buttonEl =\n",
              "        document.querySelector('#df-c5852822-2907-4ac4-8dd9-38aa87068dc4 button.colab-df-convert');\n",
              "      buttonEl.style.display =\n",
              "        google.colab.kernel.accessAllowed ? 'block' : 'none';\n",
              "\n",
              "      async function convertToInteractive(key) {\n",
              "        const element = document.querySelector('#df-c5852822-2907-4ac4-8dd9-38aa87068dc4');\n",
              "        const dataTable =\n",
              "          await google.colab.kernel.invokeFunction('convertToInteractive',\n",
              "                                                    [key], {});\n",
              "        if (!dataTable) return;\n",
              "\n",
              "        const docLinkHtml = 'Like what you see? Visit the ' +\n",
              "          '<a target=\"_blank\" href=https://colab.research.google.com/notebooks/data_table.ipynb>data table notebook</a>'\n",
              "          + ' to learn more about interactive tables.';\n",
              "        element.innerHTML = '';\n",
              "        dataTable['output_type'] = 'display_data';\n",
              "        await google.colab.output.renderOutput(dataTable, element);\n",
              "        const docLink = document.createElement('div');\n",
              "        docLink.innerHTML = docLinkHtml;\n",
              "        element.appendChild(docLink);\n",
              "      }\n",
              "    </script>\n",
              "  </div>\n",
              "\n",
              "\n",
              "<div id=\"df-bae6f639-f3b1-45bb-88b9-78e248501cd8\">\n",
              "  <button class=\"colab-df-quickchart\" onclick=\"quickchart('df-bae6f639-f3b1-45bb-88b9-78e248501cd8')\"\n",
              "            title=\"Suggest charts.\"\n",
              "            style=\"display:none;\">\n",
              "\n",
              "<svg xmlns=\"http://www.w3.org/2000/svg\" height=\"24px\"viewBox=\"0 0 24 24\"\n",
              "     width=\"24px\">\n",
              "    <g>\n",
              "        <path d=\"M19 3H5c-1.1 0-2 .9-2 2v14c0 1.1.9 2 2 2h14c1.1 0 2-.9 2-2V5c0-1.1-.9-2-2-2zM9 17H7v-7h2v7zm4 0h-2V7h2v10zm4 0h-2v-4h2v4z\"/>\n",
              "    </g>\n",
              "</svg>\n",
              "  </button>\n",
              "\n",
              "<style>\n",
              "  .colab-df-quickchart {\n",
              "      --bg-color: #E8F0FE;\n",
              "      --fill-color: #1967D2;\n",
              "      --hover-bg-color: #E2EBFA;\n",
              "      --hover-fill-color: #174EA6;\n",
              "      --disabled-fill-color: #AAA;\n",
              "      --disabled-bg-color: #DDD;\n",
              "  }\n",
              "\n",
              "  [theme=dark] .colab-df-quickchart {\n",
              "      --bg-color: #3B4455;\n",
              "      --fill-color: #D2E3FC;\n",
              "      --hover-bg-color: #434B5C;\n",
              "      --hover-fill-color: #FFFFFF;\n",
              "      --disabled-bg-color: #3B4455;\n",
              "      --disabled-fill-color: #666;\n",
              "  }\n",
              "\n",
              "  .colab-df-quickchart {\n",
              "    background-color: var(--bg-color);\n",
              "    border: none;\n",
              "    border-radius: 50%;\n",
              "    cursor: pointer;\n",
              "    display: none;\n",
              "    fill: var(--fill-color);\n",
              "    height: 32px;\n",
              "    padding: 0;\n",
              "    width: 32px;\n",
              "  }\n",
              "\n",
              "  .colab-df-quickchart:hover {\n",
              "    background-color: var(--hover-bg-color);\n",
              "    box-shadow: 0 1px 2px rgba(60, 64, 67, 0.3), 0 1px 3px 1px rgba(60, 64, 67, 0.15);\n",
              "    fill: var(--button-hover-fill-color);\n",
              "  }\n",
              "\n",
              "  .colab-df-quickchart-complete:disabled,\n",
              "  .colab-df-quickchart-complete:disabled:hover {\n",
              "    background-color: var(--disabled-bg-color);\n",
              "    fill: var(--disabled-fill-color);\n",
              "    box-shadow: none;\n",
              "  }\n",
              "\n",
              "  .colab-df-spinner {\n",
              "    border: 2px solid var(--fill-color);\n",
              "    border-color: transparent;\n",
              "    border-bottom-color: var(--fill-color);\n",
              "    animation:\n",
              "      spin 1s steps(1) infinite;\n",
              "  }\n",
              "\n",
              "  @keyframes spin {\n",
              "    0% {\n",
              "      border-color: transparent;\n",
              "      border-bottom-color: var(--fill-color);\n",
              "      border-left-color: var(--fill-color);\n",
              "    }\n",
              "    20% {\n",
              "      border-color: transparent;\n",
              "      border-left-color: var(--fill-color);\n",
              "      border-top-color: var(--fill-color);\n",
              "    }\n",
              "    30% {\n",
              "      border-color: transparent;\n",
              "      border-left-color: var(--fill-color);\n",
              "      border-top-color: var(--fill-color);\n",
              "      border-right-color: var(--fill-color);\n",
              "    }\n",
              "    40% {\n",
              "      border-color: transparent;\n",
              "      border-right-color: var(--fill-color);\n",
              "      border-top-color: var(--fill-color);\n",
              "    }\n",
              "    60% {\n",
              "      border-color: transparent;\n",
              "      border-right-color: var(--fill-color);\n",
              "    }\n",
              "    80% {\n",
              "      border-color: transparent;\n",
              "      border-right-color: var(--fill-color);\n",
              "      border-bottom-color: var(--fill-color);\n",
              "    }\n",
              "    90% {\n",
              "      border-color: transparent;\n",
              "      border-bottom-color: var(--fill-color);\n",
              "    }\n",
              "  }\n",
              "</style>\n",
              "\n",
              "  <script>\n",
              "    async function quickchart(key) {\n",
              "      const quickchartButtonEl =\n",
              "        document.querySelector('#' + key + ' button');\n",
              "      quickchartButtonEl.disabled = true;  // To prevent multiple clicks.\n",
              "      quickchartButtonEl.classList.add('colab-df-spinner');\n",
              "      try {\n",
              "        const charts = await google.colab.kernel.invokeFunction(\n",
              "            'suggestCharts', [key], {});\n",
              "      } catch (error) {\n",
              "        console.error('Error during call to suggestCharts:', error);\n",
              "      }\n",
              "      quickchartButtonEl.classList.remove('colab-df-spinner');\n",
              "      quickchartButtonEl.classList.add('colab-df-quickchart-complete');\n",
              "    }\n",
              "    (() => {\n",
              "      let quickchartButtonEl =\n",
              "        document.querySelector('#df-bae6f639-f3b1-45bb-88b9-78e248501cd8 button');\n",
              "      quickchartButtonEl.style.display =\n",
              "        google.colab.kernel.accessAllowed ? 'block' : 'none';\n",
              "    })();\n",
              "  </script>\n",
              "</div>\n",
              "    </div>\n",
              "  </div>\n"
            ]
          },
          "metadata": {},
          "execution_count": 2
        }
      ]
    },
    {
      "cell_type": "code",
      "source": [
        "notas.shape"
      ],
      "metadata": {
        "colab": {
          "base_uri": "https://localhost:8080/"
        },
        "id": "5FBT7WRqM3jK",
        "outputId": "6d1abdfd-fd1a-4bd6-8c58-6165f8dbd197"
      },
      "execution_count": 3,
      "outputs": [
        {
          "output_type": "execute_result",
          "data": {
            "text/plain": [
              "(100836, 4)"
            ]
          },
          "metadata": {},
          "execution_count": 3
        }
      ]
    },
    {
      "cell_type": "code",
      "source": [
        "notas.columns = ['usuarioId', 'filmesId', 'nota', 'momento']\n",
        "notas.head()"
      ],
      "metadata": {
        "colab": {
          "base_uri": "https://localhost:8080/",
          "height": 206
        },
        "id": "UIeUHzxINQLH",
        "outputId": "b7b4258f-7664-4978-dac6-716f7e29bf0c"
      },
      "execution_count": 4,
      "outputs": [
        {
          "output_type": "execute_result",
          "data": {
            "text/plain": [
              "   usuarioId  filmesId  nota    momento\n",
              "0          1         1   4.0  964982703\n",
              "1          1         3   4.0  964981247\n",
              "2          1         6   4.0  964982224\n",
              "3          1        47   5.0  964983815\n",
              "4          1        50   5.0  964982931"
            ],
            "text/html": [
              "\n",
              "  <div id=\"df-13ddcf9e-59bf-43b1-9693-c8ad1034272a\" class=\"colab-df-container\">\n",
              "    <div>\n",
              "<style scoped>\n",
              "    .dataframe tbody tr th:only-of-type {\n",
              "        vertical-align: middle;\n",
              "    }\n",
              "\n",
              "    .dataframe tbody tr th {\n",
              "        vertical-align: top;\n",
              "    }\n",
              "\n",
              "    .dataframe thead th {\n",
              "        text-align: right;\n",
              "    }\n",
              "</style>\n",
              "<table border=\"1\" class=\"dataframe\">\n",
              "  <thead>\n",
              "    <tr style=\"text-align: right;\">\n",
              "      <th></th>\n",
              "      <th>usuarioId</th>\n",
              "      <th>filmesId</th>\n",
              "      <th>nota</th>\n",
              "      <th>momento</th>\n",
              "    </tr>\n",
              "  </thead>\n",
              "  <tbody>\n",
              "    <tr>\n",
              "      <th>0</th>\n",
              "      <td>1</td>\n",
              "      <td>1</td>\n",
              "      <td>4.0</td>\n",
              "      <td>964982703</td>\n",
              "    </tr>\n",
              "    <tr>\n",
              "      <th>1</th>\n",
              "      <td>1</td>\n",
              "      <td>3</td>\n",
              "      <td>4.0</td>\n",
              "      <td>964981247</td>\n",
              "    </tr>\n",
              "    <tr>\n",
              "      <th>2</th>\n",
              "      <td>1</td>\n",
              "      <td>6</td>\n",
              "      <td>4.0</td>\n",
              "      <td>964982224</td>\n",
              "    </tr>\n",
              "    <tr>\n",
              "      <th>3</th>\n",
              "      <td>1</td>\n",
              "      <td>47</td>\n",
              "      <td>5.0</td>\n",
              "      <td>964983815</td>\n",
              "    </tr>\n",
              "    <tr>\n",
              "      <th>4</th>\n",
              "      <td>1</td>\n",
              "      <td>50</td>\n",
              "      <td>5.0</td>\n",
              "      <td>964982931</td>\n",
              "    </tr>\n",
              "  </tbody>\n",
              "</table>\n",
              "</div>\n",
              "    <div class=\"colab-df-buttons\">\n",
              "\n",
              "  <div class=\"colab-df-container\">\n",
              "    <button class=\"colab-df-convert\" onclick=\"convertToInteractive('df-13ddcf9e-59bf-43b1-9693-c8ad1034272a')\"\n",
              "            title=\"Convert this dataframe to an interactive table.\"\n",
              "            style=\"display:none;\">\n",
              "\n",
              "  <svg xmlns=\"http://www.w3.org/2000/svg\" height=\"24px\" viewBox=\"0 -960 960 960\">\n",
              "    <path d=\"M120-120v-720h720v720H120Zm60-500h600v-160H180v160Zm220 220h160v-160H400v160Zm0 220h160v-160H400v160ZM180-400h160v-160H180v160Zm440 0h160v-160H620v160ZM180-180h160v-160H180v160Zm440 0h160v-160H620v160Z\"/>\n",
              "  </svg>\n",
              "    </button>\n",
              "\n",
              "  <style>\n",
              "    .colab-df-container {\n",
              "      display:flex;\n",
              "      gap: 12px;\n",
              "    }\n",
              "\n",
              "    .colab-df-convert {\n",
              "      background-color: #E8F0FE;\n",
              "      border: none;\n",
              "      border-radius: 50%;\n",
              "      cursor: pointer;\n",
              "      display: none;\n",
              "      fill: #1967D2;\n",
              "      height: 32px;\n",
              "      padding: 0 0 0 0;\n",
              "      width: 32px;\n",
              "    }\n",
              "\n",
              "    .colab-df-convert:hover {\n",
              "      background-color: #E2EBFA;\n",
              "      box-shadow: 0px 1px 2px rgba(60, 64, 67, 0.3), 0px 1px 3px 1px rgba(60, 64, 67, 0.15);\n",
              "      fill: #174EA6;\n",
              "    }\n",
              "\n",
              "    .colab-df-buttons div {\n",
              "      margin-bottom: 4px;\n",
              "    }\n",
              "\n",
              "    [theme=dark] .colab-df-convert {\n",
              "      background-color: #3B4455;\n",
              "      fill: #D2E3FC;\n",
              "    }\n",
              "\n",
              "    [theme=dark] .colab-df-convert:hover {\n",
              "      background-color: #434B5C;\n",
              "      box-shadow: 0px 1px 3px 1px rgba(0, 0, 0, 0.15);\n",
              "      filter: drop-shadow(0px 1px 2px rgba(0, 0, 0, 0.3));\n",
              "      fill: #FFFFFF;\n",
              "    }\n",
              "  </style>\n",
              "\n",
              "    <script>\n",
              "      const buttonEl =\n",
              "        document.querySelector('#df-13ddcf9e-59bf-43b1-9693-c8ad1034272a button.colab-df-convert');\n",
              "      buttonEl.style.display =\n",
              "        google.colab.kernel.accessAllowed ? 'block' : 'none';\n",
              "\n",
              "      async function convertToInteractive(key) {\n",
              "        const element = document.querySelector('#df-13ddcf9e-59bf-43b1-9693-c8ad1034272a');\n",
              "        const dataTable =\n",
              "          await google.colab.kernel.invokeFunction('convertToInteractive',\n",
              "                                                    [key], {});\n",
              "        if (!dataTable) return;\n",
              "\n",
              "        const docLinkHtml = 'Like what you see? Visit the ' +\n",
              "          '<a target=\"_blank\" href=https://colab.research.google.com/notebooks/data_table.ipynb>data table notebook</a>'\n",
              "          + ' to learn more about interactive tables.';\n",
              "        element.innerHTML = '';\n",
              "        dataTable['output_type'] = 'display_data';\n",
              "        await google.colab.output.renderOutput(dataTable, element);\n",
              "        const docLink = document.createElement('div');\n",
              "        docLink.innerHTML = docLinkHtml;\n",
              "        element.appendChild(docLink);\n",
              "      }\n",
              "    </script>\n",
              "  </div>\n",
              "\n",
              "\n",
              "<div id=\"df-ded72c40-288f-46ba-9330-1f9fa7825ed8\">\n",
              "  <button class=\"colab-df-quickchart\" onclick=\"quickchart('df-ded72c40-288f-46ba-9330-1f9fa7825ed8')\"\n",
              "            title=\"Suggest charts.\"\n",
              "            style=\"display:none;\">\n",
              "\n",
              "<svg xmlns=\"http://www.w3.org/2000/svg\" height=\"24px\"viewBox=\"0 0 24 24\"\n",
              "     width=\"24px\">\n",
              "    <g>\n",
              "        <path d=\"M19 3H5c-1.1 0-2 .9-2 2v14c0 1.1.9 2 2 2h14c1.1 0 2-.9 2-2V5c0-1.1-.9-2-2-2zM9 17H7v-7h2v7zm4 0h-2V7h2v10zm4 0h-2v-4h2v4z\"/>\n",
              "    </g>\n",
              "</svg>\n",
              "  </button>\n",
              "\n",
              "<style>\n",
              "  .colab-df-quickchart {\n",
              "      --bg-color: #E8F0FE;\n",
              "      --fill-color: #1967D2;\n",
              "      --hover-bg-color: #E2EBFA;\n",
              "      --hover-fill-color: #174EA6;\n",
              "      --disabled-fill-color: #AAA;\n",
              "      --disabled-bg-color: #DDD;\n",
              "  }\n",
              "\n",
              "  [theme=dark] .colab-df-quickchart {\n",
              "      --bg-color: #3B4455;\n",
              "      --fill-color: #D2E3FC;\n",
              "      --hover-bg-color: #434B5C;\n",
              "      --hover-fill-color: #FFFFFF;\n",
              "      --disabled-bg-color: #3B4455;\n",
              "      --disabled-fill-color: #666;\n",
              "  }\n",
              "\n",
              "  .colab-df-quickchart {\n",
              "    background-color: var(--bg-color);\n",
              "    border: none;\n",
              "    border-radius: 50%;\n",
              "    cursor: pointer;\n",
              "    display: none;\n",
              "    fill: var(--fill-color);\n",
              "    height: 32px;\n",
              "    padding: 0;\n",
              "    width: 32px;\n",
              "  }\n",
              "\n",
              "  .colab-df-quickchart:hover {\n",
              "    background-color: var(--hover-bg-color);\n",
              "    box-shadow: 0 1px 2px rgba(60, 64, 67, 0.3), 0 1px 3px 1px rgba(60, 64, 67, 0.15);\n",
              "    fill: var(--button-hover-fill-color);\n",
              "  }\n",
              "\n",
              "  .colab-df-quickchart-complete:disabled,\n",
              "  .colab-df-quickchart-complete:disabled:hover {\n",
              "    background-color: var(--disabled-bg-color);\n",
              "    fill: var(--disabled-fill-color);\n",
              "    box-shadow: none;\n",
              "  }\n",
              "\n",
              "  .colab-df-spinner {\n",
              "    border: 2px solid var(--fill-color);\n",
              "    border-color: transparent;\n",
              "    border-bottom-color: var(--fill-color);\n",
              "    animation:\n",
              "      spin 1s steps(1) infinite;\n",
              "  }\n",
              "\n",
              "  @keyframes spin {\n",
              "    0% {\n",
              "      border-color: transparent;\n",
              "      border-bottom-color: var(--fill-color);\n",
              "      border-left-color: var(--fill-color);\n",
              "    }\n",
              "    20% {\n",
              "      border-color: transparent;\n",
              "      border-left-color: var(--fill-color);\n",
              "      border-top-color: var(--fill-color);\n",
              "    }\n",
              "    30% {\n",
              "      border-color: transparent;\n",
              "      border-left-color: var(--fill-color);\n",
              "      border-top-color: var(--fill-color);\n",
              "      border-right-color: var(--fill-color);\n",
              "    }\n",
              "    40% {\n",
              "      border-color: transparent;\n",
              "      border-right-color: var(--fill-color);\n",
              "      border-top-color: var(--fill-color);\n",
              "    }\n",
              "    60% {\n",
              "      border-color: transparent;\n",
              "      border-right-color: var(--fill-color);\n",
              "    }\n",
              "    80% {\n",
              "      border-color: transparent;\n",
              "      border-right-color: var(--fill-color);\n",
              "      border-bottom-color: var(--fill-color);\n",
              "    }\n",
              "    90% {\n",
              "      border-color: transparent;\n",
              "      border-bottom-color: var(--fill-color);\n",
              "    }\n",
              "  }\n",
              "</style>\n",
              "\n",
              "  <script>\n",
              "    async function quickchart(key) {\n",
              "      const quickchartButtonEl =\n",
              "        document.querySelector('#' + key + ' button');\n",
              "      quickchartButtonEl.disabled = true;  // To prevent multiple clicks.\n",
              "      quickchartButtonEl.classList.add('colab-df-spinner');\n",
              "      try {\n",
              "        const charts = await google.colab.kernel.invokeFunction(\n",
              "            'suggestCharts', [key], {});\n",
              "      } catch (error) {\n",
              "        console.error('Error during call to suggestCharts:', error);\n",
              "      }\n",
              "      quickchartButtonEl.classList.remove('colab-df-spinner');\n",
              "      quickchartButtonEl.classList.add('colab-df-quickchart-complete');\n",
              "    }\n",
              "    (() => {\n",
              "      let quickchartButtonEl =\n",
              "        document.querySelector('#df-ded72c40-288f-46ba-9330-1f9fa7825ed8 button');\n",
              "      quickchartButtonEl.style.display =\n",
              "        google.colab.kernel.accessAllowed ? 'block' : 'none';\n",
              "    })();\n",
              "  </script>\n",
              "</div>\n",
              "    </div>\n",
              "  </div>\n"
            ]
          },
          "metadata": {},
          "execution_count": 4
        }
      ]
    },
    {
      "cell_type": "code",
      "source": [
        "notas['nota'].unique()"
      ],
      "metadata": {
        "colab": {
          "base_uri": "https://localhost:8080/"
        },
        "id": "f3YZYH82N0Xk",
        "outputId": "54f542d4-2b0c-40af-f38d-474d271ffcf8"
      },
      "execution_count": 5,
      "outputs": [
        {
          "output_type": "execute_result",
          "data": {
            "text/plain": [
              "array([4. , 5. , 3. , 2. , 1. , 4.5, 3.5, 2.5, 0.5, 1.5])"
            ]
          },
          "metadata": {},
          "execution_count": 5
        }
      ]
    },
    {
      "cell_type": "code",
      "source": [
        "notas['nota'].value_counts()"
      ],
      "metadata": {
        "colab": {
          "base_uri": "https://localhost:8080/"
        },
        "id": "Ubkg33ECO4cX",
        "outputId": "af35426a-778b-48a1-99e3-31e4963bc518"
      },
      "execution_count": 6,
      "outputs": [
        {
          "output_type": "execute_result",
          "data": {
            "text/plain": [
              "4.0    26818\n",
              "3.0    20047\n",
              "5.0    13211\n",
              "3.5    13136\n",
              "4.5     8551\n",
              "2.0     7551\n",
              "2.5     5550\n",
              "1.0     2811\n",
              "1.5     1791\n",
              "0.5     1370\n",
              "Name: nota, dtype: int64"
            ]
          },
          "metadata": {},
          "execution_count": 6
        }
      ]
    },
    {
      "cell_type": "code",
      "source": [
        "notas['nota'].mean()"
      ],
      "metadata": {
        "colab": {
          "base_uri": "https://localhost:8080/"
        },
        "id": "Xb3-YLiZRs_s",
        "outputId": "5c910b21-d7af-4e45-aec9-627b63cae0c1"
      },
      "execution_count": 7,
      "outputs": [
        {
          "output_type": "execute_result",
          "data": {
            "text/plain": [
              "3.501556983616962"
            ]
          },
          "metadata": {},
          "execution_count": 7
        }
      ]
    },
    {
      "cell_type": "code",
      "source": [
        "notas.nota.plot(kind='hist')"
      ],
      "metadata": {
        "colab": {
          "base_uri": "https://localhost:8080/",
          "height": 448
        },
        "id": "-h789p2FSFOR",
        "outputId": "d1b112ef-d131-434e-8957-9ea63e6ee083"
      },
      "execution_count": 8,
      "outputs": [
        {
          "output_type": "execute_result",
          "data": {
            "text/plain": [
              "<Axes: ylabel='Frequency'>"
            ]
          },
          "metadata": {},
          "execution_count": 8
        },
        {
          "output_type": "display_data",
          "data": {
            "text/plain": [
              "<Figure size 640x480 with 1 Axes>"
            ],
            "image/png": "[encoded data removed]"
          },
          "metadata": {}
        }
      ]
    },
    {
      "cell_type": "code",
      "source": [
        "notas.nota.median()"
      ],
      "metadata": {
        "colab": {
          "base_uri": "https://localhost:8080/"
        },
        "id": "z4rtS41ETUw6",
        "outputId": "9f562da9-6dc2-4bd4-ef8b-e2292888115c"
      },
      "execution_count": 9,
      "outputs": [
        {
          "output_type": "execute_result",
          "data": {
            "text/plain": [
              "3.5"
            ]
          },
          "metadata": {},
          "execution_count": 9
        }
      ]
    },
    {
      "cell_type": "code",
      "source": [
        "notas.nota.describe()"
      ],
      "metadata": {
        "colab": {
          "base_uri": "https://localhost:8080/"
        },
        "id": "GQrZh1N5T55k",
        "outputId": "3e6bfbdc-b5f0-4713-b4dc-a1d5965d2f04"
      },
      "execution_count": 10,
      "outputs": [
        {
          "output_type": "execute_result",
          "data": {
            "text/plain": [
              "count    100836.000000\n",
              "mean          3.501557\n",
              "std           1.042529\n",
              "min           0.500000\n",
              "25%           3.000000\n",
              "50%           3.500000\n",
              "75%           4.000000\n",
              "max           5.000000\n",
              "Name: nota, dtype: float64"
            ]
          },
          "metadata": {},
          "execution_count": 10
        }
      ]
    },
    {
      "cell_type": "code",
      "source": [
        "import seaborn as sns\n",
        "\n",
        "sns.boxplot(notas.nota)"
      ],
      "metadata": {
        "colab": {
          "base_uri": "https://localhost:8080/",
          "height": 448
        },
        "id": "FvII8tzCURHs",
        "outputId": "220a6b39-ddca-4528-f84a-b794578e27c1"
      },
      "execution_count": 11,
      "outputs": [
        {
          "output_type": "execute_result",
          "data": {
            "text/plain": [
              "<Axes: >"
            ]
          },
          "metadata": {},
          "execution_count": 11
        },
        {
          "output_type": "display_data",
          "data": {
            "text/plain": [
              "<Figure size 640x480 with 1 Axes>"
            ],
            "image/png": "[encoded data removed]"
          },
          "metadata": {}
        }
      ]
    },
    {
      "cell_type": "markdown",
      "source": [
        "# Olhando os filmes"
      ],
      "metadata": {
        "id": "cjNTCQg6kL-k"
      }
    },
    {
      "cell_type": "code",
      "source": [
        "filmes = pd.read_csv('/content/movies.csv')\n",
        "filmes.columns = [\"filmesId\", \"titulo\", \"genero\"]\n",
        "filmes.head()"
      ],
      "metadata": {
        "id": "1nzsdij4VMx8",
        "colab": {
          "base_uri": "https://localhost:8080/",
          "height": 206
        },
        "outputId": "a1867747-e614-4786-d068-88f52496d797"
      },
      "execution_count": 12,
      "outputs": [
        {
          "output_type": "execute_result",
          "data": {
            "text/plain": [
              "   filmesId                              titulo  \\\n",
              "0         1                    Toy Story (1995)   \n",
              "1         2                      Jumanji (1995)   \n",
              "2         3             Grumpier Old Men (1995)   \n",
              "3         4            Waiting to Exhale (1995)   \n",
              "4         5  Father of the Bride Part II (1995)   \n",
              "\n",
              "                                        genero  \n",
              "0  Adventure|Animation|Children|Comedy|Fantasy  \n",
              "1                   Adventure|Children|Fantasy  \n",
              "2                               Comedy|Romance  \n",
              "3                         Comedy|Drama|Romance  \n",
              "4                                       Comedy  "
            ],
            "text/html": [
              "\n",
              "  <div id=\"df-49002e94-68f7-499c-9876-1c7d51307f63\" class=\"colab-df-container\">\n",
              "    <div>\n",
              "<style scoped>\n",
              "    .dataframe tbody tr th:only-of-type {\n",
              "        vertical-align: middle;\n",
              "    }\n",
              "\n",
              "    .dataframe tbody tr th {\n",
              "        vertical-align: top;\n",
              "    }\n",
              "\n",
              "    .dataframe thead th {\n",
              "        text-align: right;\n",
              "    }\n",
              "</style>\n",
              "<table border=\"1\" class=\"dataframe\">\n",
              "  <thead>\n",
              "    <tr style=\"text-align: right;\">\n",
              "      <th></th>\n",
              "      <th>filmesId</th>\n",
              "      <th>titulo</th>\n",
              "      <th>genero</th>\n",
              "    </tr>\n",
              "  </thead>\n",
              "  <tbody>\n",
              "    <tr>\n",
              "      <th>0</th>\n",
              "      <td>1</td>\n",
              "      <td>Toy Story (1995)</td>\n",
              "      <td>Adventure|Animation|Children|Comedy|Fantasy</td>\n",
              "    </tr>\n",
              "    <tr>\n",
              "      <th>1</th>\n",
              "      <td>2</td>\n",
              "      <td>Jumanji (1995)</td>\n",
              "      <td>Adventure|Children|Fantasy</td>\n",
              "    </tr>\n",
              "    <tr>\n",
              "      <th>2</th>\n",
              "      <td>3</td>\n",
              "      <td>Grumpier Old Men (1995)</td>\n",
              "      <td>Comedy|Romance</td>\n",
              "    </tr>\n",
              "    <tr>\n",
              "      <th>3</th>\n",
              "      <td>4</td>\n",
              "      <td>Waiting to Exhale (1995)</td>\n",
              "      <td>Comedy|Drama|Romance</td>\n",
              "    </tr>\n",
              "    <tr>\n",
              "      <th>4</th>\n",
              "      <td>5</td>\n",
              "      <td>Father of the Bride Part II (1995)</td>\n",
              "      <td>Comedy</td>\n",
              "    </tr>\n",
              "  </tbody>\n",
              "</table>\n",
              "</div>\n",
              "    <div class=\"colab-df-buttons\">\n",
              "\n",
              "  <div class=\"colab-df-container\">\n",
              "    <button class=\"colab-df-convert\" onclick=\"convertToInteractive('df-49002e94-68f7-499c-9876-1c7d51307f63')\"\n",
              "            title=\"Convert this dataframe to an interactive table.\"\n",
              "            style=\"display:none;\">\n",
              "\n",
              "  <svg xmlns=\"http://www.w3.org/2000/svg\" height=\"24px\" viewBox=\"0 -960 960 960\">\n",
              "    <path d=\"M120-120v-720h720v720H120Zm60-500h600v-160H180v160Zm220 220h160v-160H400v160Zm0 220h160v-160H400v160ZM180-400h160v-160H180v160Zm440 0h160v-160H620v160ZM180-180h160v-160H180v160Zm440 0h160v-160H620v160Z\"/>\n",
              "  </svg>\n",
              "    </button>\n",
              "\n",
              "  <style>\n",
              "    .colab-df-container {\n",
              "      display:flex;\n",
              "      gap: 12px;\n",
              "    }\n",
              "\n",
              "    .colab-df-convert {\n",
              "      background-color: #E8F0FE;\n",
              "      border: none;\n",
              "      border-radius: 50%;\n",
              "      cursor: pointer;\n",
              "      display: none;\n",
              "      fill: #1967D2;\n",
              "      height: 32px;\n",
              "      padding: 0 0 0 0;\n",
              "      width: 32px;\n",
              "    }\n",
              "\n",
              "    .colab-df-convert:hover {\n",
              "      background-color: #E2EBFA;\n",
              "      box-shadow: 0px 1px 2px rgba(60, 64, 67, 0.3), 0px 1px 3px 1px rgba(60, 64, 67, 0.15);\n",
              "      fill: #174EA6;\n",
              "    }\n",
              "\n",
              "    .colab-df-buttons div {\n",
              "      margin-bottom: 4px;\n",
              "    }\n",
              "\n",
              "    [theme=dark] .colab-df-convert {\n",
              "      background-color: #3B4455;\n",
              "      fill: #D2E3FC;\n",
              "    }\n",
              "\n",
              "    [theme=dark] .colab-df-convert:hover {\n",
              "      background-color: #434B5C;\n",
              "      box-shadow: 0px 1px 3px 1px rgba(0, 0, 0, 0.15);\n",
              "      filter: drop-shadow(0px 1px 2px rgba(0, 0, 0, 0.3));\n",
              "      fill: #FFFFFF;\n",
              "    }\n",
              "  </style>\n",
              "\n",
              "    <script>\n",
              "      const buttonEl =\n",
              "        document.querySelector('#df-49002e94-68f7-499c-9876-1c7d51307f63 button.colab-df-convert');\n",
              "      buttonEl.style.display =\n",
              "        google.colab.kernel.accessAllowed ? 'block' : 'none';\n",
              "\n",
              "      async function convertToInteractive(key) {\n",
              "        const element = document.querySelector('#df-49002e94-68f7-499c-9876-1c7d51307f63');\n",
              "        const dataTable =\n",
              "          await google.colab.kernel.invokeFunction('convertToInteractive',\n",
              "                                                    [key], {});\n",
              "        if (!dataTable) return;\n",
              "\n",
              "        const docLinkHtml = 'Like what you see? Visit the ' +\n",
              "          '<a target=\"_blank\" href=https://colab.research.google.com/notebooks/data_table.ipynb>data table notebook</a>'\n",
              "          + ' to learn more about interactive tables.';\n",
              "        element.innerHTML = '';\n",
              "        dataTable['output_type'] = 'display_data';\n",
              "        await google.colab.output.renderOutput(dataTable, element);\n",
              "        const docLink = document.createElement('div');\n",
              "        docLink.innerHTML = docLinkHtml;\n",
              "        element.appendChild(docLink);\n",
              "      }\n",
              "    </script>\n",
              "  </div>\n",
              "\n",
              "\n",
              "<div id=\"df-dc96068b-65d1-4aae-afae-82104aeb9351\">\n",
              "  <button class=\"colab-df-quickchart\" onclick=\"quickchart('df-dc96068b-65d1-4aae-afae-82104aeb9351')\"\n",
              "            title=\"Suggest charts.\"\n",
              "            style=\"display:none;\">\n",
              "\n",
              "<svg xmlns=\"http://www.w3.org/2000/svg\" height=\"24px\"viewBox=\"0 0 24 24\"\n",
              "     width=\"24px\">\n",
              "    <g>\n",
              "        <path d=\"M19 3H5c-1.1 0-2 .9-2 2v14c0 1.1.9 2 2 2h14c1.1 0 2-.9 2-2V5c0-1.1-.9-2-2-2zM9 17H7v-7h2v7zm4 0h-2V7h2v10zm4 0h-2v-4h2v4z\"/>\n",
              "    </g>\n",
              "</svg>\n",
              "  </button>\n",
              "\n",
              "<style>\n",
              "  .colab-df-quickchart {\n",
              "      --bg-color: #E8F0FE;\n",
              "      --fill-color: #1967D2;\n",
              "      --hover-bg-color: #E2EBFA;\n",
              "      --hover-fill-color: #174EA6;\n",
              "      --disabled-fill-color: #AAA;\n",
              "      --disabled-bg-color: #DDD;\n",
              "  }\n",
              "\n",
              "  [theme=dark] .colab-df-quickchart {\n",
              "      --bg-color: #3B4455;\n",
              "      --fill-color: #D2E3FC;\n",
              "      --hover-bg-color: #434B5C;\n",
              "      --hover-fill-color: #FFFFFF;\n",
              "      --disabled-bg-color: #3B4455;\n",
              "      --disabled-fill-color: #666;\n",
              "  }\n",
              "\n",
              "  .colab-df-quickchart {\n",
              "    background-color: var(--bg-color);\n",
              "    border: none;\n",
              "    border-radius: 50%;\n",
              "    cursor: pointer;\n",
              "    display: none;\n",
              "    fill: var(--fill-color);\n",
              "    height: 32px;\n",
              "    padding: 0;\n",
              "    width: 32px;\n",
              "  }\n",
              "\n",
              "  .colab-df-quickchart:hover {\n",
              "    background-color: var(--hover-bg-color);\n",
              "    box-shadow: 0 1px 2px rgba(60, 64, 67, 0.3), 0 1px 3px 1px rgba(60, 64, 67, 0.15);\n",
              "    fill: var(--button-hover-fill-color);\n",
              "  }\n",
              "\n",
              "  .colab-df-quickchart-complete:disabled,\n",
              "  .colab-df-quickchart-complete:disabled:hover {\n",
              "    background-color: var(--disabled-bg-color);\n",
              "    fill: var(--disabled-fill-color);\n",
              "    box-shadow: none;\n",
              "  }\n",
              "\n",
              "  .colab-df-spinner {\n",
              "    border: 2px solid var(--fill-color);\n",
              "    border-color: transparent;\n",
              "    border-bottom-color: var(--fill-color);\n",
              "    animation:\n",
              "      spin 1s steps(1) infinite;\n",
              "  }\n",
              "\n",
              "  @keyframes spin {\n",
              "    0% {\n",
              "      border-color: transparent;\n",
              "      border-bottom-color: var(--fill-color);\n",
              "      border-left-color: var(--fill-color);\n",
              "    }\n",
              "    20% {\n",
              "      border-color: transparent;\n",
              "      border-left-color: var(--fill-color);\n",
              "      border-top-color: var(--fill-color);\n",
              "    }\n",
              "    30% {\n",
              "      border-color: transparent;\n",
              "      border-left-color: var(--fill-color);\n",
              "      border-top-color: var(--fill-color);\n",
              "      border-right-color: var(--fill-color);\n",
              "    }\n",
              "    40% {\n",
              "      border-color: transparent;\n",
              "      border-right-color: var(--fill-color);\n",
              "      border-top-color: var(--fill-color);\n",
              "    }\n",
              "    60% {\n",
              "      border-color: transparent;\n",
              "      border-right-color: var(--fill-color);\n",
              "    }\n",
              "    80% {\n",
              "      border-color: transparent;\n",
              "      border-right-color: var(--fill-color);\n",
              "      border-bottom-color: var(--fill-color);\n",
              "    }\n",
              "    90% {\n",
              "      border-color: transparent;\n",
              "      border-bottom-color: var(--fill-color);\n",
              "    }\n",
              "  }\n",
              "</style>\n",
              "\n",
              "  <script>\n",
              "    async function quickchart(key) {\n",
              "      const quickchartButtonEl =\n",
              "        document.querySelector('#' + key + ' button');\n",
              "      quickchartButtonEl.disabled = true;  // To prevent multiple clicks.\n",
              "      quickchartButtonEl.classList.add('colab-df-spinner');\n",
              "      try {\n",
              "        const charts = await google.colab.kernel.invokeFunction(\n",
              "            'suggestCharts', [key], {});\n",
              "      } catch (error) {\n",
              "        console.error('Error during call to suggestCharts:', error);\n",
              "      }\n",
              "      quickchartButtonEl.classList.remove('colab-df-spinner');\n",
              "      quickchartButtonEl.classList.add('colab-df-quickchart-complete');\n",
              "    }\n",
              "    (() => {\n",
              "      let quickchartButtonEl =\n",
              "        document.querySelector('#df-dc96068b-65d1-4aae-afae-82104aeb9351 button');\n",
              "      quickchartButtonEl.style.display =\n",
              "        google.colab.kernel.accessAllowed ? 'block' : 'none';\n",
              "    })();\n",
              "  </script>\n",
              "</div>\n",
              "    </div>\n",
              "  </div>\n"
            ]
          },
          "metadata": {},
          "execution_count": 12
        }
      ]
    },
    {
      "cell_type": "markdown",
      "source": [
        "# Analisando algumas notas especificas por filme"
      ],
      "metadata": {
        "id": "wfJBIGFcjm3B"
      }
    },
    {
      "cell_type": "code",
      "source": [
        "notas.query(\"filmesId ==1\").nota.mean()"
      ],
      "metadata": {
        "colab": {
          "base_uri": "https://localhost:8080/"
        },
        "id": "k9m9sreuiYEO",
        "outputId": "7043da4f-29a3-444f-c55d-206b745010b3"
      },
      "execution_count": 13,
      "outputs": [
        {
          "output_type": "execute_result",
          "data": {
            "text/plain": [
              "3.9209302325581397"
            ]
          },
          "metadata": {},
          "execution_count": 13
        }
      ]
    },
    {
      "cell_type": "code",
      "source": [
        "notas.query(\"filmesId ==2\").nota.mean()"
      ],
      "metadata": {
        "colab": {
          "base_uri": "https://localhost:8080/"
        },
        "id": "Q7rmuGACjD5A",
        "outputId": "46eac133-f238-429c-c3cb-6a4b618a1c26"
      },
      "execution_count": 14,
      "outputs": [
        {
          "output_type": "execute_result",
          "data": {
            "text/plain": [
              "3.4318181818181817"
            ]
          },
          "metadata": {},
          "execution_count": 14
        }
      ]
    },
    {
      "cell_type": "code",
      "source": [
        "medias_por_filmes = notas.groupby(\"filmesId\").mean()[\"nota\"]"
      ],
      "metadata": {
        "id": "L2s0-RyRkZlT"
      },
      "execution_count": 15,
      "outputs": []
    },
    {
      "cell_type": "code",
      "source": [
        "print(medias_por_filmes)"
      ],
      "metadata": {
        "colab": {
          "base_uri": "https://localhost:8080/"
        },
        "id": "wbbCQU79kxzH",
        "outputId": "713ee29f-585c-493c-d146-f55415cf0dbe"
      },
      "execution_count": 16,
      "outputs": [
        {
          "output_type": "stream",
          "name": "stdout",
          "text": [
            "filmesId\n",
            "1         3.920930\n",
            "2         3.431818\n",
            "3         3.259615\n",
            "4         2.357143\n",
            "5         3.071429\n",
            "            ...   \n",
            "193581    4.000000\n",
            "193583    3.500000\n",
            "193585    3.500000\n",
            "193587    3.500000\n",
            "193609    4.000000\n",
            "Name: nota, Length: 9724, dtype: float64\n"
          ]
        }
      ]
    },
    {
      "cell_type": "code",
      "source": [
        "medias_por_filmes.plot(kind='hist')"
      ],
      "metadata": {
        "colab": {
          "base_uri": "https://localhost:8080/",
          "height": 448
        },
        "id": "-KFJPFgDlsRS",
        "outputId": "ee14f0f1-467e-43fe-dbe1-231de223a389"
      },
      "execution_count": 17,
      "outputs": [
        {
          "output_type": "execute_result",
          "data": {
            "text/plain": [
              "<Axes: ylabel='Frequency'>"
            ]
          },
          "metadata": {},
          "execution_count": 17
        },
        {
          "output_type": "display_data",
          "data": {
            "text/plain": [
              "<Figure size 640x480 with 1 Axes>"
            ],
            "image/png": "[encoded data removed]"
          },
          "metadata": {}
        }
      ]
    },
    {
      "cell_type": "code",
      "source": [
        "# sns.boxplot(medias_por_filmes)\n",
        "\n",
        "medias_por_filmes.describe()"
      ],
      "metadata": {
        "colab": {
          "base_uri": "https://localhost:8080/"
        },
        "id": "hYIlHjk7qdFO",
        "outputId": "d1824482-4626-44c7-c409-d18b1cb36dd8"
      },
      "execution_count": 18,
      "outputs": [
        {
          "output_type": "execute_result",
          "data": {
            "text/plain": [
              "count    9724.000000\n",
              "mean        3.262448\n",
              "std         0.869874\n",
              "min         0.500000\n",
              "25%         2.800000\n",
              "50%         3.416667\n",
              "75%         3.911765\n",
              "max         5.000000\n",
              "Name: nota, dtype: float64"
            ]
          },
          "metadata": {},
          "execution_count": 18
        }
      ]
    },
    {
      "cell_type": "code",
      "source": [
        "sns.distplot(medias_por_filmes)"
      ],
      "metadata": {
        "colab": {
          "base_uri": "https://localhost:8080/",
          "height": 666
        },
        "id": "NJJTFy8qtHFb",
        "outputId": "cc1842bb-57cf-4049-8f77-e32f04a4025f"
      },
      "execution_count": 19,
      "outputs": [
        {
          "output_type": "stream",
          "name": "stderr",
          "text": [
            "<ipython-input-19-abd4358e7796>:1: UserWarning: \n",
            "\n",
            "`distplot` is a deprecated function and will be removed in seaborn v0.14.0.\n",
            "\n",
            "Please adapt your code to use either `displot` (a figure-level function with\n",
            "similar flexibility) or `histplot` (an axes-level function for histograms).\n",
            "\n",
            "For a guide to updating your code to use the new functions, please see\n",
            "https://gist.github.com/mwaskom/de44147ed2974457ad6372750bbe5751\n",
            "\n",
            "  sns.distplot(medias_por_filmes)\n"
          ]
        },
        {
          "output_type": "execute_result",
          "data": {
            "text/plain": [
              "<Axes: xlabel='nota', ylabel='Density'>"
            ]
          },
          "metadata": {},
          "execution_count": 19
        },
        {
          "output_type": "display_data",
          "data": {
            "text/plain": [
              "<Figure size 640x480 with 1 Axes>"
            ],
            "image/png": "[encoded data removed]"
          },
          "metadata": {}
        }
      ]
    },
    {
      "cell_type": "code",
      "source": [
        "sns.histplot(medias_por_filmes, kde=True)\n"
      ],
      "metadata": {
        "colab": {
          "base_uri": "https://localhost:8080/",
          "height": 467
        },
        "id": "7WZzDozZtlB6",
        "outputId": "888029fe-a550-44d5-c034-b778adcdc176"
      },
      "execution_count": 20,
      "outputs": [
        {
          "output_type": "execute_result",
          "data": {
            "text/plain": [
              "<Axes: xlabel='nota', ylabel='Count'>"
            ]
          },
          "metadata": {},
          "execution_count": 20
        },
        {
          "output_type": "display_data",
          "data": {
            "text/plain": [
              "<Figure size 640x480 with 1 Axes>"
            ],
            "image/png": "[encoded data removed]"
          },
          "metadata": {}
        }
      ]
    },
    {
      "cell_type": "code",
      "source": [
        "import matplotlib.pyplot as plt\n",
        "\n",
        "plt.hist(medias_por_filmes)\n",
        "plt.title('Histograma Media dos Filmes')\n",
        "plt.figure(figsize=(5,8))"
      ],
      "metadata": {
        "colab": {
          "base_uri": "https://localhost:8080/",
          "height": 488
        },
        "id": "9MP0yzty374y",
        "outputId": "be84c75d-e638-4d66-a230-b3571f896fb4"
      },
      "execution_count": 21,
      "outputs": [
        {
          "output_type": "execute_result",
          "data": {
            "text/plain": [
              "<Figure size 500x800 with 0 Axes>"
            ]
          },
          "metadata": {},
          "execution_count": 21
        },
        {
          "output_type": "display_data",
          "data": {
            "text/plain": [
              "<Figure size 640x480 with 1 Axes>"
            ],
            "image/png": "[encoded data removed]"
          },
          "metadata": {}
        },
        {
          "output_type": "display_data",
          "data": {
            "text/plain": [
              "<Figure size 500x800 with 0 Axes>"
            ]
          },
          "metadata": {}
        }
      ]
    },
    {
      "cell_type": "code",
      "source": [
        "sns.boxplot(y=medias_por_filmes)\n",
        "\n",
        "\n"
      ],
      "metadata": {
        "colab": {
          "base_uri": "https://localhost:8080/",
          "height": 429
        },
        "id": "e8cJou-s4kat",
        "outputId": "67fb387a-8e84-4756-dfb8-81f6ed7226b0"
      },
      "execution_count": 22,
      "outputs": [
        {
          "output_type": "execute_result",
          "data": {
            "text/plain": [
              "<Axes: ylabel='nota'>"
            ]
          },
          "metadata": {},
          "execution_count": 22
        },
        {
          "output_type": "display_data",
          "data": {
            "text/plain": [
              "<Figure size 640x480 with 1 Axes>"
            ],
            "image/png": "[encoded data removed]"
          },
          "metadata": {}
        }
      ]
    },
    {
      "cell_type": "code",
      "source": [
        "import matplotlib.pyplot as plt\n",
        "\n",
        "plt.figure(figsize=(5,8))\n",
        "\n",
        "sns.boxplot(y=medias_por_filmes)\n",
        "\n",
        "sns.boxplot(y=medias_por_filmes).set_title('Médias por Filme')"
      ],
      "metadata": {
        "colab": {
          "base_uri": "https://localhost:8080/",
          "height": 698
        },
        "id": "YN4dUrQq5LJy",
        "outputId": "f660944e-3131-42b3-a7a2-724cae90f46f"
      },
      "execution_count": 23,
      "outputs": [
        {
          "output_type": "execute_result",
          "data": {
            "text/plain": [
              "Text(0.5, 1.0, 'Médias por Filme')"
            ]
          },
          "metadata": {},
          "execution_count": 23
        },
        {
          "output_type": "display_data",
          "data": {
            "text/plain": [
              "<Figure size 500x800 with 1 Axes>"
            ],
            "image/png": "[encoded data removed]"
          },
          "metadata": {}
        }
      ]
    },
    {
      "cell_type": "code",
      "source": [
        "tmdb = pd.read_csv('/content/tmdb_5000_movies.csv')"
      ],
      "metadata": {
        "id": "MBhtpaM65xoe"
      },
      "execution_count": 24,
      "outputs": []
    },
    {
      "cell_type": "code",
      "source": [
        "tmdb"
      ],
      "metadata": {
        "colab": {
          "base_uri": "https://localhost:8080/",
          "height": 1000
        },
        "id": "tOv_Uer7csqS",
        "outputId": "17c9979a-8015-4bb3-d344-8c34539ca978"
      },
      "execution_count": 25,
      "outputs": [
        {
          "output_type": "execute_result",
          "data": {
            "text/plain": [
              "         budget                                             genres  \\\n",
              "0     237000000  [{\"id\": 28, \"name\": \"Action\"}, {\"id\": 12, \"nam...   \n",
              "1     300000000  [{\"id\": 12, \"name\": \"Adventure\"}, {\"id\": 14, \"...   \n",
              "2     245000000  [{\"id\": 28, \"name\": \"Action\"}, {\"id\": 12, \"nam...   \n",
              "3     250000000  [{\"id\": 28, \"name\": \"Action\"}, {\"id\": 80, \"nam...   \n",
              "4     260000000  [{\"id\": 28, \"name\": \"Action\"}, {\"id\": 12, \"nam...   \n",
              "...         ...                                                ...   \n",
              "4798     220000  [{\"id\": 28, \"name\": \"Action\"}, {\"id\": 80, \"nam...   \n",
              "4799       9000  [{\"id\": 35, \"name\": \"Comedy\"}, {\"id\": 10749, \"...   \n",
              "4800          0  [{\"id\": 35, \"name\": \"Comedy\"}, {\"id\": 18, \"nam...   \n",
              "4801          0                                                 []   \n",
              "4802          0                [{\"id\": 99, \"name\": \"Documentary\"}]   \n",
              "\n",
              "                                               homepage      id  \\\n",
              "0                           http://www.avatarmovie.com/   19995   \n",
              "1          http://disney.go.com/disneypictures/pirates/     285   \n",
              "2           http://www.sonypictures.com/movies/spectre/  206647   \n",
              "3                    http://www.thedarkknightrises.com/   49026   \n",
              "4                  http://movies.disney.com/john-carter   49529   \n",
              "...                                                 ...     ...   \n",
              "4798                                                NaN    9367   \n",
              "4799                                                NaN   72766   \n",
              "4800  http://www.hallmarkchannel.com/signedsealeddel...  231617   \n",
              "4801                        http://shanghaicalling.com/  126186   \n",
              "4802                                                NaN   25975   \n",
              "\n",
              "                                               keywords original_language  \\\n",
              "0     [{\"id\": 1463, \"name\": \"culture clash\"}, {\"id\":...                en   \n",
              "1     [{\"id\": 270, \"name\": \"ocean\"}, {\"id\": 726, \"na...                en   \n",
              "2     [{\"id\": 470, \"name\": \"spy\"}, {\"id\": 818, \"name...                en   \n",
              "3     [{\"id\": 849, \"name\": \"dc comics\"}, {\"id\": 853,...                en   \n",
              "4     [{\"id\": 818, \"name\": \"based on novel\"}, {\"id\":...                en   \n",
              "...                                                 ...               ...   \n",
              "4798  [{\"id\": 5616, \"name\": \"united states\\u2013mexi...                es   \n",
              "4799                                                 []                en   \n",
              "4800  [{\"id\": 248, \"name\": \"date\"}, {\"id\": 699, \"nam...                en   \n",
              "4801                                                 []                en   \n",
              "4802  [{\"id\": 1523, \"name\": \"obsession\"}, {\"id\": 224...                en   \n",
              "\n",
              "                                original_title  \\\n",
              "0                                       Avatar   \n",
              "1     Pirates of the Caribbean: At World's End   \n",
              "2                                      Spectre   \n",
              "3                        The Dark Knight Rises   \n",
              "4                                  John Carter   \n",
              "...                                        ...   \n",
              "4798                               El Mariachi   \n",
              "4799                                 Newlyweds   \n",
              "4800                 Signed, Sealed, Delivered   \n",
              "4801                          Shanghai Calling   \n",
              "4802                         My Date with Drew   \n",
              "\n",
              "                                               overview  popularity  \\\n",
              "0     In the 22nd century, a paraplegic Marine is di...  150.437577   \n",
              "1     Captain Barbossa, long believed to be dead, ha...  139.082615   \n",
              "2     A cryptic message from Bond’s past sends him o...  107.376788   \n",
              "3     Following the death of District Attorney Harve...  112.312950   \n",
              "4     John Carter is a war-weary, former military ca...   43.926995   \n",
              "...                                                 ...         ...   \n",
              "4798  El Mariachi just wants to play his guitar and ...   14.269792   \n",
              "4799  A newlywed couple's honeymoon is upended by th...    0.642552   \n",
              "4800  \"Signed, Sealed, Delivered\" introduces a dedic...    1.444476   \n",
              "4801  When ambitious New York attorney Sam is sent t...    0.857008   \n",
              "4802  Ever since the second grade when he first saw ...    1.929883   \n",
              "\n",
              "                                   production_companies  \\\n",
              "0     [{\"name\": \"Ingenious Film Partners\", \"id\": 289...   \n",
              "1     [{\"name\": \"Walt Disney Pictures\", \"id\": 2}, {\"...   \n",
              "2     [{\"name\": \"Columbia Pictures\", \"id\": 5}, {\"nam...   \n",
              "3     [{\"name\": \"Legendary Pictures\", \"id\": 923}, {\"...   \n",
              "4           [{\"name\": \"Walt Disney Pictures\", \"id\": 2}]   \n",
              "...                                                 ...   \n",
              "4798           [{\"name\": \"Columbia Pictures\", \"id\": 5}]   \n",
              "4799                                                 []   \n",
              "4800  [{\"name\": \"Front Street Pictures\", \"id\": 3958}...   \n",
              "4801                                                 []   \n",
              "4802  [{\"name\": \"rusty bear entertainment\", \"id\": 87...   \n",
              "\n",
              "                                   production_countries release_date  \\\n",
              "0     [{\"iso_3166_1\": \"US\", \"name\": \"United States o...   2009-12-10   \n",
              "1     [{\"iso_3166_1\": \"US\", \"name\": \"United States o...   2007-05-19   \n",
              "2     [{\"iso_3166_1\": \"GB\", \"name\": \"United Kingdom\"...   2015-10-26   \n",
              "3     [{\"iso_3166_1\": \"US\", \"name\": \"United States o...   2012-07-16   \n",
              "4     [{\"iso_3166_1\": \"US\", \"name\": \"United States o...   2012-03-07   \n",
              "...                                                 ...          ...   \n",
              "4798  [{\"iso_3166_1\": \"MX\", \"name\": \"Mexico\"}, {\"iso...   1992-09-04   \n",
              "4799                                                 []   2011-12-26   \n",
              "4800  [{\"iso_3166_1\": \"US\", \"name\": \"United States o...   2013-10-13   \n",
              "4801  [{\"iso_3166_1\": \"US\", \"name\": \"United States o...   2012-05-03   \n",
              "4802  [{\"iso_3166_1\": \"US\", \"name\": \"United States o...   2005-08-05   \n",
              "\n",
              "         revenue  runtime                                   spoken_languages  \\\n",
              "0     2787965087    162.0  [{\"iso_639_1\": \"en\", \"name\": \"English\"}, {\"iso...   \n",
              "1      961000000    169.0           [{\"iso_639_1\": \"en\", \"name\": \"English\"}]   \n",
              "2      880674609    148.0  [{\"iso_639_1\": \"fr\", \"name\": \"Fran\\u00e7ais\"},...   \n",
              "3     1084939099    165.0           [{\"iso_639_1\": \"en\", \"name\": \"English\"}]   \n",
              "4      284139100    132.0           [{\"iso_639_1\": \"en\", \"name\": \"English\"}]   \n",
              "...          ...      ...                                                ...   \n",
              "4798     2040920     81.0      [{\"iso_639_1\": \"es\", \"name\": \"Espa\\u00f1ol\"}]   \n",
              "4799           0     85.0                                                 []   \n",
              "4800           0    120.0           [{\"iso_639_1\": \"en\", \"name\": \"English\"}]   \n",
              "4801           0     98.0           [{\"iso_639_1\": \"en\", \"name\": \"English\"}]   \n",
              "4802           0     90.0           [{\"iso_639_1\": \"en\", \"name\": \"English\"}]   \n",
              "\n",
              "        status                                            tagline  \\\n",
              "0     Released                        Enter the World of Pandora.   \n",
              "1     Released     At the end of the world, the adventure begins.   \n",
              "2     Released                              A Plan No One Escapes   \n",
              "3     Released                                    The Legend Ends   \n",
              "4     Released               Lost in our world, found in another.   \n",
              "...        ...                                                ...   \n",
              "4798  Released  He didn't come looking for trouble, but troubl...   \n",
              "4799  Released  A newlywed couple's honeymoon is upended by th...   \n",
              "4800  Released                                                NaN   \n",
              "4801  Released                           A New Yorker in Shanghai   \n",
              "4802  Released                                                NaN   \n",
              "\n",
              "                                         title  vote_average  vote_count  \n",
              "0                                       Avatar           7.2       11800  \n",
              "1     Pirates of the Caribbean: At World's End           6.9        4500  \n",
              "2                                      Spectre           6.3        4466  \n",
              "3                        The Dark Knight Rises           7.6        9106  \n",
              "4                                  John Carter           6.1        2124  \n",
              "...                                        ...           ...         ...  \n",
              "4798                               El Mariachi           6.6         238  \n",
              "4799                                 Newlyweds           5.9           5  \n",
              "4800                 Signed, Sealed, Delivered           7.0           6  \n",
              "4801                          Shanghai Calling           5.7           7  \n",
              "4802                         My Date with Drew           6.3          16  \n",
              "\n",
              "[4803 rows x 20 columns]"
            ],
            "text/html": [
              "\n",
              "  <div id=\"df-09623f10-b56d-40af-a68f-428e354ac92d\" class=\"colab-df-container\">\n",
              "    <div>\n",
              "<style scoped>\n",
              "    .dataframe tbody tr th:only-of-type {\n",
              "        vertical-align: middle;\n",
              "    }\n",
              "\n",
              "    .dataframe tbody tr th {\n",
              "        vertical-align: top;\n",
              "    }\n",
              "\n",
              "    .dataframe thead th {\n",
              "        text-align: right;\n",
              "    }\n",
              "</style>\n",
              "<table border=\"1\" class=\"dataframe\">\n",
              "  <thead>\n",
              "    <tr style=\"text-align: right;\">\n",
              "      <th></th>\n",
              "      <th>budget</th>\n",
              "      <th>genres</th>\n",
              "      <th>homepage</th>\n",
              "      <th>id</th>\n",
              "      <th>keywords</th>\n",
              "      <th>original_language</th>\n",
              "      <th>original_title</th>\n",
              "      <th>overview</th>\n",
              "      <th>popularity</th>\n",
              "      <th>production_companies</th>\n",
              "      <th>production_countries</th>\n",
              "      <th>release_date</th>\n",
              "      <th>revenue</th>\n",
              "      <th>runtime</th>\n",
              "      <th>spoken_languages</th>\n",
              "      <th>status</th>\n",
              "      <th>tagline</th>\n",
              "      <th>title</th>\n",
              "      <th>vote_average</th>\n",
              "      <th>vote_count</th>\n",
              "    </tr>\n",
              "  </thead>\n",
              "  <tbody>\n",
              "    <tr>\n",
              "      <th>0</th>\n",
              "      <td>237000000</td>\n",
              "      <td>[{\"id\": 28, \"name\": \"Action\"}, {\"id\": 12, \"nam...</td>\n",
              "      <td>http://www.avatarmovie.com/</td>\n",
              "      <td>19995</td>\n",
              "      <td>[{\"id\": 1463, \"name\": \"culture clash\"}, {\"id\":...</td>\n",
              "      <td>en</td>\n",
              "      <td>Avatar</td>\n",
              "      <td>In the 22nd century, a paraplegic Marine is di...</td>\n",
              "      <td>150.437577</td>\n",
              "      <td>[{\"name\": \"Ingenious Film Partners\", \"id\": 289...</td>\n",
              "      <td>[{\"iso_3166_1\": \"US\", \"name\": \"United States o...</td>\n",
              "      <td>2009-12-10</td>\n",
              "      <td>2787965087</td>\n",
              "      <td>162.0</td>\n",
              "      <td>[{\"iso_639_1\": \"en\", \"name\": \"English\"}, {\"iso...</td>\n",
              "      <td>Released</td>\n",
              "      <td>Enter the World of Pandora.</td>\n",
              "      <td>Avatar</td>\n",
              "      <td>7.2</td>\n",
              "      <td>11800</td>\n",
              "    </tr>\n",
              "    <tr>\n",
              "      <th>1</th>\n",
              "      <td>300000000</td>\n",
              "      <td>[{\"id\": 12, \"name\": \"Adventure\"}, {\"id\": 14, \"...</td>\n",
              "      <td>http://disney.go.com/disneypictures/pirates/</td>\n",
              "      <td>285</td>\n",
              "      <td>[{\"id\": 270, \"name\": \"ocean\"}, {\"id\": 726, \"na...</td>\n",
              "      <td>en</td>\n",
              "      <td>Pirates of the Caribbean: At World's End</td>\n",
              "      <td>Captain Barbossa, long believed to be dead, ha...</td>\n",
              "      <td>139.082615</td>\n",
              "      <td>[{\"name\": \"Walt Disney Pictures\", \"id\": 2}, {\"...</td>\n",
              "      <td>[{\"iso_3166_1\": \"US\", \"name\": \"United States o...</td>\n",
              "      <td>2007-05-19</td>\n",
              "      <td>961000000</td>\n",
              "      <td>169.0</td>\n",
              "      <td>[{\"iso_639_1\": \"en\", \"name\": \"English\"}]</td>\n",
              "      <td>Released</td>\n",
              "      <td>At the end of the world, the adventure begins.</td>\n",
              "      <td>Pirates of the Caribbean: At World's End</td>\n",
              "      <td>6.9</td>\n",
              "      <td>4500</td>\n",
              "    </tr>\n",
              "    <tr>\n",
              "      <th>2</th>\n",
              "      <td>245000000</td>\n",
              "      <td>[{\"id\": 28, \"name\": \"Action\"}, {\"id\": 12, \"nam...</td>\n",
              "      <td>http://www.sonypictures.com/movies/spectre/</td>\n",
              "      <td>206647</td>\n",
              "      <td>[{\"id\": 470, \"name\": \"spy\"}, {\"id\": 818, \"name...</td>\n",
              "      <td>en</td>\n",
              "      <td>Spectre</td>\n",
              "      <td>A cryptic message from Bond’s past sends him o...</td>\n",
              "      <td>107.376788</td>\n",
              "      <td>[{\"name\": \"Columbia Pictures\", \"id\": 5}, {\"nam...</td>\n",
              "      <td>[{\"iso_3166_1\": \"GB\", \"name\": \"United Kingdom\"...</td>\n",
              "      <td>2015-10-26</td>\n",
              "      <td>880674609</td>\n",
              "      <td>148.0</td>\n",
              "      <td>[{\"iso_639_1\": \"fr\", \"name\": \"Fran\\u00e7ais\"},...</td>\n",
              "      <td>Released</td>\n",
              "      <td>A Plan No One Escapes</td>\n",
              "      <td>Spectre</td>\n",
              "      <td>6.3</td>\n",
              "      <td>4466</td>\n",
              "    </tr>\n",
              "    <tr>\n",
              "      <th>3</th>\n",
              "      <td>250000000</td>\n",
              "      <td>[{\"id\": 28, \"name\": \"Action\"}, {\"id\": 80, \"nam...</td>\n",
              "      <td>http://www.thedarkknightrises.com/</td>\n",
              "      <td>49026</td>\n",
              "      <td>[{\"id\": 849, \"name\": \"dc comics\"}, {\"id\": 853,...</td>\n",
              "      <td>en</td>\n",
              "      <td>The Dark Knight Rises</td>\n",
              "      <td>Following the death of District Attorney Harve...</td>\n",
              "      <td>112.312950</td>\n",
              "      <td>[{\"name\": \"Legendary Pictures\", \"id\": 923}, {\"...</td>\n",
              "      <td>[{\"iso_3166_1\": \"US\", \"name\": \"United States o...</td>\n",
              "      <td>2012-07-16</td>\n",
              "      <td>1084939099</td>\n",
              "      <td>165.0</td>\n",
              "      <td>[{\"iso_639_1\": \"en\", \"name\": \"English\"}]</td>\n",
              "      <td>Released</td>\n",
              "      <td>The Legend Ends</td>\n",
              "      <td>The Dark Knight Rises</td>\n",
              "      <td>7.6</td>\n",
              "      <td>9106</td>\n",
              "    </tr>\n",
              "    <tr>\n",
              "      <th>4</th>\n",
              "      <td>260000000</td>\n",
              "      <td>[{\"id\": 28, \"name\": \"Action\"}, {\"id\": 12, \"nam...</td>\n",
              "      <td>http://movies.disney.com/john-carter</td>\n",
              "      <td>49529</td>\n",
              "      <td>[{\"id\": 818, \"name\": \"based on novel\"}, {\"id\":...</td>\n",
              "      <td>en</td>\n",
              "      <td>John Carter</td>\n",
              "      <td>John Carter is a war-weary, former military ca...</td>\n",
              "      <td>43.926995</td>\n",
              "      <td>[{\"name\": \"Walt Disney Pictures\", \"id\": 2}]</td>\n",
              "      <td>[{\"iso_3166_1\": \"US\", \"name\": \"United States o...</td>\n",
              "      <td>2012-03-07</td>\n",
              "      <td>284139100</td>\n",
              "      <td>132.0</td>\n",
              "      <td>[{\"iso_639_1\": \"en\", \"name\": \"English\"}]</td>\n",
              "      <td>Released</td>\n",
              "      <td>Lost in our world, found in another.</td>\n",
              "      <td>John Carter</td>\n",
              "      <td>6.1</td>\n",
              "      <td>2124</td>\n",
              "    </tr>\n",
              "    <tr>\n",
              "      <th>...</th>\n",
              "      <td>...</td>\n",
              "      <td>...</td>\n",
              "      <td>...</td>\n",
              "      <td>...</td>\n",
              "      <td>...</td>\n",
              "      <td>...</td>\n",
              "      <td>...</td>\n",
              "      <td>...</td>\n",
              "      <td>...</td>\n",
              "      <td>...</td>\n",
              "      <td>...</td>\n",
              "      <td>...</td>\n",
              "      <td>...</td>\n",
              "      <td>...</td>\n",
              "      <td>...</td>\n",
              "      <td>...</td>\n",
              "      <td>...</td>\n",
              "      <td>...</td>\n",
              "      <td>...</td>\n",
              "      <td>...</td>\n",
              "    </tr>\n",
              "    <tr>\n",
              "      <th>4798</th>\n",
              "      <td>220000</td>\n",
              "      <td>[{\"id\": 28, \"name\": \"Action\"}, {\"id\": 80, \"nam...</td>\n",
              "      <td>NaN</td>\n",
              "      <td>9367</td>\n",
              "      <td>[{\"id\": 5616, \"name\": \"united states\\u2013mexi...</td>\n",
              "      <td>es</td>\n",
              "      <td>El Mariachi</td>\n",
              "      <td>El Mariachi just wants to play his guitar and ...</td>\n",
              "      <td>14.269792</td>\n",
              "      <td>[{\"name\": \"Columbia Pictures\", \"id\": 5}]</td>\n",
              "      <td>[{\"iso_3166_1\": \"MX\", \"name\": \"Mexico\"}, {\"iso...</td>\n",
              "      <td>1992-09-04</td>\n",
              "      <td>2040920</td>\n",
              "      <td>81.0</td>\n",
              "      <td>[{\"iso_639_1\": \"es\", \"name\": \"Espa\\u00f1ol\"}]</td>\n",
              "      <td>Released</td>\n",
              "      <td>He didn't come looking for trouble, but troubl...</td>\n",
              "      <td>El Mariachi</td>\n",
              "      <td>6.6</td>\n",
              "      <td>238</td>\n",
              "    </tr>\n",
              "    <tr>\n",
              "      <th>4799</th>\n",
              "      <td>9000</td>\n",
              "      <td>[{\"id\": 35, \"name\": \"Comedy\"}, {\"id\": 10749, \"...</td>\n",
              "      <td>NaN</td>\n",
              "      <td>72766</td>\n",
              "      <td>[]</td>\n",
              "      <td>en</td>\n",
              "      <td>Newlyweds</td>\n",
              "      <td>A newlywed couple's honeymoon is upended by th...</td>\n",
              "      <td>0.642552</td>\n",
              "      <td>[]</td>\n",
              "      <td>[]</td>\n",
              "      <td>2011-12-26</td>\n",
              "      <td>0</td>\n",
              "      <td>85.0</td>\n",
              "      <td>[]</td>\n",
              "      <td>Released</td>\n",
              "      <td>A newlywed couple's honeymoon is upended by th...</td>\n",
              "      <td>Newlyweds</td>\n",
              "      <td>5.9</td>\n",
              "      <td>5</td>\n",
              "    </tr>\n",
              "    <tr>\n",
              "      <th>4800</th>\n",
              "      <td>0</td>\n",
              "      <td>[{\"id\": 35, \"name\": \"Comedy\"}, {\"id\": 18, \"nam...</td>\n",
              "      <td>http://www.hallmarkchannel.com/signedsealeddel...</td>\n",
              "      <td>231617</td>\n",
              "      <td>[{\"id\": 248, \"name\": \"date\"}, {\"id\": 699, \"nam...</td>\n",
              "      <td>en</td>\n",
              "      <td>Signed, Sealed, Delivered</td>\n",
              "      <td>\"Signed, Sealed, Delivered\" introduces a dedic...</td>\n",
              "      <td>1.444476</td>\n",
              "      <td>[{\"name\": \"Front Street Pictures\", \"id\": 3958}...</td>\n",
              "      <td>[{\"iso_3166_1\": \"US\", \"name\": \"United States o...</td>\n",
              "      <td>2013-10-13</td>\n",
              "      <td>0</td>\n",
              "      <td>120.0</td>\n",
              "      <td>[{\"iso_639_1\": \"en\", \"name\": \"English\"}]</td>\n",
              "      <td>Released</td>\n",
              "      <td>NaN</td>\n",
              "      <td>Signed, Sealed, Delivered</td>\n",
              "      <td>7.0</td>\n",
              "      <td>6</td>\n",
              "    </tr>\n",
              "    <tr>\n",
              "      <th>4801</th>\n",
              "      <td>0</td>\n",
              "      <td>[]</td>\n",
              "      <td>http://shanghaicalling.com/</td>\n",
              "      <td>126186</td>\n",
              "      <td>[]</td>\n",
              "      <td>en</td>\n",
              "      <td>Shanghai Calling</td>\n",
              "      <td>When ambitious New York attorney Sam is sent t...</td>\n",
              "      <td>0.857008</td>\n",
              "      <td>[]</td>\n",
              "      <td>[{\"iso_3166_1\": \"US\", \"name\": \"United States o...</td>\n",
              "      <td>2012-05-03</td>\n",
              "      <td>0</td>\n",
              "      <td>98.0</td>\n",
              "      <td>[{\"iso_639_1\": \"en\", \"name\": \"English\"}]</td>\n",
              "      <td>Released</td>\n",
              "      <td>A New Yorker in Shanghai</td>\n",
              "      <td>Shanghai Calling</td>\n",
              "      <td>5.7</td>\n",
              "      <td>7</td>\n",
              "    </tr>\n",
              "    <tr>\n",
              "      <th>4802</th>\n",
              "      <td>0</td>\n",
              "      <td>[{\"id\": 99, \"name\": \"Documentary\"}]</td>\n",
              "      <td>NaN</td>\n",
              "      <td>25975</td>\n",
              "      <td>[{\"id\": 1523, \"name\": \"obsession\"}, {\"id\": 224...</td>\n",
              "      <td>en</td>\n",
              "      <td>My Date with Drew</td>\n",
              "      <td>Ever since the second grade when he first saw ...</td>\n",
              "      <td>1.929883</td>\n",
              "      <td>[{\"name\": \"rusty bear entertainment\", \"id\": 87...</td>\n",
              "      <td>[{\"iso_3166_1\": \"US\", \"name\": \"United States o...</td>\n",
              "      <td>2005-08-05</td>\n",
              "      <td>0</td>\n",
              "      <td>90.0</td>\n",
              "      <td>[{\"iso_639_1\": \"en\", \"name\": \"English\"}]</td>\n",
              "      <td>Released</td>\n",
              "      <td>NaN</td>\n",
              "      <td>My Date with Drew</td>\n",
              "      <td>6.3</td>\n",
              "      <td>16</td>\n",
              "    </tr>\n",
              "  </tbody>\n",
              "</table>\n",
              "<p>4803 rows × 20 columns</p>\n",
              "</div>\n",
              "    <div class=\"colab-df-buttons\">\n",
              "\n",
              "  <div class=\"colab-df-container\">\n",
              "    <button class=\"colab-df-convert\" onclick=\"convertToInteractive('df-09623f10-b56d-40af-a68f-428e354ac92d')\"\n",
              "            title=\"Convert this dataframe to an interactive table.\"\n",
              "            style=\"display:none;\">\n",
              "\n",
              "  <svg xmlns=\"http://www.w3.org/2000/svg\" height=\"24px\" viewBox=\"0 -960 960 960\">\n",
              "    <path d=\"M120-120v-720h720v720H120Zm60-500h600v-160H180v160Zm220 220h160v-160H400v160Zm0 220h160v-160H400v160ZM180-400h160v-160H180v160Zm440 0h160v-160H620v160ZM180-180h160v-160H180v160Zm440 0h160v-160H620v160Z\"/>\n",
              "  </svg>\n",
              "    </button>\n",
              "\n",
              "  <style>\n",
              "    .colab-df-container {\n",
              "      display:flex;\n",
              "      gap: 12px;\n",
              "    }\n",
              "\n",
              "    .colab-df-convert {\n",
              "      background-color: #E8F0FE;\n",
              "      border: none;\n",
              "      border-radius: 50%;\n",
              "      cursor: pointer;\n",
              "      display: none;\n",
              "      fill: #1967D2;\n",
              "      height: 32px;\n",
              "      padding: 0 0 0 0;\n",
              "      width: 32px;\n",
              "    }\n",
              "\n",
              "    .colab-df-convert:hover {\n",
              "      background-color: #E2EBFA;\n",
              "      box-shadow: 0px 1px 2px rgba(60, 64, 67, 0.3), 0px 1px 3px 1px rgba(60, 64, 67, 0.15);\n",
              "      fill: #174EA6;\n",
              "    }\n",
              "\n",
              "    .colab-df-buttons div {\n",
              "      margin-bottom: 4px;\n",
              "    }\n",
              "\n",
              "    [theme=dark] .colab-df-convert {\n",
              "      background-color: #3B4455;\n",
              "      fill: #D2E3FC;\n",
              "    }\n",
              "\n",
              "    [theme=dark] .colab-df-convert:hover {\n",
              "      background-color: #434B5C;\n",
              "      box-shadow: 0px 1px 3px 1px rgba(0, 0, 0, 0.15);\n",
              "      filter: drop-shadow(0px 1px 2px rgba(0, 0, 0, 0.3));\n",
              "      fill: #FFFFFF;\n",
              "    }\n",
              "  </style>\n",
              "\n",
              "    <script>\n",
              "      const buttonEl =\n",
              "        document.querySelector('#df-09623f10-b56d-40af-a68f-428e354ac92d button.colab-df-convert');\n",
              "      buttonEl.style.display =\n",
              "        google.colab.kernel.accessAllowed ? 'block' : 'none';\n",
              "\n",
              "      async function convertToInteractive(key) {\n",
              "        const element = document.querySelector('#df-09623f10-b56d-40af-a68f-428e354ac92d');\n",
              "        const dataTable =\n",
              "          await google.colab.kernel.invokeFunction('convertToInteractive',\n",
              "                                                    [key], {});\n",
              "        if (!dataTable) return;\n",
              "\n",
              "        const docLinkHtml = 'Like what you see? Visit the ' +\n",
              "          '<a target=\"_blank\" href=https://colab.research.google.com/notebooks/data_table.ipynb>data table notebook</a>'\n",
              "          + ' to learn more about interactive tables.';\n",
              "        element.innerHTML = '';\n",
              "        dataTable['output_type'] = 'display_data';\n",
              "        await google.colab.output.renderOutput(dataTable, element);\n",
              "        const docLink = document.createElement('div');\n",
              "        docLink.innerHTML = docLinkHtml;\n",
              "        element.appendChild(docLink);\n",
              "      }\n",
              "    </script>\n",
              "  </div>\n",
              "\n",
              "\n",
              "<div id=\"df-13520178-9361-4c5b-a67a-6e8222a7bd1a\">\n",
              "  <button class=\"colab-df-quickchart\" onclick=\"quickchart('df-13520178-9361-4c5b-a67a-6e8222a7bd1a')\"\n",
              "            title=\"Suggest charts.\"\n",
              "            style=\"display:none;\">\n",
              "\n",
              "<svg xmlns=\"http://www.w3.org/2000/svg\" height=\"24px\"viewBox=\"0 0 24 24\"\n",
              "     width=\"24px\">\n",
              "    <g>\n",
              "        <path d=\"M19 3H5c-1.1 0-2 .9-2 2v14c0 1.1.9 2 2 2h14c1.1 0 2-.9 2-2V5c0-1.1-.9-2-2-2zM9 17H7v-7h2v7zm4 0h-2V7h2v10zm4 0h-2v-4h2v4z\"/>\n",
              "    </g>\n",
              "</svg>\n",
              "  </button>\n",
              "\n",
              "<style>\n",
              "  .colab-df-quickchart {\n",
              "      --bg-color: #E8F0FE;\n",
              "      --fill-color: #1967D2;\n",
              "      --hover-bg-color: #E2EBFA;\n",
              "      --hover-fill-color: #174EA6;\n",
              "      --disabled-fill-color: #AAA;\n",
              "      --disabled-bg-color: #DDD;\n",
              "  }\n",
              "\n",
              "  [theme=dark] .colab-df-quickchart {\n",
              "      --bg-color: #3B4455;\n",
              "      --fill-color: #D2E3FC;\n",
              "      --hover-bg-color: #434B5C;\n",
              "      --hover-fill-color: #FFFFFF;\n",
              "      --disabled-bg-color: #3B4455;\n",
              "      --disabled-fill-color: #666;\n",
              "  }\n",
              "\n",
              "  .colab-df-quickchart {\n",
              "    background-color: var(--bg-color);\n",
              "    border: none;\n",
              "    border-radius: 50%;\n",
              "    cursor: pointer;\n",
              "    display: none;\n",
              "    fill: var(--fill-color);\n",
              "    height: 32px;\n",
              "    padding: 0;\n",
              "    width: 32px;\n",
              "  }\n",
              "\n",
              "  .colab-df-quickchart:hover {\n",
              "    background-color: var(--hover-bg-color);\n",
              "    box-shadow: 0 1px 2px rgba(60, 64, 67, 0.3), 0 1px 3px 1px rgba(60, 64, 67, 0.15);\n",
              "    fill: var(--button-hover-fill-color);\n",
              "  }\n",
              "\n",
              "  .colab-df-quickchart-complete:disabled,\n",
              "  .colab-df-quickchart-complete:disabled:hover {\n",
              "    background-color: var(--disabled-bg-color);\n",
              "    fill: var(--disabled-fill-color);\n",
              "    box-shadow: none;\n",
              "  }\n",
              "\n",
              "  .colab-df-spinner {\n",
              "    border: 2px solid var(--fill-color);\n",
              "    border-color: transparent;\n",
              "    border-bottom-color: var(--fill-color);\n",
              "    animation:\n",
              "      spin 1s steps(1) infinite;\n",
              "  }\n",
              "\n",
              "  @keyframes spin {\n",
              "    0% {\n",
              "      border-color: transparent;\n",
              "      border-bottom-color: var(--fill-color);\n",
              "      border-left-color: var(--fill-color);\n",
              "    }\n",
              "    20% {\n",
              "      border-color: transparent;\n",
              "      border-left-color: var(--fill-color);\n",
              "      border-top-color: var(--fill-color);\n",
              "    }\n",
              "    30% {\n",
              "      border-color: transparent;\n",
              "      border-left-color: var(--fill-color);\n",
              "      border-top-color: var(--fill-color);\n",
              "      border-right-color: var(--fill-color);\n",
              "    }\n",
              "    40% {\n",
              "      border-color: transparent;\n",
              "      border-right-color: var(--fill-color);\n",
              "      border-top-color: var(--fill-color);\n",
              "    }\n",
              "    60% {\n",
              "      border-color: transparent;\n",
              "      border-right-color: var(--fill-color);\n",
              "    }\n",
              "    80% {\n",
              "      border-color: transparent;\n",
              "      border-right-color: var(--fill-color);\n",
              "      border-bottom-color: var(--fill-color);\n",
              "    }\n",
              "    90% {\n",
              "      border-color: transparent;\n",
              "      border-bottom-color: var(--fill-color);\n",
              "    }\n",
              "  }\n",
              "</style>\n",
              "\n",
              "  <script>\n",
              "    async function quickchart(key) {\n",
              "      const quickchartButtonEl =\n",
              "        document.querySelector('#' + key + ' button');\n",
              "      quickchartButtonEl.disabled = true;  // To prevent multiple clicks.\n",
              "      quickchartButtonEl.classList.add('colab-df-spinner');\n",
              "      try {\n",
              "        const charts = await google.colab.kernel.invokeFunction(\n",
              "            'suggestCharts', [key], {});\n",
              "      } catch (error) {\n",
              "        console.error('Error during call to suggestCharts:', error);\n",
              "      }\n",
              "      quickchartButtonEl.classList.remove('colab-df-spinner');\n",
              "      quickchartButtonEl.classList.add('colab-df-quickchart-complete');\n",
              "    }\n",
              "    (() => {\n",
              "      let quickchartButtonEl =\n",
              "        document.querySelector('#df-13520178-9361-4c5b-a67a-6e8222a7bd1a button');\n",
              "      quickchartButtonEl.style.display =\n",
              "        google.colab.kernel.accessAllowed ? 'block' : 'none';\n",
              "    })();\n",
              "  </script>\n",
              "</div>\n",
              "    </div>\n",
              "  </div>\n"
            ]
          },
          "metadata": {},
          "execution_count": 25
        }
      ]
    },
    {
      "cell_type": "code",
      "source": [
        "tmdb.head()"
      ],
      "metadata": {
        "colab": {
          "base_uri": "https://localhost:8080/",
          "height": 695
        },
        "id": "-e1PZjXkbAzC",
        "outputId": "30506096-9eab-4e32-e6ce-d4abc4759a7c"
      },
      "execution_count": 26,
      "outputs": [
        {
          "output_type": "execute_result",
          "data": {
            "text/plain": [
              "      budget                                             genres  \\\n",
              "0  237000000  [{\"id\": 28, \"name\": \"Action\"}, {\"id\": 12, \"nam...   \n",
              "1  300000000  [{\"id\": 12, \"name\": \"Adventure\"}, {\"id\": 14, \"...   \n",
              "2  245000000  [{\"id\": 28, \"name\": \"Action\"}, {\"id\": 12, \"nam...   \n",
              "3  250000000  [{\"id\": 28, \"name\": \"Action\"}, {\"id\": 80, \"nam...   \n",
              "4  260000000  [{\"id\": 28, \"name\": \"Action\"}, {\"id\": 12, \"nam...   \n",
              "\n",
              "                                       homepage      id  \\\n",
              "0                   http://www.avatarmovie.com/   19995   \n",
              "1  http://disney.go.com/disneypictures/pirates/     285   \n",
              "2   http://www.sonypictures.com/movies/spectre/  206647   \n",
              "3            http://www.thedarkknightrises.com/   49026   \n",
              "4          http://movies.disney.com/john-carter   49529   \n",
              "\n",
              "                                            keywords original_language  \\\n",
              "0  [{\"id\": 1463, \"name\": \"culture clash\"}, {\"id\":...                en   \n",
              "1  [{\"id\": 270, \"name\": \"ocean\"}, {\"id\": 726, \"na...                en   \n",
              "2  [{\"id\": 470, \"name\": \"spy\"}, {\"id\": 818, \"name...                en   \n",
              "3  [{\"id\": 849, \"name\": \"dc comics\"}, {\"id\": 853,...                en   \n",
              "4  [{\"id\": 818, \"name\": \"based on novel\"}, {\"id\":...                en   \n",
              "\n",
              "                             original_title  \\\n",
              "0                                    Avatar   \n",
              "1  Pirates of the Caribbean: At World's End   \n",
              "2                                   Spectre   \n",
              "3                     The Dark Knight Rises   \n",
              "4                               John Carter   \n",
              "\n",
              "                                            overview  popularity  \\\n",
              "0  In the 22nd century, a paraplegic Marine is di...  150.437577   \n",
              "1  Captain Barbossa, long believed to be dead, ha...  139.082615   \n",
              "2  A cryptic message from Bond’s past sends him o...  107.376788   \n",
              "3  Following the death of District Attorney Harve...  112.312950   \n",
              "4  John Carter is a war-weary, former military ca...   43.926995   \n",
              "\n",
              "                                production_companies  \\\n",
              "0  [{\"name\": \"Ingenious Film Partners\", \"id\": 289...   \n",
              "1  [{\"name\": \"Walt Disney Pictures\", \"id\": 2}, {\"...   \n",
              "2  [{\"name\": \"Columbia Pictures\", \"id\": 5}, {\"nam...   \n",
              "3  [{\"name\": \"Legendary Pictures\", \"id\": 923}, {\"...   \n",
              "4        [{\"name\": \"Walt Disney Pictures\", \"id\": 2}]   \n",
              "\n",
              "                                production_countries release_date     revenue  \\\n",
              "0  [{\"iso_3166_1\": \"US\", \"name\": \"United States o...   2009-12-10  2787965087   \n",
              "1  [{\"iso_3166_1\": \"US\", \"name\": \"United States o...   2007-05-19   961000000   \n",
              "2  [{\"iso_3166_1\": \"GB\", \"name\": \"United Kingdom\"...   2015-10-26   880674609   \n",
              "3  [{\"iso_3166_1\": \"US\", \"name\": \"United States o...   2012-07-16  1084939099   \n",
              "4  [{\"iso_3166_1\": \"US\", \"name\": \"United States o...   2012-03-07   284139100   \n",
              "\n",
              "   runtime                                   spoken_languages    status  \\\n",
              "0    162.0  [{\"iso_639_1\": \"en\", \"name\": \"English\"}, {\"iso...  Released   \n",
              "1    169.0           [{\"iso_639_1\": \"en\", \"name\": \"English\"}]  Released   \n",
              "2    148.0  [{\"iso_639_1\": \"fr\", \"name\": \"Fran\\u00e7ais\"},...  Released   \n",
              "3    165.0           [{\"iso_639_1\": \"en\", \"name\": \"English\"}]  Released   \n",
              "4    132.0           [{\"iso_639_1\": \"en\", \"name\": \"English\"}]  Released   \n",
              "\n",
              "                                          tagline  \\\n",
              "0                     Enter the World of Pandora.   \n",
              "1  At the end of the world, the adventure begins.   \n",
              "2                           A Plan No One Escapes   \n",
              "3                                 The Legend Ends   \n",
              "4            Lost in our world, found in another.   \n",
              "\n",
              "                                      title  vote_average  vote_count  \n",
              "0                                    Avatar           7.2       11800  \n",
              "1  Pirates of the Caribbean: At World's End           6.9        4500  \n",
              "2                                   Spectre           6.3        4466  \n",
              "3                     The Dark Knight Rises           7.6        9106  \n",
              "4                               John Carter           6.1        2124  "
            ],
            "text/html": [
              "\n",
              "  <div id=\"df-41297aec-1bff-4427-a116-5b67c63a5abe\" class=\"colab-df-container\">\n",
              "    <div>\n",
              "<style scoped>\n",
              "    .dataframe tbody tr th:only-of-type {\n",
              "        vertical-align: middle;\n",
              "    }\n",
              "\n",
              "    .dataframe tbody tr th {\n",
              "        vertical-align: top;\n",
              "    }\n",
              "\n",
              "    .dataframe thead th {\n",
              "        text-align: right;\n",
              "    }\n",
              "</style>\n",
              "<table border=\"1\" class=\"dataframe\">\n",
              "  <thead>\n",
              "    <tr style=\"text-align: right;\">\n",
              "      <th></th>\n",
              "      <th>budget</th>\n",
              "      <th>genres</th>\n",
              "      <th>homepage</th>\n",
              "      <th>id</th>\n",
              "      <th>keywords</th>\n",
              "      <th>original_language</th>\n",
              "      <th>original_title</th>\n",
              "      <th>overview</th>\n",
              "      <th>popularity</th>\n",
              "      <th>production_companies</th>\n",
              "      <th>production_countries</th>\n",
              "      <th>release_date</th>\n",
              "      <th>revenue</th>\n",
              "      <th>runtime</th>\n",
              "      <th>spoken_languages</th>\n",
              "      <th>status</th>\n",
              "      <th>tagline</th>\n",
              "      <th>title</th>\n",
              "      <th>vote_average</th>\n",
              "      <th>vote_count</th>\n",
              "    </tr>\n",
              "  </thead>\n",
              "  <tbody>\n",
              "    <tr>\n",
              "      <th>0</th>\n",
              "      <td>237000000</td>\n",
              "      <td>[{\"id\": 28, \"name\": \"Action\"}, {\"id\": 12, \"nam...</td>\n",
              "      <td>http://www.avatarmovie.com/</td>\n",
              "      <td>19995</td>\n",
              "      <td>[{\"id\": 1463, \"name\": \"culture clash\"}, {\"id\":...</td>\n",
              "      <td>en</td>\n",
              "      <td>Avatar</td>\n",
              "      <td>In the 22nd century, a paraplegic Marine is di...</td>\n",
              "      <td>150.437577</td>\n",
              "      <td>[{\"name\": \"Ingenious Film Partners\", \"id\": 289...</td>\n",
              "      <td>[{\"iso_3166_1\": \"US\", \"name\": \"United States o...</td>\n",
              "      <td>2009-12-10</td>\n",
              "      <td>2787965087</td>\n",
              "      <td>162.0</td>\n",
              "      <td>[{\"iso_639_1\": \"en\", \"name\": \"English\"}, {\"iso...</td>\n",
              "      <td>Released</td>\n",
              "      <td>Enter the World of Pandora.</td>\n",
              "      <td>Avatar</td>\n",
              "      <td>7.2</td>\n",
              "      <td>11800</td>\n",
              "    </tr>\n",
              "    <tr>\n",
              "      <th>1</th>\n",
              "      <td>300000000</td>\n",
              "      <td>[{\"id\": 12, \"name\": \"Adventure\"}, {\"id\": 14, \"...</td>\n",
              "      <td>http://disney.go.com/disneypictures/pirates/</td>\n",
              "      <td>285</td>\n",
              "      <td>[{\"id\": 270, \"name\": \"ocean\"}, {\"id\": 726, \"na...</td>\n",
              "      <td>en</td>\n",
              "      <td>Pirates of the Caribbean: At World's End</td>\n",
              "      <td>Captain Barbossa, long believed to be dead, ha...</td>\n",
              "      <td>139.082615</td>\n",
              "      <td>[{\"name\": \"Walt Disney Pictures\", \"id\": 2}, {\"...</td>\n",
              "      <td>[{\"iso_3166_1\": \"US\", \"name\": \"United States o...</td>\n",
              "      <td>2007-05-19</td>\n",
              "      <td>961000000</td>\n",
              "      <td>169.0</td>\n",
              "      <td>[{\"iso_639_1\": \"en\", \"name\": \"English\"}]</td>\n",
              "      <td>Released</td>\n",
              "      <td>At the end of the world, the adventure begins.</td>\n",
              "      <td>Pirates of the Caribbean: At World's End</td>\n",
              "      <td>6.9</td>\n",
              "      <td>4500</td>\n",
              "    </tr>\n",
              "    <tr>\n",
              "      <th>2</th>\n",
              "      <td>245000000</td>\n",
              "      <td>[{\"id\": 28, \"name\": \"Action\"}, {\"id\": 12, \"nam...</td>\n",
              "      <td>http://www.sonypictures.com/movies/spectre/</td>\n",
              "      <td>206647</td>\n",
              "      <td>[{\"id\": 470, \"name\": \"spy\"}, {\"id\": 818, \"name...</td>\n",
              "      <td>en</td>\n",
              "      <td>Spectre</td>\n",
              "      <td>A cryptic message from Bond’s past sends him o...</td>\n",
              "      <td>107.376788</td>\n",
              "      <td>[{\"name\": \"Columbia Pictures\", \"id\": 5}, {\"nam...</td>\n",
              "      <td>[{\"iso_3166_1\": \"GB\", \"name\": \"United Kingdom\"...</td>\n",
              "      <td>2015-10-26</td>\n",
              "      <td>880674609</td>\n",
              "      <td>148.0</td>\n",
              "      <td>[{\"iso_639_1\": \"fr\", \"name\": \"Fran\\u00e7ais\"},...</td>\n",
              "      <td>Released</td>\n",
              "      <td>A Plan No One Escapes</td>\n",
              "      <td>Spectre</td>\n",
              "      <td>6.3</td>\n",
              "      <td>4466</td>\n",
              "    </tr>\n",
              "    <tr>\n",
              "      <th>3</th>\n",
              "      <td>250000000</td>\n",
              "      <td>[{\"id\": 28, \"name\": \"Action\"}, {\"id\": 80, \"nam...</td>\n",
              "      <td>http://www.thedarkknightrises.com/</td>\n",
              "      <td>49026</td>\n",
              "      <td>[{\"id\": 849, \"name\": \"dc comics\"}, {\"id\": 853,...</td>\n",
              "      <td>en</td>\n",
              "      <td>The Dark Knight Rises</td>\n",
              "      <td>Following the death of District Attorney Harve...</td>\n",
              "      <td>112.312950</td>\n",
              "      <td>[{\"name\": \"Legendary Pictures\", \"id\": 923}, {\"...</td>\n",
              "      <td>[{\"iso_3166_1\": \"US\", \"name\": \"United States o...</td>\n",
              "      <td>2012-07-16</td>\n",
              "      <td>1084939099</td>\n",
              "      <td>165.0</td>\n",
              "      <td>[{\"iso_639_1\": \"en\", \"name\": \"English\"}]</td>\n",
              "      <td>Released</td>\n",
              "      <td>The Legend Ends</td>\n",
              "      <td>The Dark Knight Rises</td>\n",
              "      <td>7.6</td>\n",
              "      <td>9106</td>\n",
              "    </tr>\n",
              "    <tr>\n",
              "      <th>4</th>\n",
              "      <td>260000000</td>\n",
              "      <td>[{\"id\": 28, \"name\": \"Action\"}, {\"id\": 12, \"nam...</td>\n",
              "      <td>http://movies.disney.com/john-carter</td>\n",
              "      <td>49529</td>\n",
              "      <td>[{\"id\": 818, \"name\": \"based on novel\"}, {\"id\":...</td>\n",
              "      <td>en</td>\n",
              "      <td>John Carter</td>\n",
              "      <td>John Carter is a war-weary, former military ca...</td>\n",
              "      <td>43.926995</td>\n",
              "      <td>[{\"name\": \"Walt Disney Pictures\", \"id\": 2}]</td>\n",
              "      <td>[{\"iso_3166_1\": \"US\", \"name\": \"United States o...</td>\n",
              "      <td>2012-03-07</td>\n",
              "      <td>284139100</td>\n",
              "      <td>132.0</td>\n",
              "      <td>[{\"iso_639_1\": \"en\", \"name\": \"English\"}]</td>\n",
              "      <td>Released</td>\n",
              "      <td>Lost in our world, found in another.</td>\n",
              "      <td>John Carter</td>\n",
              "      <td>6.1</td>\n",
              "      <td>2124</td>\n",
              "    </tr>\n",
              "  </tbody>\n",
              "</table>\n",
              "</div>\n",
              "    <div class=\"colab-df-buttons\">\n",
              "\n",
              "  <div class=\"colab-df-container\">\n",
              "    <button class=\"colab-df-convert\" onclick=\"convertToInteractive('df-41297aec-1bff-4427-a116-5b67c63a5abe')\"\n",
              "            title=\"Convert this dataframe to an interactive table.\"\n",
              "            style=\"display:none;\">\n",
              "\n",
              "  <svg xmlns=\"http://www.w3.org/2000/svg\" height=\"24px\" viewBox=\"0 -960 960 960\">\n",
              "    <path d=\"M120-120v-720h720v720H120Zm60-500h600v-160H180v160Zm220 220h160v-160H400v160Zm0 220h160v-160H400v160ZM180-400h160v-160H180v160Zm440 0h160v-160H620v160ZM180-180h160v-160H180v160Zm440 0h160v-160H620v160Z\"/>\n",
              "  </svg>\n",
              "    </button>\n",
              "\n",
              "  <style>\n",
              "    .colab-df-container {\n",
              "      display:flex;\n",
              "      gap: 12px;\n",
              "    }\n",
              "\n",
              "    .colab-df-convert {\n",
              "      background-color: #E8F0FE;\n",
              "      border: none;\n",
              "      border-radius: 50%;\n",
              "      cursor: pointer;\n",
              "      display: none;\n",
              "      fill: #1967D2;\n",
              "      height: 32px;\n",
              "      padding: 0 0 0 0;\n",
              "      width: 32px;\n",
              "    }\n",
              "\n",
              "    .colab-df-convert:hover {\n",
              "      background-color: #E2EBFA;\n",
              "      box-shadow: 0px 1px 2px rgba(60, 64, 67, 0.3), 0px 1px 3px 1px rgba(60, 64, 67, 0.15);\n",
              "      fill: #174EA6;\n",
              "    }\n",
              "\n",
              "    .colab-df-buttons div {\n",
              "      margin-bottom: 4px;\n",
              "    }\n",
              "\n",
              "    [theme=dark] .colab-df-convert {\n",
              "      background-color: #3B4455;\n",
              "      fill: #D2E3FC;\n",
              "    }\n",
              "\n",
              "    [theme=dark] .colab-df-convert:hover {\n",
              "      background-color: #434B5C;\n",
              "      box-shadow: 0px 1px 3px 1px rgba(0, 0, 0, 0.15);\n",
              "      filter: drop-shadow(0px 1px 2px rgba(0, 0, 0, 0.3));\n",
              "      fill: #FFFFFF;\n",
              "    }\n",
              "  </style>\n",
              "\n",
              "    <script>\n",
              "      const buttonEl =\n",
              "        document.querySelector('#df-41297aec-1bff-4427-a116-5b67c63a5abe button.colab-df-convert');\n",
              "      buttonEl.style.display =\n",
              "        google.colab.kernel.accessAllowed ? 'block' : 'none';\n",
              "\n",
              "      async function convertToInteractive(key) {\n",
              "        const element = document.querySelector('#df-41297aec-1bff-4427-a116-5b67c63a5abe');\n",
              "        const dataTable =\n",
              "          await google.colab.kernel.invokeFunction('convertToInteractive',\n",
              "                                                    [key], {});\n",
              "        if (!dataTable) return;\n",
              "\n",
              "        const docLinkHtml = 'Like what you see? Visit the ' +\n",
              "          '<a target=\"_blank\" href=https://colab.research.google.com/notebooks/data_table.ipynb>data table notebook</a>'\n",
              "          + ' to learn more about interactive tables.';\n",
              "        element.innerHTML = '';\n",
              "        dataTable['output_type'] = 'display_data';\n",
              "        await google.colab.output.renderOutput(dataTable, element);\n",
              "        const docLink = document.createElement('div');\n",
              "        docLink.innerHTML = docLinkHtml;\n",
              "        element.appendChild(docLink);\n",
              "      }\n",
              "    </script>\n",
              "  </div>\n",
              "\n",
              "\n",
              "<div id=\"df-720237e9-4afc-43d6-a7bd-61e84a629a77\">\n",
              "  <button class=\"colab-df-quickchart\" onclick=\"quickchart('df-720237e9-4afc-43d6-a7bd-61e84a629a77')\"\n",
              "            title=\"Suggest charts.\"\n",
              "            style=\"display:none;\">\n",
              "\n",
              "<svg xmlns=\"http://www.w3.org/2000/svg\" height=\"24px\"viewBox=\"0 0 24 24\"\n",
              "     width=\"24px\">\n",
              "    <g>\n",
              "        <path d=\"M19 3H5c-1.1 0-2 .9-2 2v14c0 1.1.9 2 2 2h14c1.1 0 2-.9 2-2V5c0-1.1-.9-2-2-2zM9 17H7v-7h2v7zm4 0h-2V7h2v10zm4 0h-2v-4h2v4z\"/>\n",
              "    </g>\n",
              "</svg>\n",
              "  </button>\n",
              "\n",
              "<style>\n",
              "  .colab-df-quickchart {\n",
              "      --bg-color: #E8F0FE;\n",
              "      --fill-color: #1967D2;\n",
              "      --hover-bg-color: #E2EBFA;\n",
              "      --hover-fill-color: #174EA6;\n",
              "      --disabled-fill-color: #AAA;\n",
              "      --disabled-bg-color: #DDD;\n",
              "  }\n",
              "\n",
              "  [theme=dark] .colab-df-quickchart {\n",
              "      --bg-color: #3B4455;\n",
              "      --fill-color: #D2E3FC;\n",
              "      --hover-bg-color: #434B5C;\n",
              "      --hover-fill-color: #FFFFFF;\n",
              "      --disabled-bg-color: #3B4455;\n",
              "      --disabled-fill-color: #666;\n",
              "  }\n",
              "\n",
              "  .colab-df-quickchart {\n",
              "    background-color: var(--bg-color);\n",
              "    border: none;\n",
              "    border-radius: 50%;\n",
              "    cursor: pointer;\n",
              "    display: none;\n",
              "    fill: var(--fill-color);\n",
              "    height: 32px;\n",
              "    padding: 0;\n",
              "    width: 32px;\n",
              "  }\n",
              "\n",
              "  .colab-df-quickchart:hover {\n",
              "    background-color: var(--hover-bg-color);\n",
              "    box-shadow: 0 1px 2px rgba(60, 64, 67, 0.3), 0 1px 3px 1px rgba(60, 64, 67, 0.15);\n",
              "    fill: var(--button-hover-fill-color);\n",
              "  }\n",
              "\n",
              "  .colab-df-quickchart-complete:disabled,\n",
              "  .colab-df-quickchart-complete:disabled:hover {\n",
              "    background-color: var(--disabled-bg-color);\n",
              "    fill: var(--disabled-fill-color);\n",
              "    box-shadow: none;\n",
              "  }\n",
              "\n",
              "  .colab-df-spinner {\n",
              "    border: 2px solid var(--fill-color);\n",
              "    border-color: transparent;\n",
              "    border-bottom-color: var(--fill-color);\n",
              "    animation:\n",
              "      spin 1s steps(1) infinite;\n",
              "  }\n",
              "\n",
              "  @keyframes spin {\n",
              "    0% {\n",
              "      border-color: transparent;\n",
              "      border-bottom-color: var(--fill-color);\n",
              "      border-left-color: var(--fill-color);\n",
              "    }\n",
              "    20% {\n",
              "      border-color: transparent;\n",
              "      border-left-color: var(--fill-color);\n",
              "      border-top-color: var(--fill-color);\n",
              "    }\n",
              "    30% {\n",
              "      border-color: transparent;\n",
              "      border-left-color: var(--fill-color);\n",
              "      border-top-color: var(--fill-color);\n",
              "      border-right-color: var(--fill-color);\n",
              "    }\n",
              "    40% {\n",
              "      border-color: transparent;\n",
              "      border-right-color: var(--fill-color);\n",
              "      border-top-color: var(--fill-color);\n",
              "    }\n",
              "    60% {\n",
              "      border-color: transparent;\n",
              "      border-right-color: var(--fill-color);\n",
              "    }\n",
              "    80% {\n",
              "      border-color: transparent;\n",
              "      border-right-color: var(--fill-color);\n",
              "      border-bottom-color: var(--fill-color);\n",
              "    }\n",
              "    90% {\n",
              "      border-color: transparent;\n",
              "      border-bottom-color: var(--fill-color);\n",
              "    }\n",
              "  }\n",
              "</style>\n",
              "\n",
              "  <script>\n",
              "    async function quickchart(key) {\n",
              "      const quickchartButtonEl =\n",
              "        document.querySelector('#' + key + ' button');\n",
              "      quickchartButtonEl.disabled = true;  // To prevent multiple clicks.\n",
              "      quickchartButtonEl.classList.add('colab-df-spinner');\n",
              "      try {\n",
              "        const charts = await google.colab.kernel.invokeFunction(\n",
              "            'suggestCharts', [key], {});\n",
              "      } catch (error) {\n",
              "        console.error('Error during call to suggestCharts:', error);\n",
              "      }\n",
              "      quickchartButtonEl.classList.remove('colab-df-spinner');\n",
              "      quickchartButtonEl.classList.add('colab-df-quickchart-complete');\n",
              "    }\n",
              "    (() => {\n",
              "      let quickchartButtonEl =\n",
              "        document.querySelector('#df-720237e9-4afc-43d6-a7bd-61e84a629a77 button');\n",
              "      quickchartButtonEl.style.display =\n",
              "        google.colab.kernel.accessAllowed ? 'block' : 'none';\n",
              "    })();\n",
              "  </script>\n",
              "</div>\n",
              "    </div>\n",
              "  </div>\n"
            ]
          },
          "metadata": {},
          "execution_count": 26
        }
      ]
    },
    {
      "cell_type": "code",
      "source": [
        "tmdb.original_language.unique()"
      ],
      "metadata": {
        "colab": {
          "base_uri": "https://localhost:8080/"
        },
        "id": "QaZvrvajbdYi",
        "outputId": "ddaf26fa-3d0d-480a-8c9c-7dd437e38238"
      },
      "execution_count": 27,
      "outputs": [
        {
          "output_type": "execute_result",
          "data": {
            "text/plain": [
              "array(['en', 'ja', 'fr', 'zh', 'es', 'de', 'hi', 'ru', 'ko', 'te', 'cn',\n",
              "       'it', 'nl', 'ta', 'sv', 'th', 'da', 'xx', 'hu', 'cs', 'pt', 'is',\n",
              "       'tr', 'nb', 'af', 'pl', 'he', 'ar', 'vi', 'ky', 'id', 'ro', 'fa',\n",
              "       'no', 'sl', 'ps', 'el'], dtype=object)"
            ]
          },
          "metadata": {},
          "execution_count": 27
        }
      ]
    },
    {
      "cell_type": "code",
      "source": [
        "tmdb.vote_average.unique()"
      ],
      "metadata": {
        "colab": {
          "base_uri": "https://localhost:8080/"
        },
        "id": "HCj9gSZvbuFu",
        "outputId": "25711ab2-81df-4b55-bced-87110c71a937"
      },
      "execution_count": 28,
      "outputs": [
        {
          "output_type": "execute_result",
          "data": {
            "text/plain": [
              "array([ 7.2,  6.9,  6.3,  7.6,  6.1,  5.9,  7.4,  7.3,  5.7,  5.4,  7. ,\n",
              "        6.5,  6.4,  6.2,  7.1,  5.8,  6.6,  7.5,  5.5,  6.7,  6.8,  6. ,\n",
              "        5.1,  7.8,  5.6,  5.2,  8.2,  7.7,  5.3,  8. ,  4.8,  4.9,  7.9,\n",
              "        8.1,  4.7,  5. ,  4.2,  4.4,  4.1,  3.7,  3.6,  3. ,  3.9,  4.3,\n",
              "        4.5,  3.4,  4.6,  8.3,  3.5,  4. ,  2.3,  3.2,  0. ,  3.8,  2.9,\n",
              "        8.5,  1.9,  3.1,  3.3,  2.2,  0.5,  9.3,  8.4,  2.7, 10. ,  1. ,\n",
              "        2. ,  2.8,  9.5,  2.6,  2.4])"
            ]
          },
          "metadata": {},
          "execution_count": 28
        }
      ]
    },
    {
      "cell_type": "code",
      "source": [
        "tmdb[\"original_language\"].value_counts()"
      ],
      "metadata": {
        "colab": {
          "base_uri": "https://localhost:8080/"
        },
        "id": "PaD5GOoYdL7D",
        "outputId": "5851b30c-6f2b-4127-b037-52d020f60fda"
      },
      "execution_count": 29,
      "outputs": [
        {
          "output_type": "execute_result",
          "data": {
            "text/plain": [
              "en    4505\n",
              "fr      70\n",
              "es      32\n",
              "zh      27\n",
              "de      27\n",
              "hi      19\n",
              "ja      16\n",
              "it      14\n",
              "cn      12\n",
              "ru      11\n",
              "ko      11\n",
              "pt       9\n",
              "da       7\n",
              "sv       5\n",
              "nl       4\n",
              "fa       4\n",
              "th       3\n",
              "he       3\n",
              "ta       2\n",
              "cs       2\n",
              "ro       2\n",
              "id       2\n",
              "ar       2\n",
              "vi       1\n",
              "sl       1\n",
              "ps       1\n",
              "no       1\n",
              "ky       1\n",
              "hu       1\n",
              "pl       1\n",
              "af       1\n",
              "nb       1\n",
              "tr       1\n",
              "is       1\n",
              "xx       1\n",
              "te       1\n",
              "el       1\n",
              "Name: original_language, dtype: int64"
            ]
          },
          "metadata": {},
          "execution_count": 29
        }
      ]
    },
    {
      "cell_type": "code",
      "source": [
        "contagem_de_lingua = tmdb[\"original_language\"].value_counts().to_frame().reset_index()\n",
        "contagem_de_lingua.columns = [\"original_language\", \"total\"]"
      ],
      "metadata": {
        "id": "F4LzhmPjgUFu"
      },
      "execution_count": 30,
      "outputs": []
    },
    {
      "cell_type": "code",
      "source": [
        "contagem_de_lingua.head()"
      ],
      "metadata": {
        "colab": {
          "base_uri": "https://localhost:8080/",
          "height": 206
        },
        "id": "0C_-ncyDfiz_",
        "outputId": "58ae6c63-6a56-4313-f5bf-8666caeebdc8"
      },
      "execution_count": 31,
      "outputs": [
        {
          "output_type": "execute_result",
          "data": {
            "text/plain": [
              "  original_language  total\n",
              "0                en   4505\n",
              "1                fr     70\n",
              "2                es     32\n",
              "3                zh     27\n",
              "4                de     27"
            ],
            "text/html": [
              "\n",
              "  <div id=\"df-6e05f00e-5cb6-4b85-9398-b9e33aecf87a\" class=\"colab-df-container\">\n",
              "    <div>\n",
              "<style scoped>\n",
              "    .dataframe tbody tr th:only-of-type {\n",
              "        vertical-align: middle;\n",
              "    }\n",
              "\n",
              "    .dataframe tbody tr th {\n",
              "        vertical-align: top;\n",
              "    }\n",
              "\n",
              "    .dataframe thead th {\n",
              "        text-align: right;\n",
              "    }\n",
              "</style>\n",
              "<table border=\"1\" class=\"dataframe\">\n",
              "  <thead>\n",
              "    <tr style=\"text-align: right;\">\n",
              "      <th></th>\n",
              "      <th>original_language</th>\n",
              "      <th>total</th>\n",
              "    </tr>\n",
              "  </thead>\n",
              "  <tbody>\n",
              "    <tr>\n",
              "      <th>0</th>\n",
              "      <td>en</td>\n",
              "      <td>4505</td>\n",
              "    </tr>\n",
              "    <tr>\n",
              "      <th>1</th>\n",
              "      <td>fr</td>\n",
              "      <td>70</td>\n",
              "    </tr>\n",
              "    <tr>\n",
              "      <th>2</th>\n",
              "      <td>es</td>\n",
              "      <td>32</td>\n",
              "    </tr>\n",
              "    <tr>\n",
              "      <th>3</th>\n",
              "      <td>zh</td>\n",
              "      <td>27</td>\n",
              "    </tr>\n",
              "    <tr>\n",
              "      <th>4</th>\n",
              "      <td>de</td>\n",
              "      <td>27</td>\n",
              "    </tr>\n",
              "  </tbody>\n",
              "</table>\n",
              "</div>\n",
              "    <div class=\"colab-df-buttons\">\n",
              "\n",
              "  <div class=\"colab-df-container\">\n",
              "    <button class=\"colab-df-convert\" onclick=\"convertToInteractive('df-6e05f00e-5cb6-4b85-9398-b9e33aecf87a')\"\n",
              "            title=\"Convert this dataframe to an interactive table.\"\n",
              "            style=\"display:none;\">\n",
              "\n",
              "  <svg xmlns=\"http://www.w3.org/2000/svg\" height=\"24px\" viewBox=\"0 -960 960 960\">\n",
              "    <path d=\"M120-120v-720h720v720H120Zm60-500h600v-160H180v160Zm220 220h160v-160H400v160Zm0 220h160v-160H400v160ZM180-400h160v-160H180v160Zm440 0h160v-160H620v160ZM180-180h160v-160H180v160Zm440 0h160v-160H620v160Z\"/>\n",
              "  </svg>\n",
              "    </button>\n",
              "\n",
              "  <style>\n",
              "    .colab-df-container {\n",
              "      display:flex;\n",
              "      gap: 12px;\n",
              "    }\n",
              "\n",
              "    .colab-df-convert {\n",
              "      background-color: #E8F0FE;\n",
              "      border: none;\n",
              "      border-radius: 50%;\n",
              "      cursor: pointer;\n",
              "      display: none;\n",
              "      fill: #1967D2;\n",
              "      height: 32px;\n",
              "      padding: 0 0 0 0;\n",
              "      width: 32px;\n",
              "    }\n",
              "\n",
              "    .colab-df-convert:hover {\n",
              "      background-color: #E2EBFA;\n",
              "      box-shadow: 0px 1px 2px rgba(60, 64, 67, 0.3), 0px 1px 3px 1px rgba(60, 64, 67, 0.15);\n",
              "      fill: #174EA6;\n",
              "    }\n",
              "\n",
              "    .colab-df-buttons div {\n",
              "      margin-bottom: 4px;\n",
              "    }\n",
              "\n",
              "    [theme=dark] .colab-df-convert {\n",
              "      background-color: #3B4455;\n",
              "      fill: #D2E3FC;\n",
              "    }\n",
              "\n",
              "    [theme=dark] .colab-df-convert:hover {\n",
              "      background-color: #434B5C;\n",
              "      box-shadow: 0px 1px 3px 1px rgba(0, 0, 0, 0.15);\n",
              "      filter: drop-shadow(0px 1px 2px rgba(0, 0, 0, 0.3));\n",
              "      fill: #FFFFFF;\n",
              "    }\n",
              "  </style>\n",
              "\n",
              "    <script>\n",
              "      const buttonEl =\n",
              "        document.querySelector('#df-6e05f00e-5cb6-4b85-9398-b9e33aecf87a button.colab-df-convert');\n",
              "      buttonEl.style.display =\n",
              "        google.colab.kernel.accessAllowed ? 'block' : 'none';\n",
              "\n",
              "      async function convertToInteractive(key) {\n",
              "        const element = document.querySelector('#df-6e05f00e-5cb6-4b85-9398-b9e33aecf87a');\n",
              "        const dataTable =\n",
              "          await google.colab.kernel.invokeFunction('convertToInteractive',\n",
              "                                                    [key], {});\n",
              "        if (!dataTable) return;\n",
              "\n",
              "        const docLinkHtml = 'Like what you see? Visit the ' +\n",
              "          '<a target=\"_blank\" href=https://colab.research.google.com/notebooks/data_table.ipynb>data table notebook</a>'\n",
              "          + ' to learn more about interactive tables.';\n",
              "        element.innerHTML = '';\n",
              "        dataTable['output_type'] = 'display_data';\n",
              "        await google.colab.output.renderOutput(dataTable, element);\n",
              "        const docLink = document.createElement('div');\n",
              "        docLink.innerHTML = docLinkHtml;\n",
              "        element.appendChild(docLink);\n",
              "      }\n",
              "    </script>\n",
              "  </div>\n",
              "\n",
              "\n",
              "<div id=\"df-7d6c918e-bfdb-4a7b-8384-45321b76316b\">\n",
              "  <button class=\"colab-df-quickchart\" onclick=\"quickchart('df-7d6c918e-bfdb-4a7b-8384-45321b76316b')\"\n",
              "            title=\"Suggest charts.\"\n",
              "            style=\"display:none;\">\n",
              "\n",
              "<svg xmlns=\"http://www.w3.org/2000/svg\" height=\"24px\"viewBox=\"0 0 24 24\"\n",
              "     width=\"24px\">\n",
              "    <g>\n",
              "        <path d=\"M19 3H5c-1.1 0-2 .9-2 2v14c0 1.1.9 2 2 2h14c1.1 0 2-.9 2-2V5c0-1.1-.9-2-2-2zM9 17H7v-7h2v7zm4 0h-2V7h2v10zm4 0h-2v-4h2v4z\"/>\n",
              "    </g>\n",
              "</svg>\n",
              "  </button>\n",
              "\n",
              "<style>\n",
              "  .colab-df-quickchart {\n",
              "      --bg-color: #E8F0FE;\n",
              "      --fill-color: #1967D2;\n",
              "      --hover-bg-color: #E2EBFA;\n",
              "      --hover-fill-color: #174EA6;\n",
              "      --disabled-fill-color: #AAA;\n",
              "      --disabled-bg-color: #DDD;\n",
              "  }\n",
              "\n",
              "  [theme=dark] .colab-df-quickchart {\n",
              "      --bg-color: #3B4455;\n",
              "      --fill-color: #D2E3FC;\n",
              "      --hover-bg-color: #434B5C;\n",
              "      --hover-fill-color: #FFFFFF;\n",
              "      --disabled-bg-color: #3B4455;\n",
              "      --disabled-fill-color: #666;\n",
              "  }\n",
              "\n",
              "  .colab-df-quickchart {\n",
              "    background-color: var(--bg-color);\n",
              "    border: none;\n",
              "    border-radius: 50%;\n",
              "    cursor: pointer;\n",
              "    display: none;\n",
              "    fill: var(--fill-color);\n",
              "    height: 32px;\n",
              "    padding: 0;\n",
              "    width: 32px;\n",
              "  }\n",
              "\n",
              "  .colab-df-quickchart:hover {\n",
              "    background-color: var(--hover-bg-color);\n",
              "    box-shadow: 0 1px 2px rgba(60, 64, 67, 0.3), 0 1px 3px 1px rgba(60, 64, 67, 0.15);\n",
              "    fill: var(--button-hover-fill-color);\n",
              "  }\n",
              "\n",
              "  .colab-df-quickchart-complete:disabled,\n",
              "  .colab-df-quickchart-complete:disabled:hover {\n",
              "    background-color: var(--disabled-bg-color);\n",
              "    fill: var(--disabled-fill-color);\n",
              "    box-shadow: none;\n",
              "  }\n",
              "\n",
              "  .colab-df-spinner {\n",
              "    border: 2px solid var(--fill-color);\n",
              "    border-color: transparent;\n",
              "    border-bottom-color: var(--fill-color);\n",
              "    animation:\n",
              "      spin 1s steps(1) infinite;\n",
              "  }\n",
              "\n",
              "  @keyframes spin {\n",
              "    0% {\n",
              "      border-color: transparent;\n",
              "      border-bottom-color: var(--fill-color);\n",
              "      border-left-color: var(--fill-color);\n",
              "    }\n",
              "    20% {\n",
              "      border-color: transparent;\n",
              "      border-left-color: var(--fill-color);\n",
              "      border-top-color: var(--fill-color);\n",
              "    }\n",
              "    30% {\n",
              "      border-color: transparent;\n",
              "      border-left-color: var(--fill-color);\n",
              "      border-top-color: var(--fill-color);\n",
              "      border-right-color: var(--fill-color);\n",
              "    }\n",
              "    40% {\n",
              "      border-color: transparent;\n",
              "      border-right-color: var(--fill-color);\n",
              "      border-top-color: var(--fill-color);\n",
              "    }\n",
              "    60% {\n",
              "      border-color: transparent;\n",
              "      border-right-color: var(--fill-color);\n",
              "    }\n",
              "    80% {\n",
              "      border-color: transparent;\n",
              "      border-right-color: var(--fill-color);\n",
              "      border-bottom-color: var(--fill-color);\n",
              "    }\n",
              "    90% {\n",
              "      border-color: transparent;\n",
              "      border-bottom-color: var(--fill-color);\n",
              "    }\n",
              "  }\n",
              "</style>\n",
              "\n",
              "  <script>\n",
              "    async function quickchart(key) {\n",
              "      const quickchartButtonEl =\n",
              "        document.querySelector('#' + key + ' button');\n",
              "      quickchartButtonEl.disabled = true;  // To prevent multiple clicks.\n",
              "      quickchartButtonEl.classList.add('colab-df-spinner');\n",
              "      try {\n",
              "        const charts = await google.colab.kernel.invokeFunction(\n",
              "            'suggestCharts', [key], {});\n",
              "      } catch (error) {\n",
              "        console.error('Error during call to suggestCharts:', error);\n",
              "      }\n",
              "      quickchartButtonEl.classList.remove('colab-df-spinner');\n",
              "      quickchartButtonEl.classList.add('colab-df-quickchart-complete');\n",
              "    }\n",
              "    (() => {\n",
              "      let quickchartButtonEl =\n",
              "        document.querySelector('#df-7d6c918e-bfdb-4a7b-8384-45321b76316b button');\n",
              "      quickchartButtonEl.style.display =\n",
              "        google.colab.kernel.accessAllowed ? 'block' : 'none';\n",
              "    })();\n",
              "  </script>\n",
              "</div>\n",
              "    </div>\n",
              "  </div>\n"
            ]
          },
          "metadata": {},
          "execution_count": 31
        }
      ]
    },
    {
      "cell_type": "code",
      "source": [
        "sns.barplot(x='original_language', y = 'total', data= contagem_de_lingua)"
      ],
      "metadata": {
        "colab": {
          "base_uri": "https://localhost:8080/",
          "height": 468
        },
        "id": "Nj1aNxGDhNEp",
        "outputId": "c8687891-d422-479b-fb49-852bb6e8adf7"
      },
      "execution_count": 32,
      "outputs": [
        {
          "output_type": "execute_result",
          "data": {
            "text/plain": [
              "<Axes: xlabel='original_language', ylabel='total'>"
            ]
          },
          "metadata": {},
          "execution_count": 32
        },
        {
          "output_type": "display_data",
          "data": {
            "text/plain": [
              "<Figure size 640x480 with 1 Axes>"
            ],
            "image/png": "[encoded data removed]"
          },
          "metadata": {}
        }
      ]
    },
    {
      "cell_type": "code",
      "source": [
        "sns.catplot (x= \"original_language\", kind=\"count\", data= tmdb)"
      ],
      "metadata": {
        "colab": {
          "base_uri": "https://localhost:8080/",
          "height": 524
        },
        "id": "yxof_V5kiDkt",
        "outputId": "8a26d75d-9f36-4197-d2cc-c545c7d8e357"
      },
      "execution_count": 33,
      "outputs": [
        {
          "output_type": "execute_result",
          "data": {
            "text/plain": [
              "<seaborn.axisgrid.FacetGrid at 0x7a762a8ebb50>"
            ]
          },
          "metadata": {},
          "execution_count": 33
        },
        {
          "output_type": "display_data",
          "data": {
            "text/plain": [
              "<Figure size 500x500 with 1 Axes>"
            ],
            "image/png": "[encoded data removed]"
          },
          "metadata": {}
        }
      ]
    },
    {
      "cell_type": "code",
      "source": [
        "plt.pie(contagem_de_lingua[\"total\"], labels=contagem_de_lingua['original_language'])"
      ],
      "metadata": {
        "colab": {
          "base_uri": "https://localhost:8080/",
          "height": 1000
        },
        "id": "nbBYAuG-jXeo",
        "outputId": "88fd05ea-a6fc-45a0-a0f2-acf1109558f6"
      },
      "execution_count": 34,
      "outputs": [
        {
          "output_type": "execute_result",
          "data": {
            "text/plain": [
              "([<matplotlib.patches.Wedge at 0x7a762a6a9510>,\n",
              "  <matplotlib.patches.Wedge at 0x7a762a6a85b0>,\n",
              "  <matplotlib.patches.Wedge at 0x7a762a6a9de0>,\n",
              "  <matplotlib.patches.Wedge at 0x7a762a6aa260>,\n",
              "  <matplotlib.patches.Wedge at 0x7a762a6aa6e0>,\n",
              "  <matplotlib.patches.Wedge at 0x7a762a6aab60>,\n",
              "  <matplotlib.patches.Wedge at 0x7a762a6aafe0>,\n",
              "  <matplotlib.patches.Wedge at 0x7a762a6ab460>,\n",
              "  <matplotlib.patches.Wedge at 0x7a762a6ab8e0>,\n",
              "  <matplotlib.patches.Wedge at 0x7a762a6abe50>,\n",
              "  <matplotlib.patches.Wedge at 0x7a762a6a94e0>,\n",
              "  <matplotlib.patches.Wedge at 0x7a762a833370>,\n",
              "  <matplotlib.patches.Wedge at 0x7a762a6dc610>,\n",
              "  <matplotlib.patches.Wedge at 0x7a762a6dca90>,\n",
              "  <matplotlib.patches.Wedge at 0x7a762a6dcf10>,\n",
              "  <matplotlib.patches.Wedge at 0x7a762a6dd390>,\n",
              "  <matplotlib.patches.Wedge at 0x7a762a6dd810>,\n",
              "  <matplotlib.patches.Wedge at 0x7a762a6ddc90>,\n",
              "  <matplotlib.patches.Wedge at 0x7a762a6de110>,\n",
              "  <matplotlib.patches.Wedge at 0x7a762a6de590>,\n",
              "  <matplotlib.patches.Wedge at 0x7a762a6dea10>,\n",
              "  <matplotlib.patches.Wedge at 0x7a762a6dee90>,\n",
              "  <matplotlib.patches.Wedge at 0x7a762a6df310>,\n",
              "  <matplotlib.patches.Wedge at 0x7a762a6df790>,\n",
              "  <matplotlib.patches.Wedge at 0x7a762a6dfc10>,\n",
              "  <matplotlib.patches.Wedge at 0x7a762a7180d0>,\n",
              "  <matplotlib.patches.Wedge at 0x7a762a718550>,\n",
              "  <matplotlib.patches.Wedge at 0x7a762a7189d0>,\n",
              "  <matplotlib.patches.Wedge at 0x7a762a718e50>,\n",
              "  <matplotlib.patches.Wedge at 0x7a762a7192d0>,\n",
              "  <matplotlib.patches.Wedge at 0x7a762a719750>,\n",
              "  <matplotlib.patches.Wedge at 0x7a762a719bd0>,\n",
              "  <matplotlib.patches.Wedge at 0x7a762a71a050>,\n",
              "  <matplotlib.patches.Wedge at 0x7a762a71a4d0>,\n",
              "  <matplotlib.patches.Wedge at 0x7a762a71a950>,\n",
              "  <matplotlib.patches.Wedge at 0x7a762a71add0>,\n",
              "  <matplotlib.patches.Wedge at 0x7a762a71b250>],\n",
              " [Text(-1.0791697536499925, 0.2130554923183512, 'en'),\n",
              "  Text(1.0355355017029462, -0.3710339940124459, 'fr'),\n",
              "  Text(1.0579676486019882, -0.3011718023181785, 'es'),\n",
              "  Text(1.0687996606645356, -0.26012936274741094, 'zh'),\n",
              "  Text(1.0773191105706255, -0.22222406260195313, 'de'),\n",
              "  Text(1.0835167978583342, -0.18971386021801853, 'hi'),\n",
              "  Text(1.0875756432724297, -0.16486121484618815, 'ja'),\n",
              "  Text(1.0906010773146022, -0.14348968659882622, 'it'),\n",
              "  Text(1.092883487371409, -0.12492270822755745, 'cn'),\n",
              "  Text(1.0946390911069936, -0.10846778425161549, 'ru'),\n",
              "  Text(1.0960865535188649, -0.09270527058984593, 'ko'),\n",
              "  Text(1.0972054830031333, -0.07835896928789601, 'pt'),\n",
              "  Text(1.097965443340663, -0.06687215586282344, 'da'),\n",
              "  Text(1.0984565010300316, -0.05825217030171998, 'sv'),\n",
              "  Text(1.0987803851616647, -0.0517847968421653, 'nl'),\n",
              "  Text(1.0990363161210686, -0.04603450713357274, 'fa'),\n",
              "  Text(1.0992355702663055, -0.04100196411527794, 'th'),\n",
              "  Text(1.0993880184234357, -0.03668766750546649, 'he'),\n",
              "  Text(1.0995021239019234, -0.033091985965784415, 'ta'),\n",
              "  Text(1.099584941078101, -0.03021518416739545, 'cs'),\n",
              "  Text(1.0996602312343366, -0.027338175536150495, 'ro'),\n",
              "  Text(1.099727993855245, -0.024460979766119193, 'id'),\n",
              "  Text(1.0997882284769684, -0.02158361655264929, 'ar'),\n",
              "  Text(1.0998284639438185, -0.01942549610642471, 'vi'),\n",
              "  Text(1.0998529348820232, -0.01798670707495573, 'sl'),\n",
              "  Text(1.0998755236058106, -0.01654788726224571, 'ps'),\n",
              "  Text(1.0998962300765243, -0.01510903913059323, 'no'),\n",
              "  Text(1.0999150542587282, -0.013670165142345335, 'ky'),\n",
              "  Text(1.0999319961202083, -0.012231267759896247, 'hu'),\n",
              "  Text(1.0999470556319713, -0.01079234944567632, 'pl'),\n",
              "  Text(1.099960232768245, -0.00935341266215563, 'af'),\n",
              "  Text(1.0999715275064792, -0.007914459871831963, 'nb'),\n",
              "  Text(1.0999809398273452, -0.006475493537234394, 'tr'),\n",
              "  Text(1.0999884697147349, -0.005036516120911278, 'is'),\n",
              "  Text(1.0999941171557621, -0.0035975300854338356, 'xx'),\n",
              "  Text(1.0999978821407626, -0.0021585378933851127, 'te'),\n",
              "  Text(1.0999997646632929, -0.0007195420073586872, 'el')])"
            ]
          },
          "metadata": {},
          "execution_count": 34
        },
        {
          "output_type": "display_data",
          "data": {
            "text/plain": [
              "<Figure size 640x480 with 1 Axes>"
            ],
            "image/png": "[encoded data removed]"
          },
          "metadata": {}
        }
      ]
    },
    {
      "cell_type": "code",
      "source": [
        "total_por_lingua = tmdb['original_language'].value_counts()\n",
        "total_geral = total_por_lingua.sum()\n",
        "total_de_ingles = total_por_lingua.loc[\"en\"]\n",
        "total_do_resto = total_geral - total_de_ingles\n",
        "print( total_de_ingles, total_do_resto)"
      ],
      "metadata": {
        "id": "9dQWr4U3kbND",
        "colab": {
          "base_uri": "https://localhost:8080/"
        },
        "outputId": "0656c0ce-34a5-434e-ebf4-73443bcbf745"
      },
      "execution_count": 35,
      "outputs": [
        {
          "output_type": "stream",
          "name": "stdout",
          "text": [
            "4505 298\n"
          ]
        }
      ]
    },
    {
      "cell_type": "code",
      "source": [
        "total_do_resto"
      ],
      "metadata": {
        "colab": {
          "base_uri": "https://localhost:8080/"
        },
        "id": "h0UvLic_VQ1H",
        "outputId": "3b430d58-d8a3-473b-c93d-da135b73e7ae"
      },
      "execution_count": 36,
      "outputs": [
        {
          "output_type": "execute_result",
          "data": {
            "text/plain": [
              "298"
            ]
          },
          "metadata": {},
          "execution_count": 36
        }
      ]
    },
    {
      "cell_type": "code",
      "source": [
        "dados = {\n",
        "    'lingua' : ['ingles', 'outros'],\n",
        "    'total': [total_de_ingles, total_do_resto]}\n"
      ],
      "metadata": {
        "id": "deCAbAIoREX2"
      },
      "execution_count": 37,
      "outputs": []
    },
    {
      "cell_type": "code",
      "source": [
        "dados"
      ],
      "metadata": {
        "colab": {
          "base_uri": "https://localhost:8080/"
        },
        "id": "sD-hAabvUy6c",
        "outputId": "c1212b4e-fc19-4b43-a6a3-a8750bb03e88"
      },
      "execution_count": 38,
      "outputs": [
        {
          "output_type": "execute_result",
          "data": {
            "text/plain": [
              "{'lingua': ['ingles', 'outros'], 'total': [4505, 298]}"
            ]
          },
          "metadata": {},
          "execution_count": 38
        }
      ]
    },
    {
      "cell_type": "code",
      "source": [
        "pd.DataFrame(dados)"
      ],
      "metadata": {
        "colab": {
          "base_uri": "https://localhost:8080/",
          "height": 112
        },
        "id": "KQw5OsUjTnrM",
        "outputId": "a3e3684f-7ca4-464f-9bba-1f6064461317"
      },
      "execution_count": 39,
      "outputs": [
        {
          "output_type": "execute_result",
          "data": {
            "text/plain": [
              "   lingua  total\n",
              "0  ingles   4505\n",
              "1  outros    298"
            ],
            "text/html": [
              "\n",
              "  <div id=\"df-1c188087-56eb-47f8-a5bc-f1c877418fe0\" class=\"colab-df-container\">\n",
              "    <div>\n",
              "<style scoped>\n",
              "    .dataframe tbody tr th:only-of-type {\n",
              "        vertical-align: middle;\n",
              "    }\n",
              "\n",
              "    .dataframe tbody tr th {\n",
              "        vertical-align: top;\n",
              "    }\n",
              "\n",
              "    .dataframe thead th {\n",
              "        text-align: right;\n",
              "    }\n",
              "</style>\n",
              "<table border=\"1\" class=\"dataframe\">\n",
              "  <thead>\n",
              "    <tr style=\"text-align: right;\">\n",
              "      <th></th>\n",
              "      <th>lingua</th>\n",
              "      <th>total</th>\n",
              "    </tr>\n",
              "  </thead>\n",
              "  <tbody>\n",
              "    <tr>\n",
              "      <th>0</th>\n",
              "      <td>ingles</td>\n",
              "      <td>4505</td>\n",
              "    </tr>\n",
              "    <tr>\n",
              "      <th>1</th>\n",
              "      <td>outros</td>\n",
              "      <td>298</td>\n",
              "    </tr>\n",
              "  </tbody>\n",
              "</table>\n",
              "</div>\n",
              "    <div class=\"colab-df-buttons\">\n",
              "\n",
              "  <div class=\"colab-df-container\">\n",
              "    <button class=\"colab-df-convert\" onclick=\"convertToInteractive('df-1c188087-56eb-47f8-a5bc-f1c877418fe0')\"\n",
              "            title=\"Convert this dataframe to an interactive table.\"\n",
              "            style=\"display:none;\">\n",
              "\n",
              "  <svg xmlns=\"http://www.w3.org/2000/svg\" height=\"24px\" viewBox=\"0 -960 960 960\">\n",
              "    <path d=\"M120-120v-720h720v720H120Zm60-500h600v-160H180v160Zm220 220h160v-160H400v160Zm0 220h160v-160H400v160ZM180-400h160v-160H180v160Zm440 0h160v-160H620v160ZM180-180h160v-160H180v160Zm440 0h160v-160H620v160Z\"/>\n",
              "  </svg>\n",
              "    </button>\n",
              "\n",
              "  <style>\n",
              "    .colab-df-container {\n",
              "      display:flex;\n",
              "      gap: 12px;\n",
              "    }\n",
              "\n",
              "    .colab-df-convert {\n",
              "      background-color: #E8F0FE;\n",
              "      border: none;\n",
              "      border-radius: 50%;\n",
              "      cursor: pointer;\n",
              "      display: none;\n",
              "      fill: #1967D2;\n",
              "      height: 32px;\n",
              "      padding: 0 0 0 0;\n",
              "      width: 32px;\n",
              "    }\n",
              "\n",
              "    .colab-df-convert:hover {\n",
              "      background-color: #E2EBFA;\n",
              "      box-shadow: 0px 1px 2px rgba(60, 64, 67, 0.3), 0px 1px 3px 1px rgba(60, 64, 67, 0.15);\n",
              "      fill: #174EA6;\n",
              "    }\n",
              "\n",
              "    .colab-df-buttons div {\n",
              "      margin-bottom: 4px;\n",
              "    }\n",
              "\n",
              "    [theme=dark] .colab-df-convert {\n",
              "      background-color: #3B4455;\n",
              "      fill: #D2E3FC;\n",
              "    }\n",
              "\n",
              "    [theme=dark] .colab-df-convert:hover {\n",
              "      background-color: #434B5C;\n",
              "      box-shadow: 0px 1px 3px 1px rgba(0, 0, 0, 0.15);\n",
              "      filter: drop-shadow(0px 1px 2px rgba(0, 0, 0, 0.3));\n",
              "      fill: #FFFFFF;\n",
              "    }\n",
              "  </style>\n",
              "\n",
              "    <script>\n",
              "      const buttonEl =\n",
              "        document.querySelector('#df-1c188087-56eb-47f8-a5bc-f1c877418fe0 button.colab-df-convert');\n",
              "      buttonEl.style.display =\n",
              "        google.colab.kernel.accessAllowed ? 'block' : 'none';\n",
              "\n",
              "      async function convertToInteractive(key) {\n",
              "        const element = document.querySelector('#df-1c188087-56eb-47f8-a5bc-f1c877418fe0');\n",
              "        const dataTable =\n",
              "          await google.colab.kernel.invokeFunction('convertToInteractive',\n",
              "                                                    [key], {});\n",
              "        if (!dataTable) return;\n",
              "\n",
              "        const docLinkHtml = 'Like what you see? Visit the ' +\n",
              "          '<a target=\"_blank\" href=https://colab.research.google.com/notebooks/data_table.ipynb>data table notebook</a>'\n",
              "          + ' to learn more about interactive tables.';\n",
              "        element.innerHTML = '';\n",
              "        dataTable['output_type'] = 'display_data';\n",
              "        await google.colab.output.renderOutput(dataTable, element);\n",
              "        const docLink = document.createElement('div');\n",
              "        docLink.innerHTML = docLinkHtml;\n",
              "        element.appendChild(docLink);\n",
              "      }\n",
              "    </script>\n",
              "  </div>\n",
              "\n",
              "\n",
              "<div id=\"df-7b9763a8-8b12-4a2c-8742-2e44c8049400\">\n",
              "  <button class=\"colab-df-quickchart\" onclick=\"quickchart('df-7b9763a8-8b12-4a2c-8742-2e44c8049400')\"\n",
              "            title=\"Suggest charts.\"\n",
              "            style=\"display:none;\">\n",
              "\n",
              "<svg xmlns=\"http://www.w3.org/2000/svg\" height=\"24px\"viewBox=\"0 0 24 24\"\n",
              "     width=\"24px\">\n",
              "    <g>\n",
              "        <path d=\"M19 3H5c-1.1 0-2 .9-2 2v14c0 1.1.9 2 2 2h14c1.1 0 2-.9 2-2V5c0-1.1-.9-2-2-2zM9 17H7v-7h2v7zm4 0h-2V7h2v10zm4 0h-2v-4h2v4z\"/>\n",
              "    </g>\n",
              "</svg>\n",
              "  </button>\n",
              "\n",
              "<style>\n",
              "  .colab-df-quickchart {\n",
              "      --bg-color: #E8F0FE;\n",
              "      --fill-color: #1967D2;\n",
              "      --hover-bg-color: #E2EBFA;\n",
              "      --hover-fill-color: #174EA6;\n",
              "      --disabled-fill-color: #AAA;\n",
              "      --disabled-bg-color: #DDD;\n",
              "  }\n",
              "\n",
              "  [theme=dark] .colab-df-quickchart {\n",
              "      --bg-color: #3B4455;\n",
              "      --fill-color: #D2E3FC;\n",
              "      --hover-bg-color: #434B5C;\n",
              "      --hover-fill-color: #FFFFFF;\n",
              "      --disabled-bg-color: #3B4455;\n",
              "      --disabled-fill-color: #666;\n",
              "  }\n",
              "\n",
              "  .colab-df-quickchart {\n",
              "    background-color: var(--bg-color);\n",
              "    border: none;\n",
              "    border-radius: 50%;\n",
              "    cursor: pointer;\n",
              "    display: none;\n",
              "    fill: var(--fill-color);\n",
              "    height: 32px;\n",
              "    padding: 0;\n",
              "    width: 32px;\n",
              "  }\n",
              "\n",
              "  .colab-df-quickchart:hover {\n",
              "    background-color: var(--hover-bg-color);\n",
              "    box-shadow: 0 1px 2px rgba(60, 64, 67, 0.3), 0 1px 3px 1px rgba(60, 64, 67, 0.15);\n",
              "    fill: var(--button-hover-fill-color);\n",
              "  }\n",
              "\n",
              "  .colab-df-quickchart-complete:disabled,\n",
              "  .colab-df-quickchart-complete:disabled:hover {\n",
              "    background-color: var(--disabled-bg-color);\n",
              "    fill: var(--disabled-fill-color);\n",
              "    box-shadow: none;\n",
              "  }\n",
              "\n",
              "  .colab-df-spinner {\n",
              "    border: 2px solid var(--fill-color);\n",
              "    border-color: transparent;\n",
              "    border-bottom-color: var(--fill-color);\n",
              "    animation:\n",
              "      spin 1s steps(1) infinite;\n",
              "  }\n",
              "\n",
              "  @keyframes spin {\n",
              "    0% {\n",
              "      border-color: transparent;\n",
              "      border-bottom-color: var(--fill-color);\n",
              "      border-left-color: var(--fill-color);\n",
              "    }\n",
              "    20% {\n",
              "      border-color: transparent;\n",
              "      border-left-color: var(--fill-color);\n",
              "      border-top-color: var(--fill-color);\n",
              "    }\n",
              "    30% {\n",
              "      border-color: transparent;\n",
              "      border-left-color: var(--fill-color);\n",
              "      border-top-color: var(--fill-color);\n",
              "      border-right-color: var(--fill-color);\n",
              "    }\n",
              "    40% {\n",
              "      border-color: transparent;\n",
              "      border-right-color: var(--fill-color);\n",
              "      border-top-color: var(--fill-color);\n",
              "    }\n",
              "    60% {\n",
              "      border-color: transparent;\n",
              "      border-right-color: var(--fill-color);\n",
              "    }\n",
              "    80% {\n",
              "      border-color: transparent;\n",
              "      border-right-color: var(--fill-color);\n",
              "      border-bottom-color: var(--fill-color);\n",
              "    }\n",
              "    90% {\n",
              "      border-color: transparent;\n",
              "      border-bottom-color: var(--fill-color);\n",
              "    }\n",
              "  }\n",
              "</style>\n",
              "\n",
              "  <script>\n",
              "    async function quickchart(key) {\n",
              "      const quickchartButtonEl =\n",
              "        document.querySelector('#' + key + ' button');\n",
              "      quickchartButtonEl.disabled = true;  // To prevent multiple clicks.\n",
              "      quickchartButtonEl.classList.add('colab-df-spinner');\n",
              "      try {\n",
              "        const charts = await google.colab.kernel.invokeFunction(\n",
              "            'suggestCharts', [key], {});\n",
              "      } catch (error) {\n",
              "        console.error('Error during call to suggestCharts:', error);\n",
              "      }\n",
              "      quickchartButtonEl.classList.remove('colab-df-spinner');\n",
              "      quickchartButtonEl.classList.add('colab-df-quickchart-complete');\n",
              "    }\n",
              "    (() => {\n",
              "      let quickchartButtonEl =\n",
              "        document.querySelector('#df-7b9763a8-8b12-4a2c-8742-2e44c8049400 button');\n",
              "      quickchartButtonEl.style.display =\n",
              "        google.colab.kernel.accessAllowed ? 'block' : 'none';\n",
              "    })();\n",
              "  </script>\n",
              "</div>\n",
              "    </div>\n",
              "  </div>\n"
            ]
          },
          "metadata": {},
          "execution_count": 39
        }
      ]
    },
    {
      "cell_type": "code",
      "source": [
        "dados = pd.DataFrame(dados)"
      ],
      "metadata": {
        "id": "Kyf5U6faUNqG"
      },
      "execution_count": 40,
      "outputs": []
    },
    {
      "cell_type": "code",
      "source": [
        "sns.barplot(x=\"lingua\", y=\"total\", data = dados)"
      ],
      "metadata": {
        "colab": {
          "base_uri": "https://localhost:8080/",
          "height": 467
        },
        "id": "1kaMO9-YVxXe",
        "outputId": "b03a04b4-6e5b-4538-8ef5-ff17fb750c34"
      },
      "execution_count": 41,
      "outputs": [
        {
          "output_type": "execute_result",
          "data": {
            "text/plain": [
              "<Axes: xlabel='lingua', ylabel='total'>"
            ]
          },
          "metadata": {},
          "execution_count": 41
        },
        {
          "output_type": "display_data",
          "data": {
            "text/plain": [
              "<Figure size 640x480 with 1 Axes>"
            ],
            "image/png": "[encoded data removed]"
          },
          "metadata": {}
        }
      ]
    },
    {
      "cell_type": "code",
      "source": [
        "total_por_lingua_de_outros_filmes = tmdb.query(\"original_language != 'en'\").original_language.value_counts()\n",
        "total_por_lingua_de_outros_filmes"
      ],
      "metadata": {
        "colab": {
          "base_uri": "https://localhost:8080/"
        },
        "id": "zI8x0U_bWO-T",
        "outputId": "cd5b403a-c088-4917-a710-5973299f55e2"
      },
      "execution_count": 42,
      "outputs": [
        {
          "output_type": "execute_result",
          "data": {
            "text/plain": [
              "fr    70\n",
              "es    32\n",
              "zh    27\n",
              "de    27\n",
              "hi    19\n",
              "ja    16\n",
              "it    14\n",
              "cn    12\n",
              "ko    11\n",
              "ru    11\n",
              "pt     9\n",
              "da     7\n",
              "sv     5\n",
              "fa     4\n",
              "nl     4\n",
              "he     3\n",
              "th     3\n",
              "ro     2\n",
              "id     2\n",
              "ar     2\n",
              "cs     2\n",
              "ta     2\n",
              "tr     1\n",
              "nb     1\n",
              "af     1\n",
              "pl     1\n",
              "is     1\n",
              "hu     1\n",
              "vi     1\n",
              "ky     1\n",
              "xx     1\n",
              "te     1\n",
              "no     1\n",
              "sl     1\n",
              "ps     1\n",
              "el     1\n",
              "Name: original_language, dtype: int64"
            ]
          },
          "metadata": {},
          "execution_count": 42
        }
      ]
    },
    {
      "cell_type": "code",
      "source": [
        "filmes_sem_lingua_original_em_ingles = tmdb.query('original_language != \"en\"')"
      ],
      "metadata": {
        "id": "7LLyaKFoXSwL"
      },
      "execution_count": 43,
      "outputs": []
    },
    {
      "cell_type": "code",
      "source": [
        "sns.catplot(x=\"original_language\", kind=\"count\",\n",
        "            data = filmes_sem_lingua_original_em_ingles,\n",
        "            aspect= 2,\n",
        "            palette = 'viridis',\n",
        "            order = total_por_lingua_de_outros_filmes.index)\n"
      ],
      "metadata": {
        "colab": {
          "base_uri": "https://localhost:8080/",
          "height": 524
        },
        "id": "DBBHzpJvYV-J",
        "outputId": "61c150d5-3ea0-48ea-8744-0d973c59e681"
      },
      "execution_count": 44,
      "outputs": [
        {
          "output_type": "execute_result",
          "data": {
            "text/plain": [
              "<seaborn.axisgrid.FacetGrid at 0x7a762a99df60>"
            ]
          },
          "metadata": {},
          "execution_count": 44
        },
        {
          "output_type": "display_data",
          "data": {
            "text/plain": [
              "<Figure size 1000x500 with 1 Axes>"
            ],
            "image/png": "[encoded data removed]"
          },
          "metadata": {}
        }
      ]
    },
    {
      "cell_type": "code",
      "source": [
        "# analisar dois filmes específicos do nosso arquivo\n",
        "filmes.head(2)"
      ],
      "metadata": {
        "id": "EWO9tlQceqgC",
        "colab": {
          "base_uri": "https://localhost:8080/",
          "height": 112
        },
        "outputId": "69ebbc5e-2bb6-435e-923b-0d467c02e1a2"
      },
      "execution_count": 47,
      "outputs": [
        {
          "output_type": "execute_result",
          "data": {
            "text/plain": [
              "   filmesId            titulo                                       genero\n",
              "0         1  Toy Story (1995)  Adventure|Animation|Children|Comedy|Fantasy\n",
              "1         2    Jumanji (1995)                   Adventure|Children|Fantasy"
            ],
            "text/html": [
              "\n",
              "  <div id=\"df-53b8e259-1e89-4f85-982e-843047801b34\" class=\"colab-df-container\">\n",
              "    <div>\n",
              "<style scoped>\n",
              "    .dataframe tbody tr th:only-of-type {\n",
              "        vertical-align: middle;\n",
              "    }\n",
              "\n",
              "    .dataframe tbody tr th {\n",
              "        vertical-align: top;\n",
              "    }\n",
              "\n",
              "    .dataframe thead th {\n",
              "        text-align: right;\n",
              "    }\n",
              "</style>\n",
              "<table border=\"1\" class=\"dataframe\">\n",
              "  <thead>\n",
              "    <tr style=\"text-align: right;\">\n",
              "      <th></th>\n",
              "      <th>filmesId</th>\n",
              "      <th>titulo</th>\n",
              "      <th>genero</th>\n",
              "    </tr>\n",
              "  </thead>\n",
              "  <tbody>\n",
              "    <tr>\n",
              "      <th>0</th>\n",
              "      <td>1</td>\n",
              "      <td>Toy Story (1995)</td>\n",
              "      <td>Adventure|Animation|Children|Comedy|Fantasy</td>\n",
              "    </tr>\n",
              "    <tr>\n",
              "      <th>1</th>\n",
              "      <td>2</td>\n",
              "      <td>Jumanji (1995)</td>\n",
              "      <td>Adventure|Children|Fantasy</td>\n",
              "    </tr>\n",
              "  </tbody>\n",
              "</table>\n",
              "</div>\n",
              "    <div class=\"colab-df-buttons\">\n",
              "\n",
              "  <div class=\"colab-df-container\">\n",
              "    <button class=\"colab-df-convert\" onclick=\"convertToInteractive('df-53b8e259-1e89-4f85-982e-843047801b34')\"\n",
              "            title=\"Convert this dataframe to an interactive table.\"\n",
              "            style=\"display:none;\">\n",
              "\n",
              "  <svg xmlns=\"http://www.w3.org/2000/svg\" height=\"24px\" viewBox=\"0 -960 960 960\">\n",
              "    <path d=\"M120-120v-720h720v720H120Zm60-500h600v-160H180v160Zm220 220h160v-160H400v160Zm0 220h160v-160H400v160ZM180-400h160v-160H180v160Zm440 0h160v-160H620v160ZM180-180h160v-160H180v160Zm440 0h160v-160H620v160Z\"/>\n",
              "  </svg>\n",
              "    </button>\n",
              "\n",
              "  <style>\n",
              "    .colab-df-container {\n",
              "      display:flex;\n",
              "      gap: 12px;\n",
              "    }\n",
              "\n",
              "    .colab-df-convert {\n",
              "      background-color: #E8F0FE;\n",
              "      border: none;\n",
              "      border-radius: 50%;\n",
              "      cursor: pointer;\n",
              "      display: none;\n",
              "      fill: #1967D2;\n",
              "      height: 32px;\n",
              "      padding: 0 0 0 0;\n",
              "      width: 32px;\n",
              "    }\n",
              "\n",
              "    .colab-df-convert:hover {\n",
              "      background-color: #E2EBFA;\n",
              "      box-shadow: 0px 1px 2px rgba(60, 64, 67, 0.3), 0px 1px 3px 1px rgba(60, 64, 67, 0.15);\n",
              "      fill: #174EA6;\n",
              "    }\n",
              "\n",
              "    .colab-df-buttons div {\n",
              "      margin-bottom: 4px;\n",
              "    }\n",
              "\n",
              "    [theme=dark] .colab-df-convert {\n",
              "      background-color: #3B4455;\n",
              "      fill: #D2E3FC;\n",
              "    }\n",
              "\n",
              "    [theme=dark] .colab-df-convert:hover {\n",
              "      background-color: #434B5C;\n",
              "      box-shadow: 0px 1px 3px 1px rgba(0, 0, 0, 0.15);\n",
              "      filter: drop-shadow(0px 1px 2px rgba(0, 0, 0, 0.3));\n",
              "      fill: #FFFFFF;\n",
              "    }\n",
              "  </style>\n",
              "\n",
              "    <script>\n",
              "      const buttonEl =\n",
              "        document.querySelector('#df-53b8e259-1e89-4f85-982e-843047801b34 button.colab-df-convert');\n",
              "      buttonEl.style.display =\n",
              "        google.colab.kernel.accessAllowed ? 'block' : 'none';\n",
              "\n",
              "      async function convertToInteractive(key) {\n",
              "        const element = document.querySelector('#df-53b8e259-1e89-4f85-982e-843047801b34');\n",
              "        const dataTable =\n",
              "          await google.colab.kernel.invokeFunction('convertToInteractive',\n",
              "                                                    [key], {});\n",
              "        if (!dataTable) return;\n",
              "\n",
              "        const docLinkHtml = 'Like what you see? Visit the ' +\n",
              "          '<a target=\"_blank\" href=https://colab.research.google.com/notebooks/data_table.ipynb>data table notebook</a>'\n",
              "          + ' to learn more about interactive tables.';\n",
              "        element.innerHTML = '';\n",
              "        dataTable['output_type'] = 'display_data';\n",
              "        await google.colab.output.renderOutput(dataTable, element);\n",
              "        const docLink = document.createElement('div');\n",
              "        docLink.innerHTML = docLinkHtml;\n",
              "        element.appendChild(docLink);\n",
              "      }\n",
              "    </script>\n",
              "  </div>\n",
              "\n",
              "\n",
              "<div id=\"df-594c18b6-d02a-4f6e-ae38-c13f96bd38b7\">\n",
              "  <button class=\"colab-df-quickchart\" onclick=\"quickchart('df-594c18b6-d02a-4f6e-ae38-c13f96bd38b7')\"\n",
              "            title=\"Suggest charts.\"\n",
              "            style=\"display:none;\">\n",
              "\n",
              "<svg xmlns=\"http://www.w3.org/2000/svg\" height=\"24px\"viewBox=\"0 0 24 24\"\n",
              "     width=\"24px\">\n",
              "    <g>\n",
              "        <path d=\"M19 3H5c-1.1 0-2 .9-2 2v14c0 1.1.9 2 2 2h14c1.1 0 2-.9 2-2V5c0-1.1-.9-2-2-2zM9 17H7v-7h2v7zm4 0h-2V7h2v10zm4 0h-2v-4h2v4z\"/>\n",
              "    </g>\n",
              "</svg>\n",
              "  </button>\n",
              "\n",
              "<style>\n",
              "  .colab-df-quickchart {\n",
              "      --bg-color: #E8F0FE;\n",
              "      --fill-color: #1967D2;\n",
              "      --hover-bg-color: #E2EBFA;\n",
              "      --hover-fill-color: #174EA6;\n",
              "      --disabled-fill-color: #AAA;\n",
              "      --disabled-bg-color: #DDD;\n",
              "  }\n",
              "\n",
              "  [theme=dark] .colab-df-quickchart {\n",
              "      --bg-color: #3B4455;\n",
              "      --fill-color: #D2E3FC;\n",
              "      --hover-bg-color: #434B5C;\n",
              "      --hover-fill-color: #FFFFFF;\n",
              "      --disabled-bg-color: #3B4455;\n",
              "      --disabled-fill-color: #666;\n",
              "  }\n",
              "\n",
              "  .colab-df-quickchart {\n",
              "    background-color: var(--bg-color);\n",
              "    border: none;\n",
              "    border-radius: 50%;\n",
              "    cursor: pointer;\n",
              "    display: none;\n",
              "    fill: var(--fill-color);\n",
              "    height: 32px;\n",
              "    padding: 0;\n",
              "    width: 32px;\n",
              "  }\n",
              "\n",
              "  .colab-df-quickchart:hover {\n",
              "    background-color: var(--hover-bg-color);\n",
              "    box-shadow: 0 1px 2px rgba(60, 64, 67, 0.3), 0 1px 3px 1px rgba(60, 64, 67, 0.15);\n",
              "    fill: var(--button-hover-fill-color);\n",
              "  }\n",
              "\n",
              "  .colab-df-quickchart-complete:disabled,\n",
              "  .colab-df-quickchart-complete:disabled:hover {\n",
              "    background-color: var(--disabled-bg-color);\n",
              "    fill: var(--disabled-fill-color);\n",
              "    box-shadow: none;\n",
              "  }\n",
              "\n",
              "  .colab-df-spinner {\n",
              "    border: 2px solid var(--fill-color);\n",
              "    border-color: transparent;\n",
              "    border-bottom-color: var(--fill-color);\n",
              "    animation:\n",
              "      spin 1s steps(1) infinite;\n",
              "  }\n",
              "\n",
              "  @keyframes spin {\n",
              "    0% {\n",
              "      border-color: transparent;\n",
              "      border-bottom-color: var(--fill-color);\n",
              "      border-left-color: var(--fill-color);\n",
              "    }\n",
              "    20% {\n",
              "      border-color: transparent;\n",
              "      border-left-color: var(--fill-color);\n",
              "      border-top-color: var(--fill-color);\n",
              "    }\n",
              "    30% {\n",
              "      border-color: transparent;\n",
              "      border-left-color: var(--fill-color);\n",
              "      border-top-color: var(--fill-color);\n",
              "      border-right-color: var(--fill-color);\n",
              "    }\n",
              "    40% {\n",
              "      border-color: transparent;\n",
              "      border-right-color: var(--fill-color);\n",
              "      border-top-color: var(--fill-color);\n",
              "    }\n",
              "    60% {\n",
              "      border-color: transparent;\n",
              "      border-right-color: var(--fill-color);\n",
              "    }\n",
              "    80% {\n",
              "      border-color: transparent;\n",
              "      border-right-color: var(--fill-color);\n",
              "      border-bottom-color: var(--fill-color);\n",
              "    }\n",
              "    90% {\n",
              "      border-color: transparent;\n",
              "      border-bottom-color: var(--fill-color);\n",
              "    }\n",
              "  }\n",
              "</style>\n",
              "\n",
              "  <script>\n",
              "    async function quickchart(key) {\n",
              "      const quickchartButtonEl =\n",
              "        document.querySelector('#' + key + ' button');\n",
              "      quickchartButtonEl.disabled = true;  // To prevent multiple clicks.\n",
              "      quickchartButtonEl.classList.add('colab-df-spinner');\n",
              "      try {\n",
              "        const charts = await google.colab.kernel.invokeFunction(\n",
              "            'suggestCharts', [key], {});\n",
              "      } catch (error) {\n",
              "        console.error('Error during call to suggestCharts:', error);\n",
              "      }\n",
              "      quickchartButtonEl.classList.remove('colab-df-spinner');\n",
              "      quickchartButtonEl.classList.add('colab-df-quickchart-complete');\n",
              "    }\n",
              "    (() => {\n",
              "      let quickchartButtonEl =\n",
              "        document.querySelector('#df-594c18b6-d02a-4f6e-ae38-c13f96bd38b7 button');\n",
              "      quickchartButtonEl.style.display =\n",
              "        google.colab.kernel.accessAllowed ? 'block' : 'none';\n",
              "    })();\n",
              "  </script>\n",
              "</div>\n",
              "    </div>\n",
              "  </div>\n"
            ]
          },
          "metadata": {},
          "execution_count": 47
        }
      ]
    },
    {
      "cell_type": "code",
      "source": [
        "notas.head()"
      ],
      "metadata": {
        "colab": {
          "base_uri": "https://localhost:8080/",
          "height": 206
        },
        "id": "WxSHV8pAKBwS",
        "outputId": "cf01b06d-ff6d-46fb-8525-4d4443d844ec"
      },
      "execution_count": 51,
      "outputs": [
        {
          "output_type": "execute_result",
          "data": {
            "text/plain": [
              "   usuarioId  filmesId  nota    momento\n",
              "0          1         1   4.0  964982703\n",
              "1          1         3   4.0  964981247\n",
              "2          1         6   4.0  964982224\n",
              "3          1        47   5.0  964983815\n",
              "4          1        50   5.0  964982931"
            ],
            "text/html": [
              "\n",
              "  <div id=\"df-6a2c39e4-8200-4795-bc92-c63655c387bc\" class=\"colab-df-container\">\n",
              "    <div>\n",
              "<style scoped>\n",
              "    .dataframe tbody tr th:only-of-type {\n",
              "        vertical-align: middle;\n",
              "    }\n",
              "\n",
              "    .dataframe tbody tr th {\n",
              "        vertical-align: top;\n",
              "    }\n",
              "\n",
              "    .dataframe thead th {\n",
              "        text-align: right;\n",
              "    }\n",
              "</style>\n",
              "<table border=\"1\" class=\"dataframe\">\n",
              "  <thead>\n",
              "    <tr style=\"text-align: right;\">\n",
              "      <th></th>\n",
              "      <th>usuarioId</th>\n",
              "      <th>filmesId</th>\n",
              "      <th>nota</th>\n",
              "      <th>momento</th>\n",
              "    </tr>\n",
              "  </thead>\n",
              "  <tbody>\n",
              "    <tr>\n",
              "      <th>0</th>\n",
              "      <td>1</td>\n",
              "      <td>1</td>\n",
              "      <td>4.0</td>\n",
              "      <td>964982703</td>\n",
              "    </tr>\n",
              "    <tr>\n",
              "      <th>1</th>\n",
              "      <td>1</td>\n",
              "      <td>3</td>\n",
              "      <td>4.0</td>\n",
              "      <td>964981247</td>\n",
              "    </tr>\n",
              "    <tr>\n",
              "      <th>2</th>\n",
              "      <td>1</td>\n",
              "      <td>6</td>\n",
              "      <td>4.0</td>\n",
              "      <td>964982224</td>\n",
              "    </tr>\n",
              "    <tr>\n",
              "      <th>3</th>\n",
              "      <td>1</td>\n",
              "      <td>47</td>\n",
              "      <td>5.0</td>\n",
              "      <td>964983815</td>\n",
              "    </tr>\n",
              "    <tr>\n",
              "      <th>4</th>\n",
              "      <td>1</td>\n",
              "      <td>50</td>\n",
              "      <td>5.0</td>\n",
              "      <td>964982931</td>\n",
              "    </tr>\n",
              "  </tbody>\n",
              "</table>\n",
              "</div>\n",
              "    <div class=\"colab-df-buttons\">\n",
              "\n",
              "  <div class=\"colab-df-container\">\n",
              "    <button class=\"colab-df-convert\" onclick=\"convertToInteractive('df-6a2c39e4-8200-4795-bc92-c63655c387bc')\"\n",
              "            title=\"Convert this dataframe to an interactive table.\"\n",
              "            style=\"display:none;\">\n",
              "\n",
              "  <svg xmlns=\"http://www.w3.org/2000/svg\" height=\"24px\" viewBox=\"0 -960 960 960\">\n",
              "    <path d=\"M120-120v-720h720v720H120Zm60-500h600v-160H180v160Zm220 220h160v-160H400v160Zm0 220h160v-160H400v160ZM180-400h160v-160H180v160Zm440 0h160v-160H620v160ZM180-180h160v-160H180v160Zm440 0h160v-160H620v160Z\"/>\n",
              "  </svg>\n",
              "    </button>\n",
              "\n",
              "  <style>\n",
              "    .colab-df-container {\n",
              "      display:flex;\n",
              "      gap: 12px;\n",
              "    }\n",
              "\n",
              "    .colab-df-convert {\n",
              "      background-color: #E8F0FE;\n",
              "      border: none;\n",
              "      border-radius: 50%;\n",
              "      cursor: pointer;\n",
              "      display: none;\n",
              "      fill: #1967D2;\n",
              "      height: 32px;\n",
              "      padding: 0 0 0 0;\n",
              "      width: 32px;\n",
              "    }\n",
              "\n",
              "    .colab-df-convert:hover {\n",
              "      background-color: #E2EBFA;\n",
              "      box-shadow: 0px 1px 2px rgba(60, 64, 67, 0.3), 0px 1px 3px 1px rgba(60, 64, 67, 0.15);\n",
              "      fill: #174EA6;\n",
              "    }\n",
              "\n",
              "    .colab-df-buttons div {\n",
              "      margin-bottom: 4px;\n",
              "    }\n",
              "\n",
              "    [theme=dark] .colab-df-convert {\n",
              "      background-color: #3B4455;\n",
              "      fill: #D2E3FC;\n",
              "    }\n",
              "\n",
              "    [theme=dark] .colab-df-convert:hover {\n",
              "      background-color: #434B5C;\n",
              "      box-shadow: 0px 1px 3px 1px rgba(0, 0, 0, 0.15);\n",
              "      filter: drop-shadow(0px 1px 2px rgba(0, 0, 0, 0.3));\n",
              "      fill: #FFFFFF;\n",
              "    }\n",
              "  </style>\n",
              "\n",
              "    <script>\n",
              "      const buttonEl =\n",
              "        document.querySelector('#df-6a2c39e4-8200-4795-bc92-c63655c387bc button.colab-df-convert');\n",
              "      buttonEl.style.display =\n",
              "        google.colab.kernel.accessAllowed ? 'block' : 'none';\n",
              "\n",
              "      async function convertToInteractive(key) {\n",
              "        const element = document.querySelector('#df-6a2c39e4-8200-4795-bc92-c63655c387bc');\n",
              "        const dataTable =\n",
              "          await google.colab.kernel.invokeFunction('convertToInteractive',\n",
              "                                                    [key], {});\n",
              "        if (!dataTable) return;\n",
              "\n",
              "        const docLinkHtml = 'Like what you see? Visit the ' +\n",
              "          '<a target=\"_blank\" href=https://colab.research.google.com/notebooks/data_table.ipynb>data table notebook</a>'\n",
              "          + ' to learn more about interactive tables.';\n",
              "        element.innerHTML = '';\n",
              "        dataTable['output_type'] = 'display_data';\n",
              "        await google.colab.output.renderOutput(dataTable, element);\n",
              "        const docLink = document.createElement('div');\n",
              "        docLink.innerHTML = docLinkHtml;\n",
              "        element.appendChild(docLink);\n",
              "      }\n",
              "    </script>\n",
              "  </div>\n",
              "\n",
              "\n",
              "<div id=\"df-03c3cce9-00fa-40e6-bf68-7ef6da11dfec\">\n",
              "  <button class=\"colab-df-quickchart\" onclick=\"quickchart('df-03c3cce9-00fa-40e6-bf68-7ef6da11dfec')\"\n",
              "            title=\"Suggest charts.\"\n",
              "            style=\"display:none;\">\n",
              "\n",
              "<svg xmlns=\"http://www.w3.org/2000/svg\" height=\"24px\"viewBox=\"0 0 24 24\"\n",
              "     width=\"24px\">\n",
              "    <g>\n",
              "        <path d=\"M19 3H5c-1.1 0-2 .9-2 2v14c0 1.1.9 2 2 2h14c1.1 0 2-.9 2-2V5c0-1.1-.9-2-2-2zM9 17H7v-7h2v7zm4 0h-2V7h2v10zm4 0h-2v-4h2v4z\"/>\n",
              "    </g>\n",
              "</svg>\n",
              "  </button>\n",
              "\n",
              "<style>\n",
              "  .colab-df-quickchart {\n",
              "      --bg-color: #E8F0FE;\n",
              "      --fill-color: #1967D2;\n",
              "      --hover-bg-color: #E2EBFA;\n",
              "      --hover-fill-color: #174EA6;\n",
              "      --disabled-fill-color: #AAA;\n",
              "      --disabled-bg-color: #DDD;\n",
              "  }\n",
              "\n",
              "  [theme=dark] .colab-df-quickchart {\n",
              "      --bg-color: #3B4455;\n",
              "      --fill-color: #D2E3FC;\n",
              "      --hover-bg-color: #434B5C;\n",
              "      --hover-fill-color: #FFFFFF;\n",
              "      --disabled-bg-color: #3B4455;\n",
              "      --disabled-fill-color: #666;\n",
              "  }\n",
              "\n",
              "  .colab-df-quickchart {\n",
              "    background-color: var(--bg-color);\n",
              "    border: none;\n",
              "    border-radius: 50%;\n",
              "    cursor: pointer;\n",
              "    display: none;\n",
              "    fill: var(--fill-color);\n",
              "    height: 32px;\n",
              "    padding: 0;\n",
              "    width: 32px;\n",
              "  }\n",
              "\n",
              "  .colab-df-quickchart:hover {\n",
              "    background-color: var(--hover-bg-color);\n",
              "    box-shadow: 0 1px 2px rgba(60, 64, 67, 0.3), 0 1px 3px 1px rgba(60, 64, 67, 0.15);\n",
              "    fill: var(--button-hover-fill-color);\n",
              "  }\n",
              "\n",
              "  .colab-df-quickchart-complete:disabled,\n",
              "  .colab-df-quickchart-complete:disabled:hover {\n",
              "    background-color: var(--disabled-bg-color);\n",
              "    fill: var(--disabled-fill-color);\n",
              "    box-shadow: none;\n",
              "  }\n",
              "\n",
              "  .colab-df-spinner {\n",
              "    border: 2px solid var(--fill-color);\n",
              "    border-color: transparent;\n",
              "    border-bottom-color: var(--fill-color);\n",
              "    animation:\n",
              "      spin 1s steps(1) infinite;\n",
              "  }\n",
              "\n",
              "  @keyframes spin {\n",
              "    0% {\n",
              "      border-color: transparent;\n",
              "      border-bottom-color: var(--fill-color);\n",
              "      border-left-color: var(--fill-color);\n",
              "    }\n",
              "    20% {\n",
              "      border-color: transparent;\n",
              "      border-left-color: var(--fill-color);\n",
              "      border-top-color: var(--fill-color);\n",
              "    }\n",
              "    30% {\n",
              "      border-color: transparent;\n",
              "      border-left-color: var(--fill-color);\n",
              "      border-top-color: var(--fill-color);\n",
              "      border-right-color: var(--fill-color);\n",
              "    }\n",
              "    40% {\n",
              "      border-color: transparent;\n",
              "      border-right-color: var(--fill-color);\n",
              "      border-top-color: var(--fill-color);\n",
              "    }\n",
              "    60% {\n",
              "      border-color: transparent;\n",
              "      border-right-color: var(--fill-color);\n",
              "    }\n",
              "    80% {\n",
              "      border-color: transparent;\n",
              "      border-right-color: var(--fill-color);\n",
              "      border-bottom-color: var(--fill-color);\n",
              "    }\n",
              "    90% {\n",
              "      border-color: transparent;\n",
              "      border-bottom-color: var(--fill-color);\n",
              "    }\n",
              "  }\n",
              "</style>\n",
              "\n",
              "  <script>\n",
              "    async function quickchart(key) {\n",
              "      const quickchartButtonEl =\n",
              "        document.querySelector('#' + key + ' button');\n",
              "      quickchartButtonEl.disabled = true;  // To prevent multiple clicks.\n",
              "      quickchartButtonEl.classList.add('colab-df-spinner');\n",
              "      try {\n",
              "        const charts = await google.colab.kernel.invokeFunction(\n",
              "            'suggestCharts', [key], {});\n",
              "      } catch (error) {\n",
              "        console.error('Error during call to suggestCharts:', error);\n",
              "      }\n",
              "      quickchartButtonEl.classList.remove('colab-df-spinner');\n",
              "      quickchartButtonEl.classList.add('colab-df-quickchart-complete');\n",
              "    }\n",
              "    (() => {\n",
              "      let quickchartButtonEl =\n",
              "        document.querySelector('#df-03c3cce9-00fa-40e6-bf68-7ef6da11dfec button');\n",
              "      quickchartButtonEl.style.display =\n",
              "        google.colab.kernel.accessAllowed ? 'block' : 'none';\n",
              "    })();\n",
              "  </script>\n",
              "</div>\n",
              "    </div>\n",
              "  </div>\n"
            ]
          },
          "metadata": {},
          "execution_count": 51
        }
      ]
    },
    {
      "cell_type": "code",
      "source": [
        "notas_do_toy_story = notas.query(\"filmesId==1\")\n",
        "notas_do_jumanji = notas.query(\"filmesId==2\")\n",
        "print(len(notas_do_toy_story), len(notas_do_jumanji))"
      ],
      "metadata": {
        "colab": {
          "base_uri": "https://localhost:8080/"
        },
        "id": "dZi_16dOKzEh",
        "outputId": "090c0480-253d-44b1-e50b-54bf1ab38c54"
      },
      "execution_count": 59,
      "outputs": [
        {
          "output_type": "stream",
          "name": "stdout",
          "text": [
            "215 110\n"
          ]
        }
      ]
    },
    {
      "cell_type": "code",
      "source": [
        "# média das notas de ambos os filmes\n",
        "print(\"Nota média do Toy Story %.2f\" % notas_do_toy_story.nota.mean())\n",
        "print(\"Nota média do Jumanji %.2f\" % notas_do_jumanji.nota.mean())"
      ],
      "metadata": {
        "colab": {
          "base_uri": "https://localhost:8080/"
        },
        "id": "2G4K8zHXLZU7",
        "outputId": "f7eac36b-911e-4297-f7b3-846182bc7718"
      },
      "execution_count": 65,
      "outputs": [
        {
          "output_type": "stream",
          "name": "stdout",
          "text": [
            "Nota média do Toy Story 3.92\n",
            "Nota média do Jumanji 3.43\n"
          ]
        }
      ]
    },
    {
      "cell_type": "code",
      "source": [
        "# médiana das notas de ambos os filmes\n",
        "print(\"Mediana do Toy Story %.2f\" % notas_do_toy_story.nota.median())\n",
        "print(\"Mediana do Jumanji %.2f\" % notas_do_jumanji.nota.median())"
      ],
      "metadata": {
        "colab": {
          "base_uri": "https://localhost:8080/"
        },
        "id": "gYVdWL6gL9V0",
        "outputId": "2eed4592-b98e-455b-a2d0-e0b983b4a4a9"
      },
      "execution_count": 66,
      "outputs": [
        {
          "output_type": "stream",
          "name": "stdout",
          "text": [
            "Mediana do Toy Story 4.00\n",
            "Mediana do Jumanji 3.50\n"
          ]
        }
      ]
    },
    {
      "cell_type": "code",
      "source": [
        "# importaremos o Numpy e chamaremos a função array() para criarmos nosso conjunto\n",
        "import numpy as np\n",
        "\n",
        "np.array([2.5] * 10)"
      ],
      "metadata": {
        "colab": {
          "base_uri": "https://localhost:8080/"
        },
        "id": "42EHxbxvMIoy",
        "outputId": "aa551017-f4fe-4a8a-942b-4872ea0c8170"
      },
      "execution_count": 67,
      "outputs": [
        {
          "output_type": "execute_result",
          "data": {
            "text/plain": [
              "array([2.5, 2.5, 2.5, 2.5, 2.5, 2.5, 2.5, 2.5, 2.5, 2.5])"
            ]
          },
          "metadata": {},
          "execution_count": 67
        }
      ]
    },
    {
      "cell_type": "code",
      "source": [
        "import numpy as np\n",
        "\n",
        "np.array([2.5] * 10).mean()"
      ],
      "metadata": {
        "colab": {
          "base_uri": "https://localhost:8080/"
        },
        "id": "qPk1hRxTMOki",
        "outputId": "ea818b69-55d4-401e-e3fc-283faa51bbc5"
      },
      "execution_count": 63,
      "outputs": [
        {
          "output_type": "execute_result",
          "data": {
            "text/plain": [
              "2.5"
            ]
          },
          "metadata": {},
          "execution_count": 63
        }
      ]
    },
    {
      "cell_type": "code",
      "source": [
        "filme1 = np.append(np.array([2.5] * 10), np.array([3.5] * 10))"
      ],
      "metadata": {
        "id": "UgoqowRaMRZM"
      },
      "execution_count": 64,
      "outputs": []
    },
    {
      "cell_type": "code",
      "source": [
        "filme1 = np.append(np.array([2.5] * 10), np.array([3.5] * 10))\n",
        "\n",
        "filme2 = np.append(np.array([5] * 10), np.array([1] * 10))"
      ],
      "metadata": {
        "id": "LPthnzPfMU2l"
      },
      "execution_count": 68,
      "outputs": []
    },
    {
      "cell_type": "code",
      "source": [
        "#  imprimindo as médias desses dois filmes\n",
        "print(filme1.mean(), filme2.mean())"
      ],
      "metadata": {
        "colab": {
          "base_uri": "https://localhost:8080/"
        },
        "id": "UiTzjNBoM9Rs",
        "outputId": "d5d29e37-9d54-4027-d602-0b506574318e"
      },
      "execution_count": 70,
      "outputs": [
        {
          "output_type": "stream",
          "name": "stdout",
          "text": [
            "3.0 3.0\n"
          ]
        }
      ]
    },
    {
      "cell_type": "code",
      "source": [
        "# imprimindo as médianas desses dois filmes\n",
        "print(np.median(filme1), np.median(filme2))\n"
      ],
      "metadata": {
        "colab": {
          "base_uri": "https://localhost:8080/"
        },
        "id": "ixmesYGtNES5",
        "outputId": "a9bc63e0-1cc6-475c-9097-524f4e7ca9fd"
      },
      "execution_count": 71,
      "outputs": [
        {
          "output_type": "stream",
          "name": "stdout",
          "text": [
            "3.0 3.0\n"
          ]
        }
      ]
    },
    {
      "cell_type": "code",
      "source": [
        "#  histograma do próprio Matplotlib\n",
        "plt.hist(filme1)\n",
        "plt.hist(filme2)"
      ],
      "metadata": {
        "colab": {
          "base_uri": "https://localhost:8080/",
          "height": 484
        },
        "id": "gCeeUwlXNQ1s",
        "outputId": "b599591c-eebf-47bf-ef15-996a926dccfa"
      },
      "execution_count": 74,
      "outputs": [
        {
          "output_type": "execute_result",
          "data": {
            "text/plain": [
              "(array([10.,  0.,  0.,  0.,  0.,  0.,  0.,  0.,  0., 10.]),\n",
              " array([1. , 1.4, 1.8, 2.2, 2.6, 3. , 3.4, 3.8, 4.2, 4.6, 5. ]),\n",
              " <BarContainer object of 10 artists>)"
            ]
          },
          "metadata": {},
          "execution_count": 74
        },
        {
          "output_type": "display_data",
          "data": {
            "text/plain": [
              "<Figure size 640x480 with 1 Axes>"
            ],
            "image/png": "[encoded data removed]"
          },
          "metadata": {}
        }
      ]
    },
    {
      "cell_type": "code",
      "source": [
        "plt.boxplot([filme1,filme2])"
      ],
      "metadata": {
        "colab": {
          "base_uri": "https://localhost:8080/",
          "height": 702
        },
        "id": "-Bhr8HCwNUYJ",
        "outputId": "5576c7a0-edba-4771-d317-980e48004638"
      },
      "execution_count": 75,
      "outputs": [
        {
          "output_type": "execute_result",
          "data": {
            "text/plain": [
              "{'whiskers': [<matplotlib.lines.Line2D at 0x7a7622e7ff40>,\n",
              "  <matplotlib.lines.Line2D at 0x7a7622eb0220>,\n",
              "  <matplotlib.lines.Line2D at 0x7a7622eb11e0>,\n",
              "  <matplotlib.lines.Line2D at 0x7a7622eb1480>],\n",
              " 'caps': [<matplotlib.lines.Line2D at 0x7a7622eb04c0>,\n",
              "  <matplotlib.lines.Line2D at 0x7a7622eb0760>,\n",
              "  <matplotlib.lines.Line2D at 0x7a7622eb1720>,\n",
              "  <matplotlib.lines.Line2D at 0x7a7622eb19c0>],\n",
              " 'boxes': [<matplotlib.lines.Line2D at 0x7a7622e7fca0>,\n",
              "  <matplotlib.lines.Line2D at 0x7a7622eb0f40>],\n",
              " 'medians': [<matplotlib.lines.Line2D at 0x7a7622eb0a00>,\n",
              "  <matplotlib.lines.Line2D at 0x7a7622eb1c60>],\n",
              " 'fliers': [<matplotlib.lines.Line2D at 0x7a7622eb0ca0>,\n",
              "  <matplotlib.lines.Line2D at 0x7a7622eb1f00>],\n",
              " 'means': []}"
            ]
          },
          "metadata": {},
          "execution_count": 75
        },
        {
          "output_type": "display_data",
          "data": {
            "text/plain": [
              "<Figure size 640x480 with 1 Axes>"
            ],
            "image/png": "[encoded data removed]"
          },
          "metadata": {}
        }
      ]
    },
    {
      "cell_type": "code",
      "source": [
        "plt.boxplot([notas_do_toy_story.nota, notas_do_jumanji.nota])"
      ],
      "metadata": {
        "colab": {
          "base_uri": "https://localhost:8080/",
          "height": 702
        },
        "id": "burMhcyPNgD6",
        "outputId": "28c21c82-41d1-47bb-fbc0-007cd06a9d95"
      },
      "execution_count": 76,
      "outputs": [
        {
          "output_type": "execute_result",
          "data": {
            "text/plain": [
              "{'whiskers': [<matplotlib.lines.Line2D at 0x7a7622d29fc0>,\n",
              "  <matplotlib.lines.Line2D at 0x7a7622d2a260>,\n",
              "  <matplotlib.lines.Line2D at 0x7a7622d2b220>,\n",
              "  <matplotlib.lines.Line2D at 0x7a7622d2b4c0>],\n",
              " 'caps': [<matplotlib.lines.Line2D at 0x7a7622d2a500>,\n",
              "  <matplotlib.lines.Line2D at 0x7a7622d2a7a0>,\n",
              "  <matplotlib.lines.Line2D at 0x7a7622d2b760>,\n",
              "  <matplotlib.lines.Line2D at 0x7a7622d2ba00>],\n",
              " 'boxes': [<matplotlib.lines.Line2D at 0x7a7622d29d20>,\n",
              "  <matplotlib.lines.Line2D at 0x7a7622d2af80>],\n",
              " 'medians': [<matplotlib.lines.Line2D at 0x7a7622d2aa40>,\n",
              "  <matplotlib.lines.Line2D at 0x7a7622d2bca0>],\n",
              " 'fliers': [<matplotlib.lines.Line2D at 0x7a7622d2ace0>,\n",
              "  <matplotlib.lines.Line2D at 0x7a7622d2bf40>],\n",
              " 'means': []}"
            ]
          },
          "metadata": {},
          "execution_count": 76
        },
        {
          "output_type": "display_data",
          "data": {
            "text/plain": [
              "<Figure size 640x480 with 1 Axes>"
            ],
            "image/png": "[encoded data removed]"
          },
          "metadata": {}
        }
      ]
    },
    {
      "cell_type": "code",
      "source": [
        "print(\"Desvio padrão do Jumanji %.2f\" % notas_do_jumanji.nota.std(), \"Desvio padrão do Toy Story %.2f\" % notas_do_toy_story.nota.std())"
      ],
      "metadata": {
        "colab": {
          "base_uri": "https://localhost:8080/"
        },
        "id": "Of0_3GB9OCfJ",
        "outputId": "63f01388-1126-42ba-9420-e662d367b6aa"
      },
      "execution_count": 80,
      "outputs": [
        {
          "output_type": "stream",
          "name": "stdout",
          "text": [
            "Desvio padrão do Jumanji 0.88 Desvio padrão do Toy Story 0.83\n"
          ]
        }
      ]
    },
    {
      "cell_type": "code",
      "source": [
        "print(np.mean(filme1), np.mean(filme2))\n",
        "print(np.std(filme1), np.std(filme2))\n",
        "print(np.median(filme1), np.median(filme2))"
      ],
      "metadata": {
        "colab": {
          "base_uri": "https://localhost:8080/"
        },
        "id": "9_svixztOMOb",
        "outputId": "0df96c5d-93d8-4c75-8bad-e61d501878ce"
      },
      "execution_count": 81,
      "outputs": [
        {
          "output_type": "stream",
          "name": "stdout",
          "text": [
            "3.0 3.0\n",
            "0.5 2.0\n",
            "3.0 3.0\n"
          ]
        }
      ]
    },
    {
      "cell_type": "code",
      "source": [
        "plt.hist(filme1)\n",
        "plt.hist(filme2)\n",
        "\n",
        "plt.boxplot([filme1, filme2])\n"
      ],
      "metadata": {
        "colab": {
          "base_uri": "https://localhost:8080/",
          "height": 702
        },
        "id": "ryoSWbUDOPhE",
        "outputId": "a3d09044-54e1-4b2d-ab5e-a067b56b82f9"
      },
      "execution_count": 82,
      "outputs": [
        {
          "output_type": "execute_result",
          "data": {
            "text/plain": [
              "{'whiskers': [<matplotlib.lines.Line2D at 0x7a7622ddda80>,\n",
              "  <matplotlib.lines.Line2D at 0x7a7622dddd20>,\n",
              "  <matplotlib.lines.Line2D at 0x7a7622ddece0>,\n",
              "  <matplotlib.lines.Line2D at 0x7a7622ddef80>],\n",
              " 'caps': [<matplotlib.lines.Line2D at 0x7a7622dddfc0>,\n",
              "  <matplotlib.lines.Line2D at 0x7a7622dde260>,\n",
              "  <matplotlib.lines.Line2D at 0x7a7622ddf220>,\n",
              "  <matplotlib.lines.Line2D at 0x7a7622ddf4c0>],\n",
              " 'boxes': [<matplotlib.lines.Line2D at 0x7a7622ddd720>,\n",
              "  <matplotlib.lines.Line2D at 0x7a7622ddea40>],\n",
              " 'medians': [<matplotlib.lines.Line2D at 0x7a7622dde500>,\n",
              "  <matplotlib.lines.Line2D at 0x7a7622ddf760>],\n",
              " 'fliers': [<matplotlib.lines.Line2D at 0x7a7622dde7a0>,\n",
              "  <matplotlib.lines.Line2D at 0x7a7622ddfa00>],\n",
              " 'means': []}"
            ]
          },
          "metadata": {},
          "execution_count": 82
        },
        {
          "output_type": "display_data",
          "data": {
            "text/plain": [
              "<Figure size 640x480 with 1 Axes>"
            ],
            "image/png": "[encoded data removed]"
          },
          "metadata": {}
        }
      ]
    },
    {
      "cell_type": "markdown",
      "source": [
        "![Capturar1.JPG](data:image/jpeg;base64,/9j/4AAQSkZJRgABAQEAkACQAAD/4RDaRXhpZgAATU0AKgAAAAgABAE7AAIAAAAFAAAISodpAAQAAAABAAAIUJydAAEAAAAKAAAQyOocAAcAAAgMAAAAPgAAAAAc6gAAAAgAAAAAAAAAAAAAAAAAAAAAAAAAAAAAAAAAAAAAAAAAAAAAAAAAAAAAAAAAAAAAAAAAAAAAAAAAAAAAAAAAAAAAAAAAAAAAAAAAAAAAAAAAAAAAAAAAAAAAAAAAAAAAAAAAAAAAAAAAAAAAAAAAAAAAAAAAAAAAAAAAAAAAAAAAAAAAAAAAAAAAAAAAAAAAAAAAAAAAAAAAAAAAAAAAAAAAAAAAAAAAAAAAAAAAAAAAAAAAAAAAAAAAAAAAAAAAAAAAAAAAAAAAAAAAAAAAAAAAAAAAAAAAAAAAAAAAAAAAAAAAAAAAAAAAAAAAAAAAAAAAAAAAAAAAAAAAAAAAAAAAAAAAAAAAAAAAAAAAAAAAAAAAAAAAAAAAAAAAAAAAAAAAAAAAAAAAAAAAAAAAAAAAAAAAAAAAAAAAAAAAAAAAAAAAAAAAAAAAAAAAAAAAAAAAAAAAAAAAAAAAAAAAAAAAAAAAAAAAAAAAAAAAAAAAAAAAAAAAAAAAAAAAAAAAAAAAAAAAAAAAAAAAAAAAAAAAAAAAAAAAAAAAAAAAAAAAAAAAAAAAAAAAAAAAAAAAAAAAAAAAAAAAAAAAAAAAAAAAAAAAAAAAAAAAAAAAAAAAAAAAAAAAAAAAAAAAAAAAAAAAAAAAAAAAAAAAAAAAAAAAAAAAAAAAAAAAAAAAAAAAAAAAAAAAAAAAAAAAAAAAAAAAAAAAAAAAAAAAAAAAAAAAAAAAAAAAAAAAAAAAAAAAAAAAAAAAAAAAAAAAAAAAAAAAAAAAAAAAAAAAAAAAAAAAAAAAAAAAAAAAAAAAAAAAAAAAAAAAAAAAAAAAAAAAAAAAAAAAAAAAAAAAAAAAAAAAAAAAAAAAAAAAAAAAAAAAAAAAAAAAAAAAAAAAAAAAAAAAAAAAAAAAAAAAAAAAAAAAAAAAAAAAAAAAAAAAAAAAAAAAAAAAAAAAAAAAAAAAAAAAAAAAAAAAAAAAAAAAAAAAAAAAAAAAAAAAAAAAAAAAAAAAAAAAAAAAAAAAAAAAAAAAAAAAAAAAAAAAAAAAAAAAAAAAAAAAAAAAAAAAAAAAAAAAAAAAAAAAAAAAAAAAAAAAAAAAAAAAAAAAAAAAAAAAAAAAAAAAAAAAAAAAAAAAAAAAAAAAAAAAAAAAAAAAAAAAAAAAAAAAAAAAAAAAAAAAAAAAAAAAAAAAAAAAAAAAAAAAAAAAAAAAAAAAAAAAAAAAAAAAAAAAAAAAAAAAAAAAAAAAAAAAAAAAAAAAAAAAAAAAAAAAAAAAAAAAAAAAAAAAAAAAAAAAAAAAAAAAAAAAAAAAAAAAAAAAAAAAAAAAAAAAAAAAAAAAAAAAAAAAAAAAAAAAAAAAAAAAAAAAAAAAAAAAAAAAAAAAAAAAAAAAAAAAAAAAAAAAAAAAAAAAAAAAAAAAAAAAAAAAAAAAAAAAAAAAAAAAAAAAAAAAAAAAAAAAAAAAAAAAAAAAAAAAAAAAAAAAAAAAAAAAAAAAAAAAAAAAAAAAAAAAAAAAAAAAAAAAAAAAAAAAAAAAAAAAAAAAAAAAAAAAAAAAAAAAAAAAAAAAAAAAAAAAAAAAAAAAAAAAAAAAAAAAAAAAAAAAAAAAAAAAAAAAAAAAAAAAAAAAAAAAAAAAAAAAAAAAAAAAAAAAAAAAAAAAAAAAAAAAAAAAAAAAAAAAAAAAAAAAAAAAAAAAAAAAAAAAAAAAAAAAAAAAAAAAAAAAAAAAAAAAAAAAAAAAAAAAAAAAAAAAAAAAAAAAAAAAAAAAAAAAAAAAAAAAAAAAAAAAAAAAAAAAAAAAAAAAAAAAAAAAAAAAAAAAAAAAAAAAAAAAAAAAAAAAAAAAAAAAAAAAAAAAAAAAAAAAAAAAAAAAAAAAAAAAAAAAAAAAAAAAAAAAAAAAAAAAAAAAAAAAAAAAAAAAAAAAAAAAAAAAAAAAAAAAAAAAAAAAAAAAAAAAAAAAAAAAAAAAAAAAAAAAAAAAAAAAAAAAAAAAAAAAAAAAAAAAAAAAAAAAAAAAAAAAAAAAAAAAAAAAAAAAAAAAAAAAAAAAAAAAAAAAAAAAAAAAAAAAAAAAAAAAAAAAAAAAAAAAAAAAAAAAAAAAAAAAAAAAAAAAAAAAAAAAAAAAAAAAAAAAAAAAAAAAAAAAAAAAAAAAAAAAAAAAAAAAAAAAAAAAAAAAAAAAAAAAAAAAAAAAAAAAAAAAAAAAAAAAAAAAAAAAAAAAAAAAAAAAAAAAAAAAAAAAAAAAAAAAAAAAAAAAAAAAAAAAAAAAAAAAAAAAAAAAAAAAAAAAAAAAAAAAAAAAAAAAAAAAAAAAAAAAAAAAAAAAAAAAAAAAAAAAAAAAAAAAAAAAAAAAAAAAAAAAAAAAAAAAAAAAAAAAAAAAAAAAAAAAAAAAAAAAAAAAAAAAAAAAAAAAAAAAAAAAAAAAAAAAAAAAAAAAAAAAAAAAAAAAAAAAAAAAAAAAAAAAAAAAAAAAAAAAAAAAAAAAAAAAAAAAAAAAAAAAAAAAAAAAAAAAAAAAAAAAAAAAAAAAAAAAAAAAAAAAAAAAAAAAAAAAAAAAAAAAAAAAAAAAAAAAAAAAAAAAAAAAAAAAAAAAAAAAAAAAAAAAAAAAAAAAAAAAAAAAAAAAAAAAAAAAAAAAAAAAAAAAAAAAAAAAAAAAAAAAAAAAAAAAAAAAAAAAAAAAAAAAAAAAAAAAAAAAAAAAAAAAAAAAAAAAAAAAAAAAAAAAAAAAAAAAAAAAAAAAAAAAAHdpbGQAAAAFkAMAAgAAABQAABCekAQAAgAAABQAABCykpEAAgAAAAM4MgAAkpIAAgAAAAM4MgAA6hwABwAACAwAAAiSAAAAABzqAAAACAAAAAAAAAAAAAAAAAAAAAAAAAAAAAAAAAAAAAAAAAAAAAAAAAAAAAAAAAAAAAAAAAAAAAAAAAAAAAAAAAAAAAAAAAAAAAAAAAAAAAAAAAAAAAAAAAAAAAAAAAAAAAAAAAAAAAAAAAAAAAAAAAAAAAAAAAAAAAAAAAAAAAAAAAAAAAAAAAAAAAAAAAAAAAAAAAAAAAAAAAAAAAAAAAAAAAAAAAAAAAAAAAAAAAAAAAAAAAAAAAAAAAAAAAAAAAAAAAAAAAAAAAAAAAAAAAAAAAAAAAAAAAAAAAAAAAAAAAAAAAAAAAAAAAAAAAAAAAAAAAAAAAAAAAAAAAAAAAAAAAAAAAAAAAAAAAAAAAAAAAAAAAAAAAAAAAAAAAAAAAAAAAAAAAAAAAAAAAAAAAAAAAAAAAAAAAAAAAAAAAAAAAAAAAAAAAAAAAAAAAAAAAAAAAAAAAAAAAAAAAAAAAAAAAAAAAAAAAAAAAAAAAAAAAAAAAAAAAAAAAAAAAAAAAAAAAAAAAAAAAAAAAAAAAAAAAAAAAAAAAAAAAAAAAAAAAAAAAAAAAAAAAAAAAAAAAAAAAAAAAAAAAAAAAAAAAAAAAAAAAAAAAAAAAAAAAAAAAAAAAAAAAAAAAAAAAAAAAAAAAAAAAAAAAAAAAAAAAAAAAAAAAAAAAAAAAAAAAAAAAAAAAAAAAAAAAAAAAAAAAAAAAAAAAAAAAAAAAAAAAAAAAAAAAAAAAAAAAAAAAAAAAAAAAAAAAAAAAAAAAAAAAAAAAAAAAAAAAAAAAAAAAAAAAAAAAAAAAAAAAAAAAAAAAAAAAAAAAAAAAAAAAAAAAAAAAAAAAAAAAAAAAAAAAAAAAAAAAAAAAAAAAAAAAAAAAAAAAAAAAAAAAAAAAAAAAAAAAAAAAAAAAAAAAAAAAAAAAAAAAAAAAAAAAAAAAAAAAAAAAAAAAAAAAAAAAAAAAAAAAAAAAAAAAAAAAAAAAAAAAAAAAAAAAAAAAAAAAAAAAAAAAAAAAAAAAAAAAAAAAAAAAAAAAAAAAAAAAAAAAAAAAAAAAAAAAAAAAAAAAAAAAAAAAAAAAAAAAAAAAAAAAAAAAAAAAAAAAAAAAAAAAAAAAAAAAAAAAAAAAAAAAAAAAAAAAAAAAAAAAAAAAAAAAAAAAAAAAAAAAAAAAAAAAAAAAAAAAAAAAAAAAAAAAAAAAAAAAAAAAAAAAAAAAAAAAAAAAAAAAAAAAAAAAAAAAAAAAAAAAAAAAAAAAAAAAAAAAAAAAAAAAAAAAAAAAAAAAAAAAAAAAAAAAAAAAAAAAAAAAAAAAAAAAAAAAAAAAAAAAAAAAAAAAAAAAAAAAAAAAAAAAAAAAAAAAAAAAAAAAAAAAAAAAAAAAAAAAAAAAAAAAAAAAAAAAAAAAAAAAAAAAAAAAAAAAAAAAAAAAAAAAAAAAAAAAAAAAAAAAAAAAAAAAAAAAAAAAAAAAAAAAAAAAAAAAAAAAAAAAAAAAAAAAAAAAAAAAAAAAAAAAAAAAAAAAAAAAAAAAAAAAAAAAAAAAAAAAAAAAAAAAAAAAAAAAAAAAAAAAAAAAAAAAAAAAAAAAAAAAAAAAAAAAAAAAAAAAAAAAAAAAAAAAAAAAAAAAAAAAAAAAAAAAAAAAAAAAAAAAAAAAAAAAAAAAAAAAAAAAAAAAAAAAAAAAAAAAAAAAAAAAAAAAAAAAAAAAAAAAAAAAAAAAAAAAAAAAAAAAAAAAAAAAAAAAAAAAAAAAAAAAAAAAAAAAAAAAAAAAAAAAAAAAAAAAAAAAAAAAAAAAAAAAAAAAAAAAAAAAAAAAAAAAAAAAAAAAAAAAAAAAAAAAAAAAAAAAAAAAAAAAAAAAAAAAAAAAAAAAAAAAAAAAAAAAAAAAAAAAAAAAAAAAAAAAAAAAAAAAAAAAAAAAAAAAAAAAAAAAAAAAAAAAAAAAAAAAAAAAAAAAAAAAAAAAAAAAAAAAAAAAAAAAAAAAAAAAAAAAAAAAAAAAAAAAAAAAAAAAAAAAAAAAAAAAAAAAAAAAAAAAAAAAAAAAAAAAAAAAAAAAAAAAAAAAAAAAAAAAAAAAAAAAAAAAAAAAAAAAAAAAAAAAAAAAAAAAAAAAAAAAAAAAAAAAAAAAAAAAAAAAAAAAAAAAAAAAAAAAAAAAAAAAAAAAAAAAAAAAAAAAAAAAAAAAAAAAAAAAAAAAAAAAAAAAAAAAAAAAAAAAAAAAAAAAAAAAAAAAAAAAAAAAAAAAAAAAAAAAAAAAAAAAAAAAAAAAAAAAAAAAAAAAAAAAAAAAAAAAAAAAAAAAAAAAAAAAAAAAAAAAAAAAAAAAAAAAAAAAAAAAAAAAAAAAAAAAAAAAAAAAAAAAAAAAAAAAAAAAAAAAAAAAAAAAAAAAAAAAAAAAAAAAAAAAAAAAAAAAAAAAAAAAAAAAAAAAAAAAAAAAAAAAAAAAAAAAAAAAAAAAAAAAAAAAAAAAAAAAAAAAAAAAAAAAAAAAAAAAAAAAAAAAAAAAAAAAAAAAAAAAAAAAAAAAAAAAAAAAAAAAAAAAAAAAAAAAAAAAAAAAAAAAAAAAAAAAAAAAAAAAAAAAAAAAAAAAAAAAAAAAAAAAAAAAAAAAAAAAAAAAAAAAAAAAAAAAAAAAAAAAAAAAAAAAAAAAAAAAAAAAAAAAAAAAAAAAAAAAAAAAAAAAAAAAAAAAAAAAAAAAAAAAAAAAAAAAAAAAAAAAAAAAAAAAAAAAAAAAAAAAAAAAAAAAAAAAAAMjAyMzowOTowNSAxODo0Mzo0MwAyMDIzOjA5OjA1IDE4OjQzOjQzAAAAdwBpAGwAZAAAAP/hCxdodHRwOi8vbnMuYWRvYmUuY29tL3hhcC8xLjAvADw/eHBhY2tldCBiZWdpbj0n77u/JyBpZD0nVzVNME1wQ2VoaUh6cmVTek5UY3prYzlkJz8+DQo8eDp4bXBtZXRhIHhtbG5zOng9ImFkb2JlOm5zOm1ldGEvIj48cmRmOlJERiB4bWxuczpyZGY9Imh0dHA6Ly93d3cudzMub3JnLzE5OTkvMDIvMjItcmRmLXN5bnRheC1ucyMiPjxyZGY6RGVzY3JpcHRpb24gcmRmOmFib3V0PSJ1dWlkOmZhZjViZGQ1LWJhM2QtMTFkYS1hZDMxLWQzM2Q3NTE4MmYxYiIgeG1sbnM6ZGM9Imh0dHA6Ly9wdXJsLm9yZy9kYy9lbGVtZW50cy8xLjEvIi8+PHJkZjpEZXNjcmlwdGlvbiByZGY6YWJvdXQ9InV1aWQ6ZmFmNWJkZDUtYmEzZC0xMWRhLWFkMzEtZDMzZDc1MTgyZjFiIiB4bWxuczp4bXA9Imh0dHA6Ly9ucy5hZG9iZS5jb20veGFwLzEuMC8iPjx4bXA6Q3JlYXRlRGF0ZT4yMDIzLTA5LTA1VDE4OjQzOjQzLjgxOTwveG1wOkNyZWF0ZURhdGU+PC9yZGY6RGVzY3JpcHRpb24+PHJkZjpEZXNjcmlwdGlvbiByZGY6YWJvdXQ9InV1aWQ6ZmFmNWJkZDUtYmEzZC0xMWRhLWFkMzEtZDMzZDc1MTgyZjFiIiB4bWxuczpkYz0iaHR0cDovL3B1cmwub3JnL2RjL2VsZW1lbnRzLzEuMS8iPjxkYzpjcmVhdG9yPjxyZGY6U2VxIHhtbG5zOnJkZj0iaHR0cDovL3d3dy53My5vcmcvMTk5OS8wMi8yMi1yZGYtc3ludGF4LW5zIyI+PHJkZjpsaT53aWxkPC9yZGY6bGk+PC9yZGY6U2VxPg0KCQkJPC9kYzpjcmVhdG9yPjwvcmRmOkRlc2NyaXB0aW9uPjwvcmRmOlJERj48L3g6eG1wbWV0YT4NCiAgICAgICAgICAgICAgICAgICAgICAgICAgICAgICAgICAgICAgICAgICAgICAgICAgICAgICAgICAgICAgICAgICAgICAgICAgICAgICAgICAgICAgICAgICAgICAgICAgICAKICAgICAgICAgICAgICAgICAgICAgICAgICAgICAgICAgICAgICAgICAgICAgICAgICAgICAgICAgICAgICAgICAgICAgICAgICAgICAgICAgICAgICAgICAgICAgICAgICAgIAogICAgICAgICAgICAgICAgICAgICAgICAgICAgICAgICAgICAgICAgICAgICAgICAgICAgICAgICAgICAgICAgICAgICAgICAgICAgICAgICAgICAgICAgICAgICAgICAgICAgCiAgICAgICAgICAgICAgICAgICAgICAgICAgICAgICAgICAgICAgICAgICAgICAgICAgICAgICAgICAgICAgICAgICAgICAgICAgICAgICAgICAgICAgICAgICAgICAgICAgICAKICAgICAgICAgICAgICAgICAgICAgICAgICAgICAgICAgICAgICAgICAgICAgICAgICAgICAgICAgICAgICAgICAgICAgICAgICAgICAgICAgICAgICAgICAgICAgICAgICAgIAogICAgICAgICAgICAgICAgICAgICAgICAgICAgICAgICAgICAgICAgICAgICAgICAgICAgICAgICAgICAgICAgICAgICAgICAgICAgICAgICAgICAgICAgICAgICAgICAgICAgCiAgICAgICAgICAgICAgICAgICAgICAgICAgICAgICAgICAgICAgICAgICAgICAgICAgICAgICAgICAgICAgICAgICAgICAgICAgICAgICAgICAgICAgICAgICAgICAgICAgICAKICAgICAgICAgICAgICAgICAgICAgICAgICAgICAgICAgICAgICAgICAgICAgICAgICAgICAgICAgICAgICAgICAgICAgICAgICAgICAgICAgICAgICAgICAgICAgICAgICAgIAogICAgICAgICAgICAgICAgICAgICAgICAgICAgICAgICAgICAgICAgICAgICAgICAgICAgICAgICAgICAgICAgICAgICAgICAgICAgICAgICAgICAgICAgICAgICAgICAgICAgCiAgICAgICAgICAgICAgICAgICAgICAgICAgICAgICAgICAgICAgICAgICAgICAgICAgICAgICAgICAgICAgICAgICAgICAgICAgICAgICAgICAgICAgICAgICAgICAgICAgICAKICAgICAgICAgICAgICAgICAgICAgICAgICAgICAgICAgICAgICAgICAgICAgICAgICAgICAgICAgICAgICAgICAgICAgICAgICAgICAgICAgICAgICAgICAgICAgICAgICAgIAogICAgICAgICAgICAgICAgICAgICAgICAgICAgICAgICAgICAgICAgICAgICAgICAgICAgICAgICAgICAgICAgICAgICAgICAgICAgICAgICAgICAgICAgICAgICAgICAgICAgCiAgICAgICAgICAgICAgICAgICAgICAgICAgICAgICAgICAgICAgICAgICAgICAgICAgICAgICAgICAgICAgICAgICAgICAgICAgICAgICAgICAgICAgICAgICAgICAgICAgICAKICAgICAgICAgICAgICAgICAgICAgICAgICAgICAgICAgICAgICAgICAgICAgICAgICAgICAgICAgICAgICAgICAgICAgICAgICAgICAgICAgICAgICAgICAgICAgICAgICAgIAogICAgICAgICAgICAgICAgICAgICAgICAgICAgICAgICAgICAgICAgICAgICAgICAgICAgICAgICAgICAgICAgICAgICAgICAgICAgICAgICAgICAgICAgICAgICAgICAgICAgCiAgICAgICAgICAgICAgICAgICAgICAgICAgICAgICAgICAgICAgICAgICAgICAgICAgICAgICAgICAgICAgICAgICAgICAgICAgICAgICAgICAgICAgICAgICAgICAgICAgICAKICAgICAgICAgICAgICAgICAgICAgICAgICAgICAgICAgICAgICAgICAgICAgICAgICAgICAgICAgICAgICAgICAgICAgICAgICAgICAgICAgICAgICAgICAgICAgICAgICAgIAogICAgICAgICAgICAgICAgICAgICAgICAgICAgICAgICAgICAgICAgICAgICAgICAgICAgICAgICAgICAgICAgICAgICAgICAgICAgICAgICAgICAgICAgICAgICAgICAgICAgCiAgICAgICAgICAgICAgICAgICAgICAgICAgICAgICAgICAgICAgICAgICAgICAgICAgICAgICAgICAgICAgICAgICAgICAgICAgICAgICAgICAgICAgICAgICAgICAgICAgICAKICAgICAgICAgICAgICAgICAgICAgICAgICAgICAgICAgICAgICAgICAgICAgICAgICAgICAgICAgICAgICAgICAgICAgICAgICAgICAgICAgICAgICAgICAgICAgICAgICAgIAogICAgICAgICAgICAgICAgICAgICAgICAgICAgPD94cGFja2V0IGVuZD0ndyc/Pv/bAEMABwUFBgUEBwYFBggHBwgKEQsKCQkKFQ8QDBEYFRoZGBUYFxseJyEbHSUdFxgiLiIlKCkrLCsaIC8zLyoyJyorKv/bAEMBBwgICgkKFAsLFCocGBwqKioqKioqKioqKioqKioqKioqKioqKioqKioqKioqKioqKioqKioqKioqKioqKioqKv/AABEIAwkEoQMBIgACEQEDEQH/xAAfAAABBQEBAQEBAQAAAAAAAAAAAQIDBAUGBwgJCgv/xAC1EAACAQMDAgQDBQUEBAAAAX0BAgMABBEFEiExQQYTUWEHInEUMoGRoQgjQrHBFVLR8CQzYnKCCQoWFxgZGiUmJygpKjQ1Njc4OTpDREVGR0hJSlNUVVZXWFlaY2RlZmdoaWpzdHV2d3h5eoOEhYaHiImKkpOUlZaXmJmaoqOkpaanqKmqsrO0tba3uLm6wsPExcbHyMnK0tPU1dbX2Nna4eLj5OXm5+jp6vHy8/T19vf4+fr/xAAfAQADAQEBAQEBAQEBAAAAAAAAAQIDBAUGBwgJCgv/xAC1EQACAQIEBAMEBwUEBAABAncAAQIDEQQFITEGEkFRB2FxEyIygQgUQpGhscEJIzNS8BVictEKFiQ04SXxFxgZGiYnKCkqNTY3ODk6Q0RFRkdISUpTVFVWV1hZWmNkZWZnaGlqc3R1dnd4eXqCg4SFhoeIiYqSk5SVlpeYmZqio6Slpqeoqaqys7S1tre4ubrCw8TFxsfIycrS09TV1tfY2dri4+Tl5ufo6ery8/T19vf4+fr/2gAMAwEAAhEDEQA/APHzG/8Az0f/AL6NN2P/AM9H/wC+jVor7U0rX0XsYdjxfaS7lfZJ/wA9H/76NJtk/wCej/8AfRqfFJil7KPYPaS7kG2T/nq//fRo2yf89H/76NTbaMUvZR7D9pLuQlZP+er/APfRpu2T/nq//fRqxim4peyh2H7SXchxJ/z1k/76NIRJ/wA9ZP8Avo1PikIo9lHsHtJdyH97/wA9X/76NJ+9/wCesn/fRqbFGKn2Uew/aS7kH70f8tZP++jR+9/56yf99GpcUYpeyj2Hzy7kR83/AJ7Sf99GkzL/AM9ZP++jUuKTFL2cew1OXcjzL/z1k/76NNJl/wCe0n/fRqbFNI5pezj2Hzy7keZv+e0n/fRpu6b/AJ7Sf99mpqYRzR7OPYOeXcZum/57Sf8AfZpN83/PaT/vs1JikIpezj2HzvuM3zf89pP++zSb5v8AntJ/32akxTSKXs49hc77jd83/PeT/vs0b5v+e8n/AH2aXFGKXs49h88u40vN/wA95P8Avs0nmT/895P++zTiKMUezj2DnY3zJ9v+uk6/3zR5k/8Az3l/77NOx8v40mKXJHsPnYzzZ/8AnvL/AN9mjzZ/+e8v/fZpcc0Yo5I9h87E82f/AJ7y/wDfZo82f/nvL/32aMUYpckewc7E82f/AJ7y/wDfZo86f/nvL/32aXFJilyR7BzsPNn/AOe8v/fZpPOn/wCe8v8A32aMUUckR8zDzp/+e8v/AH2aPNn/AOe8v/fZoopci7BzMcks5zmeTp/fNO8yf/ntJ/32aSMdfpTsVahG2wuZ3E82b/ntL/32aPMn/wCe8n/fZpcUYo5I9g52J5k//PaX/vs0nmzf895f++zTqTFHJHsHOxPNn/57yf8AfZo82f8A57yf99mjFGKOSPYOdiebP/z3k/77NHmz/wDPeX/vs0uKMUckewc7E82f/nvL/wB9mjzZ/wDnvL/32aXFGKOSPYOdiebP/wA95f8Avs0ebP8A895f++zS4oxRyR7BzsBLPn/Xyf8AfZqPzrj/AJ7y/wDfZqQDkVERUuEew1Ji+dP/AM/Ev/fZo86f/n4l/wC+zSDmjFLkQ+Zi+fP/AM/Ev/fZo86f/n4l/wC+zSYpKOSIczHedP8A8/Ev/fZpPPuP+fiX/vs0YpMUciDmYvnz/wDPxL/32aPPuP8An4l/77NJiilyxDmYvn3H/PxL/wB9mjz7j/n4l/77NNoxRyIOZj1muCw/fy/99mk8+4/5+Jf++zQv3hSYo5EHMxfPuP8An4l/77NHn3H/AD8S/wDfZpMUYo5EHMxfPuP+fiX/AL7NHn3H/PxL/wB9mkxRijkQczF8+4/5+Jf++zR59x/z8S/99mm0UciDmYvn3H/PeX/vs0faLj/n4l/77NNoxS5UPmYv2i4/5+Jf++zR59x/z8S/99mkxRijlQczF+0XH/PxL/32aPtFx/z8S/8AfZpMUYo5UHMxftFx/wA/Ev8A32aUz3G0f6RL/wB9mm4pxHyijkQczE+0XH/PxL/32aPtFx/z8S/99mkxRijlQczF+0XH/PxL/wB9mj7Rcf8APxL/AN9mkxRijlQczF+0XH/PxL/32aPtFx/z8S/99mkxRijlQczF+0XH/PxL/wB9mj7Rcf8APxL/AN9mkxRijlQczF+0XH/PxL/32aPtFx/z8S/99mkoo5UHMxftFx/z8S/99mj7Rcf8/Ev/AH2abRilyoOZjvPuP+fiX/vs0faLj/n4l/77NNxRilyofMx32i4/5+Jf++zR9ouP+fiX/vs03FGKOVBzMd9ouP8An4l/77NH2i4/5+Jf++zTcUYo5UHMx32i4/5+Jf8Avs0faLj/AJ+Jf++zTcUYo5UHMx32i4/5+Jf++zR9ouP+fiX/AL7NNxRijlQczHfaLj/n4l/77NH2i4/5+Jf++zTcUYo5UHMx32i4/wCfiX/vs0faLj/n4l/77NNpMUcqDmY77Rcf8/Ev/fZpPtNz/wA/Ev8A32abRijlQ+Zj/tFxt/4+Jev980n2m5/5+Jf++zSY+Q/WkxT5UHMx32i5/wCfiX/vs0fabn/n4l/77NNxRilyoOZjvtNz/wA/Ev8A32aPtNz/AM/Ev/fZpuKMUcqDmY77Tc/8/Ev/AH2aPtNz/wA/Ev8A32abijFHKg5mO+03P/PxL/32aPtNz/z8S/8AfZpuKMUcqDmY77Tc/wDPxL/32aPtNz/z8S/99mm0lHKg5mP+03P/AD8S/wDfZpPtNz/z8S/99mm0Yo5UPmY8XFzuH+kS9f75oNxc5P8ApE3/AH2aao+YfWhh8x+tHKrBzO4v2m5/5+Jv++zR9puf+fib/vs03FGKXKg5mO+03P8Az8Tf99mj7Tc/8/E3/fZpuKMUcqDmY77Tc/8APxN/32aPtNz/AM/E3/fZpuKMUcqDmZ2Hw2tP7X8W/Zrxmnj+zu2yQ7hkY7GvW/8AhDNN/wCfOH/v0P8ACvMfg2u7x7j/AKdZP5rXvvlCvjM6rTp4rli7aIXMzkP+EM03/nzh/wC/Q/wo/wCEM03/AJ84f+/Q/wAK6/yhR5QrxvrVX+ZhzM5D/hDdN/584P8Av0P8KX/hDdN/584f+/Q/wrrvKFAiBo+tVf5mHMzkf+EM00/8ucH/AH6H+FL/AMIZpv8Az5wf9+x/hXX+UPSjyh6U/rVX+ZhzM5D/AIQzTP8Anzg/79j/AAo/4QzTP+fOD/v2P8K6/wAoelHlD0p/Wqv8zDmZyH/CGaZ/z5wf9+x/hR/whmmf8+cH/fsf4V1/lD0o8oelH1qr/Mw5mch/whmmf8+cH/fsf4Uf8IZpn/PnB/37H+Fdf5Q9KPKHpR9aq/zMOZnIf8IZpn/PnB/37H+FPg8FaY1xGpsoCC4BHlD1+ldZ5Q9KltYh9sh4/wCWi/zqoYqrzL3mCkyX/hWeg/8AQLs//Adf8KK9D8kelFfdHYfD9NNOppr6g8AaaQ0ppKQCGkpTSUikFIaWgikA2iiikA2ilNJSKENJS0hqWMKYafTTSBCUhpaDSKG02nUlACUlLSUhhTTTqTrUgNooopMYhopTSUgD+H8aSlP3fxpKGMbSU402kAUUUUhhSUtNNAxKKKKQwooooAfF3+lPpkff6U+qWxL3CiikzQIDSUUUAFFFFABRRRQAUUUUAFJRRQAo+8KhNSr94VHUspDRTqbRmpKFpKKKAAGiiigAooooAKKKKAFT74pKVPvCko6CCiiigYUUUlABRRRSAKKKKQwooooAKKKKAClP3RSUp+6KYCUUUUgCiiigAooooAKKKSgAooooGFFJS0gCiiikAUUUUAFFFFABRRRQAUUUlABRQaSgAzSZoooGFFFFADv+WZ+tNp3/ACzP1ptNgFFFFIAooooAKKKKACiikoAWkoooGFFFFIBR94fWhvvH60D7w+tDfeP1p9A6iUUUUgCiiigAooooA7/4M/8AI/f9ukn81r6AxXgHwY/5H/8A7dJP5rX0BXwmff758l+oCYoxS0V4ICYpwXikp1NAGKTApaQ9abAT8KXj0pKKm4DsCjApB1papAIeO1GfalptDAX8Kltf+PyHj/lov86hqW1/4/If+ui/zpwfvIFuelYooor9GO0+GaQ0tB6V9QeAMNJS0lACGm040hqRoSiiikMbRSmkpAIaSlNIaQwpKWkpFCUhpTSVIDaKO9FIobSGnGmmgBKSlopDEpKWipAaRikpTSUhhSUtJmkAfw/jSUv8P40lDGIaSlpKQCUUUUhhTTS0hoGJRRRSGFFFFAD4+/0p9Mj6n6U+q6EvcM0hoNJmgQUlFLQAUUUUAFFFFACUUUUDCiiikAL94VFmpR94VDSY0FFFFSUFFFFABRSUtABRRRQAUUUUAKv3hSUq/eFJR0EFFFJQMKKKSkMWiiikAlLRRQAUUUUAFFFFABSn7opKU/dFMBKKKKQBRRRQAUUlFABRSUtAxKWiipAKKKKACiiigAooooAKKKKACkpaSgApDS0lABSUUUDCiiigAooooAd/yzP1ptO/5Zn602mwCiiikAUUUUAFFFJQAtJRRQMKKKKQBRRRQAo+8PrQ33j9aB94fWg/eP1p9AEooopAFFFFABRRRQB6B8GP+R//AO3ST+a19AV8/fBf/koH/bpJ/Na+gq+Ez7/fPkv1ASilorwQEp+KbT8VSGJimVJimUMBKKWipEJTxTactNDDFIwp2KQjiqYDMVNa/wDH5D/10X+dRVLa/wDH5D/10X+dEPjQLc9Jooor9GOw+GaKKK+oPAGmmmnGmmgBDSGlpKkBKKKKRQhpKU0lIANNp1NpDCkpaQ0ihDRSmkpMBppKcabUjQhpKcabQMbSUppKQwNFBpKlgBptOppoAKQ0tB61IxP4fxpKcfu/jTaGMQ02nmm0gEooopDCmmnUhoGNooopDCiiigB8ff6U48U2Pv8ASnGq6EvcM0lFJQIWiiigAooooAKSiigYUUUUgCiiigYD7wqGph94VDSYIKKKKkoKKKKAEpaKKACiiigAooooAVfvCkpV+8KbR0AWkoopAFJS0UDCiiikAUUUUAFFFFABRRRQAUp+6KSlP3RTASiiikAUmaKKACiikoGLRRRUgFFFFABRRRQAUUUUAFFFFABSUUUAFJmgmkoGFFFFABRRRQAUUUUAFFFFADv+WZ+tNp3/ACzP1ptNgFFFFIAoopKACiiikMKKKKACiiigAooooAUfeH1oP3j9aF+8PrSyI0chWRSrejDBp9AG0VrJ4Z1N7Y3AFoIQVBdr6BQCQSAcvwTg/kaz1tJ3kmSNN5gUtIUYMAAcE5HBGT1FQpRezHZkNFTR2lzNBJNDbyyRRkB5EQlVz0ye1Q1VwCikooEegfBb/koH/bpJ/Na+g8V8+fBb/koH/bpJ/Na+g6+Ez7/e/kv1GGKMUUV4IBin0ynDpVIBaYRzT6TrTsA3FGKXFJU6gGKBwaKKAH0Ug6UtWMYRg1Laj/TIf+ui/wA6ZUtsP9Mh/wCui/zogvfQLc9Gooor9FOs+GaKKK+oPAENNpzU2gBKbTqQ0gG0UppKkoDTadTaACkNLU66feyJvjtJ2T+8sTEfyqJSUd2MrUUrqyMVcFWHUEYxSUDEPSkpTTaTGBptPKN/dP5Umxv7p/KpuhoaabUmxv7p/KmEEdRildDGmkpTSAEngZoGJRTtjf3T+VIVYdVP5VLaASmGnUhFACUGijBboCfpUjA/d/Gm1JsbH3W6+lN2N/dP5Um0MbTT7U/Y390/lTWUr1BFF0A2iigAk8DNJjCkNOKsBypH4UygYlFKaXY390/lSGNop2x/7rflRsb+635UroBY+p+lONIgKk7gRx3pT0q1sS9xKKACegJ+gpSrDqpH4UXEJRRRQAUUlOjjeVwkSM7HoqjJNF7DG0VYl0+9gTfPZ3Ea/wB54mA/UVWqVJS2YC0UUUxhRRRQAD7wqGrCo24fKfyqAqR1BH1FS2gQlFFFIoKKKUKxGQpP4UgEopdjf3W/KkPHXii6AKKSimAtFJRQA5fvCm05PvCpILO5us/ZreabHXy4y38qTaSuwIaKkntp7ZttzDJC3pIhU/rUVJNNXQxaKKKACiiigAooooAKKKKACiiigApT90UlKfuimAlJRRSASilopDCiiikAUUUUAFFFFABRRRQAUUUUAFFJSUAKaSg0lAwooooAKKKKACiiigAooooAKKKKAHf8sz9abTv+WZ+tNpsAopKKQwooopAFFFFABRRRQAUUVoaJaQ3uqLHdBmhjjlmdFOC4jjZ9oPbO3Gfek3ZXHuZ9bM9lpumWFvJdGe9uLu3E0SxkRxJnI5Y5LEEEEALyOpqC71k3lu8L6fYRoceWYbcI0XPZhy3HHzFvz5ra0ltRbSLvS7W1T+1tOl8yPzIlaRIydsiqW+7tba2eoyxyOaynJpJvQpJFPwm90Z9RtdPkaG8mtC0Do+xlZGVzhuMfIr96l15L1PDlo2r3S3tw9y/lTLOJ/KQAbkMgJGSSCFzxyeN1VIpX0bXre9vbqK+lZ2+1RxTeYxVhtYF/ukkMehPvVC31Ga1trq1ULJBcjDxuMgMPuuPRhzg+5HQkUuVuXMgvZWLdj83hbVl9Jrd/y3j/ANmpdG+XS9ck9LFVH1M8X9M1nRXcsNtPbxsBHcBRIMdcHI/WiK8lhtbi2jIEdxtEnHJ2nI/WrcXr6r9BXOigheDwvpi2urw6fdzSzXQV5HjZ1yI1wwGBgxv1I61n2KPq2uSTazM9zHaxPNcyGTJdUHC7v9o7VB/2hWdd30l75AkCqLeFYUVRwFGf1JJJ9zVmC9htvD91bxk/aruVFfjhYl+bGfdtp/4B71HK0n3Y7obYaNeahA88IiigRtpmuJkiTd/dDMQCfYc1Bfafc6bOIryPYzKHRlYMrqejKwJDD3B7VoeIi0bafbRjFrFYwvDjoxdA0je53lgf93HaqVxftLpNrYSRnNrLK6yE87XCfLjsAVJ/4EaqMpOz6BZHa/BX/koH/bpJ/Na+hMV4T8GtF1C38VJqc9q0VpJbvGkjkDeTgjAPJHynnGOK93r4jPGni9Oy/UWomKMUtFeGITFKOKKKAHUU0HFLmquMWmU+m0mAlFLRSEA4p1NoBxTTAdUtt/x9w/8AXRf51DmpbY/6XD/10X+daQ+JDW56LRRRX6GdZ8M0UUV9QeABphp5phoASkNLSGkAlJS0lSUFW9K0u51nVIbGyTdLKcZPRR3J9hVSvT/hNpiLZ3upuv7x38hD6AAE/mSPyrzczxn1LCyrLfp6sqKu7HSeHvBWlaBChWFbi6x81xKuTn/ZH8I+lb7SxowV3VWPQFsE1zvjrxDJ4f8ADxktSBdXD+VEcZ28ZLfgB+ZFeITzy3MzTXEryyucs7sSSfqa+JwWVYjNk8TXqW/G/wCVkbOSjoj6F1TRNN1qAxalaRTgjAYj5l+jdRXjHjHwnL4X1FQjNLZT5MMh6j1U+4/Wt/wD44i02Gay1+9ZbdQGt3dWcqe68AnHf860PHHijw5rvhea2tb8S3SMskK+S4+YHnkr6E12YClj8txqoNOVNu17O2vXyt1E7SVzyw02nGm19wzM+mYwPKXj+EVE95aRsUkuIVYdQzgEVNH/AKpf90V4P40srqTxpqbx20zKZiQVjJB4FflWWYCOPrShKfLZX/E3bse4/b7L/n6g/wC/i/415N8W5op9esjBIkgFtyUYHHzH0ri/sF5/z6T/APfo/wCFV5I3ikKSoyMOqsMEV9dl+SQweIVaNTmtfS3/AASHK6GGuw+Fv/I8w/8AXGT+VcfXY/C3/keYf+uMn8q9XM/9yq/4X+Qlue3OURCzlVVRkk8ACoY72zmfZFcwSMf4VkBNUvFH/Io6v/15Tf8AoBr5yDFSCpIIOQR2r4TK8pWYU5Tc+Wz7X/U0bsfROteE9G16BkvrKPzCOJ41CyKfUMP5HivCfEugT+Gtcm0+4O8L80cmMb0PQ/0+oNe3eBLy6v8AwVp9xfszzMjAu/VgGIBP4Ac1w/xnjQX2lSDHmNHIrfQFcfzNd2S4itQxrwcpXWq+a6r7hS2ueZV6X8HbiCCfV/PljjysON7AZ+/615pRX1uOwqxdCVFu1+vzuJH07/aFj/z92/8A38WrGB6V8tD7v419Tdq+AzXK1l/JafNzX6W2t/mWncrfb7EHBu7fP/XRa8w+MtxBPFo/2eaOTa02djA4+56V5rd/8fs//XRv51Aa+kwORLC141/aXt0t3XqK40133wd58ZXH/Xk//oaVwNd98Hf+RyuP+vJ//Q0r0s1/3Gp6CR6Z48A/4QPVuP8Algf5ivnM19GePP8AkQ9W/wCuB/mK+dDXk8Nf7tP/ABfoimNr6e0AD/hG9M4/5dIv/QBXzDX09oH/ACLemf8AXpF/6AKy4m/h0/VgWZLy0hkKS3EMbjqrOARTP7Rsf+fy3/7+r/jXiHxNsrqb4gX7xW00iFYsMsZIP7ta5P8As69/587j/v03+FcmHyGnWoxqOra6T27/ADA774vzQ3HiCxa3lSQC1wSjA4+c+leeUoR45HSRWRgOVYYIpK+vweHWGw8aSd7dSXuemfBfnVNUz/zxT/0I11/xRA/4V/e/78X/AKMWuQ+C3/IU1T/rin8zXX/FH/kn97/vxf8Aoxa+Oxv/ACO4+sf0H0PBKSlpMZOBX3ZJ2fgLwK/im4a6vS0WmwttYrw0rf3R6D1P+R7Xpuj6do1sINMs4bZAOfLXBP1PU/jUXh7So9E8P2WnxqB5MQDY7t1Y/icmvLfip4tu5tZfQ7KdorW3AE+w481yM4J9ACOPXPtX5/UqYjOcW6UJWgvut382XsewJNFKSsciOR1AYHFcp4q+HmleILaSS1hjsr/GUmiXaGPo4HX69f5V4Ra3dxY3KXFnPJBNGcq8bYIr27RPifoM2iWr6xqCwX3lgToIXOGHBPCkc9fxq8RlWLy6UauGk5ei/Na6AeJXtnPp99NaXkZjnhco6nsRUNdb8R9S0jWPEyX+h3AnSWBRMQjL84JH8QH8OPyrka+0w1SVWjGc1ZtarzEFdL8P9I/tnxrYxOu6GBvtEv0TkfmcD8a5qvX/AINaP5WnXurSL807iGIn+6vJP4kj/vmuTNcR9Xwc5rd6L5gemYHpXE/FfR/7S8FyXEa5lsHEwwOdvRh+Rz+FaPjDxSvhybSE3Afa7wLLntEPvH/x5a6G6t47yzmtp13RTIY3HqpGDX55QdTCzp4no3dfJ6lHynRVrVLCTStWurCf/WW0rRk+uDjP49aq1+oxkpJSWzAK+h/hoB/wrrS+P4ZP/RjV8719EfDP/knWlf7sn/oxq+c4j/3WP+L9GB1JKjrgVBc2NnfRGO8tobhD/DLGGB/OvH/jWf8Aio9P/wCvT/2c1xGjeItV0G7S40y8liKnJj3Eo/sy9CK8jDZHOvh414VLN9Lfrf8AQD1Lxl8KLS4tZL3wzH9nuUBY2gPyS/7ufun26fSvG2BVirAhgcEEdDX1DoWqprmg2epRLtW5iDlc52nuPwORXiHxU0hNK8byyQKFjvYxcADoGJIb9QT+NejkuPrSqSwtd3a2vvpugOMo60V1Pw30lNX8c2ccy7obfNw6nvt6f+PFa+lr1VRpSqS2SuB3ngb4X2ttaRaj4khE91IAyWrj5Ih23DufY8CvSALezgCqI4Il4AGFUU2+u49P0+4vJ/8AVW8TSvj0UZP8q+aNf8Q6h4k1OS81GZm3MfLiz8kS9go/zmvhsPh8RnNWU6k7Jf1ZID6Xnt7XULYx3MUNzA45V1Dq34HivJ/iD8M4bGzl1jw7GUjjG64tAchV7svsO4/L0rjfB3iy88L61DLHM5sncC4gz8rKepx6jqDX0eQskeDhlYc9wRSq08RkteLjK8X9z7poD5PorW8VaWui+K9R0+MYjhmPlj0Q/Mv6EVk193TmqkFOOz1GFFFFWAUUUUAFFFFABRRRQAUp+6KbmlP3BTASiiipGFFFFIAooooAKKKKACiiigAooooASjNFJnigApKWkoGFFFFABRRRQAUUUUAFFFFABRRRQAUUUZoAX+A/Wm07/ln+NNpsAoooqRhRRRQAUUUUAFFFFAE1raXF9dR21lBLcXEp2pFEhZmPoAOTUsUl5omrK5je3u7WT5o5kwVI6qyn8iDVzwv4lv8Awj4ktdb0nyjdWxbaJl3KwKlSCOOxNR+ItevPE/iG81nU/L+1Xb75BGu1RwAAB6AAVLu3ZrQZYY+G5Z/tZN9CpO5rBI1Iz/dWUtkL7lSR79azdQvZNR1K5vZgFkuJGkYL0GTnA9qrUUoxSdxt3FX7w+tDfeP1oH3h9aRvvH61p0JDNJRRmpGFJRRQBoWmu39lbpBDLG8UZLRrPAkvlk9Su8Hb+GK0NO1rTLW5W6vrSbUL2YsZ7m4IbymOfmRDkMw65fg9MDrXP0VnKnFlXZ7H8P5Wi8fWlk181/I1lLeTXD7tztLsKZzzxGE47FjXs7QOse44yOSueQPWvEfg1JHfeK7nVHfztTZJBKpIUQx4Xayr/Fzx/s4HHII9whzuMrfdAO4nvkdK+GzhJYm3kitGyGiiivFICjFL3FOxTAZijFP202gBMUYpaKQCYoxS0UAJRS0UAJipbYf6XD/10X+dR4qW1/4+4f8Arov86uHxIEei0UUV+inWfDNFFFfUHgCGmnrTjTTQAlJS0lIBDSUppKkpBXsnwvKnwf8AL1Fw4P14rxuvSPhPq6I15pMrYZz58QPfjDD8gD+dfPcRUpVMBJx6NM0p/ET/ABeDfY9LYfcEkgP1wuP615ca978XeHh4k0F7RWCTowkhZugYdj7EEivGrnwrrtrcGGTSbwuDjKQl1P0IyDXLw7jaH1NUZSSlFvfzd7jmne5j0V6p4G8BCCCa78R2UTvKAsVvMobYO5I7E1J8QtO0HRfDLfZtNtIbu4cRwskQDDnLEfgMfiK6nnlCWLWFpxcm3a6tb+kHK7XPJzTKeaaa91kn0zH/AKpf90VUl1jTIJWin1G0jkU4ZHnUEH3BNW4/9Uv+6K8N8ZaRqU/jLUpYNPupI2myrpAxB4HQgV+U5ZgaeNrShUny2V/xN27Hsv8Abukf9BSy/wDAhP8AGvEPH08Vx451Ga2lSWNim142DA/u17is7+wtW/6Bd7/4Dv8A4VVurO5s5Al5bywMwyFlQqSPxr7PLMqo4Ks6kKnM2rW08v8AIhyuV67D4W/8jzD/ANcZP5VyFdh8Lf8AkeYf+uMn8q9HM/8Acqv+F/kJbntV3axX1nNa3K7oZ42jkXOMqRgjI9q5yL4b+FoZA40zcQcgPM7D8t3NbHiGeW18NalcW7mOWK0ldHHVWCEg15r4B8d6hN4iWx1y9e4iuxsiaTHySdvz6fXFfnuCw+MnhqlXDzaUd0m1f7jV2PU5ZrTS7EvM8VrbQrjJIVUUdBXg/jrxKvibxC09vkWkC+VBkYLDOS2Pcn8sV7Z4j0WLxDoNzp82AZFzG5/gcfdP5/pmvnS6tprO6ltrlDHNC5R1PYg4Nezw1RoylOq376/J9SZEFFFFfaskUdPxr6l7V8tdvxr6l7V8ZxR/y5/7e/QuJ8uXf/H5P/10b+dQmp7v/j9n/wCujfzqAmvr4/CiRtd98Hf+RyuP+vJ//Q0rga774O/8jncf9eT/APoaV5+a/wC41fQa3PTPHn/Ih6t/1wP8xXznX0Z48/5ETVv+uB/mK+c68jhr/dp/4v0RTEr6e0D/AJFrTP8Ar0i/9AFfMNfT2gf8i1pn/XpF/wCgCseJv4dP1YD7jWNMtJjDdajaQSrjKSTqrD8Caj/4SDRv+gvY/wDgSn+NeIfFH/kod/8A7sX/AKLWuR71hhuHqdajCq6jV0nt3A6PxvPFceOdVlt5UljaQFXRgwPyjoRWAaSPv9KU19jRp+ypRprokvuJe56Z8Fv+Qpqn/XFP5muv+KP/ACT++/34v/Ri1yHwW/5Cmqf9cU/9CNdf8Uf+Sf33+/F/6MWvicd/yO4+sP0H0PBKktCq3sBf7okUn6ZqKivumrqwj6r7V84+N1dfHGriTr9pY/h2/SvdPCOtR6/4Xs71GDSGMJMP7sijDf4/QiuH+JfgO91HUTrWiwm4eRQtxAv3iQMBgO/GBjrxXwGS1Y4PGyp1na+nzTKZ5NRW1ZeDfEN/dLBDo94jE4LTQtGq/UsAK9q0jwDoVho9ta3mm2l3PGgEk7wgl26k5Pv+lfUY7NsPg0r+830Qj57pM113xJGlweK2stFtYLeO1jCSiFAoaTknp6Agfga5HpXoYet7elGra11cBQpdgqglicADvX0v4a0oaJ4asdPAAaGIB8d3PLH8ya8O+Hmkf2x42skdd0NuftEn0Xkf+PbRX0DPPFbW8k9xIscUal3djgKBySTXyXEmI5pww8fV/kv1GjxX4pT3mqeMvJgtp3gsoliUrGSCx+Zj+oH4V6p4R1GTVPCWn3NwrLOYQkocEHcvyk49yM/jTf8AhNPDX/Qbsf8Av8Kt6d4g0jVp2h0zUba6lVdzJFIGIGcZ/UV5OLr1KuFhRdFxUOuvz6dQPIPjDo/2LxTFqMa4jv4vmP8AtpgH9Nteemvfvipo/wDangmaeNczWLidcddvRv0OfwrwGvrckxHt8HFPeOn+X4DCvoj4Z/8AJOdK/wB2T/0Y1fO9fRHwz/5J1pX+7J/6MauTiP8A3WP+L9GBwPxr/wCRj0//AK9P/ZzXmtesfFzQ9V1XXrGTTdOurtEttrNDCzgHceOK5PRvht4k1W7RJbCSxgJ+ea5G3aPZTyTXRluJoUsBBzmlZd/MD1n4YKy/DnTN/fzSPp5jVw3xsZf7d01R94WzE/Tdx/WvXNM0+DSdKtrC1BENtGI1z1IA6n3714B8Rtdj17xpcy2zh7e3UW8TA8MFzk/99E/hXhZRfEZlOvHbV/fsBy1eg/BgqPGdyG6mxfH/AH2lefV0HgXW00DxlZXk7bbcsYpj6Kwxn8Dg/hX1eYU5VcLUhHdpjPdfGqs3gfVxH1+yufwxz+lfNVfVs8MV3ayQygPFMhRh2ZSMH9K+ffEfw71zRNRkS2sp7603Hyp7eMvle24DkGvnOHsVShGdGbs73QjlK+qdNV00q0WT74hQNn12jNeIeDPhxquqavBPq9lLZ6fC4eTz0KNLjnaFPPPr6V7pcTxWlrJcXDiOKJC7u3RQBkmsuIMTTrThSpu7V7287AfP3xRKn4jalt7CIH6+UtclWhr+qHWvEN9qJBAuJmdQey/wj8sVn19bhabpYeEJbpJfgMKKKK6ACiiigAoopM0AFFFFABSn7opKU/dFIYlFFFIAooooAKKKKACiiigAoopKACiikoADSUUUDCiiigAooooAKKKKACiiigAooooAKKKKACkoooGO/wCWf402nf8ALM/Wm0MAooopAFFFFABRRRQAV0ehzxX2mjS49Osp79GLwCWL5roHrHuUhtw/h555HXFZumWtu1vdX9+jSW1qFHlq23zZGPyrnsMBifZccZzWhJpNteafa6rp00Olo8jxvHc3X3XTadycbip3ehwQeaxqNPR/0y4pjdabRLe4ltI9NdLiJNjyW12fLE2PmwrBiVB4+9zjOeawKv6zdfbNTeUtBJJgCWaAMFmbu+GAIJ78DJye9UKumrRVxPcKKM0maskUH5h9a6rw18M/F3jAeboejTSWxP8Ax8y4ii/Bmxn8M12fwC+G1p4x1y51fXIhNpmmMoWBh8s8x5APqAOSO+R2zX1giR28ISNVjjRcBQMBQP5VjOry6I1jTvqz5Xtv2YvGEsYa41HSIGP8HmyMR+SYpLn9mLxjFGWt9Q0icj+ETSKT+aYr2vWPjl4A0a6e3l1sXMqHDC0heUA/7wG0/nT9D+NngPX7tLW11tYJ5DhEu42h3H03MNv61nz1C+WB8p+KPhv4s8HKZNe0eaG3zj7THiSL/vpcgfjiuWr9Dp4Iby2eG4jSaGVSro6hlcHsQeor5A+OPw5g8B+Kop9JUppOphpIY+vkuCNyD25BHscdquFTm0ZMoW1R5jRRRWpmeh/BJivxEBUkEWknIPutfRQO9DJOzOAcKuepr50+Cn/JQv8At0k/mtfRKOu0pIDtzkEdQa+Hzz/e/kikOTbK2zy1QkHBUnioqk3oikRA5IwWb09hUdeEwYU6m06mhBTadTe9DAKKKKQBRRRQAUUUUAFS23/H3D/vr/Ooqltv+PuH/rov86qHxID0Siiiv0U6z4Zooor6g+fA0w04009aAEpDS0hpAIaSlpKkoKltbuewvIrq0kaKaJtyOOxqKkNS0pKz2Gev+H/iXpt/CkWsMLG6AwWIPlufUHt+P511Ka1pUib01KzZfUTqR/OvnakNfK4jhjDVJ81OTj5bo0VRnuer+PtB0mJiLxLyb+GK2IfJ9yOB+deQeIvEN34k1Rru8wqgbYolPyxr6D+prKor0cvyfD4B88NZd3+gnJsQ0hpTSGvXYj6Ej8U6AI1B1qwzgf8ALyn+NL/wlOgf9BrT/wDwJT/GvnmkNfIPheh/z8f4GnOz6H/4Snw//wBBrT//AAJT/GvLvinqNlqWuWcmn3cN0i2+1mhkDgHceOK4igiuzA5HSwVdVozbaByuhtdT8Ob210/xlFPfXEVtCInBklcKuSPU1y1Ia9rEUVXoypN25lYSPefEfiXQ7jwvqkMGsWMkklpKqItwpLEoQABnrXgqu0bK6MVZTkEHkGkorhy7LYYCEoRle/cbdz3fw1460rUdAtptT1G1tbsLsmjmlVDuHGQCeh6/jXA/E+HSLnUYtW0fULS4af5LiOGZWO4DhsA9xwfoPWuGpDXLhsmp4XEuvSm1vp0s+g73Q2iiivbYhf4fxr6O/wCEs8Pf9BzT/wDwJT/GvnH+H8aaa8nMsshj+Xnk1y3/ABt/kNOxJdMGvJmUggyMQR35qA06kNemlZWAbXa/CvULPTPFk82o3UNrEbN1DzSBATuTjJ78GuKoNYYmgsRRlSbtcZ7v408S6Hd+DNTgtdXsZppISEjjuFZmOR0ANeD44oorly/AQwNNwi73dxja+iNE8VaBD4f0+KXWtPSRLWNWVrlAVIUZBGa+d6KjMMuhj4xjKVrDOo+I15bX/jq9uLG4iuIHWPbJE4ZTiNQeR71y9FFdtCkqNKNJdEl9wD4+/wBKU0kfVvpSmuhbEs9B+EuqWGl6lqL6le29orxIFM8gQMcnpmup+IviHRr/AMD3lvY6rZ3EzNHtjinVmOHBPANeK0leNWymnVxixbk7pp29AuFJS0V7AHReD/GN54Sv2eJfPtJiPOtycZ/2gexr2bSfHvhzV4laLUoreQjmK5YRsD6c8H8Ca+d6SvGx2T4fGS537su6/Udz6bm8QaNbxl5tVskX1a4Uf1rhvFnxXs7e2ktfDTfablht+0lcJH7jP3j+n1rx2g1x4fh3D0p81STlbpsguOkd5ZGklYu7kszMckk9SaZRmivpNgPUfhNc6PpNle3up6nZ21xO4iRJp1VgijOcE9yf/Ha2fiR4v0x/B01ppWpWt1PdOsRWCZXKp1JOD04x+NeKUV4lTKKdTF/Wpybd07dNNhjl+8K3vAOtLoXjSyuZ5BHbyMYZmY4AVuMk+gOD+FYKfeFQ16telGtTlTls1YD6VuPFHhi6tZbefXNNaOVCjqbpOQRgjrXzjfW62moXFvFMk6RSsiyxsCrgHAII7GoKK83L8tjgeblk2mMK91+H3iTRLHwHptte6vZW86K+6OW4VWX94x5BPoa8KpK1x+BjjaapydrO4z6a/wCEv8N/9B7Tf/ApP8ar3Xj3wvZxl5NatXA7Qv5h/Jc183UV464boX1m/wAAPS/GXxXfVLWTT/D0clvBICslzJw7juFH8I9+v0rzSiivdwuEo4SHJSVv1AKSlpK6gPTPAvxS/sq1i0vxCJJbaMbYblRuaNf7rDuB6jke9eoWfirQNQiD2ur2bg9jMqsPqDyK+ZE++KSvBxeRYfETdSL5W+233CPpjUPGPh7TIi93q9oMfwRyB2P/AAFcmvJfHfxJl8SRtp2lI9tp2fnZuHnx6+g9v/1VwNbOleEte1u1a50vTJp4FOPMGFB+hJGfwpYbKMJgZKtUldrq7JDMeirX9mXv9qJpr20kd40gjELqVbcTgDBqbW9C1Dw9qAstWhEM5QSBQ6tlSSAcgn0Ne57SHMo3V3qBn0UUVYBSUUUAFFFJSGFLRRSAKU/dFJSn7opgJRRRSAKKKKACiiigAoopM0AFFIaSgAooooGFFFFABRRRQAUUUUAFFFFABRRRQAUUZpKACiiikMKKKKAHf8sz9abTv+WZ+tNpsAooopAFFFFABRRRQBtaPB4hht2n0WG5lgm/1iRR+aj4z99OQe/UVLqWpR3MMdrrejtZ3FvGywtbAwYyS2WjYEHkn7u39Kpx+HNakt0uYNLu5omUOskMRcYPfK5xV8i/TwperrYnWEOgsluQdwl3DdszzjZu3Y4ztz2rnfK5X0/U01sc7RmkoroICiikpAfQfwK+JfhDwd4EuLDxBqf2O8kv3l2eRI+5SiAHKqR2Na/xX+N3hrU/h7faZ4R1h5tQvCsJ2wSR7YyfnOWUDkDH418zL94fWhvvH61n7NX5i+d2sJRToopJ5VjhjaSRjhUQZJP0r0bwp8CfGniZ45J7D+yLNiMz33yNj2j+8fyA96ptLclJvY+g/gNq13q/wi02S/laWS3eS3V2OSUViF/IYH4Vyn7UsanwTo0hHzrqO0H0BjbP8hXrPhLwxZeDvC1loem7jBapje33pGJyzH3JJNeU/tSf8iJpH/YSH/op65o6zOiXwny5RRRXUc56F8E/+Shf9ukn81r6GxXzz8E/+Shf9ukn81r6IxXw2e/738kMeLdmXKFG4yfmAx+dNaGRBl0YD1xxT4iiKxc5DDG0df8A61NaQsu0YVP7o/zzXiaFWViPFOHSjFAoRIuKQrmnYoxTAZijFPxRilYBmKMU/FGKLAMxRin4oxRYBmKlth/pcP8A10X+dNxUlsP9Ki/3x/OrgveQz0Giiiv0M6j4Zooor6g+fENNNONNoASkoopANNFFFSUFIaWu3+F1nbXuuXiXlvFOq22QsqBgDuHPNcmMxKwtCVZq/KUld2OGpDXrWp+K/COlanPY3GhbpYH2MUtIipPtk1XTxV4D1E+VdaSlsG43yWaDH4pkivJjm2IcVP6tKz7WZXKu55ZRXo3iP4eWsunHVfCkvnRbd/2cPvDL6oev4H/61ec16WDxtHGQ56T23T3XqJpoQ0hpTUtmA19bhhkGVQQe/NdcnZXAgpDXuXiS88NeF4YJL/RYZBOxVfJtYzjHrnHrXP8A/Ce+C/8AoXm/8A4f/iq+co5xWrwVSlh5NPzRfKl1PLKDXpWoeOPCFzpl1BbaC0c0sLpG/wBkiG1iCAcg5HNea16mExFWum6lNwt36gxtIaU0hrtEJSUUUhhRRXf+CPh9HqtoNX19jFYYLRxbtvmAdWY9l/n/AD48Xi6WEp+0qvT8X6DSueemivYJvHfgzQX+y6VponCcF7aBQp/4EcE/Xn60+117wP4zkFleWKW1zJ8qefEI2J/2XU9fYnmvKea10ueWHko9+v3DseO/w/jTTXWeN/BUvhS6WSF2nsJ2xFIw5U/3W9/fvXJmvXoV6eIpqrSd0wEpDS10HhDwjdeLNTMMbeTaw4M8+M7R2A9SaK1aFGm6lR2SGc5RXtF1eeBfAOLQWiXN6g+YLGJZR/vM3C/TI+lQRfEfwdqzfZtU0oxRtxvnt0dR9cZI/KvGWa1prnp4eTj3/wCAOx49SZr03xl8OrQaWdc8Jt5lts8x7dG3qU/vIf6fl6V5ia9LCYyli6fPT+a6r1ADSUVp+Go0m8WaTHKiyRvfQqysMhgXGQR3Fb1JckXLsMzKK928deArPV9CZ9GsoLe+tsvGIYwnmjuhx19vf614UQVYhgQQcEHtXDl+YU8dTc4aNboByd/pS0kfU/SvWtY0ywj+CUN2llbrcm2gJmESh8l1yd2M1ticWsM6cWr87t95J5NSGlpK7QCkq7pGk3et6rDp+nx75pmwM9FHcn0AFetJoHg74fWEU2u+XeXrjIMqeYzn/YToB7n8683GZhTwrULOU3sluM8Yor2AfFTwrK3kzaLOIDxkwRkY91zS6n4K8OeMtIfUvCEkNvcjosXyozf3WT+E+4x+NcizaVNr6zScE+u6+YHj9NNSzwS2tzJb3CNHLExR0YcqRwRUR617aaaugEorT8NRpN4r0mOVFeN72FWRhkMC4yCK7b4w6fZ2F3pQsbSC2DpLuEMYTdyvXFcVTFqGJhh7ayTd/QZ5tRRRXaA5fvCoamX7wqGkwQUV69PpWnj4Fi8FjbC6+yofP8ld+fMAzuxmvIa4MJi1ilOytytr7igpKWvXvhNpen33g/UJb2xtriRbpwrywq5A8teMkUY3FrCUfatXA8hooorsAKKv6Fo1z4g1q30yywJJmwWPRFHJY/QV6zcw+CfhtbxQ3dqNQ1Fl3fNGJJD/ALXPCD/PNefisdHDzVOMXKb2S/XsB4tRXsEfxU8LXzC31PQWSBuCzRRyKPqP8M1Q8beAtLm0E+JPCLL9nCebJDGcoyd2X0x3H16YxWEMylGoqeIpuF9nuvvA8vT74pKVPvCkr2OguoV6LqnxTkt9J06w8IRyafHbIElM0SMWwAAB1HqSetedV1nw20Jdd8ZQLcRiS2tVM8ysMhscKD/wIjj0zXn46nQdP21dXULu3T7vyGdNafGRBbpJqehxz6hGuFmjcKD+YJX8M15/r2uXXiLWp9SvtoklIAVfuoo4CivVvij4Y0+Xwl/aOkWltC9jN+8NvGq7lztYHHo2Ppg14xXHlMcJUi69CHK9n1sAUUUV7YCGkrX8N+HbzxPrMen2AAJG6SVh8sad2P8Ah3NeryWXgb4c28aahEl5fld3zxiWZvcA8IPy/GvNxeYQw81SinKb6L9QPEaWvZE+KnhG9b7PfaNKsDcZkt43UD3Gf5ZqDxF8O9H8QaOdZ8EPGHILCGJsxy46gA/db26dsCuaOaOElHE03BPruvvGeRUUMpVirAqwOCCOQaK9kApT90UlKfuimAlFFFIAooooAKSijNABmkzQaSgYUUUUAFFFFABRRRQAUUUUAFFFFABRRRQAUlLSUAFFFFIYUUUUAFFFFACj/Vn60lO/gP1ptNgFFFFIAooooAKKKKAFR3jYNGzIw6FTgirrxT3umT6jcXMkrQTRQ4kJYkOrnOSe2z9alh1WwigRG0GzldVAaSSWfLH1IEgH5Crd/LcHw4T/AGVZaZa3EySLsaTzJyoYAqHdiVG5uQMe9ZSk77fkWkYFJRRWhIZooopDL2jaRf69rNtpmkWz3N5cOFjiTqT/AEA6k9q+ifCn7MWmwwpceMdSlu5zy1rZnZGvsXPzN+GKr/sveGIBp+q+Jp4w07S/YoGI+4oAZyPqWUfhXumua3Y+HdEutW1acQWdrGXkc+nYAdyTgAeprCc3flRrCCtdlLw94K8OeFIRHoGj2tnxgyImZG+rnLH8TWnf6lY6VaNdaneQWcCfelnkCKPxNfLni79pLxLqtxJD4Yji0ezyQkhQSTsPUk/KPoBx615Rq+u6rr12bnWtRur+Y/x3Epcj6Z6fhSVNvcbqJbH3d4e8R6b4p0xtR0Sf7TZ+a8SzAYDlTgkZ7Z715L+1J/yImkf9hIf+inre/Z2/5I7Zf9fM/wD6Gawf2pP+RE0j/sJD/wBFPUxVp2KbvC58uUUUV1HOeh/BL/kof/bnJ/Na+h6+ePgl/wAlD/7c5P5rX0Pivhs9/wB7+SGiXf5cMeFQk5ySoNI0pZSNqD6IKPLRVXzWYFhkBRnAoZE2kpLn2ZcE14upepHRRijFSSKDS03FLzTuAtFJzRzTugFopOaOaLoBaKTmjmi6AWpbb/j6i/3x/Ooealts/aov99f51UGuZDPQaKKK/QzpPhmiig19QfPjTTacabQAlJS0lSMKSiikMK7z4S/8h+9/69f/AGYVwZrvPhL/AMh+9/69f/ZhXkZ1/wAi+r6fqi4fEc54y/5HPVP+u5rErb8Zf8jnqn/Xc1iV14P/AHan/hX5Evc7j4Ya9Laa5/ZMrk212CUUnhJAM5H1AI/Ksrx/pSaT4vuFhXbFcAToo7buv/jwNU/CO4eMdK2dftKflnmul+Le3/hILLH3vsvP03H/AOvXkSiqOcrk+3HX1XU0WsTgDU1l/wAhC3/66r/OojUtl/yELf8A66r/ADFe7U+Fknpvxg/5B+mf9dX/AJCvKTXvfi6Hw5Nb2w8UuFjDN5OXdecDP3a5b7F8Mf8Ansn/AH+mr47KMyjQwcabpTla+qjdb+ppKN2eWUGu98S2vgSPw/cNoMqtfjb5QEkp/iGeG46ZrgjX0+FxKxMHNRcdbe8rMm1htIaWkNdQCUlLSUhl/Q9O/tfXrKwyQLiZUYjsueT+Wa9G+K2snT7Gz0CwPkxyR75VTj92OFX6ZB/IVyPw5Cn4gabu9ZMfXy2q98Vyx8bfN0FtHt+mT/XNfPYiKrZrSpy2jFy+d7FdDiDSd+KU0le8I9AvPHthq/w//sfVobqXUBEFEwVSpdT8rZLZ6AZ47mvPm6U4fc/GkNcuHwtLDKSpaJu//DDuNr2WzlHgb4QpdwKFvLiMSAkdZJMYP/AVx/3zXjVev/FHj4d6WIv9X58XT08psV5ObL2lWhQl8Mpa/IpHkEkjzSvJK7O7kszMckk9STTKKK97YR6Z8IPEEqX8+hXDloJUMsAbnaw+8B7Ec/h71x3jXSE0Pxhf2UK7YQ/mRD0VhuA/DOPwq78Niw+Iel7PWTP08ts1ofF0L/wnHy9fsse765b/AOtXgQSo5s4x2nG79U9xnCVq+Fv+Rx0b/r/g/wDRi1lVq+Fv+Rx0b/r/AIP/AEYteviP4M/R/kM9n8W+LW8L+KtH+0MfsF0kiXC/3eVw/wCH8s1xXxS8JLaXA8Q6Woa0uiDOE5Cuejj2b+f1q18bP+P7SP8ArnL/ADWpvhp4kg1jS5fCeuYlVoytvvP348cp9R1Ht9K+RwlOeGwtLHUVtdSXdXevqgPKo/4vpXsmt/8AJBoP+vW3/wDQ0rzbxR4buPC+vT2M2WiI3wSkf6xCeD9R0PvXpOt/8kFg/wCvW3/9DSvUzGpCq8LUg7pzQjxyiiivohHrPwj0+Cx0PUtfugAcmMMR92NBuYj6n/0GvNtd1m51/WrjUbxiXlb5Vzwi9lHsBXqPhrj4GXpi+99nut2P+Bf0rx2vAy5Kpi8RWlunyr0Qxa6LwT4oPhXXxdS+a9pIhS4ijwSwxwQCQMg4/WudpK9mtRhWpunNXTA3/Gus6dr/AIkk1HSoZoUmjXzVmUAlxwTwT2A/HNc8aWkopU40qapx2WgGr4W/5HDRv+v+D/0Ytd78bP8Aj80j/rnL/Na4Lwt/yOGjf9f8H/oxa7342f8AH5pH/XOX+a142J/5GtD0l+TGeW0UUV7oDl+8KhqVfvCoqlgj2m4/5N+X/r0T/wBGCvFq9puP+Tfh/wBeif8AowV4tXg5PtW/xy/QoK9p+Dv/ACJWo/8AX2//AKLSvFq9p+Dv/Ilaj/19v/6LSnnv+5v1QHi1FFFe2B3fwfnhh8dFZiA01rIkWf72VP8AINVf4paVf2fjW7vLqNzb3ZVoJsfKQFA259RjpXH29xNaXUdxayNFNEwZHQ4KkdxXqWjfF62ubMWXi7ThcKRtaaJFZX/3kPH5flXiYmliKGL+t0Y86as11+QHlNdDpXjfWdH0KXSLR4TaS7wyyR7iAwwQD6f416KugfDfxacaXcR2ly/RYZDE+fZH4/IVxvjH4bah4XhN7BIL3TwcNKFw0eem4enuP0qo4/C4qSo1ouMu0l1A41PvCm05fvCm4r2ugdQr2L4b28fhn4faj4ju1w0waRc90TIUfi2f0ryWwspdR1C3srcZluJFjQe5OK9Z+Kl3FoXg7TfDlkdqyBQR/wBM4wOv1bB/A14eaN1pU8IvtvX0WrAPhbqo8Q6HrOh6o/mtIzynPVklyHx9G5/4FXlGo2Mul6pc2NwMS28rRt7kHGa2/h/rP9ieNbGd22wzN9nl9Nr8ZP0OD+Fb/wAYtF+xeJodTjXEV/HhyP8AnomAf02/rSpWwuYyp/ZqK69Vv/mB53RRRXuAezfDuGHwx8NL3xDMgaWZXm56lUyqr+JB/OvIb+/udU1Ca9vpTLPO5d2Pr/h7V69qXy/s9x+V0+zQ5x/11XNeM14WVpVKlevLdya+SBBXc/CnxFLpXiqPTnc/ZNQPlshPCyY+Vh79vx9q4atPwyWHizSDH977bDj/AL7FejjKUa2HnCW1mM6L4raMmleNZJoFCxX0YuMDoGJIb9Rn8a4qvUvjeF/tDSCPveVLn6ZXH9a8trDK6kqmCpyl2/LQApT90UlKfuivSASiiikAUlFGaAA0lJmigYUUUUAFFFFABRRRQAUUUUAFFFFABRRRQAUUlFAwooopAFFFFABRRRQAUUUUAO/gP1ptO/gP1ptNgFFFFIAooooAKSikoGb+iy6Lb2JlnmC6pvOw3UBkgiXsQFzub/eGB6HtY16KLVxb3g16yvLtLbZcF2kRnZWbGN6DPybR+FcxUlvbz3cyw2sMk0rdEjQsx/AVi6fvc1yr6WI6KlubW4spjDeQSW8o6pKhVh+BqKrvcQUUUUwPrP8AZnx/wqmXH/QSm/8AQUq1+0bDcS/CGdrfdsju4Xmx/cyRz/wIrXC/syeM7S0e/wDCl9MsUlzL9qs9xwJG2gOg98KpA+tfQupabaaxplxp+pQJcWlzGY5YnHDKe1csvdnc6I6xsfnvRX01q37LWj3F00mja/dWUTHIimgE232Byp/OpNF/Zd0S0u0l1vXLrUI1OfJiiEIb2Jyxx9MVt7SJl7OR1X7P9nLafBvSzMpUzyTSqCP4TIcH8cZrmf2pD/xQukD/AKiX/tJ69qtLWCws4bSziSG3gQRxRoMKigYAA+lfMv7S/jK01fXbDw7p0yzLpm+S6ZDkCVsAJ9VAOf8Aex2rGOs7mktI2PDaKKK6jA9D+CX/ACUP/tzk/mtfRFfO/wAEf+Sif9ucn81r6LVS7YBUe5OK+Hzz/e/kikO3I6gS7lZRjIGc/hTXVQMpIG9sEGp3fbCvmbZtxPPpj3qGVVVwFyOASD2rxGi2iOinUuKViBlFPxRiiwxlFPxRiiwDKKfijFFhDKMU/FGKLAMxUtt/x9Rf74/nTcVJbD/Sov8AfH86uC95DO/ooor9DOg+GaQ0uaaa+oPAENJRRSAQ0lBopDEooopDA13nwl/5D97/ANev/s4rgzXdfCiRI9evTI6qPs3G44/iFeRnWuX1fT9UXD4jnvGX/I56p/13NYZr1zVvh7p2ratc38mrtG1w5cooUgfrVVPh74Y08+bqmsF0Xna8yRqfr3/I1wYfPMHChCF22klZJ9huDuYfwx0SW98QjUnQi2swSGI4ZyMAfgDn8vWqHxD1RNT8YXHksGjtlFupHcjJP/jxNdJr/j7TtL0v+yfCCKoClfPRdqRjvtzyT7/jzXmZOTk8k9a1wNKtiMVLHV48qtaKe9u7G7JWQhqay/5CFv8A9dV/nUJqaz41C3zx+9X+de3P4WSem/GD/kH6Z/11f+Qryk17x4r8O2XiqC2jn1AW4gZmBQqc5HufauZ/4VTpf/Qcf/vlf8a+PyjNcLhcHGlVbTV+j7mkotu55ZRXpt18LtMt7OaZdadjHGzhdq84GfWvMq+jwmOoYxN0Xe3k1+YrNDaSlpDXaISkNKaQ0hmj4e1IaR4jsL9vuQTKz4/u9G/QmvQPi3ozXEdnrtqPMiVPJlZeQFJyjfTkjPuK8ur0fwT4+tYdNGheJsNa7fLimddyhf7jj09DXhZlRqwrQxlBczjo13T/AMil2PNjSV69dfCvQ9Wb7VoeqNDC/ICETIPocg/qaks/Anhfwky3+u6gs7x/MguCFTPsg5Y+3P0rN59hHH3buX8tnf8AyDlZy03gCGw8Bf27qV5LBcGISC32DGWOEHrzkZ9Oa4U12fjzxufE8yWtiGj06B8ru4Mrf3iOw9B/kcYa7cvWJdLnxL96TvbsuiDQSvZfJPjb4PxRWvz3dvEqhe/mRcY+pX/0IV41XT+CfGU3hPUW8xWmsZyBPEOo9GX3H61jmeGqVqcalH44O68/IaOWZSrFWGCDgg9qSvab3wr4S8eMdQ0m+WG6k5kMBGSfV4zyD+X41Ut/hBpFi32jV9XklgTlhtWFfxYk/wBK5lnuFUbVE4y/ls7jsZHwf0KWfWZtalQiC2QxRMR96RuuPoufzFcv471ZNZ8aX9zA26FXEUZHQhRtyPqQT+Ndr4t8fabpmjHQfB2wLsMbTwjCRr3CnuT/AHv1J6eVGngKdWtiJ42rHlurRT3t5+oDa1vC3/I46N/1/wAH/oxaya1fC5C+L9HLEAC+gJJ7fvFr1a/8GXo/yGd58bP+P7SP+ucv81rzO2uZrO6iubWRopoXDo69VI6GvSfjRLHLe6T5bq+I5c7TnHK15jXnZMr5fTT8/wA2B7XILX4peAxJGEj1W17f3Jccj/db/PSk8Qwy23wNSG4Ro5Y7e3V0YYKkSJkGvNvBfiaXwtry3Q3NbSAJcRj+JM9fqOo/+vXrPxEvrW8+G15La3EcqSiF0KsDuBkU5rw8Rh6uFxdKitabmnHy11X9f5geEGiiivtST1z4TXkGpeGdS0G5PILHb6xyLtOPoQfzFeX6tpdxourXGn3q7ZYHKnj7w7EexHNSaFrd34e1iHUbBv3kZwyno6nqp9jXrTzeEPiZZxG4lFrqKrgAuEmT2GeHH5/hXztRzy7FTrcrdOe9uj/yGeK1ueEPDUninX0sQ7RQhC80qrnYoHH5nAr0BfgvZrLul1qYwjkqIQDj/eyf5VZvPEXhj4eaRJY+HvLu75+oV95Lf3pHHp6D8h1orZxGtH2eCTlN+Wi83cLHmvjHQrXw34gbTbO6e68uNTIzqAVY8449sfnWDU15dz395Nd3chkmmcu7nuTUNe3RjONOMaju7avzGavhb/kcNG/6/wCD/wBGLXe/Gz/j80j/AK5y/wA1rgfDBC+LtHLHAF9AST2/eLXtfjDwjp/i+a1e41QW32ZWACbW3bsep9q8DMK8MPmNGrU2SYHgFFet/wDCn9I/6D7/APfKf41j+Kvhzp3h/wAOXGpW2rtcyQlAIiq85YDsfeu6nnGDqTUIyd3ps/8AIDz5fvCoalX7wqKvUYI9ssYm1n4DmCzG+RbRhtHUlHJI+vy/rXiddz8OfHi+F55LHU9zabcNu3KMmF+m7HcHjI9q7DUvhr4c8VyNqXh/U1tvOO5vs+JY8n/ZyCp9s/hXzNKussr1IV0+ST5k91r0ZR4tXtnwvibSvhte312NkUkktwpPHyKgGfzU1Vsvg/o+mP8Aatd1driCPkqVECH/AHjuPH4isz4g+P7K40v/AIR7wyVNrgJNNGMJtHRE9uOT+FTi8THM+XD4ZNq6bdtEkB5hRRRX0wGx4f8ACuq+J2uBpEKSm32mQNIExuzjr16Gsy8s5tPvp7O6TZPbyNHIuc4YHBrd8E+Kn8J+IFu2RpLaVfLuI16lc5yPcH+o716Zq3hHwx8Q2/tXR9TWG6kUeY8OGz/vxnBB/KvIxGOnhMRauv3bWjS2fmB4hXt/wxvbnX/A19aay7XFvG7W6vKckoUGVJ74z+tZlt8E4Ipd+o64zwLyyxQBCR/vFjj8qk8V+MNE8MeGX8OeE2jkmZDEzwtuWIH7xLd3PP0/DFefjsVSzGMaGFXNK61s/d89QPIV+/xzTacn3hTc19R0A9B+EGi/b/FUmoyrmLT48gn/AJ6NkD9Nx/Kur1r4o+HLfV7i0utJlvHtpGiMvlxsDg4OMnpnNM8LSQeDPhLPqTSRi7nja4C7hnc3yxj/ANBP4mvFmYsxZiSxOSSetfMxw0MxxdWrUvyx91dNt/68wPXv+FqeFRyPDsn/AH5i/wAa1fFbW3jz4XPqenxsGhzcRo2NylCQ6nH+zn9K8Mr1b4Na3GI9R0W8dQjD7RGHPB/hcc/8B/WpxuXU8JTWJoX5oNPdvTqB5TSVq+JdLGi+JL6wQho4ZT5bA5yh5X9CKy6+jhNTipx2Yz2fwG0Xir4VXegs4E0KvBz23EsjfTJ/8drx26tZrG8ltbuNopoXKOjdVI61reE/FF14U1pb61HmRsNk8JOBInp7H0Neq3Wn+DfibGl1BdfZ9Q2gHYwSYezIfvY9R+deC5yy3ETlKLdObvddH1uI8Prs/hboMur+MILoofsunnzpHxxu/gH1zz9Aa66L4KadBJ5l9rUzwLywWJYzj/eJP8qfrfjbQPBWiNo/g4QzXWCN8R3pGT1dm/ib259/SjEZlHFQdDBpylLS9rJeoHKfFvV01HxobaFtyWMQhJHTfks38wPwrhqdJI80rySsXkdizMxyWJ6k02vYw1BYejGkuiGFKfuikoP3RXSAUlGaTNIA70UlFAwooooAKKKKACiiigAooooAKKKKACiikoAWkoooGFFFFIAooooAKKKKACiiigAooooAd/AfrTad/AfrTabAKKKSkAZoopKQwooopAFb2pXk+lWNpp+nO1vDPaxzzSxnDXLOMnLDkqp+Xb0ypPXNYNaFprd3aWy2+23uIUJMaXNukvl55O3cDge3Sokm7FJltpJ5vBrvqDM6rdItk0hyfut5gXP8P3M9s496xK6CeWJraDUvEbS3s86f6LZxsIkWMEjccD5VyCAqgdCcjjNeaytNS024v9JhktntAGubd33qEJADoxHqQCp55yCecRGVt/8AgDaMeiiitiR8E0lvcRzQSNHLGwZHQ4KkdCD2NexeFf2kvE2iwpba9aw63CnAlZvKmx7sAQfxGfevGh94fWlb7x+tJxTWoJtPQ+obX9qTwy8Y+2aJqsL9xH5bj8yw/lTbv9qTw4kZ+w6Hqkz9hKY4x+YZv5V8v0VHs4l+0keu+Lv2i/FPiC3ktNGii0O2kBVmhYvMR/vnGPwAPvXkbMzuWdizMckk5JNJRVpJbEtt7hSZozRTEeifBDn4if8AbnJ/Na+joVBVxJ8qdzjoe1fOPwPBPxFG3OfscmMfVa+jvPkxhm3D0YZ/nXxGef738kXGwm6SFiuce3UfWmEkkknJPUmnySGQLlVG3jgU2vDGxB1p1JS5poQUUZozQAUUZozQAUUZozQAUUZozQAVJbf8fUX++P51Hmpbc/6VF/vj+dXD4kB3tFFFfoJ0nwwTTT7UtNNfUHz4UlLSGkAlJS0lIYUUUUhgabSmkpAFIaWkNIYlFFFAwpppTSUmMSkpaQ1ICUHpRQaRQ2kNLSGgBKQ0tJSGFJS0lSAqyPGxMbsh9VOKazF2yxLE9yaSilZbjFH3Pxpppw+5+NNoASk6UtIakYmSpyCQfUUryyS48yRnx03EmmmilZDEpDTqQ0DENJRRSGFFFFADo/4vpS0kff6U6mtiXuJRRRQAUlLSUDHtNKybGkcp/dLHFRUppKVktgCiiigYUUUUAFFFFACr94VFUq/eFRVLBBTo5ZIW3RO0beqtg02ip3KJJriacgzyySkdN7E/zqOkooSS2AWiiigApVZkYMjFWHQg4IpKQ0ATS3dxOu2a4lkX0dyahoopJJbAKn3xSUqffFNpgFFLRSGFFFFIBKWiigAooooAe80sihZJHYDoCxNMoootYApKKKAClP3RSUH7g+tMBM0lFFIYUUUUAFFFFABRRRQAUUUUAFFFFABRRSUAGaKKKBhRRRSAKKKKACiiigAooooAKKKKACiiigBf4D9aTNL/AAH602mwCig0lSMKKKKQwooooAKKKKANyNbLWbG1N3fR2MtjF5U3mDPmxAkqyDu4zt28djnG4iS1mj1rVbLSLZfsWkrMGdSckqOXlkP8TBQx9AOAK5+tfQLvTrL7e+pNcBpLYxQiBRuJZgGGT93KbhnB69DWMo2Ta+RSeot9o2oz61ciOxVA+64XySPJWIkncH+7s7ZzjtWPWpe6ze6jarp9shg0+DMiWcBJVeMl27scDlj+g4qxa6xFc38FtNpdl9hkdYzBFAA4B4yJPv7u+STz2xxTTmlqv6/r/hw0bMMfeH1pW+8frWg2kSC71NI5UMenEl5DxuAkCDHuSw/WqARpJQiKWZmwqgZJPpWiaa0I6jaKUo43ZRhtOGyOh9DRtYoXCnapALY4BPQfofypjEpKmNrOLMXflN9nZzGJcfLuAzjPrg1ZFpFY/Y7i/ja4t7qEyokUmwnDMmCSDjlTn2qXJBYz63ZdO0fTpvsWrXF6bsYEzW6KUgb+7gnLkd+V5z161cSym1vw1dyppcNmtp+/tXij2CVRxIgZjukIGH6nARumayktL7xBdXF2JLeS4d90iyTRxMxPUgMRn3xWXNzbu1irWPRPgtDLoPxYGGjuUawkeKVfuyoSuGHcenqCCD0r3uaQzzvKwALsSQK8H+FDxReONO09JknltNPnEskbblUs4bYGHBA9RxknHrXu1fHZ1OTrqL2t/mUJijFLRXhgJijFLRQAmKMUtFACYoxS0UAJijFLRQAmKMUtFACYqW2H+lRf74/nUdSW3/H1F/vj+dXD4kB31FFFfoZufCxpKKK+nPACm0tJSAKSg0UigoooNACUlBopAFJS02kMKKKSkMD0ptONNpMYGkNKaSkAlB6UUhpFCUlLTTQAUlFFIYUlLRUAMooooYxf4fxptO/h/GmmgBKQ0tJUjENJSmkoGFIaWkNIY2iiikMKKKKAHR9/pTqbH3+lOqlsS9xDRQaKQBSUUUDG0UppKQwooooAKKKKACg0UlADl+8KiqRfvCo6ljQUlLRUjEoopaACkpaSgAFFFFABRRRSGKn3hSUqffFJR0ASloopAFFFFABRRRQAUUUUAFJS0nSgAJpKM0lAwpx+4KbTj9wUwG0UUUgCiiigAooooAKKKKACiiigAoopKACiiikMKKKKACiiigAooooAKKKKACiiigAooooAKSiigB3/ACzP1plO/wCWZ+tNoY0FFFFSMKKKKACiiigAooooAKKKKALuk366dqAmli86FkeKWMNtLI6lWAPY4PB9cVfgudF0mX7bp015d3aHNuk8CxrC3Z2IdtxHUDAGQCfQ4dFQ4JsdzYcm08JxKx/e6lcmVs9fLjyqn8WZ/wDvgVd8M2+lHWrS5F5cC4tM3bwyWw2N5SmQgOHz/D3WucV23Jk7tn3Q3IHOcYrV/wCEgZEn2abYJPNE8JnjjZGVWGGwFYLyCR93vUSjLlaXUE1cIGP/AAh2pOxyz39sMnv8k5P9KSw/eeFtYj/uvbzfkWT/ANqVSW+ZdIksNg2yTpMXzzlVZQP/AB41fsNY06wsLiD+ypJ2uoVimaW6O04dXyoVQRyo7njNEk7Oy6/5DViTwvKEk1BblDcWYtHlntM48/b93B/hKk7tw5AB96ffXEWqeE0ktrKK0GnXWzZEztlJVyCSxJ4MZ9B83Sslb+S21H7ZpoNi6nMYidvk4xwSc/8A66fea1qN/CILq8leEHIhB2oD67Rxn3xQ4Ny5gvpY0NLvlhvbfWNU1OSWW3YCO3UGSR1X+ElvlVCOOp47ViztG9xI8MZjjZiUQtu2jPAz3+tR0Vaik7iuei/A7/kon/bnJ/Na+ja+cvgd/wAlF/7c5f5rX0bXxWef738kUtgooorxBhRRRQAUUUUAFFFFABRRRQAUUUUAFSW//H1F/vj+dR1Jb/8AH1F/vj+dVD4kM72iiiv0M2PhWip/LX0o8tf7or6jlPneZFekqwY09Kb5aelHKx8yIDRU3lrSeUKXKyuZEVIal8r3ppiPYilysfMiM0U4xsKbgjtUjuhDSGlNJSGFIaWkpFAabTjSUmAhptT29rc3kwhs4JbiU9EiQsx/AV1GnfDDxTqADNZLaIejXMgX9Bk/pXPWxFGj/Ekl6saTZyFIa9StfgneuB9t1mCI9xFCX/mRWinwRs8fvdauG/3YVH9TXnSzrAx057/J/wCRfJI8apCa9mf4IWRH7vWrhT/tQqf6is+6+B14oJstbhlPYTQFP1BNEc5wMnbnt8n/AJD5JHlNJXaal8KfFmngslnHeIP4raUN/wCOnB/SuTvLK70+cw39tNbSjqk0ZRvyNd9LEUay/dyT9BWaK1FLk+tGT61qIZRS5NGTQxh/D+NMNSZO38aaWNIBtJTtxpCxqRjKKduPrSbj60ANoNLuPrRub1pDGUU7e3rSbm9aQxKKXc3rRvb1oAWPv9KWhGJzz2pcn1qlsJ7iUUu4+tG4+tADTSdqduPrSbz60hiUlO3t60bm9aQDaKdub1o3N60ANopd7etG9vWgBKSnb29aTc3rQMF+8KjqVWbcOaj3N61LGNop25vWjc3rSGNpaC7etLvb1oAbRS729aN7etLQNRtLS729aN7etGgaiUUu9vWje3rS0GCffFJTkdtw5oDN3NOyaENop+40bj60WC4yin7j60bm9aLBcZRTt7etG8+tFguNpKfvb1o3t60WQXGGkNSbm9aNx9aLILkVFS7m9aTc3rRYdyOnH7op25vWguwUc0aAR0U7e3rRvb1paD1G0U7e3rRvb1o0DUbRTt7etG9vWjQNRtFO3t60b29aNA1G0lO3t60b29aWgajaKdvb1o3t60aDG0U7e3rRvb1o0DUbRTt7etG9vWjQBtFO3t60b29aNAG0U7e3rRvb1o0AbRTt7etG9vWjQBtFLvb1o3n1o0ASkNO3t60m9vWloGomaSneY3rR5jetGg9Q/wCWR+tNqQO3l9e9G9vWiyER0VJvb1o3t60WQ9SOipN7etG9vWiyDUjoqTe3rRvb1osg1I6KeXb1pPMb1pWQajaKd5jetHmN60aBqNop3mP60eY3rRoGo0feH1ob7x+tODtuHPehnbceaNLC1uMoNLvb1/SjzG9aWg9RtFO8xvWjzG9aNB6jaKDSUhno3wO/5KN/25yfzWvo2vnL4Hf8lG/7c5f5rX0divic8/3r5IuOwlFLijFeGMSjFKKdimAzFGKfijFOwDMUYp+KKLAMxRin0UWAZijFPoxRYBmKkt/+PqL/AHx/OkxUlv8A8fMX++P51UF7yGd1RRRX6Canw9RRSV9WfMiUhpaSgpCUUUUhgabS0hNAxKDRSGpAQgd6aUBp1IaTKRGY/Q00qR2qWvQfCHwym1JUvvEAe3tT8yW/R5B7/wB0fr9K48XiqGEp+0qu35v0NI80nZHFaN4e1TxDdeTpVq0xH336In1boK9R8P8AwfsLfZJrs7X03/PCIlIx+PU/p9K6+OWz0m3jstMt0iiUYVUXCj/H61qWExeRCx6mvmauLxmMfu/u4f8Akz/yPQpYVtXY/TtCtdNgENjaw2kX9yJAM/XFXzBDEu6ToO7Hiqmr65a6LA8t0wYhMrGDyf8AOa8n174jXd+skeEVGZgiLyAPrWUMFQg725n56nVGnFHaeLPH2n+HOIf3shHCx49K85vPivrF3MnkyrCituAKg/zFcbdTteTvJKTuzk5qo4B5U5rsjFJaI0SSO+HxO1d2dJmEm9tzHiuz8OfETT7qDZfy+QynGZG4rwxWZDUyyMqbQcA9abimtR2TPcrzxRfQeJLeK0uI5bOcqACoIwT2PWtGXV7DV/EE/h3VtKSdQ2EaQK6NwD0I46+9eJeHteOk6lA9yhmtkcMyA8j6V7Jp2t+G9T8RW93aNM91KRhx0Bx0Nc88HQlry2fdaGMqaMTxD8F9Jv8AzJfD1wdPuOvkuS8RP/oS/r9K8l8Q+FNY8L3PlaxZtErHCTL80cn0b+nX2r27x3JdRXcEthcPBMpbDqSD19qzbHx7Dc79H8ZWcdzbOvzzhAy44HzL+PUflW1Ori8Mr39pHs9/v6nJOmuayPCKK9T8ZfCbyrU6x4Lf7bYuu82qtvZR6of4h7dfrXlpGDg8EV7FDE0sRDmpv/Nepg01uH8P40007+H8aZXQIKSlpDUjG0UUUDCm0tJSGJRRRSGFJS0lAD07/SlpI+/0pafQl7hSUtFAxuaSlPWkpAFFFFAwooooADSUtJSAKKKKBir94VHUi/eFR0mAUUUlSMDRS0lACUtFFIYlLRSUgFooooAVPvilpF+8KKtbCe4UZoNFAgooooGFFFFIAooooAKKKKAEooNFABQ33Voob7i0DGUUUVIwooooAKKKKACkoooGFFFFIAooooAKKKKACiiigAooooAKKKKACiijNACUUUdqBiZooopAFFFFIY9f9WfrSUq/6s/WkqiQooooAKKKSgBaTNBpKBi0lFFSAUUUUDCiiigAH3h9aRvvH60o+8PrSN94/WjoLqJRRRSGFJS0lAwpaKKAPRfgb/yUb/tzl/mtfR9fOHwN/wCSjf8AbnL/ADWvo+vic8/3r5IuOwUUUV4gwHWnU2lyaaAWikyaMmndDFopMmjJouAtFJmjNFwFopuaMmi4Dqkt/wDj5i/3x/Ooc1Lbn/SYv98fzqoP3kB3VFFFfoBqfDhoozikzX1Z80BpKKKCgpDQaQ0hhmkoopAFJRSUgCkwSQAMnpig16d8NPBgcJr2qRZHW0iYf+RD/T8/SuHHYyng6Lqz+S7vsaRi5OyLXgbwBHp0Sax4gjBuAN8UD9Iv9pv9r27fXp1M+rvdXPlRALAPflq2biDz4dh24PXc2M1mx6BAj5BA9g+a+ao0p16n1nFay6LpE9KFLlWhXvry3+zxOD86nBHoKx5/iJpOn5QGSV14+TkbvQ1i/E+7XS7iCxspBueHfNhuRkkAfkBXl7O3HP1rqlFuVz0Iu0Df8R+Kb/xDqLzzy7U5CIhwAKxjK2RznHQVDV/TtOkv5AEXPOM46UaLUcVzaIosxY+5oEMrDKIxHfivTfD/AMOxMyTXQ+Uc4I612sHg7T0hVFgVQtZ+07I09l3Z89kFThgfxp+OnuM17H4j+GttdQmW0/dyDsB1ryrU9Nm0u88mUEYYryOvNUpX0F7NpXKPtW74V1f+yNYhncFkjbcwz1rIngeCVW6A8g1JGcTRzj7rcOM96p7CtZ2PoCeO38QQw3cDB4mGRz681zeo+EpJbwmJIiGBVtxPA/yKz/hrrRi+0aXO+8K+YiTztPp6816R5IyWOckd6cZaHLOklO5xbapdeANDt2+SaE3BDw54KkDoex4NZ3jLwJYeNtFHinwcm27lUvLbhdvn4ODx2cEH2P61d+Ksf/FLxlevnD+VYWk+Jrzwr4Q8PahaHzImkljnhJ4kTzH49j3BrGdOUZe2o6S/B+TInSTR5K6tGWR1KurYZWGCD6VGa9q+K/gWLUdOPi3QIvmK+ZewqPvL/wA9APUd/wA/XPitevh8RHEU+Zb9V2ZwuLi7MKbTqaa6BCUUUUDEpKWkpDEooopDCkpaSgB8ff6UppE7/SlprYl7hRRSUDENJSnrSUhhRRRQAUUUUAJRRRSGFFFFACr94VHUi/eFR0mAlFFLUjEFFFFABRRRUjCiiigAooooAVPviihfviirWwnuFFFFABRRRSAKKKKACiiigAopKWgBDRQaKQwob7q0UN90UAMooopDCiiigApKKKBhRRRSAKKKKACiiigAooooAKKKKACiiigAoozSGgYZ9KSl7UlIAooopDCiiigAooooAev+rP1pKVf9WfrSVXQkKKKDQAUmaM0lIYUUUUhhRRRQAUUUUAFFFFAAPvD60jfeP1pR94fWmt94/WjoLqFJS0lIoWiiigAooooA9G+Bn/JRv+3OX+a19H4r5w+Bn/JR/wDtzl/mtfSO2vis7X+1fJFx2G4oxTttG2vEsUNxRTttG2iwDaKdto20WAbRTttG2iwDaKdgUYosA2inYoxRYBtSW/8Ax8xf74/nTcVJbj/SYv8AfH86qC95AdxRRRX6Canw3SUUV9WfOBQaM0lIYHim0pOaSkAUUUmaQCUUUlAzo/BHho+JdeWOUH7Hb4kuGHcdl+p/lmveobdZY/JgCqkYC7QMAD0rmPB+jL4Y8JRLKoW7uP3s2eu8jhfwH9a29ImfMnzHrzXxk6v1/Fus/ghpHzfV/wBeR1x/dR5mSzW7xOVbAb0rn28QiKZlClgCc49q3tRjM6bzOUcD7xrlL/S/smm3V2kqSsImOB6dzXs4dU5J8xrGcqnwnlfifVG1bXZ7lmLZbA47Dgfpisc9aXcJJSRwueM0zOTk1xytfQ9JGjo+lT6xfrbWq7mJ5ycACvWvDHgv+y/+PgKx6nHNYvwr0nZ5t9IuSwAXI6CvUwoGMVzS95nVD3UOt4lQbVGABVoKB0FQKhBqVe1NIGOKhhjFeQ/FbSxGY7qNcHdzXrprhPiTB9o0GT1U5pST3KhvY8puglx4fjckb42FZURB3Iejcj61IJSLVo+2eaqg4atUZzfvG7bX76fLb3UMm2QAMD6Edq990XUY9T0W3utoLOg3hecH0r5rkmMkcSAcg/zr13wT4u0zS/C62+ozMk8HBG3O4dsUWswklJGt8SnC+E2ZI1P7zow9q4DVpHf4X6I4Rf8Aj6lXAHu1dNr3xD8NapbfZLm3ubiLqwGF/Xmqc/inwifC9pbx6Y0yRTti0abBj6/MTt5z/WrTOdo9E0m+8m3tUmw0E0IDgjge9eFfFHwZ/wAIj4mLWiY02+zLbeiHPzJ+GePYivbN0cthayQp5cbRAquc4Fc54/tpPFnw+v7WLm90SVbraBkyRhWB/Qt/3yPWsYS9hiFUW0tH+jOatC6ufP5NJQaK944hKKKKBiGm0ppKQwooopDCkpa2PDXhLXPF+omy8O6fJeSqMuVwqxj1ZjgD8TSbstRrUyU7/Slr0u8/Z/8AHljZNcLZ2t0QuTFb3IL/AJHGfwNebzwS2txJBcxPDNExSSORSrIw4IIPQ0RlGS0YpRaepHSGuu8H/DTxJ46s7m68P20UkNtII3eWUINxGcDPXjH5iszxZ4S1bwZrI0vXoViuTEsq7HDKynIBBHuCPwo5le1w5Xa5iGkrrfB3w08ReOrS5uPD8MEkds4jkMswTBIyOtbt18AfH9tbtKum28+0Z2RXSFj9ASKlzinZspQk1dI81oqW6tZ7G7ltbyGSC4hYpJFIpVkYdQQehruPDXwY8aeKdPS+stOS2tJRuilvJBH5g9QvLY98YNNySV2JJvY4KkrrfF3wy8U+CYhPrmnEWjNtF1A4kjz6Ej7v4gZqPwb8O9f8eC8Ph2GGT7Fs87zZgmN+7GM9fumjmja9x8rvY5airF9ZzadqNzZXQAmtpWhkAOQGUkHn6iuh8G/DrxB48W8bw9DDILMoJvNmCY3bsYz1+6aG0ldgk27I5aiuu8NfDPxH4s1LVLHR4YHn0qQRXIkmChWJYcE9eUNc3qmm3ejarc6dqULQXVrIY5Y26qw/z170cybsFna5WX7wqKu18UfC/wAS+DdFt9W1yCCO1uJViQxzhyWZSw4HsprZt/2fvHl1bRTxWlmY5UDrm7UcEZFQ5xte41GV9jzGivQPEPwU8Y+GdButY1W2tUs7VQ0rJcqxAJA6d+SK8/oUk9gaa3Ciuo8IfDjxP44Lt4f05pLeNtr3MrCOJT6bj1PsMmtvxD8DfHHh3T5L2fTo7y3iXdI1lKJCg9dvDEfQGpco3tcfK7XPPKKK7zw18GfGPivQLfWdJtLc2dxu8ppbhULBWKk4PbINDaW4JN7HB0Vc1jSbvQtZu9L1KPyruzlaKVc5AYHse4967Dw18GvF/i3w/b6zo1tbPZ3BYRtJcKpO1ip4PupobSV2CTeiODor0LWPgb490awkvJdIW5ijUs4tZlkZR67Qcn8AawPB3gTW/Hd7c2vh+KKSW2jEkgllCYBOO/vS5la9x8rvY51fvCir+taJf+HNdudJ1eAwXlq5SRDz7gg9wRgg9wa6HXfhd4l8OeE4PEepwQLp84jKMk4ZjvGV+WrUlYmzOPor0jTvgN441TS7XULS1tGt7uFJ4i10oJVlDDI7cGo9Y+BvjXQtFu9U1C1tFtbOJppStyrEKBk4Helzx7j5Zdjzuiuw074XeJdU8DyeLLSC3OlRwyzM7TgNtjLBvl6/wmrPhf4P+LPGGgxaxolvbPaSsyq0lwqHKnB4PuKOaPcOVnDUV6JqvwK8faVYvdPpC3McY3OtrOsjgey5yfwBrzwIzSBFVi5OAoHJPpTUk9hNNbiUV6TpHwD8eatYrdfYILFXG5UvJwjkf7oyR9DiuW8V+BvEPgm6SHxFpz2wkz5UwIeOTHow4z7dfakpRbsmNxaV7HPUUV6PpfwI8b6xpFpqVla2jW15Ak8Ra6UEqyhhkduDTcktxJN7HnFFdr4k+EPjXwrYve6no7NaRjLz20iyqg9WCnIHuRiuKoTT2G01uFDfdFeg6D8EvGniPQrXV9Os7f7LdpviMtwqMVyRnB9cZrhtSsbjS9QuLC9j8u5tZnhlQ/wspwR+YpJp7A00VKKK7rwp8HPGXjHT0v8ATdPSCykGY7i7kEaye6jqR74xSbS3Gk3scJRXY+MPhX4s8D2wutb08GzLBftVvIJIwT0Bxyv4gUaP8LfE2ueDZvFGnwW7aZDHLI7tOFYCPO75fwNLmVrj5XscdRXY6D8LfE3iPwnP4j0uC3fToBIXZ5wrDYMtxXIxJ5syRhlXewXcxwBnuT6UXTCzGUV2ni74T+KvBOjJqmu20C2jyiEPDOJMMQSMgduDzWL4U8J6t401waToMKy3RjaUh3Cqqr1JJ+oH40XVrhZ3sYtFbvi3wfqvgrWl0rXFhW7aJZdkMokwpJAyR346fSutn+AXjy30yS+ksLfy44TMyC5UvgDOMevtS5kPlZ5rRRRVEhRRRQAUUUUAFIaKKADNFHSkpDCiiikMKKKKACiiigAooooAev8Aqz9aShf9WfrSGq6Ehmg0lFK4wooopDCiiigAooooAKKKKACiiigAH3h9aRvvH60o+8PrSN94/WjoLqJRRRSKCiiigAooooA9H+Bf/JSP+3OX+a19I4r5u+Bf/JSP+3OX+a19I5r4vOv96+SNI7BijFGaM14pQYoxRmjNABiijNGaAFopM0ZoAWikozQAtFJmjNAC0+D/AI+Yv98fzqPNSQH/AEmL/fH86qHxIDt6KKK+/ND4apOtFGa+qPnQPFNzRmikAUUUhpABpKWkoGJXReBNH/trxdaRSLughPnyg/3V6D8TgfjXOGvVPhJZpa6Vqerz8KW8sMeyqNzfzH5V5WbYh4fBznHd6L1ehpTjzSR1Hia6jaPEcvz2zZZQehI/z+dY9j4s8ksEjVnYdzXmV7rNzeahNfNJIpuJGY4Y+ucfTmpbWUXGCs5EyjIGD/OvFw1D2FGMOx686EZxSOg1LxRd3mqNvkZULY2h/lA+ldHq1lFD8Ppb2K4YzTR7QFbK5JHFc/o/hG41NnlmuNgVCRuUjJrpn0iH/hHbSxu7gKxk3vluNqgnOP8APUV3KtyrliOGHSs0eLBdjFf7pKkelT2Vq91qENqoJaVwv5mkuXQ30skYzGZWZR6gscV2PgTRXm8XxXMqfu4VMgB+mB/OueTsrnXGN2ereHdLi0nTIbdFA2qMmt5ApHWud1LUTYQGQkKij5iTXJXXjtHkxa6jtbpgrgZ/KsY67G7R6kCvrS15xpXjbUJGUsYbpCf4SBn8cV3NjfC8hVwpRiM7TV2Jadi6TXO+J7NbrTZlK5G0mtW8vorNC88gRQO9cnqnjvS0VlCzygccRkD9abV0OLs7njV9Aba+mhIxtNUzWlrdyl3qUk0IKhvXrWb1604rQipvoITyCPWr8t05Vw6/eAwf61Q4IyKtRD7QoU/eA496bJhroVnJ3cnJoDbWDAdKWeJo3JPT3qPrTRk009T3C18a6Iug2Hn3sayeSAyKclT6Gn+E9bsZ/iBJ5UizQXtt5IOcrnOcH8sfjXh8bMfkXOT6d66zwNZ6k2sb7SGRSjK6yFSFVgc9awrw5oNFRjzaHN+NtAPhnxlqWlgERRSloc942+Zf0IH4VgV7F+0BpS/b9H1yFfluoTBIR6r8y/mGP5V47Xr4Sq6tCM3ueRJWdgoopK6BAabSmkoGFFFFIYGvqbwpJD8M/wBm/wDt+yt43vJbQXjsw/1ksrBY93qBuUY9j618sV9RfDu60/4nfAmTwlJdLDfW1t9klXqY9pzFJjuvC/iCK56+y7G1LdnmPhH48eKdM8TLd+I9Qm1TTnJ+0W3loDgjgpwNpBxx0rD+Kfi3RfG3i0a1oVhcWRlgVLlZwoMjgkBvlJ/h2j8K7vwp+zhrA8SL/wAJbNajSoyd/wBlnJeb0C8DaM9SaxNY8FeGb743aZ4S8HCSSzWRUv3aYyAlSWlAPsgx9cinF0+a8RNTtZnqfh25T4Sfs922pzQg3kipcvE3BeSZhgfUJj/vmsL9pDRYtV8LaN4rsMSJERE8ij70Ug3I30BH/j9dh8UvGPgTR2tNA8cWM98rKLqOCGPcqY3KCcMv+1ipLS48PfFL4QanpXhaOSKySE2cEM67TFIiq0fGTwDs79q502mptdTdpNOByP7L3/Iua7/19x/+gUvwyu/ilJ8SXTxEmp/2DmbzjfxbVAwdmwsAc7tvTtml/ZhRo/D+vpIpV1vEDKRyDsPFbXwn+Kl1401jWNC14wx39u7PatCuzzIgdpGMn5gcH8fanO/NKyFG1onLeNPDuleI/wBqbSNPaOOSJ7WOe/jxw7xrI4Vvqqxg+xqb48/E3XvDXiCz8P8Ahq7OnqLYXE80ajexZiAoJHAAXPHrXApcXvww/aBW78RzzXQhu2aW6lJZpoJVK+Z7na2cDupFen/F/wCFV58RbzT/ABH4Su7SZzbLE6PLhZUyWV1YZB+8fwxVaKUebaxOri7blz4OeK7n4neBtX0nxeEvntyIJZGQDzopFOMgcbgVbke3fmsb9m+xOl6v4109m3G0uYIC3rtaZc/pW/4B8N2/wS+Hmqan4pvYTcTMJZhE2V+UEJEpONzEk/ifbNc5+zReyajqHjK+nx5lzPbzPj1YzE/zqXa0uXYpXvG+54X4w/5HjXf+wjcf+jGr279ln/j38T/71r/KWua8Q/AXxvqPifVL61trMw3N5NNGWulBKs5I4+hrr/2bdOuNH1Dxnpt6FW5s7mCCUK2QGUzA4PfkVpUlF09GRCLU9Sb4C/8AI9/EL/r+T/0bPUHx38CW3iXRm8Z+G9s9zY7ob9Yh/rEjYqzf7yEEH2H+zU/wF/5Hz4hf9fy/+jZ6wPAXxGXwz8X/ABJ4e1mQf2Pqmr3KqZPuwTGVgCf9luh/A+tRrzuS6FacqTOm/aJ/5JNo/wD2EYf/AERLXWeMtP8AFep/DbTIPAl2bXUx5DNIJRH+78s5GT7la5r9pZQvw005VACjVYwAO37mWul8Zad4r1P4baXB4FuzaamPIZpBKI/3flnIyfcrUfZj6sv7TPEPHuj/ABb0fwhcz+MNYefSZGSKaP7Ur7iTwMAeoFeRwxNPPHEn3pGCj6k4r1/xz4S+LcPg+8ufF+qm60m32yTRtdq/8QAOAOeSK8eR2ikV4zhlIZT6EV0Q2MJbn1j8Ttek+EXwn03TvCYS3nZ1s4ZSgPlgKWeTB4LEjv3YmvMfh/8AtB6vod1cp40mutas5EzEUVPNjfI7nGVIz17gY716h4o0u2+O3wksbnQbuGK9jdZ1WQ8RzBSrxPjJH3jzjsp6GuL8E/s6fZ2vLz4jTQpaRxHy4ra5I2kcl2fAAAAPHvzjFYR5OX3tzV83N7ux4/4gksvFHj+5fwtZSW9vqd2v2a1kADK7kZXAJAG4nGO2K+sNR1+w+Glt4L8NJs8u8uE08E8YQJt3/XzGjz9TXi/wn8NaNrXx6urnw7HIdB0YtPbtKxbeRhEOTzyxLj6V6B8QfiF8ME8XNp/i3TLvUNQ0lgiyxxErGSA2FIcc9M8dRTnq1EUNE2ed/tKeG/7M8eW2tQpiHVrf5yB/y1jwp/8AHSn616R8NW1BP2X92i+d/aIs742vkAmTzPMl27QO+cYpfi9BZfET4Gr4h0YNItsFv4Cy4YIMrIp9MAsSPVaT4a6pcaJ+y+NUsdn2mys72eLeMruWSUjI7jIqW7wS8ykrTZJ8Ebn4iTtqY8fJeizCp9mbUI9km/J3YyASMY68dMd6yPhKllH8ePHq6Zs+zBm2hPug+b82Pbdmuh8CeMrv4s/CzUrdb3+zdfjR7eWW2Ozy2IJjkHcA9PXhsV5/+zZZXOm+PfEtjfxtFdW9uIpkbqrrJgj86Okg/lOp+OPgS28Z6DJ4l8O7ZtU0gvDcpEPmljQnchH95Dkj1BPXIpnxf/5Nw0r/AK52P/oArmtF+JB8FfH/AMSafqcuNF1LUnWbceIJM4WT6dm9ue1dz+0MkcfweZIFVYluoAioMADnAHtTV04pidmmzTvLHxJqPwL0S38F3JttWbT7IxyCQJhQibuT7V494z0T4xaP4P1C88T608ukqgjuUF2r7ldgmMAc8sK9gu7HxJqPwK0S38F3JttWbT7IxyCUR4UIm7k+1eR+LvB/xiHhLUZPE+rG50qGLzrmJrxWDKhDdMc4IB/Cinv0Ce3U7bwR/wAmkX3/AGDdR/8AQpatfCNrxf2b7htK837cIL423kjL+Z8+3aPXOMVV8D/8mkX3/YN1H/0KWrXwi1CbSf2b7jUbTb59nBfTxbxkbk3sMj0yKUtn6jjuvQX4JXPxHnvtRHjtL8aeIh5DahHsk83PRcgEjGc9ulc54L8N6Tq37T/iW6ijjktdLd7iJAAVFwSqk49mLn2IFdj8N/HV18Vfh3qlpNeDTteiV4JJrX5Cm8Hy5VHb0+qnpkV498HNe/4V98XrrTvE7fZftIexuJJW4jlDgqxPoSuM/wC1npTs/e7i0902Pi/8X/FNj8Q73SPD2pPp1nprLEBEi7pX2gszEg9zjHTArv8ATL7/AIW7+z3eS67FG98kMymRVAAniBKSD0z8ucepHSua+KfwJ1vxJ42uNd8MTWjw35V5op5ChjcAAkcHIOM+uSeK6PUEs/gr8B5dKuryObUriGWOML/y2nkBBKg87VBHPovqcUPlcVy7gua75tj5Sr6v8S65qXh39mTStS0W7e0vItOsAkyAEqCIwevHQmvlCvrjVfC+oeMf2cdI0XR/K+1z6bYsnnPtXCiNjzg9hWlW11cins7HL/An4p6/4r8Q3fh7xTcrqCtatNDM8aqw2kAocAAghs888V5Z478Ei0+Nt34W0WMJHdXsS2yAcRiYK2Pou8j6CvZPhN8J7j4Z3l/4m8XajZRslq0arHISkKEgs7MQOflA496xPhqY/iL+0JrnjFEJsLBc25YdSV8qMkdsorN7GoUkpNx2Ks2knuepap4o0/wVr3g/wlCqpDqBa2TPWNI49sf5sVH518+ftFeG/wCxfiUdQhTbb6tCLgEDjzB8rj9A3/Aq9O8Z/En4Wp42YeItLvL3VtHlEKXMcWRGyNnCneOjZ7dRR8d9PtfGnwdsfFOk5kW0Md5ExHzeTIAGBHY5KE+m01MLxafcqVpJny0hUOpcZXPIHcV9o+KLbVfGHw3sj8LNdg07dseKWNtqvCFI8sMoJQg47fw4OK+MrP7P9ug+3b/s3mL53l/e2Z+bHvjNfR2qfBzU9G0my1T4LeIr9fP/AHkqPqAVZ0IBVlIAU9+G65HpWlS10TDZmT4q8WfEnwn8P7rQPHnh2PU7S6ie3OrPL5nDcLkpwGB6FsE4FdL8Mf8Ak1nVP+vPUP8A0F66dxq2n/A7VB8U7m1uLoWc6zsu3BBBCKcAAvnAGO+O/Ncv8MP+TWdU/wCvPUP/AEF6yvePzLtqL8Hf+TbtW/3L7/0A18uV9U/A+0l1D9n69s7YAzXDXcUYJwCzLgc/U15Lcfs9+PLa1lnltbIJEhdsXa9AMmtIySk7kSTaVj2Cxf8A4Wj+zI8J/fX0VkYyOrGeDlfxbap/4HXN/su6AIrTW/Ek6gbmWzhc8YAG+T8OU/Kqf7L3iXytQ1fw1O/yzoLy3Un+JcK4+pBQ/wDATXfeOlsvhV8D9Vs9Jby2uHlhtj0O+eRj+aoTj/cFQ9G4dy1raR41oan4q/tIfbHBlsmvTcnPT7PD9wH2IVB/wKvoyHxtbTfFa58G/KXh01Lrd33lvmT/AL4ZG/OvKf2YfDy22laz4ougFEjC0hduMIvzyH6Elf8Avk1dtvi58JD41GuxaZfR6xLJsOoNDjqNmT8/Tb7dKJK7sugR0V31PDPiT4b/AOET+IusaSqbII7gyW4xx5T/ADJ+QIH4Vy9fQn7UXhvbcaP4mgTh1NlcMPUZeP8ATf8AkK+e62g7xuZSVmFFFJmrJFpDQaDQAUmaKKQBRRRSGFFFFABRRRQAUUUUAFFFFADh/qz9abTh/qz9abTEFFJS0hhRRRQAUUUUAFFFFABRRRQAUUUlACj7w+tI33j9aVfvD60jfeP1o6C6iUUUUigooooAKKKKAPR/gX/yUf8A7c5f5rX0hXzf8C/+Skf9ucv81r6RxXxOd/718kaR2EopcUYrxShKKXFGKAEopcUYoASilxRigBKKXFGKAEopcUYoASpLf/j5i/3x/OmYqS3H+kxf74/nVQ+JAdvRRRX6CaHwwaSiivqT50KKKQ0gCkoozQMKQmikpDCvXLM/2J8EGlx880DE+/mPt/kR+VeQ16541/0T4SaVAOAy28Z/CMn+lfOZ6+ZUafeX5HVhleZ5j+6fSlcEiWOcqwxwQw+XB9flb9Kfpp2apEAepxVeNv8AQp4ycZdHA+gb/GptJuTa6pDKqbyrZ2kZzU9D2D0zU9aGk6MsOcvGvGBjJNZWr+I4T4e822aSS5mUwh2AAUfxYGcjqKyvEWoNqcdvdDh2Y7ljX5fauZuGlClcEBTk5HTNZqFnc2uuVIrL8nzEfdPA9a9k8C2o80XQwUkiwpHfpzXjjBmjL4+Vepr1L4V3vm6Y1uSd0MhIyexqKuysVTkr2PRLzR4b2EpKNynqPWuT1v4fWF9CkUEhsmR96uke4Z4HTj09a72Dkc1P5SHqM0ojl2Z53pXghdO02C2hmE3lsS8jAqWBOeBzj867DSrM28O0nO3gE9a0zGiLhVoiGAaoV9DmfE0M80RW3Rn2jJCjLH2Ga8t8T6RrVvcE21nM8TRqVYKOG4yDz9a9teLfK1QT6d5mTk89qoNz501CxubWQrdKc4zuK4zWa3Fe5eJvDNvc2UkjAmRVyM9q8TvIwlzJGOinAo5ug5wXLdECelXLM+U4lf7ucVRHBNXbP94DGx+U9PY03sRT3LmrxI0STJ9xwOfQ1kAfj+NbN3Kp0bycfPG4yfYZrEP3qKb0FW3Nfw9BG2u2jXSt5HmfMRjpivbtE1S2n1g6VptlGlskRbzFx1zXgELurYLMoHOQa9H+Gnie2sL+azuQuZk+SVvvAjt+NbzpwlHmREJNaHWfGGzS/wDhO06jnT7xGz6DJj/9nFfOdfUfjK2S4+DetgAYa3Mxx6gq39K+XKeX6RnHs2ebXVpsSiig16JiIaSiikUFFFFACVa03U77R75LzSryeyuU+7NBIUYfiKq1Zi069ns5LqCzuJLaL/WTJExRPqwGBSY0dLefFHxvqdi9peeJb5oWXayo4QsPQlQCaw9H1zU/D+oC+0W8lsroKUE0RwwB6ioLHT7zUGkWwtJ7pkXLCGIuVHqcCmxWlzOJDDbyyCL/AFmxCdnOOfTmhKKVhNu9yzrOt6n4hvzfa3ezXt0VCebM2TtHQVa0Pxh4g8MxTRaBq1zYJMwaRYXwGI6Gs27s7qxm8m+tpraTG7ZNGUbHrg06fTL608k3lncWyz48tpomUOPUZHNDtawa3uaml+OfE2iSXT6TrV1aNeSma4MTY8xz/Effms3TtZ1HSdWTVNNvJrW+RmZZ42wwLAg8+4JrU8X+Dr3wl4o1HRpGN7/ZwjM1xDG2wB0Vhn0+9jn0qt4f0JdV1qwtdTmn06yvC4F4to83Cgk7UXl+QBx0zU+7a5Wt7EWu+I9Y8S3Udzr2oTX80SeWkkxywXOcZ9Mk/nVzQfHnijwzAYNC1y8tIM58lX3Rg+oVsgflWPPZzQoZfLkNuXZEnMZVXI9M9/amXFtPaTGK7hkgkABKSoVYZ6cGnZWsK7vc0dd8U674nmWXX9Vur9k+4JpCVT6L0H4CnaD4s17wx5//AAj+qXGn/aNvm+S2N+3OM/TJ/OqCadfSWLXqWdw1qpw04iYxg+7YxVaiytYd3e51/wDwtfx3/wBDTqH/AH8rO03xx4m0e8vrvTNaurafUJPNupI3wZnyTlvfLH86yrnTr6yijkvLO4t45RmN5YmUOPYkc0f2bffbTZ/Yrj7SBkweU28DGc7cZ6c0uWPYd5GlpPjLxFoV3eXOkavc2k98++5kibBlbJOT+LH86ybq6nvbya7u5GlnnkaSWRursxySfck1LHpl/NAJorK4eJkaQOsTFSq/ebOOg7ntSf2bffYftv2K4+yZx9o8pvL/AO+sYp6C1NLVPGXiLXtNh07WdYur20hZXjimfcFYKVB+uCR+NXovip45hiSKLxPqCRooVVEnAA6CuftdOvryOSa0s7ieKIZkeKJmVPqQOKpVLUbDTdzpdT+I3i/WdNm0/VPEF7dWk4AkhkfKuAc8/iBXM1afTb6KxS8ksrhLVzhZ2iYI30bGDTodI1K4Cm30+6lDoZF8uBm3KOrDA6e9Toth6ssaH4l1rw1dNcaBql1p8jDDmCQqH/3h0P41oa58QvFviW0Nrrev3l1bn70JfYjfVVwD+NM07wlNqHgrUvEn2pIodPuobd4ShLMZDjI+npUOv+HhpuvXtlo8tzqtramMfavsUkJO8DGUbleTgZ64461Putj1SGaD4s17wv5//CP6pcaf9o2+b5DY37c4z9Mn86zr28uNRvp7y+mee5uJDJLK5yzsTkk/jRdWd1Y3Bgvbaa3mABMc0ZRvyPNOu9OvbDZ9us7i28wZTzomTcPUZHNPQWprWHjnxPpmhnRrDW7uDTSrobVX+Ta2dwx6HJ/Om23jXxJZ+HW0K11m6i0tkeNrRX+Qq5JYY98n86x7a1uLy4WCzgkuJm+7HEhZj9AOaWW1uILo200EsdwG2mJ0IcH0x1zRZBdl/QvE2teGLiWfQNSuNPlmTZI0DY3DOcGrVt478T2WtXer2mtXUOoXihbi4RgGlAxjPr0FZNzpt9Z3CQXllcW80mNkcsTKzZ6YBGTSy6TqMMRlmsLqONZPKLvCwAf+7nHX2osguxLy/utU1Ka+1Cd7i6uHLyyucl2PUmtS+8ZeI9U0OLR9R1m6udOiChLaR8qoUYX8qybiyurC5EN9bTW0uM+XNGUbB6HBp9pp17f7/sFncXXljL+TEz7R6nA4qtLC1udFa/E/xrY2cNpaeJb6KCCNY4o1k4RVGAB9AKbffErxlqdhPZX/AIjvp7a4QxyxO+VdT1BrnbWyur648iytprmbGfLhjLt+Q5pRYXjTywrazmWFS0sYjO6MDqWHYD3o5Y9h3Zq2vjXxJZeHn0K01m6i0t0eNrRW+Qq+dwx75P50ll418SadoL6LY6zdQabIro9qj4Rg+dwx75NZ66PqT3bWqaddtcKm9oRAxcLjOSuM4wRzUL2V1G0KyW0ytOAYg0ZBkB6FfX8KVkF2XND8R6x4au5LrQNRnsJ5E8t3hbBZcg4P4gVDq2r3+u6lJqGr3T3d3LjzJpPvNgYGfwAFRXlheafKIr+1ntZCMhJ4yhI9cGtu28G3t54DHiW1fzw2qf2atnHGWkZ/K8zcMdscYpaLUNdibSfiX4z0OxWz0vxFew2yDakTOHCD0XcDgfSsXV9b1TX743mt6hcX9wRjzLiQuQPQZ6D2FVntLhLs2rwSrcBthhKEPu9NvXPtUk+m31rdpa3NlcQ3L4CQyRMrtnphSMnNFluF2Vq6mz+J3jWwsoLOy8SX0NvbxrFFGsnCKowAPYAVz8mmX8JjE1lcxmVzHHuiYb3BwVHHJB4IrU8ReH4tIvrCwsnu7q7mto3nV7Zo8St1jQEZYDpnHJzih2e4K6I9a8YeI/EcYj1zW76+iU5EU07FAfXb0z+FLoXjHxD4Yhli8P6tc6fHMwaRYGxvIGATT9E8Nfb7yWPWZbrSoRbTSxSmxkl8x4/4ML054J6DvWXb6bfXdvJPa2VxPDF/rJIomZU+pAwKNNh67kNxPLd3UtxcyNLNM5kkkY5LMTkk+5NbcfjnxPb+Hf7Dh1q7XSzE0Jtd/wAhRs5XHpyawKs3OnXttZw3NxZ3EUEv+rlkiZVf6EjBp6CV7lOuh0Hx74q8MW/2fQtdvLODORCsm6MH1CnIH5VkLpl+9ib1LK5a0U4NwImMY/4FjFatz4L1q18HWniaW2P9nXUrRoQGLLj+JhjhT2Oeal26lK/Qj1/xn4j8U7R4g1m7vkQ5WOWT5FPqFHGffFOsfGviTTNBk0Ww1m6g02RXR7VHwjB87hj3yaPEPh1dM1y5stGnudWtoEjZrn7FJARuUHlG5Xk4yetZ/wDYuqfaZLf+zLzz4k3yRfZ23IvqRjIHvS0sPU1NF8e+KvDunix0TXLuytQxcRQvhcnqauy/Fbx1NC8UvijUGR1Kspk6g9RXM2dheajKYtPtJ7qRRkpBEXIHrgU2K0uZ7sWsNvLJcFtohRCXJ9NvXNOyC7J9I1jUdB1KPUNGvJbO7iBCTRNhhkYP6GtDXfGviTxPax22v6zdX8MT+Ykcz5CtjGfrgmptR8G3mmeB7PxHdShBdXslmbV4yskbIMknP8qxrnTb+yhjmvLK4t4peY3liZVf6EjmjR6hqjVsPHXifTNDOjafrd3bacVdDbRvhcPncPxyawKkggmup0htonmlc4WONSzMfYDrUp02+W/+wtZXAu/+fcxN5nTP3cZ6c0aIWprar468T65pQ03WNbu7yyUqRDM+VBXofwrAq2NJ1Em3A0+6zdf6geS377/d4+b8KrzQS28zw3ETwyocOjqVZT6EHpQrdA1I6M13+j/C37bpOm3WteJdN0O41gbtNtLsOXnXOAzEDCKT0J61x9zo1zZeIn0a72pcx3P2ZyrblDbtuQR1HvRzIdmZ9FdD4s8G6j4V1/UtPlSS7h0+URS3kULCLJUHr0H3hWPa6bfX0UkllZXFxHEMyNDEzhB7kDildBYrUVYt7C8vFLWlpPOoYITFGWAY9BwOp9KfDpGpXJmFvp91KbckTCOBm8ojqGwOPxoAqUVYs7C81GYxafaT3UgGSkEZdgPXAqGSN4pGjlRkdThlYYIPoRQA2iiigAooooAKKKKACiiigBf+WZ+tJS/8sz9aSgQUUUUDCiiigAooooAKKKKACiiigBKKKKABfvD60N94/WhfvD60jfeP1o6B1CiiikMKKKSgAozRRSA9I+BX/JSP+3OX+a19JV82/An/AJKR/wBucv8ANa+k6+Kzv/evkjWOwlFLRXilCYoxS0oFACBfWlxS0VYCYoxS0UAJijFLRQAmKMUtFACYqSAf6RH/AL4/nTKkg/4+I/8AfH86qHxIDs6KKK++LPheio/N9qTzR6V9PdHz3KySio/NFG8UXQ+Vj80hpuf85oNAC02iikAV638R+fhtoxXp5sP/AKKavJK9f8Swtq/wi0dovmYC2J+u3Yf1NfOZ1pUoS/vP8Trwn8Q8tgtjL53BP7kleP4sj/GphY3umPHcSx7MqdvIrurDwPfQ2MM5ktyY8My7jkj06VF49tJraOFXj2gcHjviuf2jufQeyi1co/DuSBXvhO+FjQP8wBzyBS+JrWSWUyWUrtHdttmRjgDH3Af/AB6sjwgbOPXQNSuRBBjkspIb0GBXa+IdR0jS9Lmht1E8twh2KB1PHzE9gKiXNzXuVBLlseWyxmESwuhDxttPPoa7n4VT7L29gIyVj3rgdsgf1rB07QftWmPqd9MYo2lCqSMlsdTj9Pwq14B1aO18axs6rHFeI0JwMAZ5H5kAfjVOXMiVFxaZ7hDeEDnjFSf2lltiHcx9KoNEJFIUkZHBrC1C/vvDM32lbdbyzZQWGcOh749e1NbF8vNsdgtzsb9++Ae5PGatRzRlCdwxXPnXbOSBHuYJ4kkGQxQFSPXINH2m0KfuL1fLPJ4PFNNMXs2a7ThW3Ic88Ad6mW5R17A1z6apo9kpZ9Qiz3LE8VBHrKXkxbTd08OcFwpA/XGaoORl/XZUj0+d3IAVCcn6V843Enm3Uz/3pGI/OvVPHmuTJpr20eQZPlPsK8nxnJ96S3FUTUUgx60+JmRiV4BGDS7Mr6H3pI8k7T93NUZxWpfjRp7dmPOwYPuf/wBVZzjDemK67wrDHqt61ku1XaIhs+gPB+vJpPEHhOaPWvLsI2eN+SccL/8AWqIySeppUXMtDV8NaLbal4cR7i2XeDgMR973q74c8K28Gpag8yAY2LEe8YOckfkK6rSNNjsNJitVHCLjJqMRNDqlxgjEkS4/At/jQpu5UYJrY19aWKD4Q+III5jMIrKRdzNu/hr5cr3+6vbiP4G+K7i9fLtdG3U46jdGv8ya8BwPX9K7cEvjfn+iPFxD/eCUhp2B6/pSED1/Su85xlFOwv8Ae/SkwP736UhiUlOwPX9KTC+v6UDEr6AuV8bNL4Pb4ZsR4fGkR8gj7IJcN532jtn13d+nOa8AwPX9KsR3tzDavbRXc8cEn34lchW+ozg1E48xcZWPYtOHiJ/hLpg+Gxk+3jV7j+1v7IOG37v3XTny9vrx0zXRanqCab4g+I97o0sUV/Bo1s1zLbgbUuv42XtuBwc9m96+fLO8ubJnayuprdmXDGJyhI9Dg01J5I1kVJpFWQYcKSN49/Wp9lcPaHu2j6jb61Y/CrVfGM4u5Gvb2KS5uiCWKsREGY9cME61z3ilPiQmga9/wmL/APEqOoR4GonLGTzPl+y+2Ou3jbn3rylpneFInmcxISUQklVz1wO1PuL25u1jW6vJ5liGIxI5YIPbJ4o9nZhz3R9C+JLK41nxd8WdH02Pz9QurPT3gt1I3SBEQtgd8ZH5im+HNMutG1P4QafqMXk3UB1QSx7gShIJ2nHcZwR2ORXz4L25W7+1LeTi4/57Bzv6Y65z0oF7cq0bC7mBiJMZDn5CeuOeM1Psna1/6tYr2ive39XuerXXh/U/FfwX0638P2xvZrLXbr7SiMAYQ2SGbJ4GCOegrF+O4x8Wr4Agj7Pb8g8H9ytcBHdTQpKkNzKiTDEiqxAce/rTZpXuJDJPM8rkYLOST+Zq1Bp3Jck1Y+kov+EhPxJ0F9CaT/hXw0yPOCPsQt/KPmeZ/Duznrz0968d8CHQx8ZtON35f9j/ANpN5Xm/dxlvKzntnZ1rk1vblLNrRLudbZjloQ5CE/7ucVXwvr+lKNOyaG53PXPGK/ElNB8Tnxa//EnN6mBqJzlvMOz7L7Y67eMfjXfr4e1Ob9oqTxRHb7tFutP3QXocbJc2oUBeeTwTj0GelfNlxe3N3HHHdXc8yRDEayOWCD2BPFKt/dokape3CrFkRgSMAmeuOeKn2bsPnVz0vXtf1TSPgD4ItdMvJLWK/wD7RjuREcGVBMRtJ67TuOR0P4V3hh1rXdH8q4/trwwY9B2mVHiutFliEf4qrMPTJH8/nN5neFInmdo487EJJC564HapDf3X2MWhvJ/s2c+R5h2Z/wB3OKbpgqh7jpo8UvoXw7Pw5Nx/ZSov9ofZDhBcbx5vn47Y/vdulea+LzoJ+NV8bfyzon9qr5vl/c2bx5mMds7ulcxbXt1ao8Vtdzwxy8SJG5UP9QDzVPC/3v0o5Lai57n0rcjxIPiB4pk8StL/AMIEdMl2byPsZh2DyvK/h35x93nP4Vzb+JtY0LR/hRbaRfy2kN0qi4SI4Ew89Rtf+8MMeDxya8Ve9uZLNbSS8na2Q5WFnJRT7LnFMNxKwiDXEhEP+ryx+T6elZ+zL5z3HxPDHb+HfiXHAixoPEtsQqjAGXyf1NbXifUrrSde+MN9p0zQXUMOlmOVfvISijI9CM8Hsea+dmu53WQPdTMJGDOCxO8+p9TQ95cSGUyXczGbHm7nJ346Z9ce9Hs/6+4Oc9/0W/ttYvfhHq/iyZbm6uI9Qja5uSCZJEbEO4nqQ2MZ7msrx1caknw11yDXdI8SuHvYjDdeILuFvImDc+SAqsysu4fLkAc8DNeJPNJJHHG80jRx52KSSEz1wO1SXN9dXqoLy8nuBGMIJXLbR6DJ4o9nrcXPoel/C77c3w/8Yr4RLjxSVt/I8g4uDb7/AN55XfPrjnp3xXTeGv8AhI1+Ienr43eyPiT/AIR6caP5pX7QJ/8All52f48b8Z5614VBPJazrNazyQyr9142KsPoRSyXEs1wZ5p5JJidxkZiWJ9c9abhdgp2Pbca8nw+0tfiMbr+1z4ntzpY1Ak3GzK+ZjPzbP0zj2rbu/FWtf8ACWfFK1/tCU2+m2DzWcJxtt5FIIdB0VsnORznnrXzzc311dzrNdXk88q4CvK7My46YJNNN3OWlY3U26YYlO45ceh9fxpezHznpPxIv7rWPhn8O9U1Od7q/ngvkluZTl5AkqhcnqcCtzR18UP8IPCg+F5uRcC+uP7XFicSedvHlebj+DZ68YxmvGfOeRY45JpGjjzsRiSFz1wO1S217c2W/wCxXc9vvGH8pyu4ehweavk92xPNrc9r0bT/ABB53jPU59QvWvft0Vve2XhCJPOlkxneJMFkUHIO3q27NdTeSyWHxOur+JGju/8AhXzzuZisjmRW6uwGHb5QCcYOPSvmq2vLizZ2s7uaBnG1jE5UsPQ4PIo+2XG7P2ubPl+Vnefuf3evT26VLp3Gqh7F4V1XxT4i+E+tT+GL+6uvFsmrRNfSxzf6U9oIgEw2c7Q3p7102o6dq+o+OvB7yambPVbTwu9xPJZwxTSzSLkOkQPymQknke+K8T8MeItI0e2urbWvD0OrxTkMsi3D288RHZZFz8p7jFO8WeM5/EuqWFxbQLpVtplslpY29s7EwRrnHznktz1pODvoNSVj0b4opNJ8F9Fmv4dZW5j1h0RtdlEl2EaNiQxwCoJAIU9gD6VkaJrmpaB+zhcXWi3ktlct4m8vzoW2uqm3BOG6jp27ZHevMp7y4ugwubuaYM+8+Y5bLdM8nr71H5z/AGfyPOfyd2/y8nbu6Zx0zVKGlhc+tz6NaU3XxDhvoDEfE194Ejn0+VwoaS8YN8wzxv2jj2BrItRrKeGfBS/EA3H/AAkH/CXQGx+3Em5Ftld+c/Nt3+v+z2xXhbXMzyRyPcSs8QAjYsSUA6AHtinT31zc3K3NzeTzTrjbLI5ZhjpyTmp9mPnPa4L7X/Evx51+3Gu3VumiG+ltIbeFJZNqnaY4EcbRIw/i68E1vXUcslh8Opr+HWEuo/E6ora5KJLsIecMcAqDgEKe2PavnRLqaO6+0x3Mq3G7d5qsQ+fXPXNPfULuRw8l7cOwfzAzSMSH/vdevvR7MOc9t0LX9U1n40+L7fUr2WeCxs9VhtYWPyQIGxhR0HCjPritb4eWGq6XYeBwt7r99Z3IE4XTRHBp9srv8yTsFJkb1DYOeBzXzytzMkzypcSrJJne4Ygtnrk980+O/u4bcQQ3txHCHDiNZGChh3xnGfeh0wUzq3h0q2+O00OppFHpUfiF0mRgBGsQuCMEf3cdfavW/GlxqENj42XUtI8R3mnS20qq+o3kAsIuf3MkAKjoduFUk46gmvnJ28x2eSRmZjlmbkk+pNTT311PZxW095PJBH9yJ3JVfoCcCqcLiU7H0To8Wt67o2kWkg1vwx5eheWl5bPDc6NLCIz88qnKhmHUdRx9a4fULvXr/wDZp0o2N3eXFta6hLBfeXKzKkIxsVxn7g+XAPA4ryxb+6WyNmt7cC2JyYBI2wn/AHc4pkdzNDBJDFcypFL/AKyNWIV/qO9SqZXOfR/iS/udL8WfFC9sJTDcw6NYtFKvVG2Lhh6EdQex5qhB4v1/7Z8JX/tW436qQl++75rpRMEAkP8AFgM2M9yT1NeAPeXLtIXu5mMoCyEuTvA6A880n2mYeVi5l/c/6r5j+7/3fT8KXsx857tp+lajZQeLLzR7vXmt5fFFxb/2b4aSOOZCjEq0kuCyx4OMfd/Ot7VY5V+JHjo+HFVPE8+g2z2BQr5jEqPNKHu+AvIr5ujv7uHzvJvZ4/tGfO2yMPM/3uefxpovLgXS3Iu5hOmNsu87lx0wc5o9mw5z3jUNO8R6n4G8BWHii9NnrM3iAqbi9RZJIuMoZFb7zYxgN1G0GrvimK9l+Fvj5NYHiKdoZbdop9eZAruJ8F7eNQNifTIIIA6GvnqW7uJxie6mkG8v87k/Mep5PX3p8+pXtzu+039zNvUK3mSs24DoDk8gUezYc56d8EDb/YvFv2dbx9aNjH9iXTnRLox7z53klgQGxs7Zx05rutKuLiX4m/DqLU9L1W1vYxeBbnWbiKS7niMT4EgUBhtOcFgOCevNfOEMr28yywTPFIhyroSCp9iKle+upLz7XJeztc/89jIxf0+9nNN07u4lOyPYY/G/iST4La/qLavci9tddSG2nDYe3Rl5SM9UXjGBjjI6Gud+Obmfxtp11Lgz3Wi2k0z4wXcqcsffgflXnfnyCFofPk8pm3MmTtJ9SPWiWZ7hg088kjKoUFySQB0HPahQs7g5XVj6LM2sa0fAt34S8N6drGkXGm21nqNxPapP5ew7ZIXZs+Wqgk8YySevArxnxDbaVZ/Fq7t/D7K2mxaqFt9jblC7xwD3AOQD6VzsN7c20MkNveTxRSjEiRuVV/qAeagG1WBVyCDkEDpSULA5XPpOXxDqt98d/GHhy7vJJdG/su4X7A3+qH7hWzt6ZJJyepzWJpq+K38G/D3/AIVkbn7CrN/aX2I4UXPmDf8AaMfw4/vcY/CvDftc/wBoaf7XN5zjDSbjuYehOc0tve3NpHJHa3s8CSjEixuyhx6EA80vZj5z3nWNZj0PQvinqHgu5W1CataLDPbY+RmO2Uoe3zFxkevFSeAYNbg8P+Er9tS8RajFqN/JdSJpXlw20BM3zm7l2lnzySG7ZAr5+WZ1heFZ5FicgugJ2sR0yO9SxX1zBbtbwXs8cLMHMaOwUsOhwDjNHs9A5z3yzkvbTXPiBYado2rvYS65mS88NXCJfW7ZJC+X94oefQdfw4T4l+Dteu/H+stBdPrr2NhHe3tw8cUMsEW0cSKuAXUAZxkkc159DqF3bXLXFvfXEU7/AHpUkZWb6kHJqMXEoaVhcSgzAiQgn5wTkg+vNNQaYnJNENFLhf736UYX+9+lVYm4lFLhf736UYX+9+lOwXEopcL/AHv0owv979KLBcSkp3y/3v0owv8AeP5UrAA/1Z+tJTwF8s/N39KTCf3v0p2FcbRTsJ/e/SjC/wB79KLDuNop2F/vfpRhf736UWC42ilwv979KML/AHv0pWC4lFLhf736UYX+9+lFgEpKXC/3j+VGF/vH8qLANop2F/vfpRhf736UWHcRfvD60h+8frT1C7h83f0pCF3H5u/pTtoLqNopcL/e/SjC/wB79Kmw7jaKdhf736UYX+8fyosA2kpaSkUek/An/kpH/bnL/Na+k6+bPgT/AMlI/wC3KX+a19KV8XnX+9fJGkdhKKWivFLEpw6UlOxTQCUE0tNoAOaOaKKQCiikp1UAhpvNPptJgHPrT4M/aI+f4x/OmVJB/wAfEf8Avj+dOHxIDtKKKK/QCj4Oooor6I8QKKSjNAxaTdjpSZpKAHh/UU4MDUVFHMyeVE1ey+DpP7W+E7Qfee0Lrj3RvMX9CK8VDkV6h8GtVQ3eoaTKeJUE6KfUfK36EflXi55DnwnOt4NP+vvNKLcKiZrw62yQbW9PWtS5vLDXtNEGorkSKDkHDKfY1zPiTTo9Gvfs6XKzM3zEA8p7H8Kyv7QYP+749OeleXFtRufWRUZq6NqPwRp1sk/2g4ON0dzuPQeo6Vxk7iTXm85gY921T2wK73SdZDwtBdkFXUqN3OPeuE1vSJ7PU3UZfJLKynO4fhVKSZMabhI1RdollNYuw8tgXiCjgZPI/Pn8a46dGsLpRC5DxsGB7gg5FbIQLa+Y0o+XuSRtPoayLtvOunmT5kkY7T7VVPR6DrvRHtXgrxRFr2mr53y3EQAlX1PqK6e8sYry1aNxlWFeM+D5Xhvo2tiRsjCvjvk8/wBK9h0m9FzHsbhx1BPWhSXNykOLilJFHT9Q+wY068RWjTCqrqMAD09asTW+gEtK1rzj+GRgP51oXelW96m2VVYepHT6elZMvhK1ZeWcKOwc81olZFqVN+RhXttYa7fQWttaiOC3fe4HO7pjJ6/hW5MYdMtzI5WKIL2GMU6SGw0Kzdz5cSL8xPSvHPGHjO81u6eCBzFaqSFVeN31p2IqTXyJvE2rwandS/Z2yqKSSe5ziuYEeLctnPNS5EUUyjpkIPp1pMr9jRBwxY9qNjNy5iEkmNe5HFN5GcdanMYWJR/HjmmyqEcBWKyA8/X0qiGupo6Pqj6fazqiorSEN5nIcY7A118via7v1SUbVUpsOB97sT+Neffa5RbmFlXBbdnHStGxuZLeNY9+5AMgY6Z561jUi3sd+Fq007SVzs312/cnMxx6U3+1rsyb/NIYdDgcVzv9qbeePyzVnTbm41bVrXT7U5kupViXC4wScZrDlmet9Yw6Wx1XxGmbSfgjpVlKf9I1W+NxJxjcpLPn9Y68Qr1X4+6rHN4ssNDtj+50m0VSufuu+Dj/AL5CV5VXs4GLjQTfXU+DryU6jkhKSlNIa7TISiiikMKSlpKACiikNIY+P+L6Up6Ukf8AF9KM1S2J6iUUUUhhRRSUAFFFFIYUUUUAFFFFAAaSlNNpAKv3hTKev3hTKUthoKKKKgYUUUUAFFFJQAho7UtJQAhooooGOT74paRPvilqlsJ7iUtFFIApKWigAooopAFFFFABRRRQAUUlFABSN90UZob7q0DG0UUUhhRRRQAUUUUAFJmlpDQAUdqSikMKKKKQwooooAKKKKACiiigAooooAKKKKACiiigBKKDQKACiiigBw/1Z+tJSj/Vn60lAgooooGFFFFABRRSd6ACikooAWkoooAKKSlpDBfvD60N94/WhfvD60N94/WjoLqJRRSUhhRRRQMKKKKQHpPwI/5KT/25S/zWvpWvmv4Ef8lJ/wC3KX+a19KV8ZnX+9fJGsdgooorxSgpaSnU0AlJTqbQwCiiikAUopKUU0AuKQ0tBpjG1JB/x8R/74/nUdSQf8fEf++P50Q+JAdnRRRX6AM+Dc0UmaK+iPFCikoNIAoopKBhRRSZpXAK1vDGstoHiay1EZ2QyDzAO6Hhh+RNZNFZ1IRqQcJbPQaPafiJp6+da6vbsGhuECMwPBOMqfxH8q4iC3ubiUi2glmAPJRSRXY+AdRi8X+B7nw3fOPtVom2Jm67P4G/4CePpj1rY8O/Dz+zo9+o6jLKzHc0EHyID3GerD8q+PoxlScsPPeP4roz6TBYiLpcr3Rw50nXJodtlYSM2cdQMfma07LwDqslqG1G4WKU/O0f3ig7ZPTnngZ6c4r1SK2gtYxHbxhQPx/nVhkElm2VG7B5rpUdDaVZ3ujx/wAWeFLXSvCcskUjSzhw7yPxn2ArzvcrBT0CLjHvXd/EvXZpNVOj2h2wRorTNj77EZwPYAj8c1wIX51z0zzWlNWRlNtyPQPBtswhWRVzk5479K9DSJlVXi4IHauR8Hy208QWzbcsa7T7Gu5iXbEAawinzNm8npYli1uJBtuMqR1JHWmXfiSxhhJEm9uyqM5qCe3jlQgqOfWs0aTGJMsPkHP1rfmZmoxbOW8TXl5rLO82YYEHCf415pgPfhgMgSZwfQGvU/FKlbaRYhtDDFeXiNhcuB1GacHfcdWOiElGAE6ndkmms/QehqWOJpZAOgByc0y5CpI3l8gGtDFp2uIspknBPPXNJJ5TysGYpyeetRqCEJBwRTTy2TTMue6sGMH2PT3q6t4qwquwkgckVXVFZgZCceg7U5YmZdwB2etLQqN+hIb4dkru/hBLbr4ovtZ1JNtno9hJdNKOitwB+O0vj6Vw9vZNJKoETNn+EDOa7/xxYReA/hFaaKjiDVdcuVnvIh97yVBO0+mG2fjupNKbVNdf6ZnXlOELs8s13V59e8QX2q3X+tvJ2lIz93J4H0AwPwrPooNe0kkrI8gSkpaSgAooooGJRQaKQwr0DxLpMWmaDbNZaDoXkSaTaTPdSah/pfmSQIzsIvPBzuYkDy8Y7Yrz+r+s6vJrV1BPNGkZhtILUBM8rFEsYP1IXNS02xp6HU6h4TsYp9QvdU1GHTLW3mtrbZZ2bSbmkg8wEKX9jnLeuOwqKx8AG58QahpE97cNc2l19mAsdPkud2ScSNjAVOnct/s1l6r4sudZs7u3mt4o1uZ4LhipOQYoTEB9CDn61qN8QpJ5blr/AEq3uVlvzqEcfnSIqSlVUhgpG9cIvB6c88ml79h+7ctQeForbToIpbe1a+jbWY7h5Q7q32aBGGAGHIO7afUgkHGKxz4c0tvB0+tx6zOHiKRCCWx2LLM2C0aP5hztGSTt6YzjIFSSeOrySaSQ2kILyai5GT1vI9j/APfIGR+tM1HxVaaholjYHQreJ7CARW8qXEmFbOWfZnaWY8kkfoBR7we6Xbj4eXDaPHe6XcXN3uuILfM1hJbxStKcKYnb74BwDkKeQcVL/wAInpX9g6ymmagNV1G2uba1T9y0W13kKkpliHU4xkgH2Gag1H4iXF4bye206G0vr65iu57oTSSMJY3LjYGJCrk/d/XgVBdeNt1neR6Xo9rps19cRXU00Lux8xGLDaGJCrkk49+vAwvfH7pFqvhW1tLHUJdN1ddQm0qRY76P7OYwuW2b42JO9d2BkhTyOMVL4b8Dz67pH9pSPeR2zXBtojaWD3RLhVLFgpG1QGXnknPAODVfVfFi39lew2ek2unyalKst9LC7t5pB3bVDEhF3HdgdwOcDFM0jxOthpI02/06PULWOc3MKtNJEY3YKG5QjKsFXIP90YI5y/esL3bmvbfDr/S7ex1TV0sr+61SfSYIVtzIrTxmMZLZGEJkAzgkccHnGLrOgW1hpFrqWnal9vt5riW1kLQGIpLGEJwCTlSHBB4PXIFTWvjG5tbvSJ47S3B0rVJNTiRchWd2iOzrwo8oY78ms2bWJZtAi0po0Ecd5LdhxnJZ1RSPoPLH50LmvqGh1ekafo1u3hfSr/So7t/ECh7m7aRxJAJJ3hTysMFBXZu5ByTjpU2i6Ppz6JbWNnb6BqGuy3M8bwahPOsshBCxpGEZVBOGI3EZJAFYmleM302zsBJpdrd3ulFv7OvJWcNb5YuMqDh9rsWXPQk9RxUejeK49IjtZDollc6hYyma1vXLK6uTuBcKQJNrcjd9DkcVLUh3Rn6Hozazqb2zzraRQwyT3E7qW8qNFLMdo5J4wB3JA4rqB4JstW07QIvDty1y17JevPdNbuJBHCsbYMQLfMBuwFJzuHPPHLaNrc2j6q14Io7pZY5IbiGbO2aORSrqSCCMg9Qcg4NbA8dPbnTYtN0m1tbSwFwgt97v56TqFkV2zk5A6jBGRjGBTlzX0ErW1K3ibwnP4bSwuSblra+3iL7XaNbSqyEbg0ZJ/vKQQSDn1BFPv/By6f4XttVmvZvNuoEnhVbJzBJubHlicEjzB1KkADBGc8Vnavqtvqclutnp0djFCpAAleVnJOSWZj+Axjir0Hi/7H4fudOsdLhtpru2W2uLhJpNsihgd3l527ztHzfiADzSfNZDVrmpq/wzutG0+8nu5rxW00ob/dpzpEqs6oxikJxKVZgMfLnqCRzU+ofD20uPF2sWmiT38mm6WqGYx2LTzB3OAiIrfN67iVGAfQZw9b8XDXLe5efSrdNQvGD3N4JZDvbOSyoW2qWPJ/HGM1Yk8dNcajeXFzpUDxajDGt9Ak0iCWVDkSqwOUb25HJ45qPeK90nuvACaU+oya3qj2drZC1ZXFkxklSdWK/u2KlWGzBUnjnk4GTUfA1vpkt4kerrfT6ZdQxXkK27IhSRsKyOTk9gQQMZ4Jxmsi98Stc2Oo2cFhBa299JbvsjZm8vyVYDliSSd5JJ7+lT3XjK6urzV7hraFW1SSGSQAn5DGwYAfXFHvB7pq+JPBumprevR6BqayHTL1lntPIZVhiafygUcsS+1mRTkDrxkc1XvfBenWGoarHPr7Gz0eX7PeXKWRJMxdlWONS43ZCMckqBtPXjMep+OjfSajPa6NaWN1qs4mvpondvNAkEmwAnCguFY46lR0HFVV8WtJqWtTajp0N3aa1cG4uLQuyBX3s6sjA5BG5h34Y5FC5rB7pS1jQpNK1eGzhmW8S6jjmtZkBXzkkAKnB5B5wR2IP1ro38I6TY6P4oiXUV1HVNLhjjaMQsixTG5ijYxtu/eKAWUkgdQQD1HNaxrk+rarHeiOO1EEccVtDDnbAkYAQAkknGM5JyTk1r3/jn7XaassGi2lpd6yFN7dRO5LOsqy7kUnCAsuSB68YwBT1BWLWv/DW90LSb+6eS6eXTCn2xZbB4ofmcIfKlPEmGYA8DOcjI5rL8KG3lmFjDoEOs6pdTKsS3UjiKOMAlvuMpB7licKAT707XPFq65BctLpNvFf3jiS5u1lkO5s5JVC21Cx5P6YHFM8O+J7fQtL1Czl0eG8N+AkkxnkjkEY6xgqRhScE+uADxRrbUNLmzcW3h/QrXUdVsLCDWbaXWZbKxF3JJsWCNQxb5GUksHQAnsCcZPDpdO07SvGF5o+l6Aus3d1PCbGG8kcpFC8fmEHYyksAyjcTgBWPuMbT/ABNa20VzY3Gh291pc1wLmK0kmkHkSAEZVwdxBBwQeuB0IzVyz8dlLnWbnUdJt7y41c4llWV4THH3iTaflQ8AjuAB0zRZ2C6uTQR6JF4v1TT9F07T9TWS7KWMup3vlW0cQ3bvm3puJ4AJboOhJGMbxfp9rpXjDU7HT4pIbaGcrGkgbKj0G7kj0J5Iwafa67psDXcVx4cs7iznkWWOJpXWSAgEYWUHcVOeQcjp0Iqlrerz67rE2oXMccTyBFWOIELGiKERRkk4CqBySeOaFe4naxQoooqiQooooAKKKSgBaSkzS0AFJRmkoGFKfuj8aSlP3R+NADaKKKQwooooAKSikoGLSUUUgCjNFFIYUUUUAFFFFABRRRQAUUUUAFFFFABRRSZoAKKKKACkpc0lABRRRQA8f6s/WkpV/wBWfrSUCCiiigYUmaKKACkpaSgAooooAKKSlpDEpaKKABfvD60N94/WhfvD60jfeP1o6C6iUUUUigooopAFFFFAHpXwI/5KT/25S/zWvpXFfNXwH/5KT/25S/zWvpWvjM6/3r5I1hsGKMUUV4pYYpaKUU0AlIRTsUYpgNxRinYpMUgExRS4oxSAKKUUYqwGkU+D/j4j/wB8fzpMVJAP9Ij/AN4fzpxXvIDsKKKK++GfBdFJRX0J4otJRRQMKM0lFIAopKUUMAoozTaQzU8Pa7c+Hddt9Sszlom+dM8SKeqn6ivpLS9VttZ0iDUtOk8yCZdw9R6g+4PBr5ZrtPh345fwrqRtb0s+l3LfvAOfKbpvA/mPT6V42ZYOVS1ej8cfxXb/ACNqNR05XPd9+atW+XjZOxH86rDy5oUuLZ1lhkUMrocgg9CD6VNanbPjsRXm0asakeaJ7SkpxvE8e8Y+H7+a8kmt7ZZQrEEgfOvJ/MEVwqadqDXyWptZhMxwqFDk19JXFvHJdSh0BwfT2FRLYQ7t4jGfetE2mb3U1dnL+EPCzaNpYWQfvXO9h6HHSumEWFwetXEXbgCp9oxRYTZnpZl/vDilltY1jIIq4xOarTc0xX1OR8R6bvtcpjI7GvI5k+y6nKkuDyQ30Ne2a1uaHaqF+OgrxrXdPls9SuJZQQkzs67hjGTnFY0377R0tXgZsspRAoPGMHHeq7vmpGZWXB61HHBNN/qo2cjrtGcV1bHDO7dkNT0Pep0jjBcsTj+HjrVm20W6dWlnH2eKMZbzRtLewz3+tMtzI8brENw6DjkUnJNF06b6o3dC8Lx63C4W5WGVOdr9wR1/nXZaD4LtY7ea2mVJlBwzAcZwPWpvB2gtqGnxyataIUjGIvMGWYfTtXommaRFFAQ2y3soFLO2dqqBya5pN6tvQ6JThTVzkfD3hS08NXF34j12SOLStPTzUYjl2HQfgeg7kgV4h408V3XjLxTdaveZVXOyCLORFGPur/U+pJNdb8WfiOPFd0uk6KxTRLN/lxx9ocfxn2HYfievHmlerg8O4L2k93+CPDxOIlXld7ISkpaSvQOUKSiikMKKKSgAooopDA0hoJpKQD4/4vpRRH/F9KKroIKKKKAEooopDCiiigAoooNACGjNApKACiiikAq/eFMp6/eFMqXsNBRRRUjCkoooAKQmlptAC9qSiigYUUUUAOT74ooT74pafQQlLSUtIAooooAKKKSgApKU0lACUuaSigYGiiigApT90fjSUp+6PxoAbRRSUihc0UlGaACkozRSAM0UUUhhRRRQAUUUUAFFFFABRRRQAUUUUAFFFJQAUUUlAC0lLSUAFFFFABRSUUhj1/1Z+tFC/wCrP1opkhRRSUDCig0lABRRRQAUlLSUhhS0UUAFFFFAAv3h9aRvvH60q/eH1pG+8frR0DqJRRRUjCiiigAooooA9L+A/wDyUr/tyl/mtfStfNXwH/5KT/25S/zWvpWvjc6/3r5I1hsFFFFeKWFLSUUALS02lzTuAUlLmkoYBRRRSAWikpadwFp8H/HxH/vD+dR5qSA/6RH/ALw/nVw+JAdhRRRX3oz4KzRmkor3zxgoopKBi0lFFMAozxSUUgCiikzQAE0lFFIZ3fw/+I03hiRdP1QvPpTnoOWgJ7r6j1H4j392sZ7a+ghvdOmSe3lG5XRsgivk2ui8J+NdV8I3e6xk8y1dsy2shyj+49D7j9a8bF5e5T9th9JdV0f/AATelWlTZ9KSqDcSEcZx/KmkVh+F/HOieK4wtrMLe9I+a1mID/h/eH0/HFdA6FOo/GvOjVTlyTXLLs/61PVpVoTWg1R0qQDNRhuakBrdaG1xGQGomiAPPNTE1A0mGwOc9KNwKM1sCxYcn0rl/FmhW11pE8s8O5oYncN6YBNdwltLJyQFB9etV9Xs0Oj3ceMmSB1JPupqPZrcv2llY+ZLiFoZnjYYKnBB7V2ngvRLq6sVubZlVmc5yM5Fdfp3w9t7OWXzbdJy+cSSNu4I7g966DRNFi0sMixiIDgxjoD61U9rCptRbkZ8XhOK/tyNUQTBuqjgVXPhDS7G7gghtVG7LHPoP/113FvDJN8sCFvU44H41i+JvEvhvwXILnW7r7XqKoRFYQEFucdR2HHU4+hrGXSENX2CWIjTd5M17CxgsNMN1fypaWMCbnlkbaAo9zXi/wATPitJ4lD6L4eL22iocO/3Wusevovt36n0HPeNfiLrPja5xeP9msEbMVlEx2L6Fv7x9z+AFcnXq4bBuLVSrv0Xb/gni18RKq/IR/8AV/jUVSv/AKv8air0GYIDSGikpDCiiikMKSiigAoNFNzSGFFFFIB8f8X0ooj/AIvpRVdBBRRRQAlFFFIYUUUUAFIaWkoASiiikAUUUUAKv3hTKev3hTKl7DQUUUVIxKOtFBoASg0daDQMSiiigAooooAcn3xS0iffFLT6CCiiikAUUUlABSGlzSGgAFJRRQMKKKKACiiigApW+6PxpKU/dH40ANpKDSUigoooqQCiiigYUUUUAFFFFABRRRQAUUUUAFFFFABSUUUAFJS0UAJS5pKKACiiikAUlFFAxaKKKAHL/qz9aKF/1Z+tNpki0lFFAwoopKQwopaKACiiigAooooAKKKKABfvD60N94/WhfvD60jfeP1o6B1EoooqRhRRRQAUUUUAel/Ab/kpX/blL/Na+lsV80/Ab/kpX/blL/Na+l8V8bnX+9fJG0NhMUYpcUYrxSxMUYpcUYoATFGKXFGKAExRilxRigBMUUuKMUAJRS4oxQAlSQf8fEf+8P50zFSQj/SI/wDeH86qHxIDr6KKK+/A+CaKQmkzXvnjjiabRRQAUUUlAC0maM0lABRRRSGFJRRQAUUUUgJ1dkKujFWU5DA4INd14d+LmvaMEhvyuq2y8YnOJAPZ/wDHNcGPuiisq2HpV48tWNwTa2PoTSPil4U1gKtxcPpk56rcjC5/3hlcfXFdfa/ZryES2V3HcRno8ThgfxFfJealtry5s5fMs7iW3k7PE5Uj8RXmSytx/g1GvJ6/8E6Y4mcT64FmD6n6mpVtio+QAfRhXzDafEXxdYgCDXrpgP8AnsRL/wChg1pR/GLxlGPm1CKT3a2j/oBWf1PGL+V/ejVYt9T6MMUxbGB+YqlqOn3FzHHFEp5lRmfIwFVgSPxAx+NeAv8AGTxm4wuoQx+62sf9Qazbv4leML0ETa/dKD/zxxF/6ABTWExb/lX3g8V5H0vPHBaQGa+uIbaJeryuFA/E1x2tfE/wVozErdPqtyowI7Rdy/8AfRwv6mvne7vru/l8y+uprmT+/NIXP5moK1jl7f8AFnf00/4JlLEzex6P4l+NfiDWEa20dU0a0Ix+4O6Uj/f7f8BA+tecSyvNK0krtI7nLMxyWPqTSU2u+lRp0VaCsc7k3uFFFFbMBH/1f41Eakf/AFf41EahlIKSiipKCiikoAKKKKQxDSGlNJSAKKKKAHx/xfSikT+L6UtV0EFJRRQAUUUUhhRRRQAUhoJpKQBRRRQAUUUUAKv3hTKev3hTKmWw0FFJR3qRhRRR3oAbRS0lAwooooAKKKKAHJ98UtIn3xS0+ggoopKQC0lIaKAF70h60GkoGFFFFABRRRQAUUUUAFK33R+NJQ33R+NADaSlpKllBRRRSGFFFFABRRRQAUUUUAFFFFABRRRQAUhopKAFoopKAFpKKKACiikpALRSUtAwooooAKKKKAHL/qj9abSj/VH60lMQUUUlIYUtJS0AFFFFABRRRQAUUUUAFFFFAAv3h9aRvvH60q/eH1pG+8frR0DqJRRRUjCiiigAooooA9L+Av8AyUr/ALcpf5rX0xXzP8Bf+Slf9uUv81r6YxXxudf718kbU9gooxRivGNAooxRigAooxRigAooxRigAooxRigAooxRigAp8P8Ax8R/7w/nTMVJCP8ASI/94fzqofEgOuooor74D4HopKSvfPGFozSZozQApNJRSUhi0lFFABRRRmkAUZoopXAKKKSgCUfcFFH8IpM1YgoopCaAAmkoopDEooNJSAKDRSE5pAGaSiigAoooJqRjZPufjUNSyfc/GoqTKQUUUVJQUlFFABRRSUhiUUUUgCiikoAfH/F9KWkj/i+lLVdBCUUUUgCiiigYUUUhoAQ0UUUgCiiigAooooAVfvCmU9fvCmVMhoKaadSGpGHakJ5paQ0AJRRRQMKKKKACiiigByffFLSJ98UtPoIKKSikAhpKU0lAwooooAKKKKACiiigAooooAKG+6v40UP9wfjQAyiiioZQUUUUDCiiigAooooAKKKKACiikoAWkNFFABRRSUALSUUUAFFFJSAKWkpaBhRRRQAUUUUAFFFFACj/AFR+tIaUf6o/Wm0MQUtJS0DCiiigAooooAKKKKACiiigApKKM0AKv3h9aRvvH60q/eH1ob7x+tHQOo2iiipGFFFFABRRRQB6Z8Bf+Sl/9uUv81r6Yr5n+Av/ACUv/tyl/mtfTGK+Nzr/AHr5I3p7BRRijFeMWFFGKMUAFFGKMUAFFGKMUAFFGKMUAFFGKMUAFPh/4+I/94fzpmKkhH7+P/eH86qHxIZ1tFFFffCPgWikor3jxxaSiikAUUUUAFGaKKVwCiiigAopM0hNAC5pM0lFICYfdFFA+6KaTWghSaSikpDFpKKKQCUZopCaQATSUUUAFFFFIYE00mlJpKQxr/c/Go6kf7n41HUspBSUtJSGFFFFIYUlBpKQBRRRQAUlLSUAPj/i+lLSR/xfSimthBRRRQMKKKSgBaQ0tIaQCUUUUAFFFFABRRSUAOT7wplOT7wptSxoKQ0tIakYUmaKSgYUUUUAFFFFABRRRQAqffFLSJ98UtPoIKTrS5xTaQxaSiigAooooAKKKKACiiigAopKWgAob7i/jSUrfcX8aOgxlFFFQUFFFFABRRRQAUUUUAFFBpKACiiigAoo70lABRRRQAUUlFIYtFJS0AJS0UUAFFFFABRRRQAUUUlADh/qj9aSlH+rP1pKGIKKKKBhRRRQAUUUUAFFFFABSUUUAFJRRSAVfvD60N94/WhfvD60N94/WjoHUSiiikMKKKKACiiigD0z4Cf8lL/7cpf5rX0zXzN8A/8Akpn/AG5S/wA1r6ar43Ov96+SN6fwiUUtFeMaCUUtFACUUtFACUUtFACYoxS0UAJijFLRQAmKfD/r4/8AeH86bT4f9fH/ALw/nVQ+JAdZRRRX3xJ8CUZoor3LnkBSUtFABRSUZpAFFJmkzTAdmkzSUUAB5ooopDCikzSqMmgCU/dFJR2FJViFpKKSkAUUZpDSACaSiigAooopDCkJoNJSGFBopCaQCN/q/wAajp7f6v8AGo6TKQUUUVJQUUUlAAaSiikAUlLSUAFFFFIB0f8AF9KWkT+L6UtV0AKKKKACkpabQAo6UhoopAFFFFABRRRQAUlFFACp94U2nJ94U2pY+oUhopDUjEooooGFFFFABRRRQAUUUUAKn3xS0kf3xSmjoA2ilNJQAUUUUAFFFFABRRRQAUlKaSgYUUUUgChvuL+NFK33F+poAZRRRUlBRRRQAUUUUAFFFJQAUUlLQAUUlFABRRRQAUlLSUhi0UUUAFFFFABRRRQAUUUUAFFFFABSUUUAO/5Zn60lKP8AVn60lAgooooGFFFFABRRSUALSUUUAFJRRSGFFFFIBV+8PrSt94/WkX7w+tK33j9afQXUbRRRSGFFFFABSGiigD0z4B/8lM/7cpf5rX03XzJ8Av8Akpn/AG5S/wA1r6cr43Ov96+SOinsJRS0V4xYlFLRQAlFLRQAlFLRQAlFLRQAlFLRQAlPh/18f+8P502nw/6+P/eH86uHxIDq6KMUV96SfAdGabRXuHkDs0maSikMM0UUUAFFGaTNAC0UmaMUgDOaMUUZoAOlPUUxRk1JVIGKelJR2FFO4hKCaQmkpAFFFFABRRRSGFJmgmkpDCkpaaTSADRRRQAjf6v8ajqRv9X+NR0mUgoooNSUIaSg0UgCiikoAKKKKACikpaQxyfxfSlpE/i+lLVdBBSUpptIBaSiigAooooAKKKKACkpaQ0AFFFFIBV+8KYaev3hTD1pMYCkpabUjCiiigYUUUUAFFFFABRSUUAOj++KKE++KKfQAPWkpaSkAUUUUAFFFFABSUUUDCiiikAUUUUAFK33F+ppKG+6v40dAG0UUVJQUUUUAFJRRQAGikooAWikooAKKKSkAtJRS0DEpaKKACiiigAooooAKKKKACiikoAKKKKQBSUUUDH/APLM/WkpR/qz9aSmSFFFFAwoopKACiikpAFFFFAwooopAFFFFACr94fWlb7x+tIv3h9aVvvH60+guo2iijNIYUmaKKACkoozQM9N+AP/ACU3/tyl/mtfTuK+YvgD/wAlN/7cpf5rX07Xx2c/718kb09gxRiiivGNAooooAKKKKACiiigAooooAKKKKACnw/69P8AeH86ZT4f9cn+8P51UPiQHVUUUV96QfANFJmivaPJFozSYoxQAZozRijigBME0v1ozSUDFrq7DwVE2k2V9r2v2Oif2kC1lFcJI7SKDt3tsU7EJBAJ64J6VyWa7b4kBpl8J3EILW8vh20jiZehZAVdR7hgcj3qJN3SRSSs2czrmjXvh7W7rStTjCXVq+1wpyDxkEHuCCCD6GqA56V6P4f07VdObx3p+vb21KLQMyK8olZRvhIBOT0Ujjt07VQaMp8BYWKkbvEj4JHX/RhSUhuJxiIx4VSTjPAoUFm2qCT6AV6j4p8aa34Y0bwhbeH7sWBl0CCSWaGNfMk+eQBSxGdowSB6sayvA2tJo3hbUzLNqGiG7uo44/EFnbeb5ZVSTAxyCAQQ3ynPHQiq53y3sLlV7XODbgCmsGGNwIyMjI6169b6dNqnxY8OzeIDp2sJc6e9za3NvEUGpFEkMZlVsHeWUAggZwBzWTpPiDVvGfhvxbB4tuGvbez083kEsyjNrcCRQiocfKGyy7RxxS9oHIebUUUVqQFFFGakANNNBOaKBhRRTc0gA0UUUAFFFFACP/q/xqOpG/1f41HUstBSGg0lIYUUUUgEooooAKKKKQwooopAOT+L6UtIn8X0paroIQ0lKaSgAooooAKKKKACiiigApKKKQBRRRQMVfvCmGnr94VGaTBBSUtJUlBRRRQAUUUUAFBoooASiiikMcn3xSUqffFJT6CCiiigAooooAKKKKAEooopDCiiigAooooAKG+6Pxoob7i/jR0AbRRRUlCUUUUAFBopKACiiigAoopKQwoopaACiiigAooooAKKKKACiiigAoopKACiikpAFFFFAwooopAPH+rP1pKUf6s/WkqiQoopKBhRSUUgCiiigYUUUUgCiiigAooooAVfvD60N94/WhfvD60jH5j9afQXUKSiikMKSiigYUlFFID074A/8lN/7cpf5rX07XzF8AP+Snf9uUv81r6er4/Of96+SOinsJRS0V4xYlFLRQAlFLS0ANop1FADaKdRQA2inUUANp8P+uT/AHh/Okp0P+uT/eH86qHxIDqaKKK+9JPgHAo4puaTNe0eTYfkUmRTc0ZoAdke9HHpTMmloAdxSYHvSUoBoAMD3roNG8b+INBsFstM1Dy7ZHMkccsMcoiY9WTep2H3XFYAWlo5U9wu1sauneJNW0rW31iyv5kv5CxknchzLu+9vDZDA9wc1PrHjHXNfsVstVvjNarL5yQLEiIjbduVCgBRgngcc561h0U+VXvYV3axd1DV7zVVs1v52mWyt1tbcFQPLiUkheBzyx5PPNW9D8U6v4cWdNJu/KiuMedDJGkscmOhKOCpI9cZrHooaVrBd3uauo+JdX1TWIdVvdQme+g2iGZCEMQU5UIFwFA7AYq3rPjjxBr9ibPVNQMlu7iSSOOGOISuOjPsUbz7tmsA9BSUrLsO7OlsvE2kWtjDBP4N0m7kjQK08s1yGkP94hZQM/QCsPULqG71CW4trOKyikbK28LMUj9gWJP5k1WzTc0kkgvcXIoyKSincBeKTI9KQmkoAXI96OPSkopALx6Gk4opM0ALke9HHvSUUXGDY8voetMyvoac3+r/ABqKpY0OyvofzpPl9D+dJRU3GLlfQ/nR8vofzptFAC/L6Gj5fQ/nSUlFxjsr6H86Pl9DTaWlcBfl9D+dHy+h/OkooGPTbzwelBK+hpE/i+lFV0ELlfQ0ny+hpKKVxC/L6H86Pl9D+dJRQAvy+ho+X0P50lFAC/L6H86Mr6GmmigYvy+ho+X0P50lFK4C/L6H86Pl9DSUUDHLt3Dg/nUeV9D+dPX7wqKk2CHZXHQ/nR8vofzptFK5Vhfl9D+dL8vofzptFFwHfL6H86T5fQ/nSUUXAd8vofzpMr6H86SkouA75fQ/nR8vofzptFK47D027xwfzpPl9D+dCffFJTvoIX5fQ/nS/L6H86bRRcB3y+h/Ok+X0NJQaLgLlfQ/nR8vofzptFK4WHZX0P50fL6H86bRRcdh3y+h/Oj5fQ/nTaKLgOyvoaMr6H86ZR2ouA7cvofzoJXYvB796ZTj9xfxpXCwmV9D+dHy+h/Om0VNxjsrnofzoyvoabSUXAf8nofzpMp6H86bRRcLDsp6H86TKeh/Om0UXHYdlPQ/nR8no3502lpXCwvyejfnR8no350lFFwsL8no350fJ6N+dJSUXCw75PRvzo+X0P502louFh2U9D+dGU9D+dNpKLhYflPQ/nSZT0P502ii4WHZX0P50ZT0P50yii47D8p6H86T5PQ/nTaKVwsPynofzoynofzplFFwsPynofzoynofzr1j4UP8OtF8Jarr/jdbXUtTjkKWumTAOzIAvKoflJJYjJ6BfrXZae/wIiefxerxASW5VtBuEDhJOD8sRBO7jGQdoyelS526FcvmfOw2+WeD19aTKeh/Op764S6vLm4hhS3jmmZ1hQYWMEkhR7DpVatLkWHZT0P50mU9D+dNopXHYflPQ/nRlPQ/nTKKVwsPynofzoynofzplFFwsPynofzoynofzplFFwsPynofzoynofzplFFwsPynofzoynofzplFFwsPUpuHB6+tIxTceD19aRfvD60jfeP1p30C2ouU9D+dGU9D+dMpKm47D8p6N+dGU9G/OmUUXCwUUUUhnp3wA/5Kd/25S/zWvp/FfMP7P/8AyU7/ALcpf5rX0/Xx+c/718kdFP4RMUYpaK8Y0ExRilooATFGKWigBMUYpaKAExRilooATFGKWigBMU+L/XJ/vCm06L/XJ/vCrh8SA6iiiivvDM/P7FGBSUAeleyeULgUmcUuynBQKdguN5NKF9adRTsK4mMUtFFMQV9WfCvwR4W1P4X6Leaj4e0y6uZYWMk01qjM53sOSRz0r5Tr7J+Dn/JIdA/64N/6MauXFNqKsdOHScncZ/wivwwvrptPj03w29zuKNBCIhIGHBGF+YGvN/ij8B7Ky0e41vwWskZtlMk+ns5cMg5JjJ5yOuCTnt6HxzxixXx9rzKSrDU7ggg4IPmtX138NtUuNd+GeiX2oOZZ5rULK78lypK5PqTjP41jJSo2kmaRcat4tHxTXvv7P/gHStX8P6jrXiHS7W/SacQWy3UIkChBlmAPqWA/4DXiviOxSw8Xarp9suUt76aCNR6LIVA/SvsbwnpcHgb4bWNpdYjTTrLzbpvRsF5D+ZatcRO0El1M6Mbyu+hneIvhZ4V1Lw1qFnp3h7TLW7mt3WCeK1RGjkx8pBA45xXyDZIsWsW8d4oVFuFWVZOAAG5BzX1d8FPGU3jDwjeS3z7ru3v5t4JyQkjGRfwG4qP92vAPjP4d/wCEd+KOpxxpst71hew8cYk5b/x8MPwqKDak4SKqpOKmj3+OL4NzSJHEvhB3dgqqv2cliegFbd54F8BadZy3d/4c0O2toV3STS2saqg9SSMCvjnQf+Rj03/r7i/9DFfYfxW/5JP4h/682/mKzqQcJJX3NISUk3bY4H4gr8LP+Ff6v/wj/wDwjH9peR/o/wBkMPm7sj7u3nP0rw/4eeHf+Eq+IGkaS6b4ZZw847eUnzP+YBH41zWa96/Zl8O+Ze6v4jmT5YlFnAxHc4Z/yAT/AL6NbteypvUxT9pNaHsf/CuPBX/QqaP/AOAUf+FfNXx08I23hX4gbtMtY7XT7+BZoYokCojD5WUAdOQD/wACr2vxJ4//ALL+PHhzw8suLWW2eK5APHmTH92D7gxr/wB91Q/aN8O/2p4Ah1eJMzaTcBmOP+WUmFb/AMe2H8DXPSlKM1fqbVEpRduh8tUUUma9A4z6b+F3wP0O08P2mr+K7RdR1C6jWYW83MUCsMhdvRmx1zkdgOMnrbWz+FniG6fR7C08M3lwoIMFvDDvGOu3aM8e1WPhz450bxt4TtFtrmL7bHbrHd2bMA6MBg/L3U9iOPx4rkrv9nnS7XUxqfhDXtQ0S8jYtCeJViJGML0bGDjkmvNcm5PndjuSSS5Vc83+Nvwqs/BEltrHh/eul3cpheB2LeRJgkAE8lSAevTHXmub+F3w4uPiJ4geBpGttNtAHu7hRyAeiL/tHB+gBPsdD4qaf8QPDzRab4y1i51PTpn8y3m80vFIy+x6MAeh9eM17H+zhZRW/wAMHuUUeZdX0jO3fgKoH6frXQ5yjSve5ioqVS1joYfA/wAOfBWmJ9t03RrWL7v2jU9jM5/35O/sKyvFnwh8HeOfDpn8OwafYXTDfbX2nIgjc88ME4ZSepHPHXsfEfj9rF1qXxU1C1nkYwaesUMEZPCgxq7HHqSx5+npWV4E+LfiH4e6fc2WjxWdxb3EglKXiOwRsYJXay4zxn6Cs/ZzspJ6l88buLWhztvpU2neNINJ1WALNBfrb3ETjIyJAGHuP519S/EnwH4S074aa9d2HhvS7a5hsneOWK0RWRgOoIHBr5puvEd14t+JdvrmoQ28Fzd3sDSJbKVTIKrkAknnGTz1r62+Kv8AySfxH/14Sfyoqt3iFNKzPDv2cfDmi+IL7X113SrPUVhjgMQuoVk2ZL5xkcZwPyr2PVtA+FWgTpDrmm+F9PlkXeiXUUMZZc4yAcZFeXfssf8AIQ8S/wDXK3/nJXpXxE+EOnfEXVrS+1DUrqze1g8lVgVSGG4nJz9aio/3juyoL3NEYPikfB//AIQ/WP7M/wCES+2/YZ/s/kGDzPM8ttu3HO7OMY715d+zvoela/451C21zTrXUIE05pFjuYlkVW8yMZAPfBP51u/ED4BaR4P8Calr1prF9cTWaoyxSogVtzqvOB/tVR/Zh/5KHqf/AGC2/wDRsdUrezbTJd+dJo6343fCDTn8M/274Q0u3srjTlLXNtaRBFmh6lsD+JevuM+grj/2c/D+j+INe1qPXNLtNRSK2jaNbqFZAhLHJGRxX03PqNnFqdvps8qrc3UUkkUTf8tFTaHx9N68e9cD4I+HX/CD/E7XrvTo9uj6nbLJbgdIX3ktH9BnI9jjsazVR8jizRwXMmjyP9ozw9o/h/W9Ej0PS7TTkmt5GkW1hWMOQwwTgc1T+DXweXx0X1nX2ki0aCTy0jjO1rpx1GeyjuR16Doa3f2pP+Rg8P8A/XrL/wChCvZvhVYxaf8ACjw3FAAFewjmOO7SDe36sa0c3GmrEKKdRleTw58NPCscVne6d4csPMHyLerCHkHTrJ8zVz3jj4FeGPE+kyXHhu1g0nUtm+CS2+WGU4yAyDjB9Vwe/PSvmnxprF1r3jjWdQvpGeSW6kA3H7ihiFUewAA/Cut8KfHbxV4Q8N22i2Nvp1zbW24RPdxyM4BJO3IcDAzxxT9lNJNPUXtIt2aOU8MaaU+I+j6XqtsCRq0Fvc28q5B/fBWRh37givry/wDA3w90qxkvdS8O6DaWsQBkmntYkRATjkkYHJFfKeja3P4k+M2k6xeQww3F7rVtLIkCkIGMq5wCSffrX2F4u8Nw+LvCl7oV1PJbw3iqrSRgFlwwbjPHalWburjpJWZxu34Kf9Sb+dvXzh8Vf7EHxL1T/hFvsX9lfuvI+w7fJ/1Sbtu3j72c++a9p/4Ze0H/AKD+pf8AfEf+FfPPibSo9C8WatpMMjSx2N5Lbo79WCOVBOO/FVS5b6Mmpe2qKRtLlbVbpreUW7HasxQ7CfTPTNQ19P698VPh9dfBqextpYXebTvs0OlCI745NmFGMYAU4O72yMnFfMFawk5bqxnKKjsxDXp3wF8H23iv4gM+qWkd1p+n27TSxTIGR2b5UUg9epb/AIDXmNfVv7OHhz+yfh3Jq0qbZ9XuDICRz5SZVR+e8/jU1ZcsR043kdv/AMK28E/9Cno3/gFH/hXx98QfDv8AwinxA1fR1TbFBcFoB/0yb5k/8dIFfS/hX4g/2v8AHfxP4eabdawwJHagngPCcSge5Z2/BK4D9p/w55Op6R4jhT5Z0NnOwH8S/Mn4kFv++axpNxlZ9Taok43RxfwJ0jTtb+KENnrFjb31sbWVjDcRh1JAGDg17B8Xfg1pWp+EXvfCGkWtjqdhmURWkIj+0pj5kIHVuMj6Y715X+zr/wAldg/69Jv5Cvq651K0s720tLmZY5rxmSBW/wCWjKu4ge+AT+BoqycZ6BTinDU+Uf2fNF0zXfiLdWut6fbX8C6bJIIrmISKGEkYBwe+CfzrpP2kfDGheHrHw+2haRZac00s4lNrAse8AJjOBzjJ/OvStE+HA8MfG+78RaVEF0vU9Pm8xFHEE5kjJH0bBI9w3tXE/tU/8g7w1/11uP5R0c3NUTQcvLB3PnOKKSeZIYULySMFRV6sScAV9qeH/hP4R03w5p9nf+HNLu7qC3RJ7iW0R2kcKNzEkZOTmvmv4G+HP+Ej+K2m+Ym630/N9Lx/cxs/8fKfrX0B8cPHE3grwxpslk5F1cajCwUHBaOJhI4+hwqn2aiq25KKFTSScmee/tFfD7StF0PS9b8O6Xa6fFHM1tdJawiMNuGUYgDsVYZ/2hXz9X3J450aHxz8MdRsrTEwvbPzrVh3cAPGfxIH518OEEEg8EdQaqlK8bMVRWdz7N8P/D3wdP4F0y5m8L6TJPJpsUjyNZoWZjGCSTjrmvjGvvHw1/yTvSf+wVD/AOihXwdSot3Y6nQvaLGk3iDT4pUV43uolZWGQwLDINfWXxK8A+EdO+Gev3lh4a0q2uYbKR45orRFZGA6ggcGvk/QP+Rl0z/r8i/9DFfaPxW/5JN4k/68JP5UVX7yCnsz5W+E/wAPG+Ivi02M8z2+n2sfnXcqfe25wEX3J79gCfavpibwv8LvAGnwJqenaHYpJ8scmoIjySkdfmfLH3+teD/s/eONM8IeLry21yZbW01OFYxcucLHIpJXcewO489jj619B+Ofhv4d+JtlZyanLMHgUm2u7OUZ2tjPUFWBwO30NRUb5rPYqCXLpuYviT4P+B/HGg/a9BtbGxnmjL2t/pgVY2PbKr8rDPXv7ivnP4faEg+Mml6HrtpFMIr9re5t5lDoSu4EEHg8ivXtW+Enj/wdoZT4f+Mr24s7fc66dkwuMkk7MEqxzzj5a8n+F9zdXvxv0S51GSSW7l1AvO8v3mchsk++auHwvUmXxLQ+odT8F/DjRbI3mr6B4esbZSFM1xbRRoCegyRisXHwS/6kz87euq8deDrbx34Wl0O9upbWKSRJDJCAWBU5715f/wAMt6B/0MGpf9+4/wDCsYtW1Zq730R4J4+/sz/hYGtf2D9m/s37U32b7Jjytnbbt4x9K52rOoW4s9SubZGLLDM8YJ6kAkf0qtXYtjl6n2xo/wAPfBJ8NWFzdeF9GJNpHJJI9nH/AHASScVlbfgj/wBSX+dvXb6Tbi78GWVsxKrNp8cZI6gGMCvIf+GW9A/6D+pf98R/4Vxprqzqd+iPNvjsPCA8Q6X/AMIN/ZP2b7K3n/2X5e3fvON2zjOK8s612HxP8G23gPxvNodldTXUUcMcgkmADEsM9q4+uqPwnPLc+l/gFo3hLxZ8P3j1Xw7pV3qOnXDRSyzWiM7o3zIxJHPUr/wGvNfj54StfCnxFzpdpHaaff2yTxRQoFRGHyMoA6cqG/4FWh+zf4k/sj4jvpUr7YNXtzGATx5qZdD+W8f8Cr0f9pzw/wDbvA9hrUaZk0y62OcdI5Rg/wDjyp+dZXcahpvA5j9nLwFpOu6XrGs+IdLtdQh81La2S6hWRVKjc5AI/wBpBn61k/tF2vh3RNa0rQ/Dujafp8qQtc3T2tusbNuO1FJA/wBljj3Fe6fCPQP+Ea+FWi2ki7JpLf7TNng75PnwfcAgfhXyT8RvEf8AwlnxE1jV1fdDLcFID/0yT5U/NVB/GlFuU2wlpGx9NfDLwD4S1L4YaBeah4a0q5uZrNWkmltEZnPqSRzXzEvh2bX/AIjP4f0lEjkudSkgiGMLGu884HYAZ+gr69+Ev/JI/Df/AF4p/WvlbQ/EkXhH40LrlyjPBaapOZQoydjMyMQO5AYn8KIN3kEkrI+kdG+FHw98A6D9p1ezsbjyVBuNQ1YKwJ6Zw3yrz0A/U1Y/4Q34YfELSZjpmnaNdRqdjXGmKkckTdvmTBB74P5VtajZeGfij4Ne1NzHqOl3e1hJbS4KsDkHI6MD2P0IrzZvgHq/hmO6m+G/jW+06WcDfDccCXGdoLpjpk/wnrWSd93qaW7LQ8G+JPgmbwB41udFeUzwbRNbTMMGSJs4J9wQQfcV9Tz/AA88Gr4EkuR4W0gTjTTIJBZx7t3lZznHXNfKHjl/FA8US2njie6m1SzUQk3L7yEyWGD3U7iQR619p3P/ACTqX/sFH/0VWk27ImFrs+DIQDNGCMgsM/nX2Z42+Hvg6y+HviC6tPC+kw3EOl3MkUsdmisjCJiGBA4IPNfGcP8Ax8R/74/nX3f4/wD+SZeJv+wRdf8AolqKj1QobM+DK+jP2dfh3o+r+FtQ1zxHpNpqC3NwIbVbuFZAqoPmZcjuzY/4DXzqiNI6pGpZ2ICqBkk+lfdfhjTbb4f/AAxs7S5ISLSrAy3LDpuCl5G/763GnUdlYUFdmT4q+EnhTU/CWp2eleHNLtL6W2cW08FqiMkmMqQQMjkD8K+KmVkYq4KspwQRyDX2T8DPGk/jPwLcTahJvvra+mWXJycO3mL+HzlR/u184fGjw3/wjHxW1a3jTZb3b/bYOMDbJycewbcPwpQbTaY52auj0j9m7wroHiHQNbl13RrHUZIrqNY2urdZCgKdBkcVxXx/0bTNC+J32PRbC3sLb7DE/k20QjXcS2Tgd+K9M/ZW/wCRb1//AK+4/wD0A1wH7Sv/ACVr/uHw/wA2oXxsH8B5JX1P8CfBPhfW/hTZXuseH9Nvrpp5g01xao7kByAMkZr5Yr7D/Z2/5I3Yf9fE/wD6MNOpsKnufPXimx0rTfj9PZvb2ttpMOsxLJCVVYUi3ruBHQLjOe1fQ+34If8AUl/nb182fF3/AJK94k/6/W/kKy/BfhDUPHHim10XS1w8p3SykZWGMfec+w/UkDvQ43SdwTs7H1/pHhH4Y6/bPcaHofhvUIEfY0lrbwyKrYzgkDrgivHP2jtM8I6BZ6TpugaZp1hqbytPMtpbqjeVggbiB0LdB7GvX9X1Lw/8FfhiggjAgtI/KtoM4e6mPPJ9ScknsM/SvjbxBr1/4m1671jV5jNd3chd27D0UDsAMAD0FTBNu5U3ZWM7vX2h4J+EvhfTfA+k22teHNNu9QW2Vrma4tUdzI3zMCSMnBOB7AV8xfCTw3/wlXxR0awkTfbxzfabgEceXH8xB9iQF/4FX058cfF03g/4byXFhN5V9dXMUFuwPIO7ex/75Qj8adR3aSFBaXZwf7Q3w40XTfBFrrfhvR7PT2srkJci0gWMPHJwC2BzhgoH+8a+a6+8NStrT4h/DKWKPHka1pwaInnYXTcp+oOD+FfCkttLBePazqY5Y5DG6t/CwOCD+NFN6WYTWp7z8GPgXZa9pEPiXxnG8lrcfNZ2AYoJF/vuRzg9gMcc9DivYpNE+GGmXSaNcaf4Vt7lsKtpNFbiRs9PlPzEmt7UGXw14JunsIwE0zT3MKY4xHGdo/8AHRXwPd3dxfXk13eTPNcTuZJZXOWdickk/WpV5sp2ij6a+K3wB0e40O61nwVa/Yb+2QyvZREmK4UDJCqfutjpjg9Mc5r5fr13S/2kvGel6PaaetppNytrCsImuIZWkkCjGWIkGTxycV5NPL59xJLsWPzHLbEGFXJzge1aRTW5ErPY96/Zw+H+l69Y6xrfiLS7bULcSLa2yXUIkUMBudgD35QZ+teyax8J/Bmo6Je2dt4a0m0muIHjjuIrNFeJipAYEDIIPNP+GWgR+DPhZpVlc4heO2+03Rbja7/O+fpnH4Vz/wAEPH0njfTNeN05aa31OSWNWPKQSksi/gQ4/CsW222jRJJWPkK6tZrK4ntbpDHNBK0ciHqrKcEfmK6/4W/Di7+JHiY2aSNbafaqJLy5AyUUnhV/2mwcfQntitj4/wDhr/hH/ilezRJtt9VVb2PA43NkP+O9Sf8AgQr1/wDZgsYoPhte3iqPOudRcO3faqIAP1J/GtpS926M4x96x1Vt8Pvhp4G0tDe6Zo9vEPl+1aqUdnb/AH5O/sMfSq+tfCX4e+OdHM2n6fYweap8m/0jYmD6/J8rfiDXgv7RmsXV/wDFu6sJpGNvpsEUUEeflXdGsjHHqS3X2HpXTfss6xdL4i1rRjIxtJLQXQQnhXV1XI9Mh+foPSs+V25rl3V7Hknjfwdf+BfFdzomp4dosPFMows0Z+64+vp2II7Vz1fRP7VljEs3hq/VQJnW4hc92UbGX8izfnXztWsXdXM5KzCiiimIKKKKACiiigAoooNACr98fWmt94/WlX7w+tNf75+tPoHUSiiipGFFFFABRRRQB6f+z/8A8lO/7cpf5rX0/ivmD9n/AP5Kd/25S/zWvqDFfH5x/vPyR00/hExRilxRivHNBMUYpcUYoATFGKXFGKAExRilxRigBMUYpcUYoATFLijFGKADFOiH75P94U3FPiH75P8AeFVD4kB01FFFfeGZ8ABQKWiivcPHCiiii4wooopXAKKKKACvsn4O/wDJIdA/64N/6MavjbNeqeFvj3rHhTwvZaJa6RYzxWaFFkkZ9zZYnnB96568JTikjejJRldmzq37P/ivWvGWpXjXOnW1nd3sswkaVmYIzkj5QvXB6Z/GvbJJtK+Gnw7Tz5dtlpNqEUscNKwGAP8AeZv1NeGy/tNeI2jIh0XTEfszGRgPw3CvOvF3j7xF43uEfX74yRRnMVtGuyKM+oUdT7nJ96y9nUnZT2NOeELuO5s/C7SZfGvxgs5Ltd6C5fULrjjCnfz7Fio/GvqrxTrvh/Q9Jz4rubeCxuiYCtwu5Zcg5Urg5GAa+SPh58Q7n4eX17d2Gm215PdRrFvnZhsUHJAx6nH5Cp/iJ8UdU+Iq2CahaW9pFZFyqQFiHLY5OfTH6mnUpSnNdiYVFCHmfSPhPxR8OTqg03wdcaXDd3n/ACxs7fyjLtBPOFGcDd+tcP8AtL+HftOgaZ4ghTL2cxt5iB/A/Kk+wYY/4HXgGg61c+HPEFhrFlgz2U6yqrdGweVPsRkH616L4o+Pep+K/DN7ol/odgsF5HsZ0Z8oQQQwyeoIB/Cl7GUJqUdR+1UoNSPONB/5GPTf+vuL/wBDFfYfxX/5JP4i/wCvNv5ivjGyumsr+3ukUM0EqyBT0JU5x+lep+Jf2gNZ8TeGb7RrnR7GGK9iMTSRs+5Qe4yaurCUpRa6E05qMWmeS9q+0fhP4d/4Rj4Y6TaSLsnli+1XGeDvk+bB9wCF/CvjO2lWC7hlkiWZI3VmiY8OAclT7HpXr+pftIa/f6TdWSaRYW5uIXiEsbPuj3KRuHPUZorQlNJIKUoxbbPVbrxt8IrvVv7RvbrRJ79XVvtUlpukDLjad+zORgYOe1dnewad4y8HTwQzJPYaraMqSryCrrww/PNfCdepeD/jxrfg/wALWuhwabZ3kNruEckzOGwWLY4PbNZTw7S91mkayb9480vrObTtQuLK7XZPbStFIvoynBH5iooTGs8bTLvjDAuoOMjPIrU8U683ifxPe61JaRWkl4/mPDCSVDYAJGeeSM/U1kV1q9tTm66H1ZcfA7wTqXhprvwnA9peXFv5thei8mYKxGUb7x46VmfDTwv8WdB8WQp4i1FpNDTcJlubwXG8YONmSWU5x6f0ryPwT8Y/FHgezFjZyQ32nqcpa3alhHnrsYEFfpyPau1m/ag1hoCLfw7YpLjhnndlz9Bj+dcjhVV1udKnT32O6/aOltE+FqpclfPe+i+zg9dwDZI/4Du/OsD9mfxTbvo+oeGLiVVuopjd26sfvowAYD6EA/8AAq8R8YeONd8c6mt54guvN8sEQwxrtjhB6hV/qck+tY+n6hd6VqEN9ptzJa3UDb45om2sp+tWqP7vlZLqe/zI+jfjD8FNU8W+JDr/AIYkt2muERbq3nfYSyjaGU4x90AEHHTvmpPAX7Pmj6boc0nxAtoNQvpH3ARXEipboB0ypXJPUnp0rjtI/aY8R2Vkser6XZak68ecrGFm9zjIz9AKwfHPx38R+MtJfS4oYdJspT+9W2djJKv91mJ+6e4AGfpxWfLVtyl81O/Mc7qzaI3xax4VgEGkJqMUdsquzgqrKpYFiSQxBb8a+sPir/ySfxJ/14Sfyr4psrprHULe7RQzQSrIFPQlSDj9K9W8SftDa14l8M3+jXOjWEMV9C0LyRs+5Qe4yaqpBtq3QmE0k7nQ/ssf8hDxL/1yt/5yV2nxb8OfEXWtdsZfAWoXNpaR2xWdYb/yAX3E5xkZ4xzXgXw5+Jl/8N59Ql06xt7w3yxq4nLDbt3Yxj/eru/+GofEH/QB03/vuT/GplCfPzJFRlHksyj4h8A/GP8A4Ry/fxBql1c6bDA01zFLqvmKyIN5ypbnG3P4VN+zB/yUPVP+wW3/AKNjqLWf2j9c1rQr/S5tE0+OO9tpLd3V3yodSpI5681w/wAPPH978O9cuNT0+zgu5J7Y27JOSAAWVs8d/lqrTcGmibxUk0e0ftHaze+Htc8GatpUxhu7SS6kjYev7ng+oIyCO4NereBfGFl458J2us2BCmQbJ4c5MMo+8h/mPUEGvk74j/FDUPiT/Z39o2FtZ/YPN2eQzHdv25zk/wCwPzqD4efEvWPhzfXMumRxXMF0gWW2nJ2Fh0YY6Ecj6GodJuCXUpVEp36Ho37Un/IweH/+vWX/ANCFekfAbxVbeIPhnZWQlX7bpK/ZZ488hQT5bY9CuB9Qa+cfiL8Sb74j31lc6hY29o1nG0aiAsQwYg85+lYXhzxPq/hLV01PQL17S5UbSV5V17qynhh7Gq9m3TUXuLntO57L46/Z51+78XX1/wCF5bSaxvpmmEc0pjaBmOWHTBXJOMc47V3Hh34CeDtI8KwL4tsob+/iRpLu8+0SxoOpOMMBtUcZIGcZrgbD9qHW0tdt/wCH7G4mUf6yKV4wf+And/OuP8cfGnxR43s3sJ3i07Tn+/bWgI80ejsTkj24HtS5arSTHzU1qjP0yTSpvjbpr+HoPs+l/wBuwC0j3M2IxMoU5Yk8gZ59a+tvHtlrWo+BtStPC0zwatIii2kjm8plO9ScN24Br4j0fUn0bXbDVIUWSSyuY7hEboxRgwB9uK9k/wCGofEH/QB03/vuT/GqqQk2rdBU5xSdyT/hA/jt/wBBy/8A/B0f/iq8j8WaRq+heKr6w8SMW1RHElyxl8wszgPkt3J3ZzXrH/DUPiD/AKAOm/8Afcn+NeVeMfE9x4z8WXuvXkEdvNd7N0URJVdqKgxnnotVDnv7yIny20Z2F/8AAfxbp/glvEUxtCI4PtEtkrt50ceMk9MZA5Iz+vFeZ161qP7QniHUfAsmgSWNslzNb/Zpr8MdzoRtJCdAxHfPfgCvJaqHN9oUuX7JY0+xn1TU7WwtF3z3UyQxL6sxAA/M1912sem+DPB8EU8y2+naVaKjSvwFRFA3H8q+JPCniBvCviiy1uO0ivJLNzIkMxIUtggE454Jz9RXd+M/jzrnjPwrdaFcabZ2cN0V8ySBnLEKwbHJ7kCs6kJTaXQunJRTPa7Lxx8H7PVxqFhd6Hb6gzsftMVnskLN9479mecnPPetX4weHP8AhJ/hbq1rGm+4t4/tcGBk74/mwPcruH418V17RYftLeILPSrayl0bT7kwwrE0sjPmTCgZPPU4qJUmmnEtVE01Iy/2df8AkrkH/XpN/IV6d+0pfXOm+H/D19YTNBc2+peZFKhwUYISCK8E8GeNrjwT4xbX9NsYJG2yItvIzbFV+2RzxW38Rfi7qXxG0u0sdQ021tEtZjMrQMxLHaRg5PvVyg3UUiFJKDR9NfDLx5beP/CEOoptjvYsRXsA/wCWcgHUD+6eo/Lsa8v/AGqf+Qd4a/663H8o68d8AePdV+H2vtqGlBJUmjMc9tKTslHbOO4PIP19TV/4j/FbUfiTBp8Wo6fa2YsWdkMDMd24LnOT/s1HsnGd1sX7RShZ7nsH7MXhv7H4X1LxBMmJNQnEEJI/5Zx9SPqzEf8AAa7bxd4r+Gf9rnTvGdxpM97ZceVe23nGHcAeMqcZG3p7V4V4Y/aD1Xwp4YsND0/QdPaCyiEaszvlz1LHB6kkn8a8y17WbnxD4hv9YvseffTvM4XopY5wPYdB9KXs3KTbDnSjZH3L4W17w/r2jB/Cd1b3FhakW6i3XakW1RhAuBgAEV8f/F3w3/wi/wAUdYs0TZbzS/arfA42SfNgewJZf+A1P8OPivqvw3hv4dOs7e8hvWR2S4LAIygjIwe4PP0FVPiL8RLn4jalZ31/pttZXFrEYd0DMd65yAc+hJ/OqhBxl5BKSlHzPsHwupf4f6Qi8ltMhA/79Cvlz/hnj4g/9A+1/wDAxP8AGtnS/wBpXXdK0iz0+LQ9OdLSBIFZnfLBVCgnn2q1/wANSeIP+gBpv/fcn+NRGNSN7DlKEtzzW58Lap4O+IOn6TrsSRXaXEDlUkDjDMCORX1x8Vv+SS+JP+wfJ/Kvkjxb48vPF3jiPxNd2kEFxH5WIYiSh8vp155rtfEn7RGt+JfDN/otzothDFfQNC8kbvuUHuMmqnGUmmKMoq474DeDPCHjeXV7HxPZm4vbcRy24Fw8ZMZyG4UjODt/76Fdb4u+Dni7w9rkdz8Iry5tNPdBvtI9RaNo3HU/O2GU8Hr68V4Bout6j4d1aHU9Fu5LS8gOUljPT1BHQg9weDXsOm/tQ+Ire3VNT0TT7yRRjzI3aIt7kcj8sU5Rne6CLjazPoHwTB4itvB9jF4zuIrjWFU+fJFjB+Y7c4ABIXGSO/51816ZLaTftXiTTipt21uTBToW+bcR/wACzSeJv2ivFmv2Ullp8Vto0MoKvJbbmmI7gOTx9QAfevOvC+vzeF/FFhrltCk81lL5qxyE7WOCOcfWlCm0m2Epp2SPsv4nab4k1bwTNa+C7mW21VpYykkVx5LBQ3zfNkdq8U/4QL48f9B2/wD/AAdH/wCKqP8A4ak8Qf8AQA03/vuT/Gj/AIak8Qf9ADTf++5P8amMZxVrFOUG9zxzXdNvtG1690/Vv+P62mZJ/n3fPnnnv9az61PEmty+JPEuoazcxJDLfTtM8cZO1SewzWXXR0MOp98aak0nge0S1JWdtOQRkHGG8sY57c18+/8ACA/Hj/oO3/8A4Oj/APFVVsf2mtesdPt7RNC05lgiWIMXfJCjGevtU/8Aw1J4g/6AGm/99yf41zKE10N3KL6nnPxE8O+LPD+uQ/8ACdTyXF/dQh0lkufPZkB2jLZPp0rkTXY/Eb4jXvxH1a0vtRsre0e1gMKrAWII3E5OfrXGmt1e2pk7X0L2i6rPoeuWOq2hxPZXCTpz1KsDj6cV9z6hY6Z498Em3mzJp2rWySKw67WAdT/I18Fdq9a8I/tB694T8K2WhxaXZXkdmpSOaZnDFdxIBwccA4+gFZ1IuVmi4SS3PoP4teIh4T+Fmr3cLCOZ4fstsBxh5PlBH0BLf8Br4hr0P4jfGLV/iPpdpp9/ZW1lb20xm2wFj5jYwCcnsCfzrz2inHlWoTldn3D8JP8Akkfhv/rxT+tfMng7StB1343S6V4qi82xvL25iUea0f7zcxTlSDyRj6kVs+Gf2iNa8MeGLDRLbRbCaKxhESSSM+5gO5wa8rvr6W81KbUP9VLNO8/yEjYxbdwfYmlGLVwlJaH0x41+A4sNMhu/hO02k6pFJmVRfyoZkx0DFuCD9Op5rq/hFpvxA0zS72L4i3guPmT7GskqyyoOd2516g/LjJJ4NeI+HP2k/Fuj2cdrqtvaaysYws0+UmI92Xg/UjPqavar+1F4kurVo9K0ewsJGGPNdmmK+4BwM/UGocZtWLUo3uRftQy2b/ELTUgKm6j04Cfb2BdioPvjJ+hFfQvhTULLxb8ONOuLeQPb3tgsb7Dyp2bXX6g5H4V8M6pql9rWqT6jqtzJdXlw++WaQ5LH/PbtXTeBfij4l+H0jrolyklnI26SyuVLxMfUDIKn3BGe+apwfKkJS1ud/Y/sy+Jk8VxxXl7Zf2RHMGa7SQ73jB6BMcMR74Hqa9z+LWs2uh/CjxBNduq+fZSWsSk8vJKpRQPXrn6A14s37VOsm32p4bsRNj75ncrn/dxn9a8u8bfETxF4/vUm8QXYaKIkw2sK7Ios+i9z7kk+9LllJ+8HNFLQ1vgn4a/4Sb4r6VDIm+3smN7PxkbY+Vz7F9g/Gvrjxb4g8N6DpGPGF1awWN4TAUuU3pLkElSuDkYH0r4++G/xLuvhtdX1zp+mWt7PeIsZe4ZgY1BJIGD3JGfoKk+JHxU1T4lNYDUrS3s4rEPsjtyxDFsZJyf9kfrTlFykEZJI+oPB3iv4avqn9l+CbjSYby85MFlbeSZdgJ5woBwNx/OvPP2o/Dfn6NpPiSFPntZTaTkD+B/mQn2DAj/gdfPnhrXrrwv4msNbsArXFjMJVVuj46qcdiMj8a9I8XftAar4x8K3ug6joOnpBdoAXR33IQQwYZPUEClyNSug5k1Znf8A7K3/ACLev/8AX3H/AOgGq3xp+Efi3xr8QP7V0C0gltPskcW6S4VDuBbPB+ory74cfF3Uvhtp97a6dptreLeSrIzTswKkDGBg12n/AA1P4h/6F/Tf++5P8aHGSldAnHlszgPFnwl8WeCdFGq6/aQQ2plWENHcK53EEjgfQ19Hfs7f8kbsP+vif/0Ya8I+IHxu1b4g+Gl0a/0qztIhcLP5kLOWyoIxyf8AaqbwL8dtX8CeFYdCsdJsrqGGR3EkzOGJZs9jjvTkpSiCcUzD+KtvNd/GfX7e2jaWabUDHHGgyXY4AAHqTX078IfhrD8PPCoW5VH1i9AkvZhztPaNT6Ln8Tk+mPk2/wDGFzf/ABEPi6S2iW5+3Je+QCdm5WDBfXHFepf8NUeIf+hf03/vuT/GiSk0kgi0nc1vit8O/iZ8RPFb3S6fbxaXa5jsbdrxPlXu5GfvNjJ9OB2ryPxj8MPE3gOyt7vxHbQwxXMhjjMc6yZYDPb2r0f/AIao8Q/9C/pn/fcn+NcZ8R/jBqfxJ0yzstR020s0tJjKrQMxLErjByaI8y0B8rPTP2WfDW231nxNMnLlbG3YjsMPJ+uz8jXp/jPxV8OYNQXSvHFzpctzbgSLb31v53l7h1GVIGRXzz4L+PeqeCPClpoWm6Hp8sNvuJlkd90jMxYk4Pv+QFef+LPEl34v8VX2u6gqpcXkm9kTO1AAFCjPYAAVPK3K7HzJKyPt3wf4h8L65pbQ+DLq0lsrIiMxWsexIc8gBcDHevlL48+Gv+Ed+LGoNEm231IC+i47vnf/AOPhvzFZvw3+J+p/DW7vpdNtYLtL5EWSKcsACpJDDHfkj8ak+JPxQu/iU1hJqOl2lnNYhwsluzEurY4OT2I4+ppxi4yE5Jo+sfA3iOx8f/DuzvgyzC5tvIvIs8pJt2yKfxz+BB718/an+zJ4rj16SDSruwn01pP3VzLKVZUz/EuM5A9M1514M8f+IfAWoNdeHrzy1lx51vIu+KbHTcvr7jB96+m/hz8Wb74h+GbxLGPS4vE9tlxYSPKsbRDaA+cHqxxgE44z1qWnDVFXUtyG8+DPwy8KeDmv/EOlrONPtQ1zdvczIZmVeTtD4BY9AO5Ar52+Gfh1fF/xS0nT1gC2rXPnzR8kLEnzlcnsQNv41Y+I3xL8WeNL6Sw8RSpawWkzKdPthtjR1JBJ5JYjnkk+2Kq/Dr4g3Hw51q51Sx062vbieDyAbgsPLUsCcY9cD8qtJpEtq59n+J9e0Lw/orz+KbqC20+c/Z2M67lkLA/IRg5yAePrXLeFPFvwtTWEsfB1xo9tfXp2COytfJaXGSASFGe/Wvmv4kfF/V/iTY2VnqFlbWUFpK0u23Zj5jEYBOT2GfzNcXo2qXGh65Y6rZEC4srhJ489CysCAfbipVPTUbnqfTv7Tnhv+0fA1nrkKZl0u42yED/llJhT/wCPBPzNYf7Lviy2S11Pwpcyqlw032y1Vj/rAVCuB7japx7n0rlfEX7RWr+JvDN/o9/oGnC3vYWhcq75XI4Yc9QcEfSvIrK9udOvobywuJLa5gcPFNExVkYdCCKai+WzE5Lmuj6c+NHwR1Txn4jTxD4YltzcyRLFdW877NxXhXVsY6YBBx0FbXwS+Et38PIb7UNcmhl1O9VYwkBLLDGDnG4gZJOM9uBXl2h/tPeJ9PtEg1nTbLVWQY87JhdvdsZX8gKp+J/2kfFuuWUlppUFtokcgw0tuS82PZzwPqAD70uWdrFXje5Y/aW8WW2t+NLPRbGVZY9HidZmU5Amcjcv4BV/Ekdq8XpzMzuzuxZmOSxOST602tErKxm3d3CiiimIKKKKACiig0AGaSkooGKv3x9aRvvn60qfeH1pG++frR0F1EooopDCiiigAooooA9P/Z+/5Kf/ANuMv81r6hr5e/Z+/wCSn/8AbjL/ADWvqHFfH5x/vPyR00/hCijFGK8c1CijFGDQAUUu0/5NG0/5NOzASinbD7fnRsPt+dFmA2inbD7fnRsPt+dFmA2il2GjFFgEp8X+uT/eFMxT4h++T/eFOHxIDpaKKK+8MT4BoopCa9o8kWikJpM0DHZpM0lFAC5pM0UUAFFFen+GPgR4i8VeGrPWrHUdMit7xC6JM8gYAMRzhCO3rUSkoq7KjFy2PMKK9hl/Zq8XJGWi1LR5GH8PmyjP/kOvO/FXgnxB4Mu1g8Q6e9sJD+7lBDRyf7rDj8OvtSjUjJ2TG4SjujBzSZrU8NaBc+KfEllotjJFFcXj7EeYkKDgnnAJ7eleof8ADM3iv/oLaN/38l/+N0SnGLs2EYSlsjxw/dFJXsv/AAzP4rwP+Jto/wD38l/+N15Vr+jT+HfEF9pF48ck9lM0MjxElSQeoyAcU4zjJ6MHCUd0Z9JRmvX7T9m7xTd2cNzHqukBJo1kUNJLkAjPPyUSnGO4Ri5bHkGaK9euv2a/GUEJe3vNJuWA/wBWk7qx+m5APzNeZ694d1bwxqbafr1hLZXKjOyQcMPVSOGHuCaUZxlswcJR3Rm0UV6F4H+DPiDx3oDavpt1Y2tv5zRKLpnDOVAyRtU8ZOPqDRKSirsFFydkeeZpCa9G8a/BPxF4I8OPrWoXdhdW0cipIts7lk3HAY7lAxnA/EV5xQpKSugcXF6hRXpHgz4J6/448Nx61pl/p0FvJI8YS4eQPlTg9EI/Wt1/2ZfFwQlNU0Zm7DzZRn/yHUOpBOzZapyavY8aorp/F3w78TeCHX+39OaOB22pcxMHic+m4dD7HBrmKtNNXRDTW4N/qvxqOus8H/DvxH47kdNBst0Mb4lupm2RRn0Ldz7AE+1d9P8Asw+J0sy8GsaXLcAf6omRQfo23+gqJTinZsuMJNaI8Upa1vEnhbWfCOrNp3iCxks7jGV3crIv95WHDD6VmQwy3NxHBbxvLNIwRI0UszMeAAB1NF76itYZRXr2hfs3+L9Us0uNSuLHSg4yIZnZ5B9QowPzzVXxN+z34v8AD9hJe2ZtdXhiG50tGbzQB1OxgM/QEn2qPaQva5fJK17HldFH1pKsgKKKKACkpaKQxydG+lFCfxfSiqWxPUKKKKYBRSUUgCiiigYUUUUgCiiigAooooAVPvioqlX74qKhjQUUUVIwooooAKSlpKBhRRRSAKKKKAFT7wooT74op9BBRQaSgAooopDCiikFAwNJSmkpMAooopDCiiigApT9wUlDfcH40CG0UUUhiUtFFAwooooAKKKKACiiigAopKKACiikpAFFFFAwooopAFFFFABRRRQAV6rpHxu/4RfwxDp/hHwlpel6iLVILjVMB5JmVQC5AUckjOCWGfWvKqKGk9xptD5ppLieSad2klkYu7scliTkk0yiigQUUUUAO/5Zn602nf8ALM/Wm02IKKKKQwooooAKKKKACiikoAO9BNJmg0DA0lFFIBV++PrQ33z9aF++v1ob75+tPoLqJRRRSGFFFFABRRRQB6h+z7/yU/8A7cZf5rX1DXy9+z7/AMlP/wC3GX+a19Q18hnH+8/JHTT+EKKKK8c1FAzRn04FH8P1pMUwCil4+tHHpilYBKKXBFLxjgc/WnYBtFL+H60fh+tKwCUoPY8j+VGAfajFPYAIwadF/rk/3hTcZUe3FOiH75P94VUV7yA6SijFFfdGJ+f9FFJmvZPKFopM0ZoAWikzSZoAdmm5oooAM19mfBv/AJJB4f8A+uDf+jGr4zr7M+Df/JIPD/8A1wb/ANGNXLifhR04f4meU6p+0T4k0bxjqNhPpemXNlZ3ssAVVkSRkRyo+bcRnA/u/hXst5Z6P8Tvh2olj32WqWoliZgN0LEZDD0ZT/IjpXx94z/5H7XwOT/adz/6Navr34Yabc6N8L9Cs79GinjtAzo4wU3Etg+hG7FZ1oxjFOO5dKTk2nsfMXwrtZbD42aNZ3AxLb3rxOPRlVgf1FfTfxM1rxBoHgyS+8JWjXmoiaNViS3aYlSeTtXmvnHwNeRah+0ZbXtuQYrnV7iVCO6sXI/Q19OeNfGNl4G8NtrOpwXE8CyLGUtwpbLdOpA/WitdzWgUvgZ4Z/wtP4y4H/FNXH/gmlrx3XNVu9b1691PUgq3d1M0kwVdoDE88dq+j/8Ahprwrj/kEax/37i/+OV8z3k63N/cToCFllZwD1AJzW1JO7vGxlUt0dyGvu22uHs/BUVzEFLw6eJFDDgkR5Ga+Eq+6D/yT4/9gv8A9pVniehdDqeEaB+0xrX9rQp4k0vT3sHcLK9orpJGD1YbmYHHXHGfWvV/i74StPF/w7vm8tXvLKFruzmA5BUbioPowGMfQ9q+PLO0uNQvobOyiaa4ncRxRoMl2JwAK+4dalj0P4fXz3bgpZ6a+9j32xn+eKmtFQknEqnJzi1I+GVDOwVAWZjgAc5NfbnhfTbfwD8MbO2usJHpliZbkj+8FLyH/vrdXyz8HfDv/CS/FLSoJE3W9q/2yfjjbHyM+xbaPxr6p+IOgal4o8D3+i6NcQW1xeqsZlnLBVTcCw4BPIBH408RJNqIqMbJyE1O3tfiF8M5ooceRrOnh4SxzsZl3IT7hsflXxDLFJbzPDMhSSNijqeqkHBFfbXw38N6p4R8D2mh61c291LaM6xywFiChYsB8wByMkfQCvmT43+HP+Ee+Kmo+Wm231DF7Fx/fzv/APHw1KhJKTiOsm4qR7t+z3/ySK0/6+Z//Q64vxn8ffEvhb4gano8Gn6ZcWVlceWoeOQSMuAfvB8Z59K7T9nv/kkVp/18z/8AodfPPxc/5K54i/6+z/6CKIRUqkkwlJxpqx9WaNqGkfFD4dxXNxab7DVIGSa3kOSjAlWGfUMDg+wNfHupeGLmx8eT+GEbfcJqBso2I+8S+1T+OQfxr6o+Bml3WlfCPS0vY2iknMlwEYYIVnJX8xg/jXz/AOINYtR+0XLqm5fs0GvRsz54xHKoY/8AjpNFLSUkgqaxTZ9QRw6R8Nvh8/kR+Xp+kWhdgoG6QqMk+7Mf1NeH6H+0xq8/i2Ea3p1lFo00oRlhDeZCpOA24n5sd+Bn2r2f4oaZc6z8L9esrFGknktGZEUZLlSGwPc7cV8U6bp1zq2qW2n2MTS3N1KsUaAclicCppRjJNyKqScWkj7F+MnhK28V/DfUd8Sm80+Fru0kx8ysgyVB9GAIx9D2rwf9nOys7v4rB70K0ltZSzW4b/nplVyPcKzV9M+KrmLS/Aerz3Djy7fTpSxbviM/zr49+HWg+L9W8QfbvAce7UNNxKXE0ce0HI/jIDA8gjn3op6waCppNM+qPijqXjTTPDkU3gCxS8uvN/0gbBI6R46qhPPP1+nccFoX7QMmiaULX4l6HqltqyyEAwWQjWROMEq7KQ2cg4GOlWrv43a74IuLWw+JfhNra5mi8xZtPuUcSLnBIXJAOR03V3+ia34Y+KvhGSeC3W/06RzDNBdw8o4AJBHYgMDkHvwai3KveRV7vRnx3441TStb8b6pqfh+CW30+7m86OKZArKWAL8AkD5t3fpWDXV/EzwrD4L+IWpaLaMzWsTLJAWOSEdQwBPfGcZ74rk6601ZWOZ76hS0lLTEFFFFIByd/pRQnf6UVa2JCikopgFFFFIYUUUUgCiiigAooooAKKKKAFX7wqKpV++KioY0FFFFSMKKKKACkoooGFFFFIAooooAVPviihP9YKKfQQlFFFIYUUUUAFIKDR2oGIaKKKkYUUUUAFFFFABQ33B+NFDfcX8aBDaSlpKRQtFFFABRRRQAUUUUAFFJRQAUUUlIAooooGFFFFIAooooAKKKKACiiigAooooAKKKKACiiigB3/LM/Wm07/lmfrTabEFFFFIYUUUUAFFFJQAUlBNJQMWkoopAFFFFACr99frQ33z9aF++v1ob75+tPoLqJRRRSGFFFFABRRRQB6h+z7/yU/8A7cZf5rX1FXy7+z5/yVD/ALcZf5rX1HXyGcf7z8kdVL4RKKWivHNQPQUDoaU9vpR2NV1AbRS0VIB2+lA4NKPT1pKrzAOlJTj2NJSYCUp7fSilPQUAJ/CadF/rk/3hSDoadF/rk/3hVR+JAdHRRRX3Rgfn5RRg0YNe0eUJRS4NGDQAUUYNGDQAUlLg0bTSASvrX4TeLPDlh8KtDtb/AF/S7a4jhYPFNeRo6nzG6gnIr5L2mk2msqlP2iszWE+R3Psv7d8K7K9fUxc+E47veZWuVe38wuTktuHOc8+tee/FP48adLo9zongmZrme5QxTX4UqkSHghM8liOM9B1Ge3zttPpS7TWccOk7vUt1m1ZaHW/Cm7trD4p6FdX1xFbW8dwS8szhEQbG5JPAr6r1fXvAOv6ebLWta0G9tSwYxTX0RUkdDjdXxPtNJtPpVVKXO73JhU5VY+uv7E+DXp4V/wDAqH/4qvmLxvHp8PjrWo9F8j+z1vJBb/Z2Bj2buNpHGMVhlTtFJtNOFNwe9xSqKS2EzX2zpfjLwkfD1nBc+I9GwbVEkje+i/uAEEFv0r4m2t6frRtb/JoqU/aWHTqch9lW+sfCvwyxvbC78LWMoH+sszAJCPbZ8x/CvHfjF8arfxVp7eHvCvmDTWYG5u3UobjByFVTyFzgknBOOgHXxbYfT9aXaf8AJqI0End6lSqtqyPef2c5dA0Ox1bWda1jTrK6uHW2hjubqONxGo3McEg4JI/75qx8XvjVquk+KLex8Ca1bG1jtg880CRTq8jE8biGHAA6etfPu0+n60bT/k0/Ypz5mL2jUeVHvnwl+Nms6n4xax8da1b/AGGa3fypZo4oFjkGCMsAOoDDnvipv2ip/D+v6Dpmq6PrWm3l5ZTGF4re7jd2jcZzgHJAZR/30a+fdp/yaNpo9ilLmQe0fLys+ovgT4o0DS/hZa22p65ptncLcTExXF3HG4Bbg4JBrrLi9+FkmoPqd1c+EpLxm3vcySWzSFvXcec18Y7T/k0bT/k1LoXbdylWsrWPpz4jfH/RtN0qfT/BVx9v1KVSgukUiK3z/ECfvN6Y49T2PzEzM7FnJZmOSSckmjafT9aNp/ya0hTUFZESm5PU+l/hX8ddKutFttH8aXa2N9bqIo72b/V3CgYBZv4Wx1J4PXPOK75Ln4caReSeIYbjw5a3Lg7r6OSFWbPX5geSfzNfFTKfK/H1pmw+n61lKgr3RpGs7ant3xp+NFr4n09vDfhR3fT2YG7vCpXz8HIRQeduQCSeuPTrwnwr8fH4e+Mk1GaJ5rGeMwXcafe2Eg7l9wQD78jvXGbD6frRsPp+tWqaUeUhzbdz7Pm174Z/ETTYft99o2oxr8yR3cipLET14bDLRP41+HXw80I29nqOmW1vHlls9PdZHdv91STk+p/E18X7G/yaNh9vzrL2Hmae28je8c+KpfGnjTUNdmj8kXTjy4s52IoCqPrgDPvmufp2xvb86Nje351taysZXuJRS7G9vzo2N7fnRZgJRS7G9vzo2N7fnRZhdCr0P0pKcqNz9PWjaatJ2JG0Uu0/5NGxv8mizASil2H/ACaNrf5NKzGJRS7T/k0bT6frRZgJRS7W9P1o2n0/WiwCUUu0/wCTRtb0/WiwCUUu1vT9aNren60AIv3xUdSqrbx/jTNhpO40Nop2w0bD/k0rMY2il2H/ACaNh/yaLMBtFO2N/k0bG/yaVmO6G0U7Yfb86Nh/yaLMLjaQ0/Yf8mkKMfT86VmGgkf3xS0qI28f40bG/wAmmk7C0uNop2xvb86Nh/yaLMY2inbD/k0mw/5NFmFxhopxRvT9aPLb/JpWY7obRTvLb2/Ojy29vzpWYXQ2ineW3t+dJsb2/OizC4lFLsb2/OjY3t+dFmFxKG+4KXY3+TSsjbF/xoswuiKinbG9vzo2N7fnU2Y7oSil2N/k0bG/yaLMLiUUuxv8mjY3+TRZhcSkp2xv8mjY3+TRZhdDaKd5bf5NJ5ben60WY9BtFO8tv8mjy2/yaVmF0Nop/lt6frR5bf5NFmF0Mop/lt/k0eW3+TRZhdDKKf5bf5NHlt/k0WYXQyin+W3+TR5bf5NFmF0Mop/lt/k0eW3+TRZhdDKKf5bf5NHlt/k0WYXQyin+W3+TR5bf5NFmF0Mop2xvT9aNjf5NFmF0H/LM/Wm1Jsbyz9fWk8tv8mnZhdDKKf5bf5NHlt/k0rMLoZRTvLb2/Ok8tv8AJoswuhtJmn+W3p+tJ5beg/OizHdDKKf5bf5NHlt6frSsx3Qyin+W3p+tHlt6frRZiuhlFP8ALb0/Wjy29P1oswuhq/fX60N98/WnrG24cd/Who23Hjv607OwXVyOin+W3p+tHlt6frSswuhlFP8ALb0/Wjy29P1oswuhlFHSikM9Q/Z8/wCSof8AbjL/ADWvqOvl39nz/kqH/bjL/Na+o6+Qzj/efkjqpfCJRS0V45qH8IoBxS0YqvMBMenNJTh1FFIBtKev1pcUdaEAg9D0o2ntzS0UeoCY9eKCcmloxR5IBP4fqadF/rk/3hSU6P8A1qf7wqo/EgOiopKK+6MD8/M0ZpKWvZPLCjNFFIAooooAKKSjNAC0lGabQMdRTaXNAC5pCaQmmk5pXCw/OYx9TSUD/Vj6migAooooGFFFFABRSUUALSUUUAFFFFIYUUUUADf6r8ajqRv9V+NRmkwQUUUlRcoKKKWgAooopAFFFFABRRRQAq9G+lFC9D9KKtbEhSUtFAwooopAFFFFABRRRQAlGKWigBKKKKAFT7wqOpE+8KjpdB9QooopDCkoooGFFFFIAooooAKbSnpSUhjk/wBYKKE/1gop9BdQooooADSE8UGkpDCiiikMKKKKACiiigAooooAKG+4v40UN9xfxoEMopaKRQmKMUtFACYoozRQAUlFFIYUUUUgCiiigAooooAKKKKACiiigAooooAKKKKACiiigAooozQAUUUlADx/qz9abTh/qz9abTYgoopKQwzSZozSUDCiiikAUUUUAFFFFABRRRQAq/fH1ob75+tC/fX60N98/Wn0F1EooopDCiiigAooooA9R/Z7/wCSof8AbjL/ADWvqWvlr9nv/kqP/bjL/Na+pa+Rzj/efkjrpfCFFFFeOahRS9McUnanYA49P1ooopAFFFFABmjj0oopgH4UUUUAFOj/ANan+8KbTo/9an+8KcPiQHQUUUV90YH5+UU3NGa9g8sXNFNpc0AOpKbmjNACmkoopDCijIFNLelIB1IWpuc9aSi4Ck5pM0UUhkg/1Y/Gigf6sfjRVCCikooAKKKKQwooooAKKKKACiig0AFFITRmgBW/1P8AwKo6ef8AU/8AAqjqZbjQUUtJUDCilooAKKKKACiiigAooooAVejfSkpV6N9KKroIKKKKACiiigAooooAKKKKACiikoAKKKKQxV+8KjqRfvCo6OgdQooopDEooopDCiiigApKU0lAwNJRRUgOj/1gooj/ANYKKpbC6hRSGigApKWkpMYUUUUhhRRRQAUUUUAFFFFABQ33F/GihvuL+NAhtFFJSKCiiikAlFFFAwooopAFFFFABRRRQAUUUUAFFFFABRRRQAUUUUAFFFFABRRRmgAozRSUAFFFJQMeP9WfrSdKF/1R+tNNMQpNJRSVIwooooAKKKKACiiigAooooAKKKKAFX74+tDffP1oX74+tDfeP1p9BdRKKKKQwooooAKSiigZ6j+z1/yVH/txl/mtfU1fLX7PX/JUf+3GX+a19TYr5DOP95+SOul8IlFLijFeQageg+lA+6aOwoHFV1ASil2+nNGD6GlZgJRS4PoaMH0NFmAlFLg+howfSizASilwfSjB9KLMBKdH/rU/3hSYx1FOj/1qf7wpx+JAb9FFFfdHMfnzRRRXrnmhRRnHWkLelAC0ZAphJpKVwHbvSkJNJmg0hhRRRSAKKKKBhRRSUgJB/qx+NFA/1Y/GirJCiiigYUUUUAFFFFABRRSUALmkzmkzRSAKKKKAFP8AqT/vVHUh/wBT/wACplTIaCiikqRhS0UUAFFJS0AFFFFABRRRQAq9G+lFC9D9KKroIKKKKACiiigAooooAKKKSgAooooAKKKKkYq/eFR1Iv3hUdPoAUlL2pKRQUUUUgCiikoAKO1BpM0hiUtFFIY5PviihPvik6VS2J6hSUUUhhRRRSGFFFFABRRRQAUUUUAFFFJQAZpW+4v40lK33F/GgBtJRSVIwooooGFFFFABRRRSAKKKKACiiigAooooAKKKKACiiigAooooAKKKTNAB70UUlAxaSjNFABmkoopAPH+pP1ptOH+qP+9TKYBRRRSAKKKKACiiigAooooAKKKKACiiigBV++PrQ33j9aF++PrQ33j9afQXUSiikJpDFpKKKBhRRSZpDPUv2ef+Spf9uMv81r6nxXyz+zz/AMlS/wC3GX+a19T18jm/+8/JHVS+ETFGKWivJNQA9aTFLRQAmKMe9O496OPemA3HvS0vHvRx70AJRS8e9HHvQAlFLx70ce9ACdjTox+9X/eFJx2pY/8AWL9RVR+JAb1FFFfcHMfnuX9KTcaSivUuedYKKKKBhRRRSAKKKKACiiigAopKKAFopKKAJB9wfU0UD7g/GirEFFFFABRSZpM0AOzQabRSAXNJmiigAooooAKKKKAFP+qP+9UdSH/VH/eqOpkNC0lLRUjCiiigAooooAKKKKACikpaAFXofpRQvQ/Siq6CCiiigAooooAKKKSgAooooGFFFFSAUUUUAC/eFMqRfvCoqfQEFFFFSUFFFFABSHrQaTtQMKKKKkYUUUUAOT74pppU+8KSn0F1CiiikMKKKKACiiigAooooAKKSjNAC0lFJQAUrfcX8aSlP+rX8aAG0lLSVJQUUUUgCiiigAooooAKKKKACiiigAooooAKKKKACiiigAo6UZpM0ABNFFIaBhRmikoAKKKKQBRRRQA8f6k/WmU8f6k/WmUxBRRRSGFFFFABRRRQAUUUUAFFFFABRRRQAq/fX60N94/Whfvj60jfeP1p9A6iUUUVJQUUlFABRRSUgPVP2ef+Spf9uMv81r6nxXyx+zv/AMlT/wC3Gb+a19U4r5PN/wDefkjqpfCNxRinYoxXkGw3FGKf0xijNPQQ3FGKdmjNGgDcUYp2aM0aDGUU/JoyaNBDKXFOzSYzRoAmKdGP3i/UUmKdGP3i/UU4/EgNyiiivuTmPz1ooor0zzwoopKAFopKKAFopKKAFopKKAFpKKKACiiigCQfcH40UL9wfjSVYhaQ0ZpKQBRRRQAUUUUAFFFFABRRRQAUUUUAKf8AVf8AAqZTz/qv+BUypkNBRRRUjCiiigAoopKACloooAKSlpKAHL0b6UUL0b6UVXQQUUUUAFFFFABSUZpKBi0UUUgCiiikAUUUhoAVT8wqOpF+8Kjo6DQUUUUhhRRSGgANIaKKQwooopDCiiigBU+8KSlT7wptPoLqLRRRSGFFFFABRRRQAUUlFAAaSiikAUUlLQAlOb/Vr9TTac3+rX6mgBlFFFIoKKUAnpzSUgCiiigAoqWC3mupRFbRPK+CdqDJwBkn6AVPeaVfafDbzXtrLDDcqWglZfklA67W6HHtQBTooooAKKKKACiiigAooooAKDQaSgAxRSUUDCijNJQAUUUUgCiiigAooooAeP8AUn60ynj/AFJ+tMpiCiiikMKKKKACiiigAooooAKKKKACiiigBV+8PrSN98/WlX7w+tI/3z9aOg+olJRRSGFFJRSAWkpaKAPU/wBnf/kqf/bjL/Na+qa+Vv2d/wDkqf8A24y/zWvqrFfJ5t/vPyR10fhEopcUYryTUOvejHvRijFMAx70Y96MUYpAGPejHvRijFABj3ox70YoxQAfrSUuKCKAClj/ANYv1FJjg06MfvF+oq4/EgNuiiivtzlPz0ooor0zzwopaSgAooooAKKKKACiikoGLRRRRcAooooAev3B+NKaQf6sfjSVRIUUUUAFFFFABRRRQAUUUUAFFFFABRSUUAOP+p/4FTKef9T/AMCplTIaCikoqRi0UlGaAFpM0GigAoooNABmikozQA9OjfSikTo30paroIKKKKACkozSUAFLRRUjCiiigAooooAKSijpQAq/eFR09T84plD2GgooopDCkNGaQ0mMKKKKQwooooAKKKKAFT7wpKVPvCkp9BdQooopDCiikoAKWkozQAUhoopAJRS0UDEpaKKAClb/AFa/U0lK3+rX6mgQyrFjZT6lqNtY2i757mVYY19WY4A/M1XrqvhkEb4o+HVkIGb+MKT2bPy/ripZRQ1y4h03W3tNClaOCwcxJcxna87rw0pI55OcDsMD1J0PGEcV9peheIoo0jl1O3eO8CKFBuIW2s2BwCymNj7k1zEysk8iSAhlYhgfXNdLd/vPhNpZb/llrN2q/RoYCf5UhnLUUU+ONppUjjG53YKoHcmmI6S5H9heBbSKP5bzXS08z91tUYqifRnV2PrsSrPgudtZsdQ8H3R8yK/ieexDc+TdxqWUr6bwCh9dw9Kr/ESRF8aXOnwHMGlRx6dHjpiFAjH8WDH8ayvDWotpHirStRU4NreRS/grgml0H1Myitjxbpy6T401nT0GEtb6aJR/shyB+lY9MQUUUUAFFFBoADRSUUAFFJRQMM0lFFIAooooAKKKKACiirWo6ddaTfNZ38RinVUdkJyQGUMP0YUAVaK0NF0LUvEOoCy0e1a4m2lmwQFjUdWZjwqj1JArW1nwLqOj6Y9+l9pep28JAuDpt6lwbck4G8DkAnjPTPei47HOD/Un60ynj/Un60ymSFFFFIYUUUUAFFFFABRRRQAUUUUAFFFJQMcv3h9aa/3m+tKv3x9aRvvt9aOgdRKKKKkYUUUUAFFFFAHqf7O//JU/+3GX+a19VV8rfs7/APJU/wDtxl/mtfVNfJ5t/vPyR2UfhCiiivJNQooooAKKWigBKKWigBKKWigBKXsKKDT6AA6Glj/1i/UUnY0qf6xfqKqPxIDbooor7c5D89KKKK9M4AoopKQC0UlLQAUUUUAJS0UlABS0UUgCkopaAHfwCij+AfjRVkhRRRTAKKKKACiiigAooooAKSlpDQAUUUUgF/5Yn/eplP8A+WP/AAKmUmNBRRRnmpGFFFJ0oAX6UUUZoATpRmkooGLmkoooAfH/ABfSlpE6N9KWq6E9QpKKKACkpaKkYUUUUAFFFFABRSUUAFITS9BTaBip98U2nr98Uyh7B1CkNLSGkUJRSUtSMKKKKACiiigAooooAVPvikoT74oo6C6hRRRQMKQ0GkoAUUlFFIBKKWigYUUUUAFFFFABVuz0+fUNwhCrHEpeWVzhIl9WP6epPAyaqAFmCqMknAA710fioDR1j8NWxwLI5vmH/La6x82fZMlB9GP8RoAws20M+AGuEU8knYG+neujtrGG30q38XeGmmR9KvYhd2kzB2hfO6ORWAGUYoRyMgjvnNcpXsXwAmghfxOL9Q9ncWtvayq3TEswj/k5qJaIpas4f4jadDZeMri7sBnTtWVdRs27GOX5sf8AAW3L/wABpdRHk/CfQkP3rjVL2b8AkCj9c/lWhbW0niDw7deE5+da0GWaXTh3miBPnQD3BG9R/vjuKzPFL+R4b8Kaf/FFp73Dj0aWeQj/AMcCUgOXrofAVml/8QtCt5f9Ub6JpP8AcVgzfoDWFBbzXMnl28bSPjOFGcD1+ldb8PrZLf4gaUkl1E08zvCkcR3Yd42Rct06sOhNU9gW5zGpXbahqt3eScvcTvKx92Yn+tVgcEEdRUqusLFXt0ZlOCJC3H5EVsaFPaX+q2+nXWjQXBu5FgjaKR4pEdjhSDkg8kcFTkenWgRb+JTBviTrbLxm5JP1wM/rmuWrb8Z3q6j451u7i/1ct/MUx/d3nH6YrEoWwPcKKKCaADNJRRQAUlFFAwpKKKQBRRRQAUUUUAFFFFAFiwtzd6lbWw6zSpGPxIFdV8Q45da+MOtWunRGWWTUWtYI1/iKnywP/HayPBcQn8eaDG/3W1G3DfTzFzWg2pNarq/iMnF7qlxNDZt3QOczSD32sEH++3cUuo+hBrurLp9k3hrQ5x9giYfbLiI4+3TDqxPdAchR0xz1NReCi8niq2swT5d+r2kq9mSRSpz9Mg/UA1gV0ngxfsl3fa5LxDpdnI6k95nUxxKPfcwb6KfSjoHU54f6k/WmU8f6k/WmVRIUU5UdwxRWYIMsQM7RnGT+JFNpDCirup6RfaPJbx6lA1vJcQLcIjEbtjZ2kjtnGcHnBHrSWWntdRyTyyCC1h/1kzDIz2UDux7D8TgAmgCnRRRQAUUUUAFFFJQMKKKKQxV+8PrSP98/WlX74+tI/wB9vrR0F1EooopDCiiigAooooA9U/Z2/wCSqf8AbjN/Na+q6+VP2df+Sqf9uE381r6sr5PNv95+SOyj8IlGKWivJNQ/Ck/AUvWjHuKrUBPwFH4ClopagJ+Ao/AUuPcUY9xT1APwFH4CjHuKMe4o1ASjFLj3FFLXqAmKcg/eL9RSUqf6xfqKcfiQGzRRRX3ByH550UUtekcAlLRSUgCilpKYC0UUlIBaKKKACiiigBKWvf8A4LfCvwl4x8BtqfiDT5Li6+1yR71uZEG0AYGFIHevApVCzOq9AxAqVJNtFOLSTD+Bfxoo/gH40VqZhRRRTAKKKKACiikpAGaKKKBhRRRQAUUUUAKf9T/wKmU8/wCo/wCBVHikwQZopMUVJQUUUUAFFFFABRRRQAUUUUAPT+L6UZpE6N9KWq6CCikpakAooooAKKKSgApaSigANHSjNIaAENFFFAxU+8Kaaev3hUZ4oewLcKQmjtRUlBRRRSGFFFFABRRRQAUmaDSGgB0f3xRRH98UUdBdQoopDQMQ0UUlIAooooGFLRRQAUUUUAFJRRQBpeHJIYfFGlSXePIS9haTPTaHGf0q342tprTxxrcFznzU1G4DE9/3h5/HrWFXb6wv/Ce6XDq9hh9ftYRFqNoPv3SoMLcIP4jtADqOeN3QnCGcPXpvh0Hw38ENb1ZnCXWqajZxW6E/N5cbtJu+hZGA/wBw15vBNNb3CyWzvHMp+VkJDA9OK7G9s7iTwiNPknITTm+3atMxLlJZMRwwgd2VR04wWYHGKljRH4wivLT4x6idEaSO7l1Pz7Rozhg0jB0x/wB9Cul8TaNpnjzxfJqVhqMdtBaTpZaqrBVWBE/drPGBwIn2gf7LNzwc1W8UXVromtWficyK99daNaNp8IYFlk+zohnf+7twSB1LYPQGuS8JeJ7zQNeglghguIpW8m4gkt0bz4n+V4ycZ+YEjil0uMi1rT9Xs2aCfS57C1B+SNUJRh2O/o/+9kj0wOKybee4sbuG6t2aKaF1kjccFWByCPxFdn8QNEt/DWsSXHhK+uP7Flup7aMCYkwyxPteMkdRgqwPcMPQ1q+IUx4Su7C3eWK/0OCxuZJklbdKk8S+cHOedsjpjPQEincVjB13To/FfneIvDcIaWUGXUtNjH7y2k6vIi9WiJycj7ucHHBNfwNazQa7Jq7QybNItpLwHYT+8UbYh/38ZP1rBTU7+ORXjvrlXU5VhMwIP512Wr+JL608HWVlrKQ6he6oRdz/AGhMOIBxCGdCrEk7n5J4KGjXYDizZ3RJLwuueSXG3+dBspFXc7wKP+u6E/kDmp3v7Nuf7It0/wByWXH6sartcRE5WzhX23Of/ZqYjf0jwnBqvhzUNRh1Lz7mxUu9jaw75AmMiT5iuUB4Yrkr1xXMVNDeXFtN5trK1vJtZd0R2nDDBGRzggkfQ1AaBi96SikoAXNJRRSAKKKKACiiigAooooAKKKKAOh8CWlxeeNLJLKNpbhBLNGijlmSJnA/Nap+IbiN9RW0tXD2thGLaFh0faSWcf7zlm/GtXwRdzaQuua3bkrJZaZIkTj+GSZlhGPfEjH8Kw9L1e60ad5rJbcyMu3dPaxzbfcb1OD7il1H0Nvw14F1TxTbqNMspmLNue9lYRWtvGM5LuRyfYHjHQ542L3TdCsLaHSLrWFks7eTzZbbTCs093L03ySZ8qNQMgfM20EnGSa5e78W65qAC6lqMl7GpysV0BKif7qsCF/DFZ9zqFxdDbIyKmc+XFGsafXaoAo1DQ7zxJLpWqeG9P07SbTTtJjhJlEkrEZLDiMSEZkZhhmdgFHygbR14h9HvIyPNRI0z/rWlXZ/30Dg/hVUszQ/MxOCAMnoKjpiudIL+ztfBupWFhErvLcQJLeMpDyj52Kj+6mUU46k8nsBlJ/xKmDyKDeYyiMMiH3I/veg7d60rcwaL4cFxKBJqN1MGgjPIgVV4kYd2+f5R75Pasqws21G9KySlE+/LIRuIGew7kkgAdyR9aQzR1IS6pqC3N9O4hhtbcTTudxz5SnAz1YnPH1J4BNZl7fNdbIo18q2hyIYQchc9SfVj3P9AALev6gl5fmG0GyytwI4UznO0Bd5PcnaOfoOgArKpgFFFFAgpKKKBhRRSUhi0UUlADl+8PrSN99vrQp+dfrQ332+tHQOolFFFIAooooAKKKKAPVP2df+Sqf9uE381r6sr5U/Z1/5Kp/24TfzWvqzj0r5TNv94+SOyj8IlFLx6UceleVY2Eopfwo/CiwCUUv4UfhQAlFL+FH4UWASil/Cj8KLAJRS/hR+FACUqf6xfqKPwpyf6xfqKcfiQGvRRRX25yH56UUUV6J54UUUlAC0lFLQAUUUUAFW9N0nUNYuvs+lWVxeTYzsgjLkD14qnX2DpN14e+EnwfivoI4Zmhto5JhGy+ZcSvjqfq2PYVE5cpcY8x80yfDHxtFB5z+GdRCYzkQ5/TrXM3FtPZ3D293DJBNGcPHKpVlPuDXu9l+1Hf8A9pJ/aHh22FkWAYQzN5ij1yeD9MCut+PXh/SvEPwtPiuCJVu7RIZYZwuGeKR1Xafb58/UVPPJNKSK5ItXiyx+zd/yStv+v+X+S18y6V4b1jxLqNxb6Dp09/LFl3SFclVzjP519Nfs3f8AJK2/6/5f5LXBfsyf8j1r3/Xl/wC1RUJ8rkymrqKPGtV0i/0PUH0/V7SS0u4sb4ZRhlyAR+hBqTRdA1XxFfGz0OxmvrgIXMcIyQo7/rXb/H3/AJLNq/8AuQf+iErY/Zq/5KZcf9g+T/0Ja6HJqHMY8t58p5drGial4f1A2OtWctldBQxilGGwehpdJ0DV9dmMejabdXzL97yIi236kdK9Q+Odj/afx2gsM7ftMVtFn03HH9a9r8U6/onwW+H9t9g00Ogdbe3t4yEMr4JLM2PYknmodR2VlqylTV3fZHypq/gTxRoGnm+1nRLuztVYKZZUwoJ6Cs7StC1XXJjFo+nXV66/eEERfb9cdK9A8cfGDU/iZY2Wh3Gn2+nwNdoxaKQsW7AHPYZzXvOueIPD/wAHfhvGdLt4Z1g2ww28TgGaQ9WYjPoSTQ6kopJrVgoRb0eh8vz/AAz8aW8PmzeGdRCYzkQk/oK5mWKSCVopkaORDhkdcFT6EV7/AKL+09cy6vFHruhW8VlI4V5beVt0QJ+9g9cfhWr+0p4U09/DVt4mihWK+hnW3kdRgyowOM+uCOtCqSUrSQ3CLV4s+aaKKK1MgooooAKKKKAF/wCWP/AqZT/+WP8AwKo6GCCkpaKkoSiiigAooooAKKKKACiiigB6dG+lFCdG+lJTEFFFFIBaKSloAKSiigA6UlFJQAUUUUDCiiigBV+8KYaen3xUZpPYa3CiiipKCiiigAooooAKSgmkzQAE0lLSUhj4/wDWCikT/WClp9CeohpM0pNNpDCilooGJS0UUAFFFFABW7Y+DNd1Kxiu7O0ieCUZRjdRKSM46FgRWDRUy5re6wVup0v/AAr7xL/z5Q/+BsH/AMXR/wAK+8S/8+UP/gbB/wDF1zVFRar3X3f8Er3ex0v/AAr7xL/z5Q/+BsH/AMXT08B+KIWjkhtY45EbcrLfQgqfUHfXL0p/1a/jRap3X3f8EPdOxufC/jS7mWe5iiedf+W5u7cSH3L7txPuTWh4O8G+MLTxJbW9vFDFBfSJb3avcQSo8RYbtyFiGAHPTtxXnwRihcKdoIBbHAJ6fyrq/hsoTxRc3x/5h+l3t0D6FYHCn/voiptU7r7v+CPQ7z4naDfa9qml39n4esxE+niNVS+SPy1SWREUDfggKF5Arho/Bnie2uBNY6db20i/ddb6Esp9QS/B9x0qPxaM+EfBT9/7LmX8ruf/ABrk6FGpbRr7v+CNtHo2meHNXi8J3OjappXnq2oQ3sXl39uPuq6yKSX43Bl5AP3elXdD0PXrzxTrM/iGCC2g121nt5pVuoWWBnw0Z2h87VdU4GTgV5ZRRy1O6+7/AIIro7aH4c6xYakTfWtrfQwnISC/h2z+g3FgQp798fpBqfg/xbq2pTX97aQPNM2WxeQAKOgUDfwAAAB2AFchQUfYHKnYSQGxwT6Z/Gi1Tuvu/wCCHunS/wDCvvEv/PjD/wCB0H/xdJ/wr3xL/wA+MP8A4Gwf/F1zVABJAUEk8ACi1Tuvu/4IaHS/8K98S/8APlD/AOBsH/xdIfh74l/58of/AANg/wDi65tlZGKuCrA4IIwRTaLVO6+7/gj0Om/4V74l/wCfGH/wNg/+Lo/4V74l/wCfKH/wNg/+LrmaKLVO6+7/AIIaG7f+DNd0yxlvL21iSCIAuy3UTkc46KxJ61hUUVUea3vCdugUUUVQgrR0jQdR12SVNLhSVogC4aZI8A/7xGazqKTvbQDpf+Fe+Jf+fGH/AMDYP/i6P+Fe+Jf+fGH/AMDYP/i65qiotU7r7v8AglaHS/8ACvfEv/PjD/4Gwf8AxdH/AAr3xL/z4w/+BsH/AMXXNUUWqd193/BDQ9PTwhqln8KJdNt7a3bVNR1USXCi8hykEUfyAnf3eRj/AMBrlf8AhXviX/nxh/8AA2D/AOLrmqKXLU7r7v8AghdHS/8ACvfEv/PjD/4Gwf8AxdH/AAr3xL/z4w/+BsH/AMXXNUU7VO6+7/ghodR/wr7xL5RH2KHr/wA/sH/xdNHw+8ShgfsMBx63sH/xdc2P9UfrSAEkADJPT3otU7r7v+CJWOsu/BPim8mLy2NuMsW2rewYyTk/x/5xUcXgTxVBu8m2jj3rtbbfwDI9Pv1y7KyMVcFWU4IIwQaSi1Tuvu/4I9Dpf+Fe+Jf+fGH/AMDYP/i6P+Fe+Jf+fGH/AMDYP/i65sIxQuFJVSAWA4GelJRap3X3f8ENDpf+Fe+Jf+fGH/wNg/8Ai6B8PfEv/PjD/wCBsH/xdczRStU7r7v+CPQ6b/hXviX/AJ8Yf/A2D/4uk/4V54l/58of/A2D/wCLrmaKVqndfd/wQ0Om/wCFe+Jf+fGH/wADYP8A4uueuIJLS6lt51CywuUcBgcEHB5HB/CoqKqPN9p/194adAoooqhCr99frQ332+tC/fX60N99vrT6C6iUUUUhhRRRQAUUUUAeq/s6f8lV/wC3Cb+a19W4r5S/Z0/5Kr/24TfzWvq2vlM2t9Y+SOyj8IYoxRRXk6GwYoxRRRoAYoxRRRoAYoxRRRoAYoxRRRoAYoxRRRoAetKn+sX6ikpU/wBYv1FVH4kHQ16KKK+3OM/PSiikr0TgFpKKWgAoopDQAtJRS0AJWno3h/WvEdz9l0PT7q/k7rChYL9T0H41mV9kaW2k/CT4Lw34tQwt7WOWYIAGuJnx1PuWx7ConLl2LhHm3PI/Cv7NevX8sU3ii7h0y3yC8MREkpHccfKD+Jr1r4z2sVj8B9YtLYYhght40GeirNGB/KvB/E3x88aa+His7pNItmyNlmuHI93PP5Yr2X4iO0v7MMzyMXdrCzLMxySfNi5rGXNzJyNY8tmojf2bv+SVt/1/y/yWuC/Zk/5HrXv+vL/2qK739m7/AJJW3/X/AC/yWuC/Zk/5HrXv+vL/ANqih/aD+U5X4+/8lm1f/cg/9EJWx+zT/wAlMuP+wfJ/6EtY/wAff+Szav8A7kH/AKIStj9mn/kplx/2D5P/AEJa2f8AC+Rmv4nzLvxbBH7SWl57tZ4/76rsP2oP+RI0j/sI/wDtNq5L4vf8nIaN/wBuf/oZrrf2oP8AkSNI/wCwj/7Tas+sC+kj5irY0Lwr4g8VTeToOl3V+QcFo1+Rfqx4H4msu3i8+5ihHWRwv5nFfZHiDVtK+DHwviazsg6wbLeGFOPNlI+8x/AkmtZzcbJbmcI82rPKvB37NmpSXdvd+MLyG2t0YO9pAd7uBztLdB+Ga7z9o7/kkrf9f0P/ALNXh3if43+NPEqSQHUBp1o+QYLJdmR6F/vH869x/aO/5JK3/X9D/wCzVjJS54uRouXlfKfJlFFFdRzhRRRQAUUUUAB/1H/AqjqQ/wCo/wCBVHQxoKKKKkYUUUUAFFFFABRRRQAUUUUAPTo30pKE7/SimIKKKKQBR2opuaAHZpD1opM0AFFFFAwooooAKSiigY5Pvio6kT74qOpewdQooopFBRRRQAUmaM0nWgBaQ0UlIApaKKBjo/8AWCkJoT74pDT6C6hSUUUhhS0UUAFFFFABRRRQAlFFFABRSUUhnrXgA3+nfCu51TwirJrL65HbX95BaC5ntLMx5DKmCdpbOcdcYrU8ZeBk1JPFl7LBFfa7a2OnXMUem2b25DyuRIXg3N85QAt0wTnArx7TNZ1PRLhp9G1G70+Zl2tJaztExHoSpHFSwa9q9ndS3tpqt9Bd3AZZp4rl1klB6hmByc+9TyvVjuj3iw8IWHhrxA9lp/2qGC38Q6Hm2edihaRAzblPU5J69K6Lw5oOk6/ZQ6XqUEw+2HXIfNhkCbEa+jVuMcn5lx2GDwc8fM3/AAkeuNJv/tnUC5kjk3fanyXjGI269VHAPbtXa+Hp/Fmj6D4mm1KXWbGRNIM1nJcNLGVL3luXeMnGCxOSR171Diyk0dk/gzw9ffD/AMOWmseY066VdNDeW6XLyRkSyuMRxxMjAMcNuYED075tp4J8HS+KPDegSaTdF77Q01W7uhesMk2rvsVccfMobOfbGK5Hxr4g1ixttK0K31W+hs10a1FzapcuscjSJ5pLKDgn94Otcmuuaqt1FdLqd4LiGHyIpRcPvSPG3YDnIXBIwOMGmkwuj1y38F+CtV06xa10a9tJtW0C51GJjqBkFrJBuHA2jfu285/ACoNc+HPhbTPBMpRp21CPRotRS9iFzJ5sjAMVZRF5SxHJAbfkEDPevLI9V1qK2jlhvr9IIEa1jdZnCxq+S0YOcAHkle/NI2v6w+jrpL6tfNpqnIszcuYRzn7mcdeelOz7iuj1r4U3V3a+B44LO21DTJL3Vtqa1Y2Ed6kp2qPInTO9UGc8cHJrpvDOhyabr+mJfPE0667rMUsNsxFqpFoxzHGeF+nbpXz/AKX4h1nRFlXRtXvtPWb/AFgtLl4g/wBdpGadZ6xrsa/6BqOootsXnHkzuPKLDa78HjIOCe+cGk4jTPRY/A/ht/AC+MjE66e2jCHyzO3Gqed5WfXbj59vpXQ6t8NvCuhapFb6c93HfabqWnol1EbljcCSVFYyMYhFGfm3KUc9Mda8P/tK+/sv+zvttx9h8zzvsvmt5W/GN2zON2OM4zVmXxLrs1pa2s2tahJb2bK9tC105SBl+6UGcKR2I6UWYXR6r4q8I6EjO50y81LWtZ8T32mQzNflNu2cBWOQQzc4yeOSTmsz4leBdC0LwZBq+j2/2W4j1aTTZoo7mWZGCoWyWkjTLAgg7QV9DXm8+tapdbPtWpXk2yZrhfMnZtsrHLOMnhieSepqXUvEWt6zH5er6xf36bxJturp5RuAxuwxPOOM+lFmF0ZtFFFUSFFFFABRRRQAUUUUAFFFFABRRRQB678JLttP+HPjO7h1uLQZY57ALqEtuZhHl5ARtCsTnp071twaH4T8feLr7XU05bjSp72105brzZLUTTlB5jpDFGzbm6jdtXuepx4dFfXcNlPZw3U0dtcFTNAkhCSleVLL0OM8Z6VY07XtX0iGaLSdVvbGOfHmpbXDxiTHTcFIz+NTylXPXIfhLpT6tolrbWV5ewN4lvNNv5kZjiCJwE3FeEO3JzxWgfCGk6t4b8NW15bzXFvpOna3dx2UD7ZLww3eFiDYJ5z2ycCvGIPFGv2vnfZtc1KH7RN9om8u7kXzJc53tg8tnnJ5qNNf1iOa1lj1a+WSzZ2tnFy4MBc5Yoc/KSSScdTRZhdHYeMPDGn6PrPhifSdNlhGs20F2+j3c2TE5kK7N7YO1scFvU16j4jh1DxBFPIDeafZ2GsWMculalpqQvYFplQfZLiM4YZPb+Hn6+Dapb+Ib21/tzWodSuI7lhjULtZGEvHH7xuvT1q9rM/jqCytD4gl8Qx2sMq/ZTfNOESQcrs3cBuOMc8UNXsCZ6/rGiaNqE+naJrxlktbzxXq1mtw8p8xZCQsTlurfPtzn1NYth8MPDlrdmw1qNjqWj6Gt/qUDTyhXnlkG1G8tXcLGhXOxcksM968u1dvFFkYP7eOr25eVrqH7aZVzISC0i7v4icZYc1VTxDrMWsnVo9Xvl1Jut6ty4mPGOXzu6DHWlZjuj2aHwRoUUGtafp8uoDTbnUdED2rtNEoE0rB1xIiM4HJVio4I71RsfBPhW98Wa/HFoEkelaPfrpe+51OU+ZMZnUsFjiZyxAAVeFGOSc15OfEWtNNPM2sX5luJUmmc3L7pJEOUdjnllPIJ5Hai28Ra3ZTXc1lrF/by3xJuniunVrgkkneQfm5J6+poswui9470K28M+PdZ0axeR7azuniiMhBbb2ye5rn6muru5v7qS6vriW5uJW3STTOXdz6knkmoqoQUlFFABRRRSASloooAVfvr9aG++31oX76/Whvvt9afQXUSiiikMKKKKACiiigD1X9nT/AJKr/wBuE381r6tr5S/Z0/5Kr/24TfzWvq7FfKZt/vHyR20fhEopcUYryTcSj60uKMUxBx70cUYoxQAcUcUYoxQAcUcUY9qMe1GoCce9FLRR6gJTk/1i/UUmKVPvr9acfiQdDWooor7c4j886KWkr0TgClpM0ZoAM0ZpKDQAtHSkzxRmgBTX2Fod1ofxf+D6aT9tVJZLVIbiNSDJbypjBK+mVyPUV8eZqxY6heaZcC4066mtZh/y0hkKH8xUTjzFxlynvVr+y3cDUE+2+JYjaBst5Vsd7L6ctgH866T48+JdH0H4Yt4Ss54mu7lYYY7dXBaKKNlbcw7fcA565r59f4i+MZIfJk8S6mY/7v2lq56aeW4maW4leWRzlndizE+5NTySbvJlcyStFH1f+zd/yStv+v8Al/kteRfAnxbYeFviROmqzLb2+oxm385zhUbcCuT2BIxmuH0fxv4m8P2P2PRNcvbG2LlzFBKVXcepxWESScnknrT5N79Q59rdD6w+JnwPi8fa/wD29pmrrZXMsarKrxb0k2jAYEHIOAB36Vd+GXwksvhhLeavqOrLdXUkPltKyiKKFM5PU+w5PpXzDpnjbxPo9qkOl69qFrGvRI7hgB+FR6r4t8Q65H5er61fXkfdJZ2Kn8KXs525b6Bzxve2p3fjLxRZ+Lf2gbK/0uQS2cd3bW8Ug6OFYZI9iSa9K/ag/wCRI0j/ALCH/tNq+ZYJ5bW4jnt5GjliYOjqcFSOQRWtrXjDxF4jto7fXtZvL+GJ96JPKWCtjGR+BqvZ6proTz6O/UyYJTBcRyjrG4Yfgc19i6rZ6H8bvhkkNpqCx+aUlWSPDtbTL1DLn3Ixxwc18b1b07VtQ0ifztLvrizk7tBKUJ/KnOHNZoUZcujPe9G/ZgaDV4ZdZ1+OezjcM0UMBDSAHpknjP41d/aS8Yab/wAI7b+GLW4jnvpJ1nmSNgfJVQcbvQknpXh0/wAQfF91CYp/EmpPGRjablq553eSRnkZndjlmY5JP1pKnJyvJlOaStFCUUUVqZBRSUc0ALRSUUAKf9R/wKo6kP8AqP8AgVR0MaCiiipGFFFFABRRRQAUUUUAFFFFADk6H6UUJ3+lBNMQUHik60ZpAH1pKU0lAwooooAKKKKACkoooGFFFFIByffFR09PvimUnsHUKKKKRQUUmaQmgA60UUlIYtFFFABRRRQAqffFNpyffFJR0F1EpaKKBhRRRQAUUUUAJRRRQAUlFFIYUUUUgCnH/Vr+NNpx/wBWv400I1/CV5baf4u0y6vnEcEVwrNKy7hGezkdwpw34V6f8K9CupdQ1jRde1WyuodWgylkl4t0LmRZFcSt5bNheMEkgkMeuDjxeprW9ubGfzrK4ltpdpXzInKNgjBGR2IOKlq5Sdj1fxRPpl/4ov7iNNHbWvJnSxjZ4WgZEliSHeCfK8zyRNhW9E4zjOJfz6BaQyI0Wl757yyiv2gjjl8tTATc+T1Cjf3TgHhSBivPKKOUdz1hW03bBa+If7Cjtzq7vBFYyQBGjEEghL7Dgpv2jc/JBO44rO1W60rT4b65istLGpx6dHt8yO1lVpDcgbhFHmIN5eQQB05IzzXm9GaVguetaZYeHJNUvHZ9INjc3jLNFi3HkoYUOQ8jblXc7BREM5Ugt0AzbeSzt/DN79nOkR6bLoUao4aEXb3RMRmU8+YTuEnyn5doUjtXm1FFgueqNFoSa0pvodC/s5dVQaWITD+8tNsm7ztp3EYEWTJ827IH8QHmN3dPe3clxKkKPIclYYViQfRVAA/AVDRQkDYUUUUxBRRRQAUUUUAFFFFABRRRQAUUUUAFFFFABRRRQAUAgMNwyM8j1pKKBne+Jlu5tQ1/WrTW7NdJv93kIt0jtNCWBjg8kEspUBeCAF2demdjXpdNs/ib/bOy1htpNVkdb+PVYrkZbdsl8pCWUBsP04xjrXlg/wBUfrTTSsCZ11/DPpHg3ULPWb+1ubi8vYZraKC9juSCok3zZRmCghlHOC2e+2uRopKBhS0lFAC0lFJQAtFJS0gCiiigAooooAVfvr9aG++31oX76/Whvvn60+guolFFFIYUUUUAFFFFAHq37Of/ACVb/twm/mtfV2K+Uf2c/wDkq3/bhN/Na+rq+Uzb/ePkjtofAGKMUUV5JuFGKKXtVdQEooopagFFFFPqAUUUUgCiiijoAU5Pvr9aSlT76/Wqj8SF0NSiiivtjiPzyBpc02ivROEWkoooAKXNJRQAUUUUAFFFFABRRRQAUUUUASD7i/jRR/yzWkzVki0lGaKQBRRRQAUZopKBi0UlFK4C0ZooouAUUUUAKf8AU/8AAqjqQ/6n/gVR0MEFFFFIYUUUUAGaKKSgYUUUUAFFFFIBydD9KCaF6N9KSn0F1CiiigAooooAKKKSgBaSiikMKKKKACjNFJQMcn3xTKch+dfrTaT2DqFJS0hNIYhooopDCiikoAWiiigBKDRSUgHx/wCsFJSx/wCsFJT6B1CiiigAopKKACiiigApKKKQBRRRSGFFFFABTj/q1/Gm05v9Wv400IbmkoopDCk60UUDA0lFFIAooooAKKKKACiiigAooooAKKKKACiiigAooooAKKKKACiikoADRRRQMKKKSkMeP9UfrTacP9Sf96mU2JBS0UUhiUUUUAFFFFIAooooAKKKKACiiigBV++v1ob7x+tC/fX60N98/Wn0F1EooopDCiiigAooooA9W/Zz/wCSrf8AbhN/Na+r8V8ofs5f8lW/7cJv5rX1hivlc2/3j5I7qHwCYoxS4oxXkm4mOlFLRimISjFLijFACUYpcUYo6AJ2opcUYo3ASiloxQAUqffX60mKVB86/Wqj8SDoadFFFfanCfnjRRRXonCFFFFABRRRQAUUUUAFFFFABRRRQAUUUooAeT8i/jSZpT9xaSqEJRS0VICUUtFACUUtFACUUtFACUUtFACUUUtACn/Un/eqOpD/AKn/AIFUdNggooopDCiikoGFFFFIYUUUUAFFFFADl6N9KSlXo30pKZIUUUUAGaKO9JQMWko70UhhRRRQAUUHpRQAnSkzQ3WkpAPj/wBYKZ3pyffH1ppo6B1Amm9aWkqSrBRRS0gEopaKYCUUtJSAKSlpKQx0f3xSU6P74pKroLqJRS0UAJRmlpDSAKSlpKB2CiiikAUUUUAFFFFABTm/1a/jTac3+rH1NNAR0UGkHWpGFFFFAwooooAKKKKACiiigAooooAKKKKACiiigAooooAKKKBQAUmaWkoAKKKKQwpKKO1IAopDS0APH+qP1plOH+pP1pvrTYIM0UlFIBaKKKQBRRRQAUUUUAFFFFABRRRQAq/fX60N94/WhfvD60N94/Wn0DqJRRRSAKKKKACiiigD1b9nL/kq3/bhN/Na+sK+T/2cv+Srf9uE381r6xr5bNf94+SO6h8AlFLRXlWNhKKWk707ALSU4dKbVSjZBcKKWiosAUUlKKpRuF7BSUppBQ42C4U5fvr9aSlX7w+tEV7yB7GlRSUV9qcJ/9k=)"
      ],
      "metadata": {
        "id": "NAX6b69mTVlL"
      }
    }
  ]
}